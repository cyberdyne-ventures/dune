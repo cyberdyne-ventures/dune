{
 "cells": [
  {
   "cell_type": "markdown",
   "id": "1c570abd-d327-4849-b529-f47d5638df48",
   "metadata": {},
   "source": [
    "#### Cloudtrail loader\n",
    "\n",
    "This notebook ingests Cloudtrail logs from a folder into a dataframe and plots them by several fields so you can see at a glance if the data range and shape is as expected. The charts polt time series histograms of event source, event name (action,) and errors. In the charts, you can see data plots where there was a concomitant spike in both events and errors which often occurs when there is discovery activity followed by lateral movement and exfiltration. After loading, you can export to csv for ingestion into ML or hunting notebooks, or run additional analytics here.\n"
   ]
  },
  {
   "cell_type": "code",
   "execution_count": 3,
   "id": "7a834d4b-1cd5-47f0-a6ae-fddb6995a751",
   "metadata": {
    "tags": []
   },
   "outputs": [],
   "source": [
    "import pandas as pd\n",
    "import glob\n",
    "import os\n",
    "import json"
   ]
  },
  {
   "cell_type": "code",
   "execution_count": 4,
   "id": "d4fec958-369b-4c19-96e7-ba4e28eacde5",
   "metadata": {
    "tags": []
   },
   "outputs": [],
   "source": [
    "pd.set_option('display.max_rows', 5)\n",
    "pd.set_option('display.max_colwidth', 100)\n",
    "pd.set_option('display.expand_frame_repr', False)"
   ]
  },
  {
   "cell_type": "code",
   "execution_count": 55,
   "id": "70abd250-d4eb-4bca-94dc-6550dd1ac9e8",
   "metadata": {
    "tags": []
   },
   "outputs": [],
   "source": [
    "# Define the folder containing Cloudtrail logs in root_directory and read files\n",
    "\n",
    "def process_json_file(file_path):\n",
    "   \n",
    "    with open(file_path, 'r') as file:\n",
    "        data = json.load(file)\n",
    "    \n",
    "   \n",
    "    records = data.get('Records', [])\n",
    "    \n",
    "   \n",
    "    df = pd.json_normalize(records)\n",
    "    \n",
    "    return df\n",
    "\n",
    "\n",
    "def process_all_json_files(root_directory):\n",
    "    all_files = glob.glob(os.path.join(root_directory, '**', '*.json'), recursive=True)\n",
    "    all_dfs = []\n",
    "    \n",
    "    for file_path in all_files:\n",
    "        df = process_json_file(file_path)\n",
    "        all_dfs.append(df)\n",
    "    \n",
    "   \n",
    "    final_df = pd.concat(all_dfs, ignore_index=True)\n",
    "    \n",
    "    return final_df\n",
    "\n",
    "\n",
    "root_directory = '02'\n",
    "\n",
    "\n",
    "cloudtrail = process_all_json_files(root_directory)\n"
   ]
  },
  {
   "cell_type": "code",
   "execution_count": null,
   "id": "cca61039-1b2d-4e70-97cf-c0c147de9433",
   "metadata": {
    "tags": []
   },
   "outputs": [],
   "source": [
    "\n",
    "cloudtrail = cloudtrail.where(pd.notnull(cloudtrail), None)\n",
    "cloudtrail['eventTime'] = pd.to_datetime(cloudtrail['eventTime'])\n",
    "cloudtrail = df.sort_values(by='eventTime', ascending=True).reset_index(drop=True)"
   ]
  },
  {
   "cell_type": "code",
   "execution_count": 251,
   "id": "5915f30d-0ab1-4198-a814-33f2742ebb2a",
   "metadata": {
    "tags": []
   },
   "outputs": [],
   "source": [
    "df = cloudtrail"
   ]
  },
  {
   "cell_type": "code",
   "execution_count": 253,
   "id": "1c14fa83-1832-4d22-8bb2-53344c6f1ce0",
   "metadata": {},
   "outputs": [],
   "source": [
    "# Assemble the response parameters\n",
    "response_parameters_columns = [col for col in df.columns if col.startswith('responseElements.')]\n",
    "response_data = df[response_parameters_columns].apply(lambda row: row.dropna().to_dict(), axis=1).apply(json.dumps)\n",
    "response_data = response_data.rename('response')\n",
    "\n",
    "df = df.drop(columns=response_parameters_columns)\n",
    "df = pd.concat([df, response_data], axis=1)"
   ]
  },
  {
   "cell_type": "code",
   "execution_count": 255,
   "id": "d53a5647-aa27-4e11-bf12-bc490924cbc2",
   "metadata": {},
   "outputs": [],
   "source": [
    "# Assemble the request parameters\n",
    "request_parameters_columns = [col for col in df.columns if col.startswith('requestParameters.')]\n",
    "request_data = df[request_parameters_columns].apply(lambda row: row.dropna().to_dict(), axis=1).apply(json.dumps)\n",
    "request_data = request_data.rename('request')\n",
    "\n",
    "df = df.drop(columns=request_parameters_columns)\n",
    "df = pd.concat([df, request_data], axis=1)"
   ]
  },
  {
   "cell_type": "code",
   "execution_count": 257,
   "id": "2235555d-97f5-447c-8c37-2e5e606e6b8f",
   "metadata": {},
   "outputs": [],
   "source": [
    "# Assemble the aed field\n",
    "aed_columns = [col for col in df.columns if col.startswith('additionalEventData.')]\n",
    "aed_data = df[aed_columns].apply(lambda row: row.dropna().to_dict(), axis=1).apply(json.dumps)\n",
    "aed_data = aed_data.rename('aed')\n",
    "\n",
    "\n",
    "df = df.drop(columns=aed_columns)\n",
    "df = pd.concat([df, aed_data], axis=1)"
   ]
  },
  {
   "cell_type": "code",
   "execution_count": 259,
   "id": "e509caf7-aeaf-403a-8918-ea387abae7fd",
   "metadata": {
    "tags": []
   },
   "outputs": [
    {
     "name": "stdout",
     "output_type": "stream",
     "text": [
      "Number of unique values in 'response': response    75\n",
      "response     1\n",
      "dtype: int64\n",
      "Number of unique values in 'request': request    2729\n",
      "request       1\n",
      "dtype: int64\n",
      "Number of unique values in 'aed': aed    2125\n",
      "aed       1\n",
      "dtype: int64\n",
      "Number of unique values in 'errorCode': 24\n",
      "Number of unique values in 'errorMessage': 28\n"
     ]
    }
   ],
   "source": [
    "# Spot check that the above fields have been populated (this notebook assumes original native Couldtrail files)\n",
    "fields = ['response', 'request', 'aed', 'errorCode', 'errorMessage']\n",
    "\n",
    "for field in fields:\n",
    "    if field in df.columns:\n",
    "        print(f\"Number of unique values in '{field}': {df[field].nunique()}\")\n",
    "    else:\n",
    "        print(f\"Field '{field}' does not exist in the DataFrame.\")"
   ]
  },
  {
   "cell_type": "code",
   "execution_count": null,
   "id": "5d9a0d74-858c-44eb-b024-408b0f669086",
   "metadata": {
    "tags": []
   },
   "outputs": [],
   "source": [
    "# Tiemstamp and date fields \n",
    "\n",
    "df['eventTime'] = pd.to_datetime(df['eventTime'])\n",
    "df['month'] = df['eventTime'].dt.month\n",
    "df['date'] = df['eventTime'].dt.strftime('%m-%d')  \n"
   ]
  },
  {
   "cell_type": "code",
   "execution_count": null,
   "id": "b657a366-a8fe-4777-b13c-0ad873b5eaf9",
   "metadata": {},
   "outputs": [],
   "source": [
    "# Optional export to csv for sharing / faster loading\n",
    "df.to_csv('cloudtrail-export.tsv', sep='\\t', index=False)"
   ]
  },
  {
   "cell_type": "code",
   "execution_count": null,
   "id": "a77f43b6-ae94-4e02-965e-486ad74b5c78",
   "metadata": {
    "tags": []
   },
   "outputs": [],
   "source": [
    "# Groups used by the plots\n",
    "\n",
    "source_month = df.groupby(['month', 'eventSource']).size().reset_index(name='count')\n",
    "source_date = df.groupby(['date', 'eventSource']).size().reset_index(name='count')\n",
    "action_month = df.groupby(['month', 'eventName']).size().reset_index(name='count')\n",
    "action_date = df.groupby(['date', 'eventName']).size().reset_index(name='count')\n",
    "code_month = df.groupby(['month', 'errorCode']).size().reset_index(name='count')\n",
    "code_date = df.groupby(['date', 'errorCode']).size().reset_index(name='count')\n",
    "error_month = df.groupby(['month', 'errorMessage']).size().reset_index(name='count')\n",
    "error_date = df.groupby(['date', 'errorMessage']).size().reset_index(name='count')\n",
    "\n",
    "print(source_month.head())\n",
    "print(source_date.head())"
   ]
  },
  {
   "cell_type": "code",
   "execution_count": 341,
   "id": "5aca6235-3ada-4d9f-9a4e-db8f585829db",
   "metadata": {
    "tags": []
   },
   "outputs": [
    {
     "data": {
      "application/vnd.plotly.v1+json": {
       "config": {
        "plotlyServerURL": "https://plot.ly"
       },
       "data": [
        {
         "alignmentgroup": "True",
         "customdata": [
          [
           "autoscaling.amazonaws.com"
          ],
          [
           "autoscaling.amazonaws.com"
          ],
          [
           "autoscaling.amazonaws.com"
          ],
          [
           "autoscaling.amazonaws.com"
          ],
          [
           "autoscaling.amazonaws.com"
          ],
          [
           "autoscaling.amazonaws.com"
          ],
          [
           "autoscaling.amazonaws.com"
          ]
         ],
         "hovertemplate": "Event Source=%{customdata[0]}<br>Month=%{x}<br>Count=%{y}<extra></extra>",
         "legendgroup": "autoscaling.amazonaws.com",
         "marker": {
          "color": "#636efa",
          "pattern": {
           "shape": ""
          }
         },
         "name": "autoscaling.amazonaws.com",
         "offsetgroup": "autoscaling.amazonaws.com",
         "orientation": "v",
         "showlegend": true,
         "textposition": "auto",
         "type": "bar",
         "x": [
          1,
          2,
          3,
          4,
          5,
          6,
          12
         ],
         "xaxis": "x",
         "y": [
          1,
          10,
          7,
          2,
          1,
          1,
          34
         ],
         "yaxis": "y"
        },
        {
         "alignmentgroup": "True",
         "customdata": [
          [
           "ce.amazonaws.com"
          ],
          [
           "ce.amazonaws.com"
          ],
          [
           "ce.amazonaws.com"
          ],
          [
           "ce.amazonaws.com"
          ],
          [
           "ce.amazonaws.com"
          ],
          [
           "ce.amazonaws.com"
          ]
         ],
         "hovertemplate": "Event Source=%{customdata[0]}<br>Month=%{x}<br>Count=%{y}<extra></extra>",
         "legendgroup": "ce.amazonaws.com",
         "marker": {
          "color": "#EF553B",
          "pattern": {
           "shape": ""
          }
         },
         "name": "ce.amazonaws.com",
         "offsetgroup": "ce.amazonaws.com",
         "orientation": "v",
         "showlegend": true,
         "textposition": "auto",
         "type": "bar",
         "x": [
          1,
          2,
          3,
          4,
          11,
          12
         ],
         "xaxis": "x",
         "y": [
          2,
          10,
          10,
          3,
          2,
          56
         ],
         "yaxis": "y"
        },
        {
         "alignmentgroup": "True",
         "customdata": [
          [
           "cloudtrail.amazonaws.com"
          ],
          [
           "cloudtrail.amazonaws.com"
          ],
          [
           "cloudtrail.amazonaws.com"
          ],
          [
           "cloudtrail.amazonaws.com"
          ]
         ],
         "hovertemplate": "Event Source=%{customdata[0]}<br>Month=%{x}<br>Count=%{y}<extra></extra>",
         "legendgroup": "cloudtrail.amazonaws.com",
         "marker": {
          "color": "#00cc96",
          "pattern": {
           "shape": ""
          }
         },
         "name": "cloudtrail.amazonaws.com",
         "offsetgroup": "cloudtrail.amazonaws.com",
         "orientation": "v",
         "showlegend": true,
         "textposition": "auto",
         "type": "bar",
         "x": [
          1,
          3,
          6,
          10
         ],
         "xaxis": "x",
         "y": [
          13,
          33,
          83,
          26
         ],
         "yaxis": "y"
        },
        {
         "alignmentgroup": "True",
         "customdata": [
          [
           "config.amazonaws.com"
          ],
          [
           "config.amazonaws.com"
          ],
          [
           "config.amazonaws.com"
          ]
         ],
         "hovertemplate": "Event Source=%{customdata[0]}<br>Month=%{x}<br>Count=%{y}<extra></extra>",
         "legendgroup": "config.amazonaws.com",
         "marker": {
          "color": "#ab63fa",
          "pattern": {
           "shape": ""
          }
         },
         "name": "config.amazonaws.com",
         "offsetgroup": "config.amazonaws.com",
         "orientation": "v",
         "showlegend": true,
         "textposition": "auto",
         "type": "bar",
         "x": [
          1,
          6,
          10
         ],
         "xaxis": "x",
         "y": [
          4,
          14,
          10
         ],
         "yaxis": "y"
        },
        {
         "alignmentgroup": "True",
         "customdata": [
          [
           "ec2.amazonaws.com"
          ],
          [
           "ec2.amazonaws.com"
          ],
          [
           "ec2.amazonaws.com"
          ],
          [
           "ec2.amazonaws.com"
          ],
          [
           "ec2.amazonaws.com"
          ],
          [
           "ec2.amazonaws.com"
          ],
          [
           "ec2.amazonaws.com"
          ],
          [
           "ec2.amazonaws.com"
          ],
          [
           "ec2.amazonaws.com"
          ],
          [
           "ec2.amazonaws.com"
          ]
         ],
         "hovertemplate": "Event Source=%{customdata[0]}<br>Month=%{x}<br>Count=%{y}<extra></extra>",
         "legendgroup": "ec2.amazonaws.com",
         "marker": {
          "color": "#FFA15A",
          "pattern": {
           "shape": ""
          }
         },
         "name": "ec2.amazonaws.com",
         "offsetgroup": "ec2.amazonaws.com",
         "orientation": "v",
         "showlegend": true,
         "textposition": "auto",
         "type": "bar",
         "x": [
          1,
          2,
          3,
          4,
          5,
          6,
          9,
          10,
          11,
          12
         ],
         "xaxis": "x",
         "y": [
          213,
          715,
          908,
          205,
          66,
          60,
          4,
          18,
          46,
          369
         ],
         "yaxis": "y"
        },
        {
         "alignmentgroup": "True",
         "customdata": [
          [
           "elasticloadbalancing.amazonaws.com"
          ],
          [
           "elasticloadbalancing.amazonaws.com"
          ],
          [
           "elasticloadbalancing.amazonaws.com"
          ],
          [
           "elasticloadbalancing.amazonaws.com"
          ],
          [
           "elasticloadbalancing.amazonaws.com"
          ],
          [
           "elasticloadbalancing.amazonaws.com"
          ],
          [
           "elasticloadbalancing.amazonaws.com"
          ]
         ],
         "hovertemplate": "Event Source=%{customdata[0]}<br>Month=%{x}<br>Count=%{y}<extra></extra>",
         "legendgroup": "elasticloadbalancing.amazonaws.com",
         "marker": {
          "color": "#19d3f3",
          "pattern": {
           "shape": ""
          }
         },
         "name": "elasticloadbalancing.amazonaws.com",
         "offsetgroup": "elasticloadbalancing.amazonaws.com",
         "orientation": "v",
         "showlegend": true,
         "textposition": "auto",
         "type": "bar",
         "x": [
          1,
          2,
          3,
          4,
          5,
          11,
          12
         ],
         "xaxis": "x",
         "y": [
          6,
          16,
          9,
          2,
          2,
          2,
          10
         ],
         "yaxis": "y"
        },
        {
         "alignmentgroup": "True",
         "customdata": [
          [
           "health.amazonaws.com"
          ],
          [
           "health.amazonaws.com"
          ],
          [
           "health.amazonaws.com"
          ],
          [
           "health.amazonaws.com"
          ],
          [
           "health.amazonaws.com"
          ],
          [
           "health.amazonaws.com"
          ],
          [
           "health.amazonaws.com"
          ],
          [
           "health.amazonaws.com"
          ],
          [
           "health.amazonaws.com"
          ],
          [
           "health.amazonaws.com"
          ]
         ],
         "hovertemplate": "Event Source=%{customdata[0]}<br>Month=%{x}<br>Count=%{y}<extra></extra>",
         "legendgroup": "health.amazonaws.com",
         "marker": {
          "color": "#FF6692",
          "pattern": {
           "shape": ""
          }
         },
         "name": "health.amazonaws.com",
         "offsetgroup": "health.amazonaws.com",
         "orientation": "v",
         "showlegend": true,
         "textposition": "auto",
         "type": "bar",
         "x": [
          1,
          2,
          3,
          4,
          5,
          6,
          9,
          10,
          11,
          12
         ],
         "xaxis": "x",
         "y": [
          128,
          290,
          642,
          292,
          6,
          228,
          8,
          46,
          6,
          14
         ],
         "yaxis": "y"
        },
        {
         "alignmentgroup": "True",
         "customdata": [
          [
           "iam.amazonaws.com"
          ],
          [
           "iam.amazonaws.com"
          ],
          [
           "iam.amazonaws.com"
          ],
          [
           "iam.amazonaws.com"
          ]
         ],
         "hovertemplate": "Event Source=%{customdata[0]}<br>Month=%{x}<br>Count=%{y}<extra></extra>",
         "legendgroup": "iam.amazonaws.com",
         "marker": {
          "color": "#B6E880",
          "pattern": {
           "shape": ""
          }
         },
         "name": "iam.amazonaws.com",
         "offsetgroup": "iam.amazonaws.com",
         "orientation": "v",
         "showlegend": true,
         "textposition": "auto",
         "type": "bar",
         "x": [
          1,
          6,
          11,
          12
         ],
         "xaxis": "x",
         "y": [
          166,
          228,
          1,
          114
         ],
         "yaxis": "y"
        },
        {
         "alignmentgroup": "True",
         "customdata": [
          [
           "kms.amazonaws.com"
          ],
          [
           "kms.amazonaws.com"
          ],
          [
           "kms.amazonaws.com"
          ],
          [
           "kms.amazonaws.com"
          ],
          [
           "kms.amazonaws.com"
          ],
          [
           "kms.amazonaws.com"
          ],
          [
           "kms.amazonaws.com"
          ]
         ],
         "hovertemplate": "Event Source=%{customdata[0]}<br>Month=%{x}<br>Count=%{y}<extra></extra>",
         "legendgroup": "kms.amazonaws.com",
         "marker": {
          "color": "#FF97FF",
          "pattern": {
           "shape": ""
          }
         },
         "name": "kms.amazonaws.com",
         "offsetgroup": "kms.amazonaws.com",
         "orientation": "v",
         "showlegend": true,
         "textposition": "auto",
         "type": "bar",
         "x": [
          1,
          2,
          3,
          6,
          10,
          11,
          12
         ],
         "xaxis": "x",
         "y": [
          1,
          34,
          13,
          3,
          2,
          1,
          3
         ],
         "yaxis": "y"
        },
        {
         "alignmentgroup": "True",
         "customdata": [
          [
           "monitoring.amazonaws.com"
          ],
          [
           "monitoring.amazonaws.com"
          ],
          [
           "monitoring.amazonaws.com"
          ],
          [
           "monitoring.amazonaws.com"
          ],
          [
           "monitoring.amazonaws.com"
          ],
          [
           "monitoring.amazonaws.com"
          ],
          [
           "monitoring.amazonaws.com"
          ]
         ],
         "hovertemplate": "Event Source=%{customdata[0]}<br>Month=%{x}<br>Count=%{y}<extra></extra>",
         "legendgroup": "monitoring.amazonaws.com",
         "marker": {
          "color": "#FECB52",
          "pattern": {
           "shape": ""
          }
         },
         "name": "monitoring.amazonaws.com",
         "offsetgroup": "monitoring.amazonaws.com",
         "orientation": "v",
         "showlegend": true,
         "textposition": "auto",
         "type": "bar",
         "x": [
          1,
          2,
          3,
          4,
          5,
          11,
          12
         ],
         "xaxis": "x",
         "y": [
          3,
          97,
          50,
          10,
          4,
          1,
          2
         ],
         "yaxis": "y"
        },
        {
         "alignmentgroup": "True",
         "customdata": [
          [
           "notifications.amazonaws.com"
          ],
          [
           "notifications.amazonaws.com"
          ],
          [
           "notifications.amazonaws.com"
          ],
          [
           "notifications.amazonaws.com"
          ],
          [
           "notifications.amazonaws.com"
          ],
          [
           "notifications.amazonaws.com"
          ],
          [
           "notifications.amazonaws.com"
          ],
          [
           "notifications.amazonaws.com"
          ]
         ],
         "hovertemplate": "Event Source=%{customdata[0]}<br>Month=%{x}<br>Count=%{y}<extra></extra>",
         "legendgroup": "notifications.amazonaws.com",
         "marker": {
          "color": "#636efa",
          "pattern": {
           "shape": ""
          }
         },
         "name": "notifications.amazonaws.com",
         "offsetgroup": "notifications.amazonaws.com",
         "orientation": "v",
         "showlegend": true,
         "textposition": "auto",
         "type": "bar",
         "x": [
          1,
          2,
          3,
          4,
          5,
          6,
          9,
          10
         ],
         "xaxis": "x",
         "y": [
          4,
          11,
          17,
          5,
          2,
          19,
          8,
          1
         ],
         "yaxis": "y"
        },
        {
         "alignmentgroup": "True",
         "customdata": [
          [
           "organizations.amazonaws.com"
          ],
          [
           "organizations.amazonaws.com"
          ],
          [
           "organizations.amazonaws.com"
          ],
          [
           "organizations.amazonaws.com"
          ],
          [
           "organizations.amazonaws.com"
          ]
         ],
         "hovertemplate": "Event Source=%{customdata[0]}<br>Month=%{x}<br>Count=%{y}<extra></extra>",
         "legendgroup": "organizations.amazonaws.com",
         "marker": {
          "color": "#EF553B",
          "pattern": {
           "shape": ""
          }
         },
         "name": "organizations.amazonaws.com",
         "offsetgroup": "organizations.amazonaws.com",
         "orientation": "v",
         "showlegend": true,
         "textposition": "auto",
         "type": "bar",
         "x": [
          1,
          3,
          6,
          10,
          12
         ],
         "xaxis": "x",
         "y": [
          7,
          2,
          21,
          1,
          1
         ],
         "yaxis": "y"
        },
        {
         "alignmentgroup": "True",
         "customdata": [
          [
           "s3.amazonaws.com"
          ],
          [
           "s3.amazonaws.com"
          ],
          [
           "s3.amazonaws.com"
          ],
          [
           "s3.amazonaws.com"
          ],
          [
           "s3.amazonaws.com"
          ],
          [
           "s3.amazonaws.com"
          ],
          [
           "s3.amazonaws.com"
          ],
          [
           "s3.amazonaws.com"
          ],
          [
           "s3.amazonaws.com"
          ],
          [
           "s3.amazonaws.com"
          ]
         ],
         "hovertemplate": "Event Source=%{customdata[0]}<br>Month=%{x}<br>Count=%{y}<extra></extra>",
         "legendgroup": "s3.amazonaws.com",
         "marker": {
          "color": "#00cc96",
          "pattern": {
           "shape": ""
          }
         },
         "name": "s3.amazonaws.com",
         "offsetgroup": "s3.amazonaws.com",
         "orientation": "v",
         "showlegend": true,
         "textposition": "auto",
         "type": "bar",
         "x": [
          1,
          2,
          3,
          4,
          5,
          6,
          9,
          10,
          11,
          12
         ],
         "xaxis": "x",
         "y": [
          89,
          211,
          1156,
          298,
          20,
          169,
          31,
          102,
          8,
          68
         ],
         "yaxis": "y"
        },
        {
         "alignmentgroup": "True",
         "customdata": [
          [
           "signin.amazonaws.com"
          ],
          [
           "signin.amazonaws.com"
          ],
          [
           "signin.amazonaws.com"
          ],
          [
           "signin.amazonaws.com"
          ],
          [
           "signin.amazonaws.com"
          ],
          [
           "signin.amazonaws.com"
          ],
          [
           "signin.amazonaws.com"
          ],
          [
           "signin.amazonaws.com"
          ],
          [
           "signin.amazonaws.com"
          ],
          [
           "signin.amazonaws.com"
          ]
         ],
         "hovertemplate": "Event Source=%{customdata[0]}<br>Month=%{x}<br>Count=%{y}<extra></extra>",
         "legendgroup": "signin.amazonaws.com",
         "marker": {
          "color": "#ab63fa",
          "pattern": {
           "shape": ""
          }
         },
         "name": "signin.amazonaws.com",
         "offsetgroup": "signin.amazonaws.com",
         "orientation": "v",
         "showlegend": true,
         "textposition": "auto",
         "type": "bar",
         "x": [
          1,
          2,
          3,
          4,
          5,
          6,
          9,
          10,
          11,
          12
         ],
         "xaxis": "x",
         "y": [
          25,
          18,
          42,
          9,
          1,
          2,
          3,
          1,
          5,
          5
         ],
         "yaxis": "y"
        },
        {
         "alignmentgroup": "True",
         "customdata": [
          [
           "sso.amazonaws.com"
          ],
          [
           "sso.amazonaws.com"
          ],
          [
           "sso.amazonaws.com"
          ]
         ],
         "hovertemplate": "Event Source=%{customdata[0]}<br>Month=%{x}<br>Count=%{y}<extra></extra>",
         "legendgroup": "sso.amazonaws.com",
         "marker": {
          "color": "#FFA15A",
          "pattern": {
           "shape": ""
          }
         },
         "name": "sso.amazonaws.com",
         "offsetgroup": "sso.amazonaws.com",
         "orientation": "v",
         "showlegend": true,
         "textposition": "auto",
         "type": "bar",
         "x": [
          1,
          6,
          12
         ],
         "xaxis": "x",
         "y": [
          5,
          19,
          1
         ],
         "yaxis": "y"
        },
        {
         "alignmentgroup": "True",
         "customdata": [
          [
           "compute-optimizer.amazonaws.com"
          ],
          [
           "compute-optimizer.amazonaws.com"
          ],
          [
           "compute-optimizer.amazonaws.com"
          ],
          [
           "compute-optimizer.amazonaws.com"
          ],
          [
           "compute-optimizer.amazonaws.com"
          ],
          [
           "compute-optimizer.amazonaws.com"
          ],
          [
           "compute-optimizer.amazonaws.com"
          ],
          [
           "compute-optimizer.amazonaws.com"
          ]
         ],
         "hovertemplate": "Event Source=%{customdata[0]}<br>Month=%{x}<br>Count=%{y}<extra></extra>",
         "legendgroup": "compute-optimizer.amazonaws.com",
         "marker": {
          "color": "#19d3f3",
          "pattern": {
           "shape": ""
          }
         },
         "name": "compute-optimizer.amazonaws.com",
         "offsetgroup": "compute-optimizer.amazonaws.com",
         "orientation": "v",
         "showlegend": true,
         "textposition": "auto",
         "type": "bar",
         "x": [
          2,
          3,
          4,
          5,
          9,
          10,
          11,
          12
         ],
         "xaxis": "x",
         "y": [
          16,
          43,
          12,
          2,
          2,
          1,
          1,
          3
         ],
         "yaxis": "y"
        },
        {
         "alignmentgroup": "True",
         "customdata": [
          [
           "logs.amazonaws.com"
          ],
          [
           "logs.amazonaws.com"
          ],
          [
           "logs.amazonaws.com"
          ],
          [
           "logs.amazonaws.com"
          ],
          [
           "logs.amazonaws.com"
          ],
          [
           "logs.amazonaws.com"
          ],
          [
           "logs.amazonaws.com"
          ],
          [
           "logs.amazonaws.com"
          ]
         ],
         "hovertemplate": "Event Source=%{customdata[0]}<br>Month=%{x}<br>Count=%{y}<extra></extra>",
         "legendgroup": "logs.amazonaws.com",
         "marker": {
          "color": "#FF6692",
          "pattern": {
           "shape": ""
          }
         },
         "name": "logs.amazonaws.com",
         "offsetgroup": "logs.amazonaws.com",
         "orientation": "v",
         "showlegend": true,
         "textposition": "auto",
         "type": "bar",
         "x": [
          2,
          3,
          4,
          5,
          6,
          10,
          11,
          12
         ],
         "xaxis": "x",
         "y": [
          149,
          598,
          397,
          3,
          36,
          24,
          2,
          2
         ],
         "yaxis": "y"
        },
        {
         "alignmentgroup": "True",
         "customdata": [
          [
           "ssm.amazonaws.com"
          ],
          [
           "ssm.amazonaws.com"
          ],
          [
           "ssm.amazonaws.com"
          ],
          [
           "ssm.amazonaws.com"
          ],
          [
           "ssm.amazonaws.com"
          ],
          [
           "ssm.amazonaws.com"
          ],
          [
           "ssm.amazonaws.com"
          ]
         ],
         "hovertemplate": "Event Source=%{customdata[0]}<br>Month=%{x}<br>Count=%{y}<extra></extra>",
         "legendgroup": "ssm.amazonaws.com",
         "marker": {
          "color": "#B6E880",
          "pattern": {
           "shape": ""
          }
         },
         "name": "ssm.amazonaws.com",
         "offsetgroup": "ssm.amazonaws.com",
         "orientation": "v",
         "showlegend": true,
         "textposition": "auto",
         "type": "bar",
         "x": [
          2,
          3,
          4,
          5,
          10,
          11,
          12
         ],
         "xaxis": "x",
         "y": [
          6,
          45,
          11,
          2,
          3,
          1,
          2
         ],
         "yaxis": "y"
        },
        {
         "alignmentgroup": "True",
         "customdata": [
          [
           "billingconsole.amazonaws.com"
          ],
          [
           "billingconsole.amazonaws.com"
          ]
         ],
         "hovertemplate": "Event Source=%{customdata[0]}<br>Month=%{x}<br>Count=%{y}<extra></extra>",
         "legendgroup": "billingconsole.amazonaws.com",
         "marker": {
          "color": "#FF97FF",
          "pattern": {
           "shape": ""
          }
         },
         "name": "billingconsole.amazonaws.com",
         "offsetgroup": "billingconsole.amazonaws.com",
         "orientation": "v",
         "showlegend": true,
         "textposition": "auto",
         "type": "bar",
         "x": [
          9,
          10
         ],
         "xaxis": "x",
         "y": [
          116,
          15
         ],
         "yaxis": "y"
        },
        {
         "alignmentgroup": "True",
         "customdata": [
          [
           "lambda.amazonaws.com"
          ]
         ],
         "hovertemplate": "Event Source=%{customdata[0]}<br>Month=%{x}<br>Count=%{y}<extra></extra>",
         "legendgroup": "lambda.amazonaws.com",
         "marker": {
          "color": "#FECB52",
          "pattern": {
           "shape": ""
          }
         },
         "name": "lambda.amazonaws.com",
         "offsetgroup": "lambda.amazonaws.com",
         "orientation": "v",
         "showlegend": true,
         "textposition": "auto",
         "type": "bar",
         "x": [
          10
         ],
         "xaxis": "x",
         "y": [
          49
         ],
         "yaxis": "y"
        }
       ],
       "layout": {
        "autosize": true,
        "barmode": "stack",
        "legend": {
         "orientation": "h",
         "title": {
          "text": "Event Source"
         },
         "tracegroupgap": 0,
         "x": 0.5,
         "xanchor": "center",
         "y": -0.2
        },
        "template": {
         "data": {
          "bar": [
           {
            "error_x": {
             "color": "#2a3f5f"
            },
            "error_y": {
             "color": "#2a3f5f"
            },
            "marker": {
             "line": {
              "color": "#E5ECF6",
              "width": 0.5
             },
             "pattern": {
              "fillmode": "overlay",
              "size": 10,
              "solidity": 0.2
             }
            },
            "type": "bar"
           }
          ],
          "barpolar": [
           {
            "marker": {
             "line": {
              "color": "#E5ECF6",
              "width": 0.5
             },
             "pattern": {
              "fillmode": "overlay",
              "size": 10,
              "solidity": 0.2
             }
            },
            "type": "barpolar"
           }
          ],
          "carpet": [
           {
            "aaxis": {
             "endlinecolor": "#2a3f5f",
             "gridcolor": "white",
             "linecolor": "white",
             "minorgridcolor": "white",
             "startlinecolor": "#2a3f5f"
            },
            "baxis": {
             "endlinecolor": "#2a3f5f",
             "gridcolor": "white",
             "linecolor": "white",
             "minorgridcolor": "white",
             "startlinecolor": "#2a3f5f"
            },
            "type": "carpet"
           }
          ],
          "choropleth": [
           {
            "colorbar": {
             "outlinewidth": 0,
             "ticks": ""
            },
            "type": "choropleth"
           }
          ],
          "contour": [
           {
            "colorbar": {
             "outlinewidth": 0,
             "ticks": ""
            },
            "colorscale": [
             [
              0,
              "#0d0887"
             ],
             [
              0.1111111111111111,
              "#46039f"
             ],
             [
              0.2222222222222222,
              "#7201a8"
             ],
             [
              0.3333333333333333,
              "#9c179e"
             ],
             [
              0.4444444444444444,
              "#bd3786"
             ],
             [
              0.5555555555555556,
              "#d8576b"
             ],
             [
              0.6666666666666666,
              "#ed7953"
             ],
             [
              0.7777777777777778,
              "#fb9f3a"
             ],
             [
              0.8888888888888888,
              "#fdca26"
             ],
             [
              1,
              "#f0f921"
             ]
            ],
            "type": "contour"
           }
          ],
          "contourcarpet": [
           {
            "colorbar": {
             "outlinewidth": 0,
             "ticks": ""
            },
            "type": "contourcarpet"
           }
          ],
          "heatmap": [
           {
            "colorbar": {
             "outlinewidth": 0,
             "ticks": ""
            },
            "colorscale": [
             [
              0,
              "#0d0887"
             ],
             [
              0.1111111111111111,
              "#46039f"
             ],
             [
              0.2222222222222222,
              "#7201a8"
             ],
             [
              0.3333333333333333,
              "#9c179e"
             ],
             [
              0.4444444444444444,
              "#bd3786"
             ],
             [
              0.5555555555555556,
              "#d8576b"
             ],
             [
              0.6666666666666666,
              "#ed7953"
             ],
             [
              0.7777777777777778,
              "#fb9f3a"
             ],
             [
              0.8888888888888888,
              "#fdca26"
             ],
             [
              1,
              "#f0f921"
             ]
            ],
            "type": "heatmap"
           }
          ],
          "heatmapgl": [
           {
            "colorbar": {
             "outlinewidth": 0,
             "ticks": ""
            },
            "colorscale": [
             [
              0,
              "#0d0887"
             ],
             [
              0.1111111111111111,
              "#46039f"
             ],
             [
              0.2222222222222222,
              "#7201a8"
             ],
             [
              0.3333333333333333,
              "#9c179e"
             ],
             [
              0.4444444444444444,
              "#bd3786"
             ],
             [
              0.5555555555555556,
              "#d8576b"
             ],
             [
              0.6666666666666666,
              "#ed7953"
             ],
             [
              0.7777777777777778,
              "#fb9f3a"
             ],
             [
              0.8888888888888888,
              "#fdca26"
             ],
             [
              1,
              "#f0f921"
             ]
            ],
            "type": "heatmapgl"
           }
          ],
          "histogram": [
           {
            "marker": {
             "pattern": {
              "fillmode": "overlay",
              "size": 10,
              "solidity": 0.2
             }
            },
            "type": "histogram"
           }
          ],
          "histogram2d": [
           {
            "colorbar": {
             "outlinewidth": 0,
             "ticks": ""
            },
            "colorscale": [
             [
              0,
              "#0d0887"
             ],
             [
              0.1111111111111111,
              "#46039f"
             ],
             [
              0.2222222222222222,
              "#7201a8"
             ],
             [
              0.3333333333333333,
              "#9c179e"
             ],
             [
              0.4444444444444444,
              "#bd3786"
             ],
             [
              0.5555555555555556,
              "#d8576b"
             ],
             [
              0.6666666666666666,
              "#ed7953"
             ],
             [
              0.7777777777777778,
              "#fb9f3a"
             ],
             [
              0.8888888888888888,
              "#fdca26"
             ],
             [
              1,
              "#f0f921"
             ]
            ],
            "type": "histogram2d"
           }
          ],
          "histogram2dcontour": [
           {
            "colorbar": {
             "outlinewidth": 0,
             "ticks": ""
            },
            "colorscale": [
             [
              0,
              "#0d0887"
             ],
             [
              0.1111111111111111,
              "#46039f"
             ],
             [
              0.2222222222222222,
              "#7201a8"
             ],
             [
              0.3333333333333333,
              "#9c179e"
             ],
             [
              0.4444444444444444,
              "#bd3786"
             ],
             [
              0.5555555555555556,
              "#d8576b"
             ],
             [
              0.6666666666666666,
              "#ed7953"
             ],
             [
              0.7777777777777778,
              "#fb9f3a"
             ],
             [
              0.8888888888888888,
              "#fdca26"
             ],
             [
              1,
              "#f0f921"
             ]
            ],
            "type": "histogram2dcontour"
           }
          ],
          "mesh3d": [
           {
            "colorbar": {
             "outlinewidth": 0,
             "ticks": ""
            },
            "type": "mesh3d"
           }
          ],
          "parcoords": [
           {
            "line": {
             "colorbar": {
              "outlinewidth": 0,
              "ticks": ""
             }
            },
            "type": "parcoords"
           }
          ],
          "pie": [
           {
            "automargin": true,
            "type": "pie"
           }
          ],
          "scatter": [
           {
            "fillpattern": {
             "fillmode": "overlay",
             "size": 10,
             "solidity": 0.2
            },
            "type": "scatter"
           }
          ],
          "scatter3d": [
           {
            "line": {
             "colorbar": {
              "outlinewidth": 0,
              "ticks": ""
             }
            },
            "marker": {
             "colorbar": {
              "outlinewidth": 0,
              "ticks": ""
             }
            },
            "type": "scatter3d"
           }
          ],
          "scattercarpet": [
           {
            "marker": {
             "colorbar": {
              "outlinewidth": 0,
              "ticks": ""
             }
            },
            "type": "scattercarpet"
           }
          ],
          "scattergeo": [
           {
            "marker": {
             "colorbar": {
              "outlinewidth": 0,
              "ticks": ""
             }
            },
            "type": "scattergeo"
           }
          ],
          "scattergl": [
           {
            "marker": {
             "colorbar": {
              "outlinewidth": 0,
              "ticks": ""
             }
            },
            "type": "scattergl"
           }
          ],
          "scattermapbox": [
           {
            "marker": {
             "colorbar": {
              "outlinewidth": 0,
              "ticks": ""
             }
            },
            "type": "scattermapbox"
           }
          ],
          "scatterpolar": [
           {
            "marker": {
             "colorbar": {
              "outlinewidth": 0,
              "ticks": ""
             }
            },
            "type": "scatterpolar"
           }
          ],
          "scatterpolargl": [
           {
            "marker": {
             "colorbar": {
              "outlinewidth": 0,
              "ticks": ""
             }
            },
            "type": "scatterpolargl"
           }
          ],
          "scatterternary": [
           {
            "marker": {
             "colorbar": {
              "outlinewidth": 0,
              "ticks": ""
             }
            },
            "type": "scatterternary"
           }
          ],
          "surface": [
           {
            "colorbar": {
             "outlinewidth": 0,
             "ticks": ""
            },
            "colorscale": [
             [
              0,
              "#0d0887"
             ],
             [
              0.1111111111111111,
              "#46039f"
             ],
             [
              0.2222222222222222,
              "#7201a8"
             ],
             [
              0.3333333333333333,
              "#9c179e"
             ],
             [
              0.4444444444444444,
              "#bd3786"
             ],
             [
              0.5555555555555556,
              "#d8576b"
             ],
             [
              0.6666666666666666,
              "#ed7953"
             ],
             [
              0.7777777777777778,
              "#fb9f3a"
             ],
             [
              0.8888888888888888,
              "#fdca26"
             ],
             [
              1,
              "#f0f921"
             ]
            ],
            "type": "surface"
           }
          ],
          "table": [
           {
            "cells": {
             "fill": {
              "color": "#EBF0F8"
             },
             "line": {
              "color": "white"
             }
            },
            "header": {
             "fill": {
              "color": "#C8D4E3"
             },
             "line": {
              "color": "white"
             }
            },
            "type": "table"
           }
          ]
         },
         "layout": {
          "annotationdefaults": {
           "arrowcolor": "#2a3f5f",
           "arrowhead": 0,
           "arrowwidth": 1
          },
          "autotypenumbers": "strict",
          "coloraxis": {
           "colorbar": {
            "outlinewidth": 0,
            "ticks": ""
           }
          },
          "colorscale": {
           "diverging": [
            [
             0,
             "#8e0152"
            ],
            [
             0.1,
             "#c51b7d"
            ],
            [
             0.2,
             "#de77ae"
            ],
            [
             0.3,
             "#f1b6da"
            ],
            [
             0.4,
             "#fde0ef"
            ],
            [
             0.5,
             "#f7f7f7"
            ],
            [
             0.6,
             "#e6f5d0"
            ],
            [
             0.7,
             "#b8e186"
            ],
            [
             0.8,
             "#7fbc41"
            ],
            [
             0.9,
             "#4d9221"
            ],
            [
             1,
             "#276419"
            ]
           ],
           "sequential": [
            [
             0,
             "#0d0887"
            ],
            [
             0.1111111111111111,
             "#46039f"
            ],
            [
             0.2222222222222222,
             "#7201a8"
            ],
            [
             0.3333333333333333,
             "#9c179e"
            ],
            [
             0.4444444444444444,
             "#bd3786"
            ],
            [
             0.5555555555555556,
             "#d8576b"
            ],
            [
             0.6666666666666666,
             "#ed7953"
            ],
            [
             0.7777777777777778,
             "#fb9f3a"
            ],
            [
             0.8888888888888888,
             "#fdca26"
            ],
            [
             1,
             "#f0f921"
            ]
           ],
           "sequentialminus": [
            [
             0,
             "#0d0887"
            ],
            [
             0.1111111111111111,
             "#46039f"
            ],
            [
             0.2222222222222222,
             "#7201a8"
            ],
            [
             0.3333333333333333,
             "#9c179e"
            ],
            [
             0.4444444444444444,
             "#bd3786"
            ],
            [
             0.5555555555555556,
             "#d8576b"
            ],
            [
             0.6666666666666666,
             "#ed7953"
            ],
            [
             0.7777777777777778,
             "#fb9f3a"
            ],
            [
             0.8888888888888888,
             "#fdca26"
            ],
            [
             1,
             "#f0f921"
            ]
           ]
          },
          "colorway": [
           "#636efa",
           "#EF553B",
           "#00cc96",
           "#ab63fa",
           "#FFA15A",
           "#19d3f3",
           "#FF6692",
           "#B6E880",
           "#FF97FF",
           "#FECB52"
          ],
          "font": {
           "color": "#2a3f5f"
          },
          "geo": {
           "bgcolor": "white",
           "lakecolor": "white",
           "landcolor": "#E5ECF6",
           "showlakes": true,
           "showland": true,
           "subunitcolor": "white"
          },
          "hoverlabel": {
           "align": "left"
          },
          "hovermode": "closest",
          "mapbox": {
           "style": "light"
          },
          "paper_bgcolor": "white",
          "plot_bgcolor": "#E5ECF6",
          "polar": {
           "angularaxis": {
            "gridcolor": "white",
            "linecolor": "white",
            "ticks": ""
           },
           "bgcolor": "#E5ECF6",
           "radialaxis": {
            "gridcolor": "white",
            "linecolor": "white",
            "ticks": ""
           }
          },
          "scene": {
           "xaxis": {
            "backgroundcolor": "#E5ECF6",
            "gridcolor": "white",
            "gridwidth": 2,
            "linecolor": "white",
            "showbackground": true,
            "ticks": "",
            "zerolinecolor": "white"
           },
           "yaxis": {
            "backgroundcolor": "#E5ECF6",
            "gridcolor": "white",
            "gridwidth": 2,
            "linecolor": "white",
            "showbackground": true,
            "ticks": "",
            "zerolinecolor": "white"
           },
           "zaxis": {
            "backgroundcolor": "#E5ECF6",
            "gridcolor": "white",
            "gridwidth": 2,
            "linecolor": "white",
            "showbackground": true,
            "ticks": "",
            "zerolinecolor": "white"
           }
          },
          "shapedefaults": {
           "line": {
            "color": "#2a3f5f"
           }
          },
          "ternary": {
           "aaxis": {
            "gridcolor": "white",
            "linecolor": "white",
            "ticks": ""
           },
           "baxis": {
            "gridcolor": "white",
            "linecolor": "white",
            "ticks": ""
           },
           "bgcolor": "#E5ECF6",
           "caxis": {
            "gridcolor": "white",
            "linecolor": "white",
            "ticks": ""
           }
          },
          "title": {
           "x": 0.05
          },
          "xaxis": {
           "automargin": true,
           "gridcolor": "white",
           "linecolor": "white",
           "ticks": "",
           "title": {
            "standoff": 15
           },
           "zerolinecolor": "white",
           "zerolinewidth": 2
          },
          "yaxis": {
           "automargin": true,
           "gridcolor": "white",
           "linecolor": "white",
           "ticks": "",
           "title": {
            "standoff": 15
           },
           "zerolinecolor": "white",
           "zerolinewidth": 2
          }
         }
        },
        "title": {
         "text": "Event Source by Month"
        },
        "xaxis": {
         "anchor": "y",
         "autorange": true,
         "domain": [
          0,
          1
         ],
         "range": [
          0.5,
          12.5
         ],
         "title": {
          "text": "Month"
         },
         "type": "linear"
        },
        "yaxis": {
         "anchor": "x",
         "autorange": true,
         "domain": [
          0,
          1
         ],
         "range": [
          0,
          3763.157894736842
         ],
         "title": {
          "text": "Count"
         },
         "type": "linear"
        }
       }
      },
      "image/png": "[encoded data removed]",
      "text/html": [
       "<div>                            <div id=\"301f4c9c-03b5-42c4-b434-f06999bd619e\" class=\"plotly-graph-div\" style=\"height:800px; width:100%;\"></div>            <script type=\"text/javascript\">                require([\"plotly\"], function(Plotly) {                    window.PLOTLYENV=window.PLOTLYENV || {};                                    if (document.getElementById(\"301f4c9c-03b5-42c4-b434-f06999bd619e\")) {                    Plotly.newPlot(                        \"301f4c9c-03b5-42c4-b434-f06999bd619e\",                        [{\"alignmentgroup\":\"True\",\"customdata\":[[\"autoscaling.amazonaws.com\"],[\"autoscaling.amazonaws.com\"],[\"autoscaling.amazonaws.com\"],[\"autoscaling.amazonaws.com\"],[\"autoscaling.amazonaws.com\"],[\"autoscaling.amazonaws.com\"],[\"autoscaling.amazonaws.com\"]],\"hovertemplate\":\"Event Source=%{customdata[0]}<br>Month=%{x}<br>Count=%{y}<extra></extra>\",\"legendgroup\":\"autoscaling.amazonaws.com\",\"marker\":{\"color\":\"#636efa\",\"pattern\":{\"shape\":\"\"}},\"name\":\"autoscaling.amazonaws.com\",\"offsetgroup\":\"autoscaling.amazonaws.com\",\"orientation\":\"v\",\"showlegend\":true,\"textposition\":\"auto\",\"x\":[1,2,3,4,5,6,12],\"xaxis\":\"x\",\"y\":[1,10,7,2,1,1,34],\"yaxis\":\"y\",\"type\":\"bar\"},{\"alignmentgroup\":\"True\",\"customdata\":[[\"ce.amazonaws.com\"],[\"ce.amazonaws.com\"],[\"ce.amazonaws.com\"],[\"ce.amazonaws.com\"],[\"ce.amazonaws.com\"],[\"ce.amazonaws.com\"]],\"hovertemplate\":\"Event Source=%{customdata[0]}<br>Month=%{x}<br>Count=%{y}<extra></extra>\",\"legendgroup\":\"ce.amazonaws.com\",\"marker\":{\"color\":\"#EF553B\",\"pattern\":{\"shape\":\"\"}},\"name\":\"ce.amazonaws.com\",\"offsetgroup\":\"ce.amazonaws.com\",\"orientation\":\"v\",\"showlegend\":true,\"textposition\":\"auto\",\"x\":[1,2,3,4,11,12],\"xaxis\":\"x\",\"y\":[2,10,10,3,2,56],\"yaxis\":\"y\",\"type\":\"bar\"},{\"alignmentgroup\":\"True\",\"customdata\":[[\"cloudtrail.amazonaws.com\"],[\"cloudtrail.amazonaws.com\"],[\"cloudtrail.amazonaws.com\"],[\"cloudtrail.amazonaws.com\"]],\"hovertemplate\":\"Event Source=%{customdata[0]}<br>Month=%{x}<br>Count=%{y}<extra></extra>\",\"legendgroup\":\"cloudtrail.amazonaws.com\",\"marker\":{\"color\":\"#00cc96\",\"pattern\":{\"shape\":\"\"}},\"name\":\"cloudtrail.amazonaws.com\",\"offsetgroup\":\"cloudtrail.amazonaws.com\",\"orientation\":\"v\",\"showlegend\":true,\"textposition\":\"auto\",\"x\":[1,3,6,10],\"xaxis\":\"x\",\"y\":[13,33,83,26],\"yaxis\":\"y\",\"type\":\"bar\"},{\"alignmentgroup\":\"True\",\"customdata\":[[\"config.amazonaws.com\"],[\"config.amazonaws.com\"],[\"config.amazonaws.com\"]],\"hovertemplate\":\"Event Source=%{customdata[0]}<br>Month=%{x}<br>Count=%{y}<extra></extra>\",\"legendgroup\":\"config.amazonaws.com\",\"marker\":{\"color\":\"#ab63fa\",\"pattern\":{\"shape\":\"\"}},\"name\":\"config.amazonaws.com\",\"offsetgroup\":\"config.amazonaws.com\",\"orientation\":\"v\",\"showlegend\":true,\"textposition\":\"auto\",\"x\":[1,6,10],\"xaxis\":\"x\",\"y\":[4,14,10],\"yaxis\":\"y\",\"type\":\"bar\"},{\"alignmentgroup\":\"True\",\"customdata\":[[\"ec2.amazonaws.com\"],[\"ec2.amazonaws.com\"],[\"ec2.amazonaws.com\"],[\"ec2.amazonaws.com\"],[\"ec2.amazonaws.com\"],[\"ec2.amazonaws.com\"],[\"ec2.amazonaws.com\"],[\"ec2.amazonaws.com\"],[\"ec2.amazonaws.com\"],[\"ec2.amazonaws.com\"]],\"hovertemplate\":\"Event Source=%{customdata[0]}<br>Month=%{x}<br>Count=%{y}<extra></extra>\",\"legendgroup\":\"ec2.amazonaws.com\",\"marker\":{\"color\":\"#FFA15A\",\"pattern\":{\"shape\":\"\"}},\"name\":\"ec2.amazonaws.com\",\"offsetgroup\":\"ec2.amazonaws.com\",\"orientation\":\"v\",\"showlegend\":true,\"textposition\":\"auto\",\"x\":[1,2,3,4,5,6,9,10,11,12],\"xaxis\":\"x\",\"y\":[213,715,908,205,66,60,4,18,46,369],\"yaxis\":\"y\",\"type\":\"bar\"},{\"alignmentgroup\":\"True\",\"customdata\":[[\"elasticloadbalancing.amazonaws.com\"],[\"elasticloadbalancing.amazonaws.com\"],[\"elasticloadbalancing.amazonaws.com\"],[\"elasticloadbalancing.amazonaws.com\"],[\"elasticloadbalancing.amazonaws.com\"],[\"elasticloadbalancing.amazonaws.com\"],[\"elasticloadbalancing.amazonaws.com\"]],\"hovertemplate\":\"Event Source=%{customdata[0]}<br>Month=%{x}<br>Count=%{y}<extra></extra>\",\"legendgroup\":\"elasticloadbalancing.amazonaws.com\",\"marker\":{\"color\":\"#19d3f3\",\"pattern\":{\"shape\":\"\"}},\"name\":\"elasticloadbalancing.amazonaws.com\",\"offsetgroup\":\"elasticloadbalancing.amazonaws.com\",\"orientation\":\"v\",\"showlegend\":true,\"textposition\":\"auto\",\"x\":[1,2,3,4,5,11,12],\"xaxis\":\"x\",\"y\":[6,16,9,2,2,2,10],\"yaxis\":\"y\",\"type\":\"bar\"},{\"alignmentgroup\":\"True\",\"customdata\":[[\"health.amazonaws.com\"],[\"health.amazonaws.com\"],[\"health.amazonaws.com\"],[\"health.amazonaws.com\"],[\"health.amazonaws.com\"],[\"health.amazonaws.com\"],[\"health.amazonaws.com\"],[\"health.amazonaws.com\"],[\"health.amazonaws.com\"],[\"health.amazonaws.com\"]],\"hovertemplate\":\"Event Source=%{customdata[0]}<br>Month=%{x}<br>Count=%{y}<extra></extra>\",\"legendgroup\":\"health.amazonaws.com\",\"marker\":{\"color\":\"#FF6692\",\"pattern\":{\"shape\":\"\"}},\"name\":\"health.amazonaws.com\",\"offsetgroup\":\"health.amazonaws.com\",\"orientation\":\"v\",\"showlegend\":true,\"textposition\":\"auto\",\"x\":[1,2,3,4,5,6,9,10,11,12],\"xaxis\":\"x\",\"y\":[128,290,642,292,6,228,8,46,6,14],\"yaxis\":\"y\",\"type\":\"bar\"},{\"alignmentgroup\":\"True\",\"customdata\":[[\"iam.amazonaws.com\"],[\"iam.amazonaws.com\"],[\"iam.amazonaws.com\"],[\"iam.amazonaws.com\"]],\"hovertemplate\":\"Event Source=%{customdata[0]}<br>Month=%{x}<br>Count=%{y}<extra></extra>\",\"legendgroup\":\"iam.amazonaws.com\",\"marker\":{\"color\":\"#B6E880\",\"pattern\":{\"shape\":\"\"}},\"name\":\"iam.amazonaws.com\",\"offsetgroup\":\"iam.amazonaws.com\",\"orientation\":\"v\",\"showlegend\":true,\"textposition\":\"auto\",\"x\":[1,6,11,12],\"xaxis\":\"x\",\"y\":[166,228,1,114],\"yaxis\":\"y\",\"type\":\"bar\"},{\"alignmentgroup\":\"True\",\"customdata\":[[\"kms.amazonaws.com\"],[\"kms.amazonaws.com\"],[\"kms.amazonaws.com\"],[\"kms.amazonaws.com\"],[\"kms.amazonaws.com\"],[\"kms.amazonaws.com\"],[\"kms.amazonaws.com\"]],\"hovertemplate\":\"Event Source=%{customdata[0]}<br>Month=%{x}<br>Count=%{y}<extra></extra>\",\"legendgroup\":\"kms.amazonaws.com\",\"marker\":{\"color\":\"#FF97FF\",\"pattern\":{\"shape\":\"\"}},\"name\":\"kms.amazonaws.com\",\"offsetgroup\":\"kms.amazonaws.com\",\"orientation\":\"v\",\"showlegend\":true,\"textposition\":\"auto\",\"x\":[1,2,3,6,10,11,12],\"xaxis\":\"x\",\"y\":[1,34,13,3,2,1,3],\"yaxis\":\"y\",\"type\":\"bar\"},{\"alignmentgroup\":\"True\",\"customdata\":[[\"monitoring.amazonaws.com\"],[\"monitoring.amazonaws.com\"],[\"monitoring.amazonaws.com\"],[\"monitoring.amazonaws.com\"],[\"monitoring.amazonaws.com\"],[\"monitoring.amazonaws.com\"],[\"monitoring.amazonaws.com\"]],\"hovertemplate\":\"Event Source=%{customdata[0]}<br>Month=%{x}<br>Count=%{y}<extra></extra>\",\"legendgroup\":\"monitoring.amazonaws.com\",\"marker\":{\"color\":\"#FECB52\",\"pattern\":{\"shape\":\"\"}},\"name\":\"monitoring.amazonaws.com\",\"offsetgroup\":\"monitoring.amazonaws.com\",\"orientation\":\"v\",\"showlegend\":true,\"textposition\":\"auto\",\"x\":[1,2,3,4,5,11,12],\"xaxis\":\"x\",\"y\":[3,97,50,10,4,1,2],\"yaxis\":\"y\",\"type\":\"bar\"},{\"alignmentgroup\":\"True\",\"customdata\":[[\"notifications.amazonaws.com\"],[\"notifications.amazonaws.com\"],[\"notifications.amazonaws.com\"],[\"notifications.amazonaws.com\"],[\"notifications.amazonaws.com\"],[\"notifications.amazonaws.com\"],[\"notifications.amazonaws.com\"],[\"notifications.amazonaws.com\"]],\"hovertemplate\":\"Event Source=%{customdata[0]}<br>Month=%{x}<br>Count=%{y}<extra></extra>\",\"legendgroup\":\"notifications.amazonaws.com\",\"marker\":{\"color\":\"#636efa\",\"pattern\":{\"shape\":\"\"}},\"name\":\"notifications.amazonaws.com\",\"offsetgroup\":\"notifications.amazonaws.com\",\"orientation\":\"v\",\"showlegend\":true,\"textposition\":\"auto\",\"x\":[1,2,3,4,5,6,9,10],\"xaxis\":\"x\",\"y\":[4,11,17,5,2,19,8,1],\"yaxis\":\"y\",\"type\":\"bar\"},{\"alignmentgroup\":\"True\",\"customdata\":[[\"organizations.amazonaws.com\"],[\"organizations.amazonaws.com\"],[\"organizations.amazonaws.com\"],[\"organizations.amazonaws.com\"],[\"organizations.amazonaws.com\"]],\"hovertemplate\":\"Event Source=%{customdata[0]}<br>Month=%{x}<br>Count=%{y}<extra></extra>\",\"legendgroup\":\"organizations.amazonaws.com\",\"marker\":{\"color\":\"#EF553B\",\"pattern\":{\"shape\":\"\"}},\"name\":\"organizations.amazonaws.com\",\"offsetgroup\":\"organizations.amazonaws.com\",\"orientation\":\"v\",\"showlegend\":true,\"textposition\":\"auto\",\"x\":[1,3,6,10,12],\"xaxis\":\"x\",\"y\":[7,2,21,1,1],\"yaxis\":\"y\",\"type\":\"bar\"},{\"alignmentgroup\":\"True\",\"customdata\":[[\"s3.amazonaws.com\"],[\"s3.amazonaws.com\"],[\"s3.amazonaws.com\"],[\"s3.amazonaws.com\"],[\"s3.amazonaws.com\"],[\"s3.amazonaws.com\"],[\"s3.amazonaws.com\"],[\"s3.amazonaws.com\"],[\"s3.amazonaws.com\"],[\"s3.amazonaws.com\"]],\"hovertemplate\":\"Event Source=%{customdata[0]}<br>Month=%{x}<br>Count=%{y}<extra></extra>\",\"legendgroup\":\"s3.amazonaws.com\",\"marker\":{\"color\":\"#00cc96\",\"pattern\":{\"shape\":\"\"}},\"name\":\"s3.amazonaws.com\",\"offsetgroup\":\"s3.amazonaws.com\",\"orientation\":\"v\",\"showlegend\":true,\"textposition\":\"auto\",\"x\":[1,2,3,4,5,6,9,10,11,12],\"xaxis\":\"x\",\"y\":[89,211,1156,298,20,169,31,102,8,68],\"yaxis\":\"y\",\"type\":\"bar\"},{\"alignmentgroup\":\"True\",\"customdata\":[[\"signin.amazonaws.com\"],[\"signin.amazonaws.com\"],[\"signin.amazonaws.com\"],[\"signin.amazonaws.com\"],[\"signin.amazonaws.com\"],[\"signin.amazonaws.com\"],[\"signin.amazonaws.com\"],[\"signin.amazonaws.com\"],[\"signin.amazonaws.com\"],[\"signin.amazonaws.com\"]],\"hovertemplate\":\"Event Source=%{customdata[0]}<br>Month=%{x}<br>Count=%{y}<extra></extra>\",\"legendgroup\":\"signin.amazonaws.com\",\"marker\":{\"color\":\"#ab63fa\",\"pattern\":{\"shape\":\"\"}},\"name\":\"signin.amazonaws.com\",\"offsetgroup\":\"signin.amazonaws.com\",\"orientation\":\"v\",\"showlegend\":true,\"textposition\":\"auto\",\"x\":[1,2,3,4,5,6,9,10,11,12],\"xaxis\":\"x\",\"y\":[25,18,42,9,1,2,3,1,5,5],\"yaxis\":\"y\",\"type\":\"bar\"},{\"alignmentgroup\":\"True\",\"customdata\":[[\"sso.amazonaws.com\"],[\"sso.amazonaws.com\"],[\"sso.amazonaws.com\"]],\"hovertemplate\":\"Event Source=%{customdata[0]}<br>Month=%{x}<br>Count=%{y}<extra></extra>\",\"legendgroup\":\"sso.amazonaws.com\",\"marker\":{\"color\":\"#FFA15A\",\"pattern\":{\"shape\":\"\"}},\"name\":\"sso.amazonaws.com\",\"offsetgroup\":\"sso.amazonaws.com\",\"orientation\":\"v\",\"showlegend\":true,\"textposition\":\"auto\",\"x\":[1,6,12],\"xaxis\":\"x\",\"y\":[5,19,1],\"yaxis\":\"y\",\"type\":\"bar\"},{\"alignmentgroup\":\"True\",\"customdata\":[[\"compute-optimizer.amazonaws.com\"],[\"compute-optimizer.amazonaws.com\"],[\"compute-optimizer.amazonaws.com\"],[\"compute-optimizer.amazonaws.com\"],[\"compute-optimizer.amazonaws.com\"],[\"compute-optimizer.amazonaws.com\"],[\"compute-optimizer.amazonaws.com\"],[\"compute-optimizer.amazonaws.com\"]],\"hovertemplate\":\"Event Source=%{customdata[0]}<br>Month=%{x}<br>Count=%{y}<extra></extra>\",\"legendgroup\":\"compute-optimizer.amazonaws.com\",\"marker\":{\"color\":\"#19d3f3\",\"pattern\":{\"shape\":\"\"}},\"name\":\"compute-optimizer.amazonaws.com\",\"offsetgroup\":\"compute-optimizer.amazonaws.com\",\"orientation\":\"v\",\"showlegend\":true,\"textposition\":\"auto\",\"x\":[2,3,4,5,9,10,11,12],\"xaxis\":\"x\",\"y\":[16,43,12,2,2,1,1,3],\"yaxis\":\"y\",\"type\":\"bar\"},{\"alignmentgroup\":\"True\",\"customdata\":[[\"logs.amazonaws.com\"],[\"logs.amazonaws.com\"],[\"logs.amazonaws.com\"],[\"logs.amazonaws.com\"],[\"logs.amazonaws.com\"],[\"logs.amazonaws.com\"],[\"logs.amazonaws.com\"],[\"logs.amazonaws.com\"]],\"hovertemplate\":\"Event Source=%{customdata[0]}<br>Month=%{x}<br>Count=%{y}<extra></extra>\",\"legendgroup\":\"logs.amazonaws.com\",\"marker\":{\"color\":\"#FF6692\",\"pattern\":{\"shape\":\"\"}},\"name\":\"logs.amazonaws.com\",\"offsetgroup\":\"logs.amazonaws.com\",\"orientation\":\"v\",\"showlegend\":true,\"textposition\":\"auto\",\"x\":[2,3,4,5,6,10,11,12],\"xaxis\":\"x\",\"y\":[149,598,397,3,36,24,2,2],\"yaxis\":\"y\",\"type\":\"bar\"},{\"alignmentgroup\":\"True\",\"customdata\":[[\"ssm.amazonaws.com\"],[\"ssm.amazonaws.com\"],[\"ssm.amazonaws.com\"],[\"ssm.amazonaws.com\"],[\"ssm.amazonaws.com\"],[\"ssm.amazonaws.com\"],[\"ssm.amazonaws.com\"]],\"hovertemplate\":\"Event Source=%{customdata[0]}<br>Month=%{x}<br>Count=%{y}<extra></extra>\",\"legendgroup\":\"ssm.amazonaws.com\",\"marker\":{\"color\":\"#B6E880\",\"pattern\":{\"shape\":\"\"}},\"name\":\"ssm.amazonaws.com\",\"offsetgroup\":\"ssm.amazonaws.com\",\"orientation\":\"v\",\"showlegend\":true,\"textposition\":\"auto\",\"x\":[2,3,4,5,10,11,12],\"xaxis\":\"x\",\"y\":[6,45,11,2,3,1,2],\"yaxis\":\"y\",\"type\":\"bar\"},{\"alignmentgroup\":\"True\",\"customdata\":[[\"billingconsole.amazonaws.com\"],[\"billingconsole.amazonaws.com\"]],\"hovertemplate\":\"Event Source=%{customdata[0]}<br>Month=%{x}<br>Count=%{y}<extra></extra>\",\"legendgroup\":\"billingconsole.amazonaws.com\",\"marker\":{\"color\":\"#FF97FF\",\"pattern\":{\"shape\":\"\"}},\"name\":\"billingconsole.amazonaws.com\",\"offsetgroup\":\"billingconsole.amazonaws.com\",\"orientation\":\"v\",\"showlegend\":true,\"textposition\":\"auto\",\"x\":[9,10],\"xaxis\":\"x\",\"y\":[116,15],\"yaxis\":\"y\",\"type\":\"bar\"},{\"alignmentgroup\":\"True\",\"customdata\":[[\"lambda.amazonaws.com\"]],\"hovertemplate\":\"Event Source=%{customdata[0]}<br>Month=%{x}<br>Count=%{y}<extra></extra>\",\"legendgroup\":\"lambda.amazonaws.com\",\"marker\":{\"color\":\"#FECB52\",\"pattern\":{\"shape\":\"\"}},\"name\":\"lambda.amazonaws.com\",\"offsetgroup\":\"lambda.amazonaws.com\",\"orientation\":\"v\",\"showlegend\":true,\"textposition\":\"auto\",\"x\":[10],\"xaxis\":\"x\",\"y\":[49],\"yaxis\":\"y\",\"type\":\"bar\"}],                        {\"template\":{\"data\":{\"histogram2dcontour\":[{\"type\":\"histogram2dcontour\",\"colorbar\":{\"outlinewidth\":0,\"ticks\":\"\"},\"colorscale\":[[0.0,\"#0d0887\"],[0.1111111111111111,\"#46039f\"],[0.2222222222222222,\"#7201a8\"],[0.3333333333333333,\"#9c179e\"],[0.4444444444444444,\"#bd3786\"],[0.5555555555555556,\"#d8576b\"],[0.6666666666666666,\"#ed7953\"],[0.7777777777777778,\"#fb9f3a\"],[0.8888888888888888,\"#fdca26\"],[1.0,\"#f0f921\"]]}],\"choropleth\":[{\"type\":\"choropleth\",\"colorbar\":{\"outlinewidth\":0,\"ticks\":\"\"}}],\"histogram2d\":[{\"type\":\"histogram2d\",\"colorbar\":{\"outlinewidth\":0,\"ticks\":\"\"},\"colorscale\":[[0.0,\"#0d0887\"],[0.1111111111111111,\"#46039f\"],[0.2222222222222222,\"#7201a8\"],[0.3333333333333333,\"#9c179e\"],[0.4444444444444444,\"#bd3786\"],[0.5555555555555556,\"#d8576b\"],[0.6666666666666666,\"#ed7953\"],[0.7777777777777778,\"#fb9f3a\"],[0.8888888888888888,\"#fdca26\"],[1.0,\"#f0f921\"]]}],\"heatmap\":[{\"type\":\"heatmap\",\"colorbar\":{\"outlinewidth\":0,\"ticks\":\"\"},\"colorscale\":[[0.0,\"#0d0887\"],[0.1111111111111111,\"#46039f\"],[0.2222222222222222,\"#7201a8\"],[0.3333333333333333,\"#9c179e\"],[0.4444444444444444,\"#bd3786\"],[0.5555555555555556,\"#d8576b\"],[0.6666666666666666,\"#ed7953\"],[0.7777777777777778,\"#fb9f3a\"],[0.8888888888888888,\"#fdca26\"],[1.0,\"#f0f921\"]]}],\"heatmapgl\":[{\"type\":\"heatmapgl\",\"colorbar\":{\"outlinewidth\":0,\"ticks\":\"\"},\"colorscale\":[[0.0,\"#0d0887\"],[0.1111111111111111,\"#46039f\"],[0.2222222222222222,\"#7201a8\"],[0.3333333333333333,\"#9c179e\"],[0.4444444444444444,\"#bd3786\"],[0.5555555555555556,\"#d8576b\"],[0.6666666666666666,\"#ed7953\"],[0.7777777777777778,\"#fb9f3a\"],[0.8888888888888888,\"#fdca26\"],[1.0,\"#f0f921\"]]}],\"contourcarpet\":[{\"type\":\"contourcarpet\",\"colorbar\":{\"outlinewidth\":0,\"ticks\":\"\"}}],\"contour\":[{\"type\":\"contour\",\"colorbar\":{\"outlinewidth\":0,\"ticks\":\"\"},\"colorscale\":[[0.0,\"#0d0887\"],[0.1111111111111111,\"#46039f\"],[0.2222222222222222,\"#7201a8\"],[0.3333333333333333,\"#9c179e\"],[0.4444444444444444,\"#bd3786\"],[0.5555555555555556,\"#d8576b\"],[0.6666666666666666,\"#ed7953\"],[0.7777777777777778,\"#fb9f3a\"],[0.8888888888888888,\"#fdca26\"],[1.0,\"#f0f921\"]]}],\"surface\":[{\"type\":\"surface\",\"colorbar\":{\"outlinewidth\":0,\"ticks\":\"\"},\"colorscale\":[[0.0,\"#0d0887\"],[0.1111111111111111,\"#46039f\"],[0.2222222222222222,\"#7201a8\"],[0.3333333333333333,\"#9c179e\"],[0.4444444444444444,\"#bd3786\"],[0.5555555555555556,\"#d8576b\"],[0.6666666666666666,\"#ed7953\"],[0.7777777777777778,\"#fb9f3a\"],[0.8888888888888888,\"#fdca26\"],[1.0,\"#f0f921\"]]}],\"mesh3d\":[{\"type\":\"mesh3d\",\"colorbar\":{\"outlinewidth\":0,\"ticks\":\"\"}}],\"scatter\":[{\"fillpattern\":{\"fillmode\":\"overlay\",\"size\":10,\"solidity\":0.2},\"type\":\"scatter\"}],\"parcoords\":[{\"type\":\"parcoords\",\"line\":{\"colorbar\":{\"outlinewidth\":0,\"ticks\":\"\"}}}],\"scatterpolargl\":[{\"type\":\"scatterpolargl\",\"marker\":{\"colorbar\":{\"outlinewidth\":0,\"ticks\":\"\"}}}],\"bar\":[{\"error_x\":{\"color\":\"#2a3f5f\"},\"error_y\":{\"color\":\"#2a3f5f\"},\"marker\":{\"line\":{\"color\":\"#E5ECF6\",\"width\":0.5},\"pattern\":{\"fillmode\":\"overlay\",\"size\":10,\"solidity\":0.2}},\"type\":\"bar\"}],\"scattergeo\":[{\"type\":\"scattergeo\",\"marker\":{\"colorbar\":{\"outlinewidth\":0,\"ticks\":\"\"}}}],\"scatterpolar\":[{\"type\":\"scatterpolar\",\"marker\":{\"colorbar\":{\"outlinewidth\":0,\"ticks\":\"\"}}}],\"histogram\":[{\"marker\":{\"pattern\":{\"fillmode\":\"overlay\",\"size\":10,\"solidity\":0.2}},\"type\":\"histogram\"}],\"scattergl\":[{\"type\":\"scattergl\",\"marker\":{\"colorbar\":{\"outlinewidth\":0,\"ticks\":\"\"}}}],\"scatter3d\":[{\"type\":\"scatter3d\",\"line\":{\"colorbar\":{\"outlinewidth\":0,\"ticks\":\"\"}},\"marker\":{\"colorbar\":{\"outlinewidth\":0,\"ticks\":\"\"}}}],\"scattermapbox\":[{\"type\":\"scattermapbox\",\"marker\":{\"colorbar\":{\"outlinewidth\":0,\"ticks\":\"\"}}}],\"scatterternary\":[{\"type\":\"scatterternary\",\"marker\":{\"colorbar\":{\"outlinewidth\":0,\"ticks\":\"\"}}}],\"scattercarpet\":[{\"type\":\"scattercarpet\",\"marker\":{\"colorbar\":{\"outlinewidth\":0,\"ticks\":\"\"}}}],\"carpet\":[{\"aaxis\":{\"endlinecolor\":\"#2a3f5f\",\"gridcolor\":\"white\",\"linecolor\":\"white\",\"minorgridcolor\":\"white\",\"startlinecolor\":\"#2a3f5f\"},\"baxis\":{\"endlinecolor\":\"#2a3f5f\",\"gridcolor\":\"white\",\"linecolor\":\"white\",\"minorgridcolor\":\"white\",\"startlinecolor\":\"#2a3f5f\"},\"type\":\"carpet\"}],\"table\":[{\"cells\":{\"fill\":{\"color\":\"#EBF0F8\"},\"line\":{\"color\":\"white\"}},\"header\":{\"fill\":{\"color\":\"#C8D4E3\"},\"line\":{\"color\":\"white\"}},\"type\":\"table\"}],\"barpolar\":[{\"marker\":{\"line\":{\"color\":\"#E5ECF6\",\"width\":0.5},\"pattern\":{\"fillmode\":\"overlay\",\"size\":10,\"solidity\":0.2}},\"type\":\"barpolar\"}],\"pie\":[{\"automargin\":true,\"type\":\"pie\"}]},\"layout\":{\"autotypenumbers\":\"strict\",\"colorway\":[\"#636efa\",\"#EF553B\",\"#00cc96\",\"#ab63fa\",\"#FFA15A\",\"#19d3f3\",\"#FF6692\",\"#B6E880\",\"#FF97FF\",\"#FECB52\"],\"font\":{\"color\":\"#2a3f5f\"},\"hovermode\":\"closest\",\"hoverlabel\":{\"align\":\"left\"},\"paper_bgcolor\":\"white\",\"plot_bgcolor\":\"#E5ECF6\",\"polar\":{\"bgcolor\":\"#E5ECF6\",\"angularaxis\":{\"gridcolor\":\"white\",\"linecolor\":\"white\",\"ticks\":\"\"},\"radialaxis\":{\"gridcolor\":\"white\",\"linecolor\":\"white\",\"ticks\":\"\"}},\"ternary\":{\"bgcolor\":\"#E5ECF6\",\"aaxis\":{\"gridcolor\":\"white\",\"linecolor\":\"white\",\"ticks\":\"\"},\"baxis\":{\"gridcolor\":\"white\",\"linecolor\":\"white\",\"ticks\":\"\"},\"caxis\":{\"gridcolor\":\"white\",\"linecolor\":\"white\",\"ticks\":\"\"}},\"coloraxis\":{\"colorbar\":{\"outlinewidth\":0,\"ticks\":\"\"}},\"colorscale\":{\"sequential\":[[0.0,\"#0d0887\"],[0.1111111111111111,\"#46039f\"],[0.2222222222222222,\"#7201a8\"],[0.3333333333333333,\"#9c179e\"],[0.4444444444444444,\"#bd3786\"],[0.5555555555555556,\"#d8576b\"],[0.6666666666666666,\"#ed7953\"],[0.7777777777777778,\"#fb9f3a\"],[0.8888888888888888,\"#fdca26\"],[1.0,\"#f0f921\"]],\"sequentialminus\":[[0.0,\"#0d0887\"],[0.1111111111111111,\"#46039f\"],[0.2222222222222222,\"#7201a8\"],[0.3333333333333333,\"#9c179e\"],[0.4444444444444444,\"#bd3786\"],[0.5555555555555556,\"#d8576b\"],[0.6666666666666666,\"#ed7953\"],[0.7777777777777778,\"#fb9f3a\"],[0.8888888888888888,\"#fdca26\"],[1.0,\"#f0f921\"]],\"diverging\":[[0,\"#8e0152\"],[0.1,\"#c51b7d\"],[0.2,\"#de77ae\"],[0.3,\"#f1b6da\"],[0.4,\"#fde0ef\"],[0.5,\"#f7f7f7\"],[0.6,\"#e6f5d0\"],[0.7,\"#b8e186\"],[0.8,\"#7fbc41\"],[0.9,\"#4d9221\"],[1,\"#276419\"]]},\"xaxis\":{\"gridcolor\":\"white\",\"linecolor\":\"white\",\"ticks\":\"\",\"title\":{\"standoff\":15},\"zerolinecolor\":\"white\",\"automargin\":true,\"zerolinewidth\":2},\"yaxis\":{\"gridcolor\":\"white\",\"linecolor\":\"white\",\"ticks\":\"\",\"title\":{\"standoff\":15},\"zerolinecolor\":\"white\",\"automargin\":true,\"zerolinewidth\":2},\"scene\":{\"xaxis\":{\"backgroundcolor\":\"#E5ECF6\",\"gridcolor\":\"white\",\"linecolor\":\"white\",\"showbackground\":true,\"ticks\":\"\",\"zerolinecolor\":\"white\",\"gridwidth\":2},\"yaxis\":{\"backgroundcolor\":\"#E5ECF6\",\"gridcolor\":\"white\",\"linecolor\":\"white\",\"showbackground\":true,\"ticks\":\"\",\"zerolinecolor\":\"white\",\"gridwidth\":2},\"zaxis\":{\"backgroundcolor\":\"#E5ECF6\",\"gridcolor\":\"white\",\"linecolor\":\"white\",\"showbackground\":true,\"ticks\":\"\",\"zerolinecolor\":\"white\",\"gridwidth\":2}},\"shapedefaults\":{\"line\":{\"color\":\"#2a3f5f\"}},\"annotationdefaults\":{\"arrowcolor\":\"#2a3f5f\",\"arrowhead\":0,\"arrowwidth\":1},\"geo\":{\"bgcolor\":\"white\",\"landcolor\":\"#E5ECF6\",\"subunitcolor\":\"white\",\"showland\":true,\"showlakes\":true,\"lakecolor\":\"white\"},\"title\":{\"x\":0.05},\"mapbox\":{\"style\":\"light\"}}},\"xaxis\":{\"anchor\":\"y\",\"domain\":[0.0,1.0],\"title\":{\"text\":\"Month\"}},\"yaxis\":{\"anchor\":\"x\",\"domain\":[0.0,1.0],\"title\":{\"text\":\"Count\"}},\"legend\":{\"title\":{\"text\":\"Event Source\"},\"tracegroupgap\":0,\"orientation\":\"h\",\"x\":0.5,\"xanchor\":\"center\",\"y\":-0.2},\"title\":{\"text\":\"Event Source by Month\"},\"barmode\":\"stack\",\"height\":800},                        {\"responsive\": true}                    ).then(function(){\n",
       "                            \n",
       "var gd = document.getElementById('301f4c9c-03b5-42c4-b434-f06999bd619e');\n",
       "var x = new MutationObserver(function (mutations, observer) {{\n",
       "        var display = window.getComputedStyle(gd).display;\n",
       "        if (!display || display === 'none') {{\n",
       "            console.log([gd, 'removed!']);\n",
       "            Plotly.purge(gd);\n",
       "            observer.disconnect();\n",
       "        }}\n",
       "}});\n",
       "\n",
       "// Listen for the removal of the full notebook cells\n",
       "var notebookContainer = gd.closest('#notebook-container');\n",
       "if (notebookContainer) {{\n",
       "    x.observe(notebookContainer, {childList: true});\n",
       "}}\n",
       "\n",
       "// Listen for the clearing of the current output cell\n",
       "var outputEl = gd.closest('.output');\n",
       "if (outputEl) {{\n",
       "    x.observe(outputEl, {childList: true});\n",
       "}}\n",
       "\n",
       "                        })                };                });            </script>        </div>"
      ]
     },
     "metadata": {},
     "output_type": "display_data"
    }
   ],
   "source": [
    "# Plot event source\n",
    "\n",
    "fig = px.bar(\n",
    "    source_month, \n",
    "    x=\"month\", \n",
    "    y=\"count\", \n",
    "    color=\"eventSource\", \n",
    "    title=\"Event Source by Month\",\n",
    "    labels={\"month\": \"Month\", \"count\": \"Count\", \"eventSource\": \"Event Source\"},\n",
    "    hover_data={\"count\": True, \"eventSource\": True}\n",
    ")\n",
    "\n",
    "\n",
    "fig.update_layout(\n",
    "    barmode='stack',\n",
    "    xaxis=dict(title='Month'),\n",
    "    yaxis=dict(title='Count'),\n",
    "    legend=dict(title='Event Source', orientation=\"h\", x=0.5, xanchor=\"center\", y=-0.2),\n",
    "    height=800\n",
    ")\n",
    "\n",
    "\n",
    "fig.show()\n"
   ]
  },
  {
   "cell_type": "code",
   "execution_count": 337,
   "id": "e93c2595-c5fa-46fb-a41e-5287e3640b69",
   "metadata": {
    "tags": []
   },
   "outputs": [
    {
     "data": {
      "application/vnd.plotly.v1+json": {
       "config": {
        "plotlyServerURL": "https://plot.ly"
       },
       "data": [
        {
         "alignmentgroup": "True",
         "customdata": [
          [
           "ConsoleLogin"
          ],
          [
           "ConsoleLogin"
          ],
          [
           "ConsoleLogin"
          ],
          [
           "ConsoleLogin"
          ],
          [
           "ConsoleLogin"
          ],
          [
           "ConsoleLogin"
          ],
          [
           "ConsoleLogin"
          ],
          [
           "ConsoleLogin"
          ],
          [
           "ConsoleLogin"
          ],
          [
           "ConsoleLogin"
          ]
         ],
         "hovertemplate": "Event Name=%{customdata[0]}<br>Month=%{x}<br>Count=%{y}<extra></extra>",
         "legendgroup": "ConsoleLogin",
         "marker": {
          "color": "#636efa",
          "pattern": {
           "shape": ""
          }
         },
         "name": "ConsoleLogin",
         "offsetgroup": "ConsoleLogin",
         "orientation": "v",
         "showlegend": true,
         "textposition": "auto",
         "type": "bar",
         "x": [
          1,
          2,
          3,
          4,
          5,
          6,
          9,
          10,
          11,
          12
         ],
         "xaxis": "x",
         "y": [
          21,
          17,
          35,
          9,
          1,
          2,
          3,
          1,
          4,
          2
         ],
         "yaxis": "y"
        },
        {
         "alignmentgroup": "True",
         "customdata": [
          [
           "DescribeAccountAttributes"
          ],
          [
           "DescribeAccountAttributes"
          ],
          [
           "DescribeAccountAttributes"
          ],
          [
           "DescribeAccountAttributes"
          ],
          [
           "DescribeAccountAttributes"
          ],
          [
           "DescribeAccountAttributes"
          ],
          [
           "DescribeAccountAttributes"
          ],
          [
           "DescribeAccountAttributes"
          ]
         ],
         "hovertemplate": "Event Name=%{customdata[0]}<br>Month=%{x}<br>Count=%{y}<extra></extra>",
         "legendgroup": "DescribeAccountAttributes",
         "marker": {
          "color": "#EF553B",
          "pattern": {
           "shape": ""
          }
         },
         "name": "DescribeAccountAttributes",
         "offsetgroup": "DescribeAccountAttributes",
         "orientation": "v",
         "showlegend": true,
         "textposition": "auto",
         "type": "bar",
         "x": [
          1,
          2,
          3,
          4,
          5,
          6,
          11,
          12
         ],
         "xaxis": "x",
         "y": [
          11,
          15,
          32,
          6,
          2,
          2,
          3,
          7
         ],
         "yaxis": "y"
        },
        {
         "alignmentgroup": "True",
         "customdata": [
          [
           "DescribeAddresses"
          ],
          [
           "DescribeAddresses"
          ],
          [
           "DescribeAddresses"
          ],
          [
           "DescribeAddresses"
          ],
          [
           "DescribeAddresses"
          ],
          [
           "DescribeAddresses"
          ],
          [
           "DescribeAddresses"
          ],
          [
           "DescribeAddresses"
          ],
          [
           "DescribeAddresses"
          ]
         ],
         "hovertemplate": "Event Name=%{customdata[0]}<br>Month=%{x}<br>Count=%{y}<extra></extra>",
         "legendgroup": "DescribeAddresses",
         "marker": {
          "color": "#00cc96",
          "pattern": {
           "shape": ""
          }
         },
         "name": "DescribeAddresses",
         "offsetgroup": "DescribeAddresses",
         "orientation": "v",
         "showlegend": true,
         "textposition": "auto",
         "type": "bar",
         "x": [
          1,
          2,
          3,
          4,
          5,
          6,
          10,
          11,
          12
         ],
         "xaxis": "x",
         "y": [
          4,
          26,
          74,
          17,
          4,
          3,
          2,
          3,
          10
         ],
         "yaxis": "y"
        },
        {
         "alignmentgroup": "True",
         "customdata": [
          [
           "DescribeAlarms"
          ],
          [
           "DescribeAlarms"
          ],
          [
           "DescribeAlarms"
          ],
          [
           "DescribeAlarms"
          ],
          [
           "DescribeAlarms"
          ],
          [
           "DescribeAlarms"
          ],
          [
           "DescribeAlarms"
          ]
         ],
         "hovertemplate": "Event Name=%{customdata[0]}<br>Month=%{x}<br>Count=%{y}<extra></extra>",
         "legendgroup": "DescribeAlarms",
         "marker": {
          "color": "#ab63fa",
          "pattern": {
           "shape": ""
          }
         },
         "name": "DescribeAlarms",
         "offsetgroup": "DescribeAlarms",
         "orientation": "v",
         "showlegend": true,
         "textposition": "auto",
         "type": "bar",
         "x": [
          1,
          2,
          3,
          4,
          5,
          11,
          12
         ],
         "xaxis": "x",
         "y": [
          3,
          66,
          50,
          10,
          4,
          1,
          2
         ],
         "yaxis": "y"
        },
        {
         "alignmentgroup": "True",
         "customdata": [
          [
           "DescribeEventAggregates"
          ],
          [
           "DescribeEventAggregates"
          ],
          [
           "DescribeEventAggregates"
          ],
          [
           "DescribeEventAggregates"
          ],
          [
           "DescribeEventAggregates"
          ],
          [
           "DescribeEventAggregates"
          ],
          [
           "DescribeEventAggregates"
          ],
          [
           "DescribeEventAggregates"
          ],
          [
           "DescribeEventAggregates"
          ],
          [
           "DescribeEventAggregates"
          ]
         ],
         "hovertemplate": "Event Name=%{customdata[0]}<br>Month=%{x}<br>Count=%{y}<extra></extra>",
         "legendgroup": "DescribeEventAggregates",
         "marker": {
          "color": "#FFA15A",
          "pattern": {
           "shape": ""
          }
         },
         "name": "DescribeEventAggregates",
         "offsetgroup": "DescribeEventAggregates",
         "orientation": "v",
         "showlegend": true,
         "textposition": "auto",
         "type": "bar",
         "x": [
          1,
          2,
          3,
          4,
          5,
          6,
          9,
          10,
          11,
          12
         ],
         "xaxis": "x",
         "y": [
          128,
          290,
          632,
          288,
          4,
          228,
          4,
          46,
          6,
          14
         ],
         "yaxis": "y"
        },
        {
         "alignmentgroup": "True",
         "customdata": [
          [
           "DescribeImages"
          ],
          [
           "DescribeImages"
          ],
          [
           "DescribeImages"
          ],
          [
           "DescribeImages"
          ],
          [
           "DescribeImages"
          ],
          [
           "DescribeImages"
          ],
          [
           "DescribeImages"
          ],
          [
           "DescribeImages"
          ],
          [
           "DescribeImages"
          ]
         ],
         "hovertemplate": "Event Name=%{customdata[0]}<br>Month=%{x}<br>Count=%{y}<extra></extra>",
         "legendgroup": "DescribeImages",
         "marker": {
          "color": "#19d3f3",
          "pattern": {
           "shape": ""
          }
         },
         "name": "DescribeImages",
         "offsetgroup": "DescribeImages",
         "orientation": "v",
         "showlegend": true,
         "textposition": "auto",
         "type": "bar",
         "x": [
          1,
          2,
          3,
          4,
          5,
          6,
          10,
          11,
          12
         ],
         "xaxis": "x",
         "y": [
          5,
          134,
          28,
          7,
          3,
          1,
          2,
          1,
          1
         ],
         "yaxis": "y"
        },
        {
         "alignmentgroup": "True",
         "customdata": [
          [
           "DescribeInstanceStatus"
          ],
          [
           "DescribeInstanceStatus"
          ],
          [
           "DescribeInstanceStatus"
          ],
          [
           "DescribeInstanceStatus"
          ],
          [
           "DescribeInstanceStatus"
          ],
          [
           "DescribeInstanceStatus"
          ],
          [
           "DescribeInstanceStatus"
          ],
          [
           "DescribeInstanceStatus"
          ],
          [
           "DescribeInstanceStatus"
          ]
         ],
         "hovertemplate": "Event Name=%{customdata[0]}<br>Month=%{x}<br>Count=%{y}<extra></extra>",
         "legendgroup": "DescribeInstanceStatus",
         "marker": {
          "color": "#FF6692",
          "pattern": {
           "shape": ""
          }
         },
         "name": "DescribeInstanceStatus",
         "offsetgroup": "DescribeInstanceStatus",
         "orientation": "v",
         "showlegend": true,
         "textposition": "auto",
         "type": "bar",
         "x": [
          1,
          2,
          3,
          4,
          5,
          6,
          10,
          11,
          12
         ],
         "xaxis": "x",
         "y": [
          3,
          25,
          70,
          17,
          4,
          3,
          1,
          3,
          9
         ],
         "yaxis": "y"
        },
        {
         "alignmentgroup": "True",
         "customdata": [
          [
           "DescribeInstanceTypes"
          ],
          [
           "DescribeInstanceTypes"
          ],
          [
           "DescribeInstanceTypes"
          ],
          [
           "DescribeInstanceTypes"
          ],
          [
           "DescribeInstanceTypes"
          ],
          [
           "DescribeInstanceTypes"
          ],
          [
           "DescribeInstanceTypes"
          ],
          [
           "DescribeInstanceTypes"
          ]
         ],
         "hovertemplate": "Event Name=%{customdata[0]}<br>Month=%{x}<br>Count=%{y}<extra></extra>",
         "legendgroup": "DescribeInstanceTypes",
         "marker": {
          "color": "#B6E880",
          "pattern": {
           "shape": ""
          }
         },
         "name": "DescribeInstanceTypes",
         "offsetgroup": "DescribeInstanceTypes",
         "orientation": "v",
         "showlegend": true,
         "textposition": "auto",
         "type": "bar",
         "x": [
          1,
          2,
          3,
          4,
          5,
          6,
          11,
          12
         ],
         "xaxis": "x",
         "y": [
          34,
          85,
          150,
          24,
          8,
          8,
          6,
          7
         ],
         "yaxis": "y"
        },
        {
         "alignmentgroup": "True",
         "customdata": [
          [
           "DescribeInstances"
          ],
          [
           "DescribeInstances"
          ],
          [
           "DescribeInstances"
          ],
          [
           "DescribeInstances"
          ],
          [
           "DescribeInstances"
          ],
          [
           "DescribeInstances"
          ],
          [
           "DescribeInstances"
          ],
          [
           "DescribeInstances"
          ],
          [
           "DescribeInstances"
          ]
         ],
         "hovertemplate": "Event Name=%{customdata[0]}<br>Month=%{x}<br>Count=%{y}<extra></extra>",
         "legendgroup": "DescribeInstances",
         "marker": {
          "color": "#FF97FF",
          "pattern": {
           "shape": ""
          }
         },
         "name": "DescribeInstances",
         "offsetgroup": "DescribeInstances",
         "orientation": "v",
         "showlegend": true,
         "textposition": "auto",
         "type": "bar",
         "x": [
          1,
          2,
          3,
          4,
          5,
          6,
          10,
          11,
          12
         ],
         "xaxis": "x",
         "y": [
          13,
          63,
          96,
          29,
          19,
          11,
          1,
          6,
          59
         ],
         "yaxis": "y"
        },
        {
         "alignmentgroup": "True",
         "customdata": [
          [
           "DescribeSecurityGroups"
          ],
          [
           "DescribeSecurityGroups"
          ],
          [
           "DescribeSecurityGroups"
          ],
          [
           "DescribeSecurityGroups"
          ],
          [
           "DescribeSecurityGroups"
          ],
          [
           "DescribeSecurityGroups"
          ],
          [
           "DescribeSecurityGroups"
          ],
          [
           "DescribeSecurityGroups"
          ],
          [
           "DescribeSecurityGroups"
          ]
         ],
         "hovertemplate": "Event Name=%{customdata[0]}<br>Month=%{x}<br>Count=%{y}<extra></extra>",
         "legendgroup": "DescribeSecurityGroups",
         "marker": {
          "color": "#FECB52",
          "pattern": {
           "shape": ""
          }
         },
         "name": "DescribeSecurityGroups",
         "offsetgroup": "DescribeSecurityGroups",
         "orientation": "v",
         "showlegend": true,
         "textposition": "auto",
         "type": "bar",
         "x": [
          1,
          2,
          3,
          4,
          5,
          6,
          10,
          11,
          12
         ],
         "xaxis": "x",
         "y": [
          7,
          70,
          46,
          8,
          1,
          1,
          1,
          1,
          63
         ],
         "yaxis": "y"
        },
        {
         "alignmentgroup": "True",
         "customdata": [
          [
           "DescribeSubnets"
          ],
          [
           "DescribeSubnets"
          ],
          [
           "DescribeSubnets"
          ],
          [
           "DescribeSubnets"
          ],
          [
           "DescribeSubnets"
          ],
          [
           "DescribeSubnets"
          ],
          [
           "DescribeSubnets"
          ],
          [
           "DescribeSubnets"
          ],
          [
           "DescribeSubnets"
          ]
         ],
         "hovertemplate": "Event Name=%{customdata[0]}<br>Month=%{x}<br>Count=%{y}<extra></extra>",
         "legendgroup": "DescribeSubnets",
         "marker": {
          "color": "#636efa",
          "pattern": {
           "shape": ""
          }
         },
         "name": "DescribeSubnets",
         "offsetgroup": "DescribeSubnets",
         "orientation": "v",
         "showlegend": true,
         "textposition": "auto",
         "type": "bar",
         "x": [
          1,
          2,
          3,
          4,
          5,
          6,
          10,
          11,
          12
         ],
         "xaxis": "x",
         "y": [
          6,
          9,
          13,
          4,
          2,
          1,
          1,
          1,
          35
         ],
         "yaxis": "y"
        },
        {
         "alignmentgroup": "True",
         "customdata": [
          [
           "DescribeTags"
          ],
          [
           "DescribeTags"
          ],
          [
           "DescribeTags"
          ],
          [
           "DescribeTags"
          ],
          [
           "DescribeTags"
          ],
          [
           "DescribeTags"
          ],
          [
           "DescribeTags"
          ],
          [
           "DescribeTags"
          ]
         ],
         "hovertemplate": "Event Name=%{customdata[0]}<br>Month=%{x}<br>Count=%{y}<extra></extra>",
         "legendgroup": "DescribeTags",
         "marker": {
          "color": "#EF553B",
          "pattern": {
           "shape": ""
          }
         },
         "name": "DescribeTags",
         "offsetgroup": "DescribeTags",
         "orientation": "v",
         "showlegend": true,
         "textposition": "auto",
         "type": "bar",
         "x": [
          1,
          2,
          3,
          4,
          5,
          6,
          11,
          12
         ],
         "xaxis": "x",
         "y": [
          32,
          27,
          29,
          5,
          1,
          1,
          1,
          12
         ],
         "yaxis": "y"
        },
        {
         "alignmentgroup": "True",
         "customdata": [
          [
           "DescribeVolumes"
          ],
          [
           "DescribeVolumes"
          ],
          [
           "DescribeVolumes"
          ],
          [
           "DescribeVolumes"
          ],
          [
           "DescribeVolumes"
          ],
          [
           "DescribeVolumes"
          ],
          [
           "DescribeVolumes"
          ],
          [
           "DescribeVolumes"
          ]
         ],
         "hovertemplate": "Event Name=%{customdata[0]}<br>Month=%{x}<br>Count=%{y}<extra></extra>",
         "legendgroup": "DescribeVolumes",
         "marker": {
          "color": "#00cc96",
          "pattern": {
           "shape": ""
          }
         },
         "name": "DescribeVolumes",
         "offsetgroup": "DescribeVolumes",
         "orientation": "v",
         "showlegend": true,
         "textposition": "auto",
         "type": "bar",
         "x": [
          1,
          2,
          3,
          4,
          5,
          6,
          11,
          12
         ],
         "xaxis": "x",
         "y": [
          3,
          25,
          15,
          2,
          1,
          2,
          1,
          46
         ],
         "yaxis": "y"
        },
        {
         "alignmentgroup": "True",
         "customdata": [
          [
           "DescribeVpcs"
          ],
          [
           "DescribeVpcs"
          ],
          [
           "DescribeVpcs"
          ],
          [
           "DescribeVpcs"
          ],
          [
           "DescribeVpcs"
          ],
          [
           "DescribeVpcs"
          ],
          [
           "DescribeVpcs"
          ],
          [
           "DescribeVpcs"
          ],
          [
           "DescribeVpcs"
          ]
         ],
         "hovertemplate": "Event Name=%{customdata[0]}<br>Month=%{x}<br>Count=%{y}<extra></extra>",
         "legendgroup": "DescribeVpcs",
         "marker": {
          "color": "#ab63fa",
          "pattern": {
           "shape": ""
          }
         },
         "name": "DescribeVpcs",
         "offsetgroup": "DescribeVpcs",
         "orientation": "v",
         "showlegend": true,
         "textposition": "auto",
         "type": "bar",
         "x": [
          1,
          2,
          3,
          4,
          5,
          6,
          10,
          11,
          12
         ],
         "xaxis": "x",
         "y": [
          11,
          15,
          14,
          4,
          2,
          1,
          1,
          2,
          35
         ],
         "yaxis": "y"
        },
        {
         "alignmentgroup": "True",
         "customdata": [
          [
           "GetAccessKeyLastUsed"
          ],
          [
           "GetAccessKeyLastUsed"
          ],
          [
           "GetAccessKeyLastUsed"
          ]
         ],
         "hovertemplate": "Event Name=%{customdata[0]}<br>Month=%{x}<br>Count=%{y}<extra></extra>",
         "legendgroup": "GetAccessKeyLastUsed",
         "marker": {
          "color": "#FFA15A",
          "pattern": {
           "shape": ""
          }
         },
         "name": "GetAccessKeyLastUsed",
         "offsetgroup": "GetAccessKeyLastUsed",
         "orientation": "v",
         "showlegend": true,
         "textposition": "auto",
         "type": "bar",
         "x": [
          1,
          6,
          12
         ],
         "xaxis": "x",
         "y": [
          20,
          41,
          20
         ],
         "yaxis": "y"
        },
        {
         "alignmentgroup": "True",
         "customdata": [
          [
           "GetBucketAcl"
          ],
          [
           "GetBucketAcl"
          ],
          [
           "GetBucketAcl"
          ],
          [
           "GetBucketAcl"
          ],
          [
           "GetBucketAcl"
          ],
          [
           "GetBucketAcl"
          ],
          [
           "GetBucketAcl"
          ],
          [
           "GetBucketAcl"
          ],
          [
           "GetBucketAcl"
          ],
          [
           "GetBucketAcl"
          ]
         ],
         "hovertemplate": "Event Name=%{customdata[0]}<br>Month=%{x}<br>Count=%{y}<extra></extra>",
         "legendgroup": "GetBucketAcl",
         "marker": {
          "color": "#19d3f3",
          "pattern": {
           "shape": ""
          }
         },
         "name": "GetBucketAcl",
         "offsetgroup": "GetBucketAcl",
         "orientation": "v",
         "showlegend": true,
         "textposition": "auto",
         "type": "bar",
         "x": [
          1,
          2,
          3,
          4,
          5,
          6,
          9,
          10,
          11,
          12
         ],
         "xaxis": "x",
         "y": [
          88,
          210,
          567,
          298,
          20,
          100,
          31,
          90,
          8,
          68
         ],
         "yaxis": "y"
        },
        {
         "alignmentgroup": "True",
         "customdata": [
          [
           "ListAccessKeys"
          ],
          [
           "ListAccessKeys"
          ],
          [
           "ListAccessKeys"
          ]
         ],
         "hovertemplate": "Event Name=%{customdata[0]}<br>Month=%{x}<br>Count=%{y}<extra></extra>",
         "legendgroup": "ListAccessKeys",
         "marker": {
          "color": "#FF6692",
          "pattern": {
           "shape": ""
          }
         },
         "name": "ListAccessKeys",
         "offsetgroup": "ListAccessKeys",
         "orientation": "v",
         "showlegend": true,
         "textposition": "auto",
         "type": "bar",
         "x": [
          1,
          6,
          12
         ],
         "xaxis": "x",
         "y": [
          20,
          45,
          17
         ],
         "yaxis": "y"
        },
        {
         "alignmentgroup": "True",
         "customdata": [
          [
           "DescribeInstanceAttribute"
          ],
          [
           "DescribeInstanceAttribute"
          ],
          [
           "DescribeInstanceAttribute"
          ],
          [
           "DescribeInstanceAttribute"
          ],
          [
           "DescribeInstanceAttribute"
          ],
          [
           "DescribeInstanceAttribute"
          ],
          [
           "DescribeInstanceAttribute"
          ],
          [
           "DescribeInstanceAttribute"
          ]
         ],
         "hovertemplate": "Event Name=%{customdata[0]}<br>Month=%{x}<br>Count=%{y}<extra></extra>",
         "legendgroup": "DescribeInstanceAttribute",
         "marker": {
          "color": "#B6E880",
          "pattern": {
           "shape": ""
          }
         },
         "name": "DescribeInstanceAttribute",
         "offsetgroup": "DescribeInstanceAttribute",
         "orientation": "v",
         "showlegend": true,
         "textposition": "auto",
         "type": "bar",
         "x": [
          2,
          3,
          4,
          5,
          6,
          10,
          11,
          12
         ],
         "xaxis": "x",
         "y": [
          15,
          87,
          22,
          4,
          2,
          4,
          5,
          13
         ],
         "yaxis": "y"
        },
        {
         "alignmentgroup": "True",
         "customdata": [
          [
           "DescribeMetricFilters"
          ],
          [
           "DescribeMetricFilters"
          ],
          [
           "DescribeMetricFilters"
          ],
          [
           "DescribeMetricFilters"
          ],
          [
           "DescribeMetricFilters"
          ],
          [
           "DescribeMetricFilters"
          ],
          [
           "DescribeMetricFilters"
          ],
          [
           "DescribeMetricFilters"
          ]
         ],
         "hovertemplate": "Event Name=%{customdata[0]}<br>Month=%{x}<br>Count=%{y}<extra></extra>",
         "legendgroup": "DescribeMetricFilters",
         "marker": {
          "color": "#FF97FF",
          "pattern": {
           "shape": ""
          }
         },
         "name": "DescribeMetricFilters",
         "offsetgroup": "DescribeMetricFilters",
         "orientation": "v",
         "showlegend": true,
         "textposition": "auto",
         "type": "bar",
         "x": [
          2,
          3,
          4,
          5,
          6,
          10,
          11,
          12
         ],
         "xaxis": "x",
         "y": [
          149,
          598,
          397,
          3,
          36,
          24,
          2,
          2
         ],
         "yaxis": "y"
        },
        {
         "alignmentgroup": "True",
         "customdata": [
          [
           "DescribeNetworkInterfaces"
          ],
          [
           "DescribeNetworkInterfaces"
          ],
          [
           "DescribeNetworkInterfaces"
          ],
          [
           "DescribeNetworkInterfaces"
          ],
          [
           "DescribeNetworkInterfaces"
          ],
          [
           "DescribeNetworkInterfaces"
          ],
          [
           "DescribeNetworkInterfaces"
          ],
          [
           "DescribeNetworkInterfaces"
          ]
         ],
         "hovertemplate": "Event Name=%{customdata[0]}<br>Month=%{x}<br>Count=%{y}<extra></extra>",
         "legendgroup": "DescribeNetworkInterfaces",
         "marker": {
          "color": "#FECB52",
          "pattern": {
           "shape": ""
          }
         },
         "name": "DescribeNetworkInterfaces",
         "offsetgroup": "DescribeNetworkInterfaces",
         "orientation": "v",
         "showlegend": true,
         "textposition": "auto",
         "type": "bar",
         "x": [
          2,
          3,
          4,
          5,
          6,
          10,
          11,
          12
         ],
         "xaxis": "x",
         "y": [
          15,
          87,
          22,
          4,
          2,
          1,
          2,
          8
         ],
         "yaxis": "y"
        },
        {
         "alignmentgroup": "True",
         "customdata": [
          [
           "GetBucketOwnershipControls"
          ],
          [
           "GetBucketOwnershipControls"
          ]
         ],
         "hovertemplate": "Event Name=%{customdata[0]}<br>Month=%{x}<br>Count=%{y}<extra></extra>",
         "legendgroup": "GetBucketOwnershipControls",
         "marker": {
          "color": "#636efa",
          "pattern": {
           "shape": ""
          }
         },
         "name": "GetBucketOwnershipControls",
         "offsetgroup": "GetBucketOwnershipControls",
         "orientation": "v",
         "showlegend": true,
         "textposition": "auto",
         "type": "bar",
         "x": [
          3,
          6
         ],
         "xaxis": "x",
         "y": [
          47,
          21
         ],
         "yaxis": "y"
        },
        {
         "alignmentgroup": "True",
         "customdata": [
          [
           "GetBucketPolicyStatus"
          ]
         ],
         "hovertemplate": "Event Name=%{customdata[0]}<br>Month=%{x}<br>Count=%{y}<extra></extra>",
         "legendgroup": "GetBucketPolicyStatus",
         "marker": {
          "color": "#EF553B",
          "pattern": {
           "shape": ""
          }
         },
         "name": "GetBucketPolicyStatus",
         "offsetgroup": "GetBucketPolicyStatus",
         "orientation": "v",
         "showlegend": true,
         "textposition": "auto",
         "type": "bar",
         "x": [
          3
         ],
         "xaxis": "x",
         "y": [
          97
         ],
         "yaxis": "y"
        },
        {
         "alignmentgroup": "True",
         "customdata": [
          [
           "GetBucketPublicAccessBlock"
          ]
         ],
         "hovertemplate": "Event Name=%{customdata[0]}<br>Month=%{x}<br>Count=%{y}<extra></extra>",
         "legendgroup": "GetBucketPublicAccessBlock",
         "marker": {
          "color": "#00cc96",
          "pattern": {
           "shape": ""
          }
         },
         "name": "GetBucketPublicAccessBlock",
         "offsetgroup": "GetBucketPublicAccessBlock",
         "orientation": "v",
         "showlegend": true,
         "textposition": "auto",
         "type": "bar",
         "x": [
          3
         ],
         "xaxis": "x",
         "y": [
          105
         ],
         "yaxis": "y"
        },
        {
         "alignmentgroup": "True",
         "customdata": [
          [
           "GetBucketVersioning"
          ],
          [
           "GetBucketVersioning"
          ]
         ],
         "hovertemplate": "Event Name=%{customdata[0]}<br>Month=%{x}<br>Count=%{y}<extra></extra>",
         "legendgroup": "GetBucketVersioning",
         "marker": {
          "color": "#ab63fa",
          "pattern": {
           "shape": ""
          }
         },
         "name": "GetBucketVersioning",
         "offsetgroup": "GetBucketVersioning",
         "orientation": "v",
         "showlegend": true,
         "textposition": "auto",
         "type": "bar",
         "x": [
          3,
          6
         ],
         "xaxis": "x",
         "y": [
          52,
          21
         ],
         "yaxis": "y"
        },
        {
         "alignmentgroup": "True",
         "customdata": [
          [
           "ListAccessPoints"
          ]
         ],
         "hovertemplate": "Event Name=%{customdata[0]}<br>Month=%{x}<br>Count=%{y}<extra></extra>",
         "legendgroup": "ListAccessPoints",
         "marker": {
          "color": "#FFA15A",
          "pattern": {
           "shape": ""
          }
         },
         "name": "ListAccessPoints",
         "offsetgroup": "ListAccessPoints",
         "orientation": "v",
         "showlegend": true,
         "textposition": "auto",
         "type": "bar",
         "x": [
          3
         ],
         "xaxis": "x",
         "y": [
          104
         ],
         "yaxis": "y"
        }
       ],
       "layout": {
        "autosize": true,
        "barmode": "stack",
        "legend": {
         "orientation": "h",
         "title": {
          "text": "Event Name"
         },
         "tracegroupgap": 0,
         "x": 0.5,
         "xanchor": "center",
         "y": -0.2
        },
        "template": {
         "data": {
          "bar": [
           {
            "error_x": {
             "color": "#2a3f5f"
            },
            "error_y": {
             "color": "#2a3f5f"
            },
            "marker": {
             "line": {
              "color": "#E5ECF6",
              "width": 0.5
             },
             "pattern": {
              "fillmode": "overlay",
              "size": 10,
              "solidity": 0.2
             }
            },
            "type": "bar"
           }
          ],
          "barpolar": [
           {
            "marker": {
             "line": {
              "color": "#E5ECF6",
              "width": 0.5
             },
             "pattern": {
              "fillmode": "overlay",
              "size": 10,
              "solidity": 0.2
             }
            },
            "type": "barpolar"
           }
          ],
          "carpet": [
           {
            "aaxis": {
             "endlinecolor": "#2a3f5f",
             "gridcolor": "white",
             "linecolor": "white",
             "minorgridcolor": "white",
             "startlinecolor": "#2a3f5f"
            },
            "baxis": {
             "endlinecolor": "#2a3f5f",
             "gridcolor": "white",
             "linecolor": "white",
             "minorgridcolor": "white",
             "startlinecolor": "#2a3f5f"
            },
            "type": "carpet"
           }
          ],
          "choropleth": [
           {
            "colorbar": {
             "outlinewidth": 0,
             "ticks": ""
            },
            "type": "choropleth"
           }
          ],
          "contour": [
           {
            "colorbar": {
             "outlinewidth": 0,
             "ticks": ""
            },
            "colorscale": [
             [
              0,
              "#0d0887"
             ],
             [
              0.1111111111111111,
              "#46039f"
             ],
             [
              0.2222222222222222,
              "#7201a8"
             ],
             [
              0.3333333333333333,
              "#9c179e"
             ],
             [
              0.4444444444444444,
              "#bd3786"
             ],
             [
              0.5555555555555556,
              "#d8576b"
             ],
             [
              0.6666666666666666,
              "#ed7953"
             ],
             [
              0.7777777777777778,
              "#fb9f3a"
             ],
             [
              0.8888888888888888,
              "#fdca26"
             ],
             [
              1,
              "#f0f921"
             ]
            ],
            "type": "contour"
           }
          ],
          "contourcarpet": [
           {
            "colorbar": {
             "outlinewidth": 0,
             "ticks": ""
            },
            "type": "contourcarpet"
           }
          ],
          "heatmap": [
           {
            "colorbar": {
             "outlinewidth": 0,
             "ticks": ""
            },
            "colorscale": [
             [
              0,
              "#0d0887"
             ],
             [
              0.1111111111111111,
              "#46039f"
             ],
             [
              0.2222222222222222,
              "#7201a8"
             ],
             [
              0.3333333333333333,
              "#9c179e"
             ],
             [
              0.4444444444444444,
              "#bd3786"
             ],
             [
              0.5555555555555556,
              "#d8576b"
             ],
             [
              0.6666666666666666,
              "#ed7953"
             ],
             [
              0.7777777777777778,
              "#fb9f3a"
             ],
             [
              0.8888888888888888,
              "#fdca26"
             ],
             [
              1,
              "#f0f921"
             ]
            ],
            "type": "heatmap"
           }
          ],
          "heatmapgl": [
           {
            "colorbar": {
             "outlinewidth": 0,
             "ticks": ""
            },
            "colorscale": [
             [
              0,
              "#0d0887"
             ],
             [
              0.1111111111111111,
              "#46039f"
             ],
             [
              0.2222222222222222,
              "#7201a8"
             ],
             [
              0.3333333333333333,
              "#9c179e"
             ],
             [
              0.4444444444444444,
              "#bd3786"
             ],
             [
              0.5555555555555556,
              "#d8576b"
             ],
             [
              0.6666666666666666,
              "#ed7953"
             ],
             [
              0.7777777777777778,
              "#fb9f3a"
             ],
             [
              0.8888888888888888,
              "#fdca26"
             ],
             [
              1,
              "#f0f921"
             ]
            ],
            "type": "heatmapgl"
           }
          ],
          "histogram": [
           {
            "marker": {
             "pattern": {
              "fillmode": "overlay",
              "size": 10,
              "solidity": 0.2
             }
            },
            "type": "histogram"
           }
          ],
          "histogram2d": [
           {
            "colorbar": {
             "outlinewidth": 0,
             "ticks": ""
            },
            "colorscale": [
             [
              0,
              "#0d0887"
             ],
             [
              0.1111111111111111,
              "#46039f"
             ],
             [
              0.2222222222222222,
              "#7201a8"
             ],
             [
              0.3333333333333333,
              "#9c179e"
             ],
             [
              0.4444444444444444,
              "#bd3786"
             ],
             [
              0.5555555555555556,
              "#d8576b"
             ],
             [
              0.6666666666666666,
              "#ed7953"
             ],
             [
              0.7777777777777778,
              "#fb9f3a"
             ],
             [
              0.8888888888888888,
              "#fdca26"
             ],
             [
              1,
              "#f0f921"
             ]
            ],
            "type": "histogram2d"
           }
          ],
          "histogram2dcontour": [
           {
            "colorbar": {
             "outlinewidth": 0,
             "ticks": ""
            },
            "colorscale": [
             [
              0,
              "#0d0887"
             ],
             [
              0.1111111111111111,
              "#46039f"
             ],
             [
              0.2222222222222222,
              "#7201a8"
             ],
             [
              0.3333333333333333,
              "#9c179e"
             ],
             [
              0.4444444444444444,
              "#bd3786"
             ],
             [
              0.5555555555555556,
              "#d8576b"
             ],
             [
              0.6666666666666666,
              "#ed7953"
             ],
             [
              0.7777777777777778,
              "#fb9f3a"
             ],
             [
              0.8888888888888888,
              "#fdca26"
             ],
             [
              1,
              "#f0f921"
             ]
            ],
            "type": "histogram2dcontour"
           }
          ],
          "mesh3d": [
           {
            "colorbar": {
             "outlinewidth": 0,
             "ticks": ""
            },
            "type": "mesh3d"
           }
          ],
          "parcoords": [
           {
            "line": {
             "colorbar": {
              "outlinewidth": 0,
              "ticks": ""
             }
            },
            "type": "parcoords"
           }
          ],
          "pie": [
           {
            "automargin": true,
            "type": "pie"
           }
          ],
          "scatter": [
           {
            "fillpattern": {
             "fillmode": "overlay",
             "size": 10,
             "solidity": 0.2
            },
            "type": "scatter"
           }
          ],
          "scatter3d": [
           {
            "line": {
             "colorbar": {
              "outlinewidth": 0,
              "ticks": ""
             }
            },
            "marker": {
             "colorbar": {
              "outlinewidth": 0,
              "ticks": ""
             }
            },
            "type": "scatter3d"
           }
          ],
          "scattercarpet": [
           {
            "marker": {
             "colorbar": {
              "outlinewidth": 0,
              "ticks": ""
             }
            },
            "type": "scattercarpet"
           }
          ],
          "scattergeo": [
           {
            "marker": {
             "colorbar": {
              "outlinewidth": 0,
              "ticks": ""
             }
            },
            "type": "scattergeo"
           }
          ],
          "scattergl": [
           {
            "marker": {
             "colorbar": {
              "outlinewidth": 0,
              "ticks": ""
             }
            },
            "type": "scattergl"
           }
          ],
          "scattermapbox": [
           {
            "marker": {
             "colorbar": {
              "outlinewidth": 0,
              "ticks": ""
             }
            },
            "type": "scattermapbox"
           }
          ],
          "scatterpolar": [
           {
            "marker": {
             "colorbar": {
              "outlinewidth": 0,
              "ticks": ""
             }
            },
            "type": "scatterpolar"
           }
          ],
          "scatterpolargl": [
           {
            "marker": {
             "colorbar": {
              "outlinewidth": 0,
              "ticks": ""
             }
            },
            "type": "scatterpolargl"
           }
          ],
          "scatterternary": [
           {
            "marker": {
             "colorbar": {
              "outlinewidth": 0,
              "ticks": ""
             }
            },
            "type": "scatterternary"
           }
          ],
          "surface": [
           {
            "colorbar": {
             "outlinewidth": 0,
             "ticks": ""
            },
            "colorscale": [
             [
              0,
              "#0d0887"
             ],
             [
              0.1111111111111111,
              "#46039f"
             ],
             [
              0.2222222222222222,
              "#7201a8"
             ],
             [
              0.3333333333333333,
              "#9c179e"
             ],
             [
              0.4444444444444444,
              "#bd3786"
             ],
             [
              0.5555555555555556,
              "#d8576b"
             ],
             [
              0.6666666666666666,
              "#ed7953"
             ],
             [
              0.7777777777777778,
              "#fb9f3a"
             ],
             [
              0.8888888888888888,
              "#fdca26"
             ],
             [
              1,
              "#f0f921"
             ]
            ],
            "type": "surface"
           }
          ],
          "table": [
           {
            "cells": {
             "fill": {
              "color": "#EBF0F8"
             },
             "line": {
              "color": "white"
             }
            },
            "header": {
             "fill": {
              "color": "#C8D4E3"
             },
             "line": {
              "color": "white"
             }
            },
            "type": "table"
           }
          ]
         },
         "layout": {
          "annotationdefaults": {
           "arrowcolor": "#2a3f5f",
           "arrowhead": 0,
           "arrowwidth": 1
          },
          "autotypenumbers": "strict",
          "coloraxis": {
           "colorbar": {
            "outlinewidth": 0,
            "ticks": ""
           }
          },
          "colorscale": {
           "diverging": [
            [
             0,
             "#8e0152"
            ],
            [
             0.1,
             "#c51b7d"
            ],
            [
             0.2,
             "#de77ae"
            ],
            [
             0.3,
             "#f1b6da"
            ],
            [
             0.4,
             "#fde0ef"
            ],
            [
             0.5,
             "#f7f7f7"
            ],
            [
             0.6,
             "#e6f5d0"
            ],
            [
             0.7,
             "#b8e186"
            ],
            [
             0.8,
             "#7fbc41"
            ],
            [
             0.9,
             "#4d9221"
            ],
            [
             1,
             "#276419"
            ]
           ],
           "sequential": [
            [
             0,
             "#0d0887"
            ],
            [
             0.1111111111111111,
             "#46039f"
            ],
            [
             0.2222222222222222,
             "#7201a8"
            ],
            [
             0.3333333333333333,
             "#9c179e"
            ],
            [
             0.4444444444444444,
             "#bd3786"
            ],
            [
             0.5555555555555556,
             "#d8576b"
            ],
            [
             0.6666666666666666,
             "#ed7953"
            ],
            [
             0.7777777777777778,
             "#fb9f3a"
            ],
            [
             0.8888888888888888,
             "#fdca26"
            ],
            [
             1,
             "#f0f921"
            ]
           ],
           "sequentialminus": [
            [
             0,
             "#0d0887"
            ],
            [
             0.1111111111111111,
             "#46039f"
            ],
            [
             0.2222222222222222,
             "#7201a8"
            ],
            [
             0.3333333333333333,
             "#9c179e"
            ],
            [
             0.4444444444444444,
             "#bd3786"
            ],
            [
             0.5555555555555556,
             "#d8576b"
            ],
            [
             0.6666666666666666,
             "#ed7953"
            ],
            [
             0.7777777777777778,
             "#fb9f3a"
            ],
            [
             0.8888888888888888,
             "#fdca26"
            ],
            [
             1,
             "#f0f921"
            ]
           ]
          },
          "colorway": [
           "#636efa",
           "#EF553B",
           "#00cc96",
           "#ab63fa",
           "#FFA15A",
           "#19d3f3",
           "#FF6692",
           "#B6E880",
           "#FF97FF",
           "#FECB52"
          ],
          "font": {
           "color": "#2a3f5f"
          },
          "geo": {
           "bgcolor": "white",
           "lakecolor": "white",
           "landcolor": "#E5ECF6",
           "showlakes": true,
           "showland": true,
           "subunitcolor": "white"
          },
          "hoverlabel": {
           "align": "left"
          },
          "hovermode": "closest",
          "mapbox": {
           "style": "light"
          },
          "paper_bgcolor": "white",
          "plot_bgcolor": "#E5ECF6",
          "polar": {
           "angularaxis": {
            "gridcolor": "white",
            "linecolor": "white",
            "ticks": ""
           },
           "bgcolor": "#E5ECF6",
           "radialaxis": {
            "gridcolor": "white",
            "linecolor": "white",
            "ticks": ""
           }
          },
          "scene": {
           "xaxis": {
            "backgroundcolor": "#E5ECF6",
            "gridcolor": "white",
            "gridwidth": 2,
            "linecolor": "white",
            "showbackground": true,
            "ticks": "",
            "zerolinecolor": "white"
           },
           "yaxis": {
            "backgroundcolor": "#E5ECF6",
            "gridcolor": "white",
            "gridwidth": 2,
            "linecolor": "white",
            "showbackground": true,
            "ticks": "",
            "zerolinecolor": "white"
           },
           "zaxis": {
            "backgroundcolor": "#E5ECF6",
            "gridcolor": "white",
            "gridwidth": 2,
            "linecolor": "white",
            "showbackground": true,
            "ticks": "",
            "zerolinecolor": "white"
           }
          },
          "shapedefaults": {
           "line": {
            "color": "#2a3f5f"
           }
          },
          "ternary": {
           "aaxis": {
            "gridcolor": "white",
            "linecolor": "white",
            "ticks": ""
           },
           "baxis": {
            "gridcolor": "white",
            "linecolor": "white",
            "ticks": ""
           },
           "bgcolor": "#E5ECF6",
           "caxis": {
            "gridcolor": "white",
            "linecolor": "white",
            "ticks": ""
           }
          },
          "title": {
           "x": 0.05
          },
          "xaxis": {
           "automargin": true,
           "gridcolor": "white",
           "linecolor": "white",
           "ticks": "",
           "title": {
            "standoff": 15
           },
           "zerolinecolor": "white",
           "zerolinewidth": 2
          },
          "yaxis": {
           "automargin": true,
           "gridcolor": "white",
           "linecolor": "white",
           "ticks": "",
           "title": {
            "standoff": 15
           },
           "zerolinecolor": "white",
           "zerolinewidth": 2
          }
         }
        },
        "title": {
         "text": "Top 25 Event Names by Month"
        },
        "xaxis": {
         "anchor": "y",
         "autorange": true,
         "domain": [
          0,
          1
         ],
         "range": [
          0.5,
          12.5
         ],
         "title": {
          "text": "Month"
         },
         "type": "linear"
        },
        "yaxis": {
         "anchor": "x",
         "autorange": true,
         "domain": [
          0,
          1
         ],
         "range": [
          0,
          3187.3684210526317
         ],
         "title": {
          "text": "Count"
         },
         "type": "linear"
        }
       }
      },
      "image/png": "[encoded data removed]",
      "text/html": [
       "<div>                            <div id=\"c0c7f929-34dc-44f6-84a7-2c7794640171\" class=\"plotly-graph-div\" style=\"height:800px; width:100%;\"></div>            <script type=\"text/javascript\">                require([\"plotly\"], function(Plotly) {                    window.PLOTLYENV=window.PLOTLYENV || {};                                    if (document.getElementById(\"c0c7f929-34dc-44f6-84a7-2c7794640171\")) {                    Plotly.newPlot(                        \"c0c7f929-34dc-44f6-84a7-2c7794640171\",                        [{\"alignmentgroup\":\"True\",\"customdata\":[[\"ConsoleLogin\"],[\"ConsoleLogin\"],[\"ConsoleLogin\"],[\"ConsoleLogin\"],[\"ConsoleLogin\"],[\"ConsoleLogin\"],[\"ConsoleLogin\"],[\"ConsoleLogin\"],[\"ConsoleLogin\"],[\"ConsoleLogin\"]],\"hovertemplate\":\"Event Name=%{customdata[0]}<br>Month=%{x}<br>Count=%{y}<extra></extra>\",\"legendgroup\":\"ConsoleLogin\",\"marker\":{\"color\":\"#636efa\",\"pattern\":{\"shape\":\"\"}},\"name\":\"ConsoleLogin\",\"offsetgroup\":\"ConsoleLogin\",\"orientation\":\"v\",\"showlegend\":true,\"textposition\":\"auto\",\"x\":[1,2,3,4,5,6,9,10,11,12],\"xaxis\":\"x\",\"y\":[21,17,35,9,1,2,3,1,4,2],\"yaxis\":\"y\",\"type\":\"bar\"},{\"alignmentgroup\":\"True\",\"customdata\":[[\"DescribeAccountAttributes\"],[\"DescribeAccountAttributes\"],[\"DescribeAccountAttributes\"],[\"DescribeAccountAttributes\"],[\"DescribeAccountAttributes\"],[\"DescribeAccountAttributes\"],[\"DescribeAccountAttributes\"],[\"DescribeAccountAttributes\"]],\"hovertemplate\":\"Event Name=%{customdata[0]}<br>Month=%{x}<br>Count=%{y}<extra></extra>\",\"legendgroup\":\"DescribeAccountAttributes\",\"marker\":{\"color\":\"#EF553B\",\"pattern\":{\"shape\":\"\"}},\"name\":\"DescribeAccountAttributes\",\"offsetgroup\":\"DescribeAccountAttributes\",\"orientation\":\"v\",\"showlegend\":true,\"textposition\":\"auto\",\"x\":[1,2,3,4,5,6,11,12],\"xaxis\":\"x\",\"y\":[11,15,32,6,2,2,3,7],\"yaxis\":\"y\",\"type\":\"bar\"},{\"alignmentgroup\":\"True\",\"customdata\":[[\"DescribeAddresses\"],[\"DescribeAddresses\"],[\"DescribeAddresses\"],[\"DescribeAddresses\"],[\"DescribeAddresses\"],[\"DescribeAddresses\"],[\"DescribeAddresses\"],[\"DescribeAddresses\"],[\"DescribeAddresses\"]],\"hovertemplate\":\"Event Name=%{customdata[0]}<br>Month=%{x}<br>Count=%{y}<extra></extra>\",\"legendgroup\":\"DescribeAddresses\",\"marker\":{\"color\":\"#00cc96\",\"pattern\":{\"shape\":\"\"}},\"name\":\"DescribeAddresses\",\"offsetgroup\":\"DescribeAddresses\",\"orientation\":\"v\",\"showlegend\":true,\"textposition\":\"auto\",\"x\":[1,2,3,4,5,6,10,11,12],\"xaxis\":\"x\",\"y\":[4,26,74,17,4,3,2,3,10],\"yaxis\":\"y\",\"type\":\"bar\"},{\"alignmentgroup\":\"True\",\"customdata\":[[\"DescribeAlarms\"],[\"DescribeAlarms\"],[\"DescribeAlarms\"],[\"DescribeAlarms\"],[\"DescribeAlarms\"],[\"DescribeAlarms\"],[\"DescribeAlarms\"]],\"hovertemplate\":\"Event Name=%{customdata[0]}<br>Month=%{x}<br>Count=%{y}<extra></extra>\",\"legendgroup\":\"DescribeAlarms\",\"marker\":{\"color\":\"#ab63fa\",\"pattern\":{\"shape\":\"\"}},\"name\":\"DescribeAlarms\",\"offsetgroup\":\"DescribeAlarms\",\"orientation\":\"v\",\"showlegend\":true,\"textposition\":\"auto\",\"x\":[1,2,3,4,5,11,12],\"xaxis\":\"x\",\"y\":[3,66,50,10,4,1,2],\"yaxis\":\"y\",\"type\":\"bar\"},{\"alignmentgroup\":\"True\",\"customdata\":[[\"DescribeEventAggregates\"],[\"DescribeEventAggregates\"],[\"DescribeEventAggregates\"],[\"DescribeEventAggregates\"],[\"DescribeEventAggregates\"],[\"DescribeEventAggregates\"],[\"DescribeEventAggregates\"],[\"DescribeEventAggregates\"],[\"DescribeEventAggregates\"],[\"DescribeEventAggregates\"]],\"hovertemplate\":\"Event Name=%{customdata[0]}<br>Month=%{x}<br>Count=%{y}<extra></extra>\",\"legendgroup\":\"DescribeEventAggregates\",\"marker\":{\"color\":\"#FFA15A\",\"pattern\":{\"shape\":\"\"}},\"name\":\"DescribeEventAggregates\",\"offsetgroup\":\"DescribeEventAggregates\",\"orientation\":\"v\",\"showlegend\":true,\"textposition\":\"auto\",\"x\":[1,2,3,4,5,6,9,10,11,12],\"xaxis\":\"x\",\"y\":[128,290,632,288,4,228,4,46,6,14],\"yaxis\":\"y\",\"type\":\"bar\"},{\"alignmentgroup\":\"True\",\"customdata\":[[\"DescribeImages\"],[\"DescribeImages\"],[\"DescribeImages\"],[\"DescribeImages\"],[\"DescribeImages\"],[\"DescribeImages\"],[\"DescribeImages\"],[\"DescribeImages\"],[\"DescribeImages\"]],\"hovertemplate\":\"Event Name=%{customdata[0]}<br>Month=%{x}<br>Count=%{y}<extra></extra>\",\"legendgroup\":\"DescribeImages\",\"marker\":{\"color\":\"#19d3f3\",\"pattern\":{\"shape\":\"\"}},\"name\":\"DescribeImages\",\"offsetgroup\":\"DescribeImages\",\"orientation\":\"v\",\"showlegend\":true,\"textposition\":\"auto\",\"x\":[1,2,3,4,5,6,10,11,12],\"xaxis\":\"x\",\"y\":[5,134,28,7,3,1,2,1,1],\"yaxis\":\"y\",\"type\":\"bar\"},{\"alignmentgroup\":\"True\",\"customdata\":[[\"DescribeInstanceStatus\"],[\"DescribeInstanceStatus\"],[\"DescribeInstanceStatus\"],[\"DescribeInstanceStatus\"],[\"DescribeInstanceStatus\"],[\"DescribeInstanceStatus\"],[\"DescribeInstanceStatus\"],[\"DescribeInstanceStatus\"],[\"DescribeInstanceStatus\"]],\"hovertemplate\":\"Event Name=%{customdata[0]}<br>Month=%{x}<br>Count=%{y}<extra></extra>\",\"legendgroup\":\"DescribeInstanceStatus\",\"marker\":{\"color\":\"#FF6692\",\"pattern\":{\"shape\":\"\"}},\"name\":\"DescribeInstanceStatus\",\"offsetgroup\":\"DescribeInstanceStatus\",\"orientation\":\"v\",\"showlegend\":true,\"textposition\":\"auto\",\"x\":[1,2,3,4,5,6,10,11,12],\"xaxis\":\"x\",\"y\":[3,25,70,17,4,3,1,3,9],\"yaxis\":\"y\",\"type\":\"bar\"},{\"alignmentgroup\":\"True\",\"customdata\":[[\"DescribeInstanceTypes\"],[\"DescribeInstanceTypes\"],[\"DescribeInstanceTypes\"],[\"DescribeInstanceTypes\"],[\"DescribeInstanceTypes\"],[\"DescribeInstanceTypes\"],[\"DescribeInstanceTypes\"],[\"DescribeInstanceTypes\"]],\"hovertemplate\":\"Event Name=%{customdata[0]}<br>Month=%{x}<br>Count=%{y}<extra></extra>\",\"legendgroup\":\"DescribeInstanceTypes\",\"marker\":{\"color\":\"#B6E880\",\"pattern\":{\"shape\":\"\"}},\"name\":\"DescribeInstanceTypes\",\"offsetgroup\":\"DescribeInstanceTypes\",\"orientation\":\"v\",\"showlegend\":true,\"textposition\":\"auto\",\"x\":[1,2,3,4,5,6,11,12],\"xaxis\":\"x\",\"y\":[34,85,150,24,8,8,6,7],\"yaxis\":\"y\",\"type\":\"bar\"},{\"alignmentgroup\":\"True\",\"customdata\":[[\"DescribeInstances\"],[\"DescribeInstances\"],[\"DescribeInstances\"],[\"DescribeInstances\"],[\"DescribeInstances\"],[\"DescribeInstances\"],[\"DescribeInstances\"],[\"DescribeInstances\"],[\"DescribeInstances\"]],\"hovertemplate\":\"Event Name=%{customdata[0]}<br>Month=%{x}<br>Count=%{y}<extra></extra>\",\"legendgroup\":\"DescribeInstances\",\"marker\":{\"color\":\"#FF97FF\",\"pattern\":{\"shape\":\"\"}},\"name\":\"DescribeInstances\",\"offsetgroup\":\"DescribeInstances\",\"orientation\":\"v\",\"showlegend\":true,\"textposition\":\"auto\",\"x\":[1,2,3,4,5,6,10,11,12],\"xaxis\":\"x\",\"y\":[13,63,96,29,19,11,1,6,59],\"yaxis\":\"y\",\"type\":\"bar\"},{\"alignmentgroup\":\"True\",\"customdata\":[[\"DescribeSecurityGroups\"],[\"DescribeSecurityGroups\"],[\"DescribeSecurityGroups\"],[\"DescribeSecurityGroups\"],[\"DescribeSecurityGroups\"],[\"DescribeSecurityGroups\"],[\"DescribeSecurityGroups\"],[\"DescribeSecurityGroups\"],[\"DescribeSecurityGroups\"]],\"hovertemplate\":\"Event Name=%{customdata[0]}<br>Month=%{x}<br>Count=%{y}<extra></extra>\",\"legendgroup\":\"DescribeSecurityGroups\",\"marker\":{\"color\":\"#FECB52\",\"pattern\":{\"shape\":\"\"}},\"name\":\"DescribeSecurityGroups\",\"offsetgroup\":\"DescribeSecurityGroups\",\"orientation\":\"v\",\"showlegend\":true,\"textposition\":\"auto\",\"x\":[1,2,3,4,5,6,10,11,12],\"xaxis\":\"x\",\"y\":[7,70,46,8,1,1,1,1,63],\"yaxis\":\"y\",\"type\":\"bar\"},{\"alignmentgroup\":\"True\",\"customdata\":[[\"DescribeSubnets\"],[\"DescribeSubnets\"],[\"DescribeSubnets\"],[\"DescribeSubnets\"],[\"DescribeSubnets\"],[\"DescribeSubnets\"],[\"DescribeSubnets\"],[\"DescribeSubnets\"],[\"DescribeSubnets\"]],\"hovertemplate\":\"Event Name=%{customdata[0]}<br>Month=%{x}<br>Count=%{y}<extra></extra>\",\"legendgroup\":\"DescribeSubnets\",\"marker\":{\"color\":\"#636efa\",\"pattern\":{\"shape\":\"\"}},\"name\":\"DescribeSubnets\",\"offsetgroup\":\"DescribeSubnets\",\"orientation\":\"v\",\"showlegend\":true,\"textposition\":\"auto\",\"x\":[1,2,3,4,5,6,10,11,12],\"xaxis\":\"x\",\"y\":[6,9,13,4,2,1,1,1,35],\"yaxis\":\"y\",\"type\":\"bar\"},{\"alignmentgroup\":\"True\",\"customdata\":[[\"DescribeTags\"],[\"DescribeTags\"],[\"DescribeTags\"],[\"DescribeTags\"],[\"DescribeTags\"],[\"DescribeTags\"],[\"DescribeTags\"],[\"DescribeTags\"]],\"hovertemplate\":\"Event Name=%{customdata[0]}<br>Month=%{x}<br>Count=%{y}<extra></extra>\",\"legendgroup\":\"DescribeTags\",\"marker\":{\"color\":\"#EF553B\",\"pattern\":{\"shape\":\"\"}},\"name\":\"DescribeTags\",\"offsetgroup\":\"DescribeTags\",\"orientation\":\"v\",\"showlegend\":true,\"textposition\":\"auto\",\"x\":[1,2,3,4,5,6,11,12],\"xaxis\":\"x\",\"y\":[32,27,29,5,1,1,1,12],\"yaxis\":\"y\",\"type\":\"bar\"},{\"alignmentgroup\":\"True\",\"customdata\":[[\"DescribeVolumes\"],[\"DescribeVolumes\"],[\"DescribeVolumes\"],[\"DescribeVolumes\"],[\"DescribeVolumes\"],[\"DescribeVolumes\"],[\"DescribeVolumes\"],[\"DescribeVolumes\"]],\"hovertemplate\":\"Event Name=%{customdata[0]}<br>Month=%{x}<br>Count=%{y}<extra></extra>\",\"legendgroup\":\"DescribeVolumes\",\"marker\":{\"color\":\"#00cc96\",\"pattern\":{\"shape\":\"\"}},\"name\":\"DescribeVolumes\",\"offsetgroup\":\"DescribeVolumes\",\"orientation\":\"v\",\"showlegend\":true,\"textposition\":\"auto\",\"x\":[1,2,3,4,5,6,11,12],\"xaxis\":\"x\",\"y\":[3,25,15,2,1,2,1,46],\"yaxis\":\"y\",\"type\":\"bar\"},{\"alignmentgroup\":\"True\",\"customdata\":[[\"DescribeVpcs\"],[\"DescribeVpcs\"],[\"DescribeVpcs\"],[\"DescribeVpcs\"],[\"DescribeVpcs\"],[\"DescribeVpcs\"],[\"DescribeVpcs\"],[\"DescribeVpcs\"],[\"DescribeVpcs\"]],\"hovertemplate\":\"Event Name=%{customdata[0]}<br>Month=%{x}<br>Count=%{y}<extra></extra>\",\"legendgroup\":\"DescribeVpcs\",\"marker\":{\"color\":\"#ab63fa\",\"pattern\":{\"shape\":\"\"}},\"name\":\"DescribeVpcs\",\"offsetgroup\":\"DescribeVpcs\",\"orientation\":\"v\",\"showlegend\":true,\"textposition\":\"auto\",\"x\":[1,2,3,4,5,6,10,11,12],\"xaxis\":\"x\",\"y\":[11,15,14,4,2,1,1,2,35],\"yaxis\":\"y\",\"type\":\"bar\"},{\"alignmentgroup\":\"True\",\"customdata\":[[\"GetAccessKeyLastUsed\"],[\"GetAccessKeyLastUsed\"],[\"GetAccessKeyLastUsed\"]],\"hovertemplate\":\"Event Name=%{customdata[0]}<br>Month=%{x}<br>Count=%{y}<extra></extra>\",\"legendgroup\":\"GetAccessKeyLastUsed\",\"marker\":{\"color\":\"#FFA15A\",\"pattern\":{\"shape\":\"\"}},\"name\":\"GetAccessKeyLastUsed\",\"offsetgroup\":\"GetAccessKeyLastUsed\",\"orientation\":\"v\",\"showlegend\":true,\"textposition\":\"auto\",\"x\":[1,6,12],\"xaxis\":\"x\",\"y\":[20,41,20],\"yaxis\":\"y\",\"type\":\"bar\"},{\"alignmentgroup\":\"True\",\"customdata\":[[\"GetBucketAcl\"],[\"GetBucketAcl\"],[\"GetBucketAcl\"],[\"GetBucketAcl\"],[\"GetBucketAcl\"],[\"GetBucketAcl\"],[\"GetBucketAcl\"],[\"GetBucketAcl\"],[\"GetBucketAcl\"],[\"GetBucketAcl\"]],\"hovertemplate\":\"Event Name=%{customdata[0]}<br>Month=%{x}<br>Count=%{y}<extra></extra>\",\"legendgroup\":\"GetBucketAcl\",\"marker\":{\"color\":\"#19d3f3\",\"pattern\":{\"shape\":\"\"}},\"name\":\"GetBucketAcl\",\"offsetgroup\":\"GetBucketAcl\",\"orientation\":\"v\",\"showlegend\":true,\"textposition\":\"auto\",\"x\":[1,2,3,4,5,6,9,10,11,12],\"xaxis\":\"x\",\"y\":[88,210,567,298,20,100,31,90,8,68],\"yaxis\":\"y\",\"type\":\"bar\"},{\"alignmentgroup\":\"True\",\"customdata\":[[\"ListAccessKeys\"],[\"ListAccessKeys\"],[\"ListAccessKeys\"]],\"hovertemplate\":\"Event Name=%{customdata[0]}<br>Month=%{x}<br>Count=%{y}<extra></extra>\",\"legendgroup\":\"ListAccessKeys\",\"marker\":{\"color\":\"#FF6692\",\"pattern\":{\"shape\":\"\"}},\"name\":\"ListAccessKeys\",\"offsetgroup\":\"ListAccessKeys\",\"orientation\":\"v\",\"showlegend\":true,\"textposition\":\"auto\",\"x\":[1,6,12],\"xaxis\":\"x\",\"y\":[20,45,17],\"yaxis\":\"y\",\"type\":\"bar\"},{\"alignmentgroup\":\"True\",\"customdata\":[[\"DescribeInstanceAttribute\"],[\"DescribeInstanceAttribute\"],[\"DescribeInstanceAttribute\"],[\"DescribeInstanceAttribute\"],[\"DescribeInstanceAttribute\"],[\"DescribeInstanceAttribute\"],[\"DescribeInstanceAttribute\"],[\"DescribeInstanceAttribute\"]],\"hovertemplate\":\"Event Name=%{customdata[0]}<br>Month=%{x}<br>Count=%{y}<extra></extra>\",\"legendgroup\":\"DescribeInstanceAttribute\",\"marker\":{\"color\":\"#B6E880\",\"pattern\":{\"shape\":\"\"}},\"name\":\"DescribeInstanceAttribute\",\"offsetgroup\":\"DescribeInstanceAttribute\",\"orientation\":\"v\",\"showlegend\":true,\"textposition\":\"auto\",\"x\":[2,3,4,5,6,10,11,12],\"xaxis\":\"x\",\"y\":[15,87,22,4,2,4,5,13],\"yaxis\":\"y\",\"type\":\"bar\"},{\"alignmentgroup\":\"True\",\"customdata\":[[\"DescribeMetricFilters\"],[\"DescribeMetricFilters\"],[\"DescribeMetricFilters\"],[\"DescribeMetricFilters\"],[\"DescribeMetricFilters\"],[\"DescribeMetricFilters\"],[\"DescribeMetricFilters\"],[\"DescribeMetricFilters\"]],\"hovertemplate\":\"Event Name=%{customdata[0]}<br>Month=%{x}<br>Count=%{y}<extra></extra>\",\"legendgroup\":\"DescribeMetricFilters\",\"marker\":{\"color\":\"#FF97FF\",\"pattern\":{\"shape\":\"\"}},\"name\":\"DescribeMetricFilters\",\"offsetgroup\":\"DescribeMetricFilters\",\"orientation\":\"v\",\"showlegend\":true,\"textposition\":\"auto\",\"x\":[2,3,4,5,6,10,11,12],\"xaxis\":\"x\",\"y\":[149,598,397,3,36,24,2,2],\"yaxis\":\"y\",\"type\":\"bar\"},{\"alignmentgroup\":\"True\",\"customdata\":[[\"DescribeNetworkInterfaces\"],[\"DescribeNetworkInterfaces\"],[\"DescribeNetworkInterfaces\"],[\"DescribeNetworkInterfaces\"],[\"DescribeNetworkInterfaces\"],[\"DescribeNetworkInterfaces\"],[\"DescribeNetworkInterfaces\"],[\"DescribeNetworkInterfaces\"]],\"hovertemplate\":\"Event Name=%{customdata[0]}<br>Month=%{x}<br>Count=%{y}<extra></extra>\",\"legendgroup\":\"DescribeNetworkInterfaces\",\"marker\":{\"color\":\"#FECB52\",\"pattern\":{\"shape\":\"\"}},\"name\":\"DescribeNetworkInterfaces\",\"offsetgroup\":\"DescribeNetworkInterfaces\",\"orientation\":\"v\",\"showlegend\":true,\"textposition\":\"auto\",\"x\":[2,3,4,5,6,10,11,12],\"xaxis\":\"x\",\"y\":[15,87,22,4,2,1,2,8],\"yaxis\":\"y\",\"type\":\"bar\"},{\"alignmentgroup\":\"True\",\"customdata\":[[\"GetBucketOwnershipControls\"],[\"GetBucketOwnershipControls\"]],\"hovertemplate\":\"Event Name=%{customdata[0]}<br>Month=%{x}<br>Count=%{y}<extra></extra>\",\"legendgroup\":\"GetBucketOwnershipControls\",\"marker\":{\"color\":\"#636efa\",\"pattern\":{\"shape\":\"\"}},\"name\":\"GetBucketOwnershipControls\",\"offsetgroup\":\"GetBucketOwnershipControls\",\"orientation\":\"v\",\"showlegend\":true,\"textposition\":\"auto\",\"x\":[3,6],\"xaxis\":\"x\",\"y\":[47,21],\"yaxis\":\"y\",\"type\":\"bar\"},{\"alignmentgroup\":\"True\",\"customdata\":[[\"GetBucketPolicyStatus\"]],\"hovertemplate\":\"Event Name=%{customdata[0]}<br>Month=%{x}<br>Count=%{y}<extra></extra>\",\"legendgroup\":\"GetBucketPolicyStatus\",\"marker\":{\"color\":\"#EF553B\",\"pattern\":{\"shape\":\"\"}},\"name\":\"GetBucketPolicyStatus\",\"offsetgroup\":\"GetBucketPolicyStatus\",\"orientation\":\"v\",\"showlegend\":true,\"textposition\":\"auto\",\"x\":[3],\"xaxis\":\"x\",\"y\":[97],\"yaxis\":\"y\",\"type\":\"bar\"},{\"alignmentgroup\":\"True\",\"customdata\":[[\"GetBucketPublicAccessBlock\"]],\"hovertemplate\":\"Event Name=%{customdata[0]}<br>Month=%{x}<br>Count=%{y}<extra></extra>\",\"legendgroup\":\"GetBucketPublicAccessBlock\",\"marker\":{\"color\":\"#00cc96\",\"pattern\":{\"shape\":\"\"}},\"name\":\"GetBucketPublicAccessBlock\",\"offsetgroup\":\"GetBucketPublicAccessBlock\",\"orientation\":\"v\",\"showlegend\":true,\"textposition\":\"auto\",\"x\":[3],\"xaxis\":\"x\",\"y\":[105],\"yaxis\":\"y\",\"type\":\"bar\"},{\"alignmentgroup\":\"True\",\"customdata\":[[\"GetBucketVersioning\"],[\"GetBucketVersioning\"]],\"hovertemplate\":\"Event Name=%{customdata[0]}<br>Month=%{x}<br>Count=%{y}<extra></extra>\",\"legendgroup\":\"GetBucketVersioning\",\"marker\":{\"color\":\"#ab63fa\",\"pattern\":{\"shape\":\"\"}},\"name\":\"GetBucketVersioning\",\"offsetgroup\":\"GetBucketVersioning\",\"orientation\":\"v\",\"showlegend\":true,\"textposition\":\"auto\",\"x\":[3,6],\"xaxis\":\"x\",\"y\":[52,21],\"yaxis\":\"y\",\"type\":\"bar\"},{\"alignmentgroup\":\"True\",\"customdata\":[[\"ListAccessPoints\"]],\"hovertemplate\":\"Event Name=%{customdata[0]}<br>Month=%{x}<br>Count=%{y}<extra></extra>\",\"legendgroup\":\"ListAccessPoints\",\"marker\":{\"color\":\"#FFA15A\",\"pattern\":{\"shape\":\"\"}},\"name\":\"ListAccessPoints\",\"offsetgroup\":\"ListAccessPoints\",\"orientation\":\"v\",\"showlegend\":true,\"textposition\":\"auto\",\"x\":[3],\"xaxis\":\"x\",\"y\":[104],\"yaxis\":\"y\",\"type\":\"bar\"}],                        {\"template\":{\"data\":{\"histogram2dcontour\":[{\"type\":\"histogram2dcontour\",\"colorbar\":{\"outlinewidth\":0,\"ticks\":\"\"},\"colorscale\":[[0.0,\"#0d0887\"],[0.1111111111111111,\"#46039f\"],[0.2222222222222222,\"#7201a8\"],[0.3333333333333333,\"#9c179e\"],[0.4444444444444444,\"#bd3786\"],[0.5555555555555556,\"#d8576b\"],[0.6666666666666666,\"#ed7953\"],[0.7777777777777778,\"#fb9f3a\"],[0.8888888888888888,\"#fdca26\"],[1.0,\"#f0f921\"]]}],\"choropleth\":[{\"type\":\"choropleth\",\"colorbar\":{\"outlinewidth\":0,\"ticks\":\"\"}}],\"histogram2d\":[{\"type\":\"histogram2d\",\"colorbar\":{\"outlinewidth\":0,\"ticks\":\"\"},\"colorscale\":[[0.0,\"#0d0887\"],[0.1111111111111111,\"#46039f\"],[0.2222222222222222,\"#7201a8\"],[0.3333333333333333,\"#9c179e\"],[0.4444444444444444,\"#bd3786\"],[0.5555555555555556,\"#d8576b\"],[0.6666666666666666,\"#ed7953\"],[0.7777777777777778,\"#fb9f3a\"],[0.8888888888888888,\"#fdca26\"],[1.0,\"#f0f921\"]]}],\"heatmap\":[{\"type\":\"heatmap\",\"colorbar\":{\"outlinewidth\":0,\"ticks\":\"\"},\"colorscale\":[[0.0,\"#0d0887\"],[0.1111111111111111,\"#46039f\"],[0.2222222222222222,\"#7201a8\"],[0.3333333333333333,\"#9c179e\"],[0.4444444444444444,\"#bd3786\"],[0.5555555555555556,\"#d8576b\"],[0.6666666666666666,\"#ed7953\"],[0.7777777777777778,\"#fb9f3a\"],[0.8888888888888888,\"#fdca26\"],[1.0,\"#f0f921\"]]}],\"heatmapgl\":[{\"type\":\"heatmapgl\",\"colorbar\":{\"outlinewidth\":0,\"ticks\":\"\"},\"colorscale\":[[0.0,\"#0d0887\"],[0.1111111111111111,\"#46039f\"],[0.2222222222222222,\"#7201a8\"],[0.3333333333333333,\"#9c179e\"],[0.4444444444444444,\"#bd3786\"],[0.5555555555555556,\"#d8576b\"],[0.6666666666666666,\"#ed7953\"],[0.7777777777777778,\"#fb9f3a\"],[0.8888888888888888,\"#fdca26\"],[1.0,\"#f0f921\"]]}],\"contourcarpet\":[{\"type\":\"contourcarpet\",\"colorbar\":{\"outlinewidth\":0,\"ticks\":\"\"}}],\"contour\":[{\"type\":\"contour\",\"colorbar\":{\"outlinewidth\":0,\"ticks\":\"\"},\"colorscale\":[[0.0,\"#0d0887\"],[0.1111111111111111,\"#46039f\"],[0.2222222222222222,\"#7201a8\"],[0.3333333333333333,\"#9c179e\"],[0.4444444444444444,\"#bd3786\"],[0.5555555555555556,\"#d8576b\"],[0.6666666666666666,\"#ed7953\"],[0.7777777777777778,\"#fb9f3a\"],[0.8888888888888888,\"#fdca26\"],[1.0,\"#f0f921\"]]}],\"surface\":[{\"type\":\"surface\",\"colorbar\":{\"outlinewidth\":0,\"ticks\":\"\"},\"colorscale\":[[0.0,\"#0d0887\"],[0.1111111111111111,\"#46039f\"],[0.2222222222222222,\"#7201a8\"],[0.3333333333333333,\"#9c179e\"],[0.4444444444444444,\"#bd3786\"],[0.5555555555555556,\"#d8576b\"],[0.6666666666666666,\"#ed7953\"],[0.7777777777777778,\"#fb9f3a\"],[0.8888888888888888,\"#fdca26\"],[1.0,\"#f0f921\"]]}],\"mesh3d\":[{\"type\":\"mesh3d\",\"colorbar\":{\"outlinewidth\":0,\"ticks\":\"\"}}],\"scatter\":[{\"fillpattern\":{\"fillmode\":\"overlay\",\"size\":10,\"solidity\":0.2},\"type\":\"scatter\"}],\"parcoords\":[{\"type\":\"parcoords\",\"line\":{\"colorbar\":{\"outlinewidth\":0,\"ticks\":\"\"}}}],\"scatterpolargl\":[{\"type\":\"scatterpolargl\",\"marker\":{\"colorbar\":{\"outlinewidth\":0,\"ticks\":\"\"}}}],\"bar\":[{\"error_x\":{\"color\":\"#2a3f5f\"},\"error_y\":{\"color\":\"#2a3f5f\"},\"marker\":{\"line\":{\"color\":\"#E5ECF6\",\"width\":0.5},\"pattern\":{\"fillmode\":\"overlay\",\"size\":10,\"solidity\":0.2}},\"type\":\"bar\"}],\"scattergeo\":[{\"type\":\"scattergeo\",\"marker\":{\"colorbar\":{\"outlinewidth\":0,\"ticks\":\"\"}}}],\"scatterpolar\":[{\"type\":\"scatterpolar\",\"marker\":{\"colorbar\":{\"outlinewidth\":0,\"ticks\":\"\"}}}],\"histogram\":[{\"marker\":{\"pattern\":{\"fillmode\":\"overlay\",\"size\":10,\"solidity\":0.2}},\"type\":\"histogram\"}],\"scattergl\":[{\"type\":\"scattergl\",\"marker\":{\"colorbar\":{\"outlinewidth\":0,\"ticks\":\"\"}}}],\"scatter3d\":[{\"type\":\"scatter3d\",\"line\":{\"colorbar\":{\"outlinewidth\":0,\"ticks\":\"\"}},\"marker\":{\"colorbar\":{\"outlinewidth\":0,\"ticks\":\"\"}}}],\"scattermapbox\":[{\"type\":\"scattermapbox\",\"marker\":{\"colorbar\":{\"outlinewidth\":0,\"ticks\":\"\"}}}],\"scatterternary\":[{\"type\":\"scatterternary\",\"marker\":{\"colorbar\":{\"outlinewidth\":0,\"ticks\":\"\"}}}],\"scattercarpet\":[{\"type\":\"scattercarpet\",\"marker\":{\"colorbar\":{\"outlinewidth\":0,\"ticks\":\"\"}}}],\"carpet\":[{\"aaxis\":{\"endlinecolor\":\"#2a3f5f\",\"gridcolor\":\"white\",\"linecolor\":\"white\",\"minorgridcolor\":\"white\",\"startlinecolor\":\"#2a3f5f\"},\"baxis\":{\"endlinecolor\":\"#2a3f5f\",\"gridcolor\":\"white\",\"linecolor\":\"white\",\"minorgridcolor\":\"white\",\"startlinecolor\":\"#2a3f5f\"},\"type\":\"carpet\"}],\"table\":[{\"cells\":{\"fill\":{\"color\":\"#EBF0F8\"},\"line\":{\"color\":\"white\"}},\"header\":{\"fill\":{\"color\":\"#C8D4E3\"},\"line\":{\"color\":\"white\"}},\"type\":\"table\"}],\"barpolar\":[{\"marker\":{\"line\":{\"color\":\"#E5ECF6\",\"width\":0.5},\"pattern\":{\"fillmode\":\"overlay\",\"size\":10,\"solidity\":0.2}},\"type\":\"barpolar\"}],\"pie\":[{\"automargin\":true,\"type\":\"pie\"}]},\"layout\":{\"autotypenumbers\":\"strict\",\"colorway\":[\"#636efa\",\"#EF553B\",\"#00cc96\",\"#ab63fa\",\"#FFA15A\",\"#19d3f3\",\"#FF6692\",\"#B6E880\",\"#FF97FF\",\"#FECB52\"],\"font\":{\"color\":\"#2a3f5f\"},\"hovermode\":\"closest\",\"hoverlabel\":{\"align\":\"left\"},\"paper_bgcolor\":\"white\",\"plot_bgcolor\":\"#E5ECF6\",\"polar\":{\"bgcolor\":\"#E5ECF6\",\"angularaxis\":{\"gridcolor\":\"white\",\"linecolor\":\"white\",\"ticks\":\"\"},\"radialaxis\":{\"gridcolor\":\"white\",\"linecolor\":\"white\",\"ticks\":\"\"}},\"ternary\":{\"bgcolor\":\"#E5ECF6\",\"aaxis\":{\"gridcolor\":\"white\",\"linecolor\":\"white\",\"ticks\":\"\"},\"baxis\":{\"gridcolor\":\"white\",\"linecolor\":\"white\",\"ticks\":\"\"},\"caxis\":{\"gridcolor\":\"white\",\"linecolor\":\"white\",\"ticks\":\"\"}},\"coloraxis\":{\"colorbar\":{\"outlinewidth\":0,\"ticks\":\"\"}},\"colorscale\":{\"sequential\":[[0.0,\"#0d0887\"],[0.1111111111111111,\"#46039f\"],[0.2222222222222222,\"#7201a8\"],[0.3333333333333333,\"#9c179e\"],[0.4444444444444444,\"#bd3786\"],[0.5555555555555556,\"#d8576b\"],[0.6666666666666666,\"#ed7953\"],[0.7777777777777778,\"#fb9f3a\"],[0.8888888888888888,\"#fdca26\"],[1.0,\"#f0f921\"]],\"sequentialminus\":[[0.0,\"#0d0887\"],[0.1111111111111111,\"#46039f\"],[0.2222222222222222,\"#7201a8\"],[0.3333333333333333,\"#9c179e\"],[0.4444444444444444,\"#bd3786\"],[0.5555555555555556,\"#d8576b\"],[0.6666666666666666,\"#ed7953\"],[0.7777777777777778,\"#fb9f3a\"],[0.8888888888888888,\"#fdca26\"],[1.0,\"#f0f921\"]],\"diverging\":[[0,\"#8e0152\"],[0.1,\"#c51b7d\"],[0.2,\"#de77ae\"],[0.3,\"#f1b6da\"],[0.4,\"#fde0ef\"],[0.5,\"#f7f7f7\"],[0.6,\"#e6f5d0\"],[0.7,\"#b8e186\"],[0.8,\"#7fbc41\"],[0.9,\"#4d9221\"],[1,\"#276419\"]]},\"xaxis\":{\"gridcolor\":\"white\",\"linecolor\":\"white\",\"ticks\":\"\",\"title\":{\"standoff\":15},\"zerolinecolor\":\"white\",\"automargin\":true,\"zerolinewidth\":2},\"yaxis\":{\"gridcolor\":\"white\",\"linecolor\":\"white\",\"ticks\":\"\",\"title\":{\"standoff\":15},\"zerolinecolor\":\"white\",\"automargin\":true,\"zerolinewidth\":2},\"scene\":{\"xaxis\":{\"backgroundcolor\":\"#E5ECF6\",\"gridcolor\":\"white\",\"linecolor\":\"white\",\"showbackground\":true,\"ticks\":\"\",\"zerolinecolor\":\"white\",\"gridwidth\":2},\"yaxis\":{\"backgroundcolor\":\"#E5ECF6\",\"gridcolor\":\"white\",\"linecolor\":\"white\",\"showbackground\":true,\"ticks\":\"\",\"zerolinecolor\":\"white\",\"gridwidth\":2},\"zaxis\":{\"backgroundcolor\":\"#E5ECF6\",\"gridcolor\":\"white\",\"linecolor\":\"white\",\"showbackground\":true,\"ticks\":\"\",\"zerolinecolor\":\"white\",\"gridwidth\":2}},\"shapedefaults\":{\"line\":{\"color\":\"#2a3f5f\"}},\"annotationdefaults\":{\"arrowcolor\":\"#2a3f5f\",\"arrowhead\":0,\"arrowwidth\":1},\"geo\":{\"bgcolor\":\"white\",\"landcolor\":\"#E5ECF6\",\"subunitcolor\":\"white\",\"showland\":true,\"showlakes\":true,\"lakecolor\":\"white\"},\"title\":{\"x\":0.05},\"mapbox\":{\"style\":\"light\"}}},\"xaxis\":{\"anchor\":\"y\",\"domain\":[0.0,1.0],\"title\":{\"text\":\"Month\"}},\"yaxis\":{\"anchor\":\"x\",\"domain\":[0.0,1.0],\"title\":{\"text\":\"Count\"}},\"legend\":{\"title\":{\"text\":\"Event Name\"},\"tracegroupgap\":0,\"orientation\":\"h\",\"x\":0.5,\"xanchor\":\"center\",\"y\":-0.2},\"title\":{\"text\":\"Top 25 Event Names by Month\"},\"barmode\":\"stack\",\"height\":800},                        {\"responsive\": true}                    ).then(function(){\n",
       "                            \n",
       "var gd = document.getElementById('c0c7f929-34dc-44f6-84a7-2c7794640171');\n",
       "var x = new MutationObserver(function (mutations, observer) {{\n",
       "        var display = window.getComputedStyle(gd).display;\n",
       "        if (!display || display === 'none') {{\n",
       "            console.log([gd, 'removed!']);\n",
       "            Plotly.purge(gd);\n",
       "            observer.disconnect();\n",
       "        }}\n",
       "}});\n",
       "\n",
       "// Listen for the removal of the full notebook cells\n",
       "var notebookContainer = gd.closest('#notebook-container');\n",
       "if (notebookContainer) {{\n",
       "    x.observe(notebookContainer, {childList: true});\n",
       "}}\n",
       "\n",
       "// Listen for the clearing of the current output cell\n",
       "var outputEl = gd.closest('.output');\n",
       "if (outputEl) {{\n",
       "    x.observe(outputEl, {childList: true});\n",
       "}}\n",
       "\n",
       "                        })                };                });            </script>        </div>"
      ]
     },
     "metadata": {},
     "output_type": "display_data"
    }
   ],
   "source": [
    "# Plot event name\n",
    "\n",
    "\n",
    "top_event_names = (\n",
    "    action_month.groupby('eventName')['count']\n",
    "    .sum()\n",
    "    .reset_index()\n",
    "    .sort_values(by='count', ascending=False)\n",
    "    .head(25)\n",
    ")\n",
    "\n",
    "\n",
    "filtered_action_month = action_month[action_month['eventName'].isin(top_event_names['eventName'])]\n",
    "\n",
    "\n",
    "fig = px.bar(\n",
    "    filtered_action_month, \n",
    "    x=\"month\", \n",
    "    y=\"count\", \n",
    "    color=\"eventName\", \n",
    "    title=\"Top 25 Event Names by Month\",\n",
    "    labels={\"month\": \"Month\", \"count\": \"Count\", \"eventName\": \"Event Name\"},\n",
    "    hover_data={\"count\": True, \"eventName\": True}\n",
    ")\n",
    "\n",
    "\n",
    "fig.update_layout(\n",
    "    barmode='stack',\n",
    "    xaxis=dict(title='Month'),\n",
    "    yaxis=dict(title='Count'),\n",
    "    legend=dict(title='Event Name', orientation=\"h\", x=0.5, xanchor=\"center\", y=-0.2),\n",
    "    height=800  \n",
    ")\n",
    "\n",
    "\n",
    "fig.show()\n",
    "\n"
   ]
  },
  {
   "cell_type": "code",
   "execution_count": 347,
   "id": "f1af2b74-bce1-4f9a-a817-a4076b348ab3",
   "metadata": {
    "tags": []
   },
   "outputs": [
    {
     "data": {
      "application/vnd.plotly.v1+json": {
       "config": {
        "plotlyServerURL": "https://plot.ly"
       },
       "data": [
        {
         "alignmentgroup": "True",
         "customdata": [
          [
           "Client.InvalidSnapshot.NotFound"
          ]
         ],
         "hovertemplate": "Event Source=%{customdata[0]}<br>Month=%{x}<br>Count=%{y}<extra></extra>",
         "legendgroup": "Client.InvalidSnapshot.NotFound",
         "marker": {
          "color": "#636efa",
          "pattern": {
           "shape": ""
          }
         },
         "name": "Client.InvalidSnapshot.NotFound",
         "offsetgroup": "Client.InvalidSnapshot.NotFound",
         "orientation": "v",
         "showlegend": true,
         "textposition": "auto",
         "type": "bar",
         "x": [
          1
         ],
         "xaxis": "x",
         "y": [
          1
         ],
         "yaxis": "y"
        },
        {
         "alignmentgroup": "True",
         "customdata": [
          [
           "NoSuchEntityException"
          ],
          [
           "NoSuchEntityException"
          ],
          [
           "NoSuchEntityException"
          ],
          [
           "NoSuchEntityException"
          ]
         ],
         "hovertemplate": "Event Source=%{customdata[0]}<br>Month=%{x}<br>Count=%{y}<extra></extra>",
         "legendgroup": "NoSuchEntityException",
         "marker": {
          "color": "#EF553B",
          "pattern": {
           "shape": ""
          }
         },
         "name": "NoSuchEntityException",
         "offsetgroup": "NoSuchEntityException",
         "orientation": "v",
         "showlegend": true,
         "textposition": "auto",
         "type": "bar",
         "x": [
          1,
          6,
          11,
          12
         ],
         "xaxis": "x",
         "y": [
          3,
          4,
          1,
          1
         ],
         "yaxis": "y"
        },
        {
         "alignmentgroup": "True",
         "customdata": [
          [
           "Client.InvalidPermission.Duplicate"
          ]
         ],
         "hovertemplate": "Event Source=%{customdata[0]}<br>Month=%{x}<br>Count=%{y}<extra></extra>",
         "legendgroup": "Client.InvalidPermission.Duplicate",
         "marker": {
          "color": "#00cc96",
          "pattern": {
           "shape": ""
          }
         },
         "name": "Client.InvalidPermission.Duplicate",
         "offsetgroup": "Client.InvalidPermission.Duplicate",
         "orientation": "v",
         "showlegend": true,
         "textposition": "auto",
         "type": "bar",
         "x": [
          2
         ],
         "xaxis": "x",
         "y": [
          1
         ],
         "yaxis": "y"
        },
        {
         "alignmentgroup": "True",
         "customdata": [
          [
           "Client.SnapshotLockNotFound"
          ],
          [
           "Client.SnapshotLockNotFound"
          ]
         ],
         "hovertemplate": "Event Source=%{customdata[0]}<br>Month=%{x}<br>Count=%{y}<extra></extra>",
         "legendgroup": "Client.SnapshotLockNotFound",
         "marker": {
          "color": "#ab63fa",
          "pattern": {
           "shape": ""
          }
         },
         "name": "Client.SnapshotLockNotFound",
         "offsetgroup": "Client.SnapshotLockNotFound",
         "orientation": "v",
         "showlegend": true,
         "textposition": "auto",
         "type": "bar",
         "x": [
          2,
          3
         ],
         "xaxis": "x",
         "y": [
          2,
          1
         ],
         "yaxis": "y"
        },
        {
         "alignmentgroup": "True",
         "customdata": [
          [
           "OptInRequiredException"
          ],
          [
           "OptInRequiredException"
          ]
         ],
         "hovertemplate": "Event Source=%{customdata[0]}<br>Month=%{x}<br>Count=%{y}<extra></extra>",
         "legendgroup": "OptInRequiredException",
         "marker": {
          "color": "#FFA15A",
          "pattern": {
           "shape": ""
          }
         },
         "name": "OptInRequiredException",
         "offsetgroup": "OptInRequiredException",
         "orientation": "v",
         "showlegend": true,
         "textposition": "auto",
         "type": "bar",
         "x": [
          2,
          3
         ],
         "xaxis": "x",
         "y": [
          9,
          4
         ],
         "yaxis": "y"
        },
        {
         "alignmentgroup": "True",
         "customdata": [
          [
           "Client.InvalidVolume.NotFound"
          ]
         ],
         "hovertemplate": "Event Source=%{customdata[0]}<br>Month=%{x}<br>Count=%{y}<extra></extra>",
         "legendgroup": "Client.InvalidVolume.NotFound",
         "marker": {
          "color": "#19d3f3",
          "pattern": {
           "shape": ""
          }
         },
         "name": "Client.InvalidVolume.NotFound",
         "offsetgroup": "Client.InvalidVolume.NotFound",
         "orientation": "v",
         "showlegend": true,
         "textposition": "auto",
         "type": "bar",
         "x": [
          3
         ],
         "xaxis": "x",
         "y": [
          1
         ],
         "yaxis": "y"
        },
        {
         "alignmentgroup": "True",
         "customdata": [
          [
           "NoSuchBucketPolicy"
          ]
         ],
         "hovertemplate": "Event Source=%{customdata[0]}<br>Month=%{x}<br>Count=%{y}<extra></extra>",
         "legendgroup": "NoSuchBucketPolicy",
         "marker": {
          "color": "#FF6692",
          "pattern": {
           "shape": ""
          }
         },
         "name": "NoSuchBucketPolicy",
         "offsetgroup": "NoSuchBucketPolicy",
         "orientation": "v",
         "showlegend": true,
         "textposition": "auto",
         "type": "bar",
         "x": [
          3
         ],
         "xaxis": "x",
         "y": [
          36
         ],
         "yaxis": "y"
        },
        {
         "alignmentgroup": "True",
         "customdata": [
          [
           "NoSuchCORSConfiguration"
          ]
         ],
         "hovertemplate": "Event Source=%{customdata[0]}<br>Month=%{x}<br>Count=%{y}<extra></extra>",
         "legendgroup": "NoSuchCORSConfiguration",
         "marker": {
          "color": "#B6E880",
          "pattern": {
           "shape": ""
          }
         },
         "name": "NoSuchCORSConfiguration",
         "offsetgroup": "NoSuchCORSConfiguration",
         "orientation": "v",
         "showlegend": true,
         "textposition": "auto",
         "type": "bar",
         "x": [
          3
         ],
         "xaxis": "x",
         "y": [
          3
         ],
         "yaxis": "y"
        },
        {
         "alignmentgroup": "True",
         "customdata": [
          [
           "NoSuchLifecycleConfiguration"
          ]
         ],
         "hovertemplate": "Event Source=%{customdata[0]}<br>Month=%{x}<br>Count=%{y}<extra></extra>",
         "legendgroup": "NoSuchLifecycleConfiguration",
         "marker": {
          "color": "#FF97FF",
          "pattern": {
           "shape": ""
          }
         },
         "name": "NoSuchLifecycleConfiguration",
         "offsetgroup": "NoSuchLifecycleConfiguration",
         "orientation": "v",
         "showlegend": true,
         "textposition": "auto",
         "type": "bar",
         "x": [
          3
         ],
         "xaxis": "x",
         "y": [
          2
         ],
         "yaxis": "y"
        },
        {
         "alignmentgroup": "True",
         "customdata": [
          [
           "NoSuchPublicAccessBlockConfiguration"
          ]
         ],
         "hovertemplate": "Event Source=%{customdata[0]}<br>Month=%{x}<br>Count=%{y}<extra></extra>",
         "legendgroup": "NoSuchPublicAccessBlockConfiguration",
         "marker": {
          "color": "#FECB52",
          "pattern": {
           "shape": ""
          }
         },
         "name": "NoSuchPublicAccessBlockConfiguration",
         "offsetgroup": "NoSuchPublicAccessBlockConfiguration",
         "orientation": "v",
         "showlegend": true,
         "textposition": "auto",
         "type": "bar",
         "x": [
          3
         ],
         "xaxis": "x",
         "y": [
          66
         ],
         "yaxis": "y"
        },
        {
         "alignmentgroup": "True",
         "customdata": [
          [
           "NoSuchTagSet"
          ]
         ],
         "hovertemplate": "Event Source=%{customdata[0]}<br>Month=%{x}<br>Count=%{y}<extra></extra>",
         "legendgroup": "NoSuchTagSet",
         "marker": {
          "color": "#636efa",
          "pattern": {
           "shape": ""
          }
         },
         "name": "NoSuchTagSet",
         "offsetgroup": "NoSuchTagSet",
         "orientation": "v",
         "showlegend": true,
         "textposition": "auto",
         "type": "bar",
         "x": [
          3
         ],
         "xaxis": "x",
         "y": [
          9
         ],
         "yaxis": "y"
        },
        {
         "alignmentgroup": "True",
         "customdata": [
          [
           "NoSuchWebsiteConfiguration"
          ]
         ],
         "hovertemplate": "Event Source=%{customdata[0]}<br>Month=%{x}<br>Count=%{y}<extra></extra>",
         "legendgroup": "NoSuchWebsiteConfiguration",
         "marker": {
          "color": "#EF553B",
          "pattern": {
           "shape": ""
          }
         },
         "name": "NoSuchWebsiteConfiguration",
         "offsetgroup": "NoSuchWebsiteConfiguration",
         "orientation": "v",
         "showlegend": true,
         "textposition": "auto",
         "type": "bar",
         "x": [
          3
         ],
         "xaxis": "x",
         "y": [
          10
         ],
         "yaxis": "y"
        },
        {
         "alignmentgroup": "True",
         "customdata": [
          [
           "ObjectLockConfigurationNotFoundError"
          ]
         ],
         "hovertemplate": "Event Source=%{customdata[0]}<br>Month=%{x}<br>Count=%{y}<extra></extra>",
         "legendgroup": "ObjectLockConfigurationNotFoundError",
         "marker": {
          "color": "#00cc96",
          "pattern": {
           "shape": ""
          }
         },
         "name": "ObjectLockConfigurationNotFoundError",
         "offsetgroup": "ObjectLockConfigurationNotFoundError",
         "orientation": "v",
         "showlegend": true,
         "textposition": "auto",
         "type": "bar",
         "x": [
          3
         ],
         "xaxis": "x",
         "y": [
          10
         ],
         "yaxis": "y"
        },
        {
         "alignmentgroup": "True",
         "customdata": [
          [
           "OwnershipControlsNotFoundError"
          ],
          [
           "OwnershipControlsNotFoundError"
          ]
         ],
         "hovertemplate": "Event Source=%{customdata[0]}<br>Month=%{x}<br>Count=%{y}<extra></extra>",
         "legendgroup": "OwnershipControlsNotFoundError",
         "marker": {
          "color": "#ab63fa",
          "pattern": {
           "shape": ""
          }
         },
         "name": "OwnershipControlsNotFoundError",
         "offsetgroup": "OwnershipControlsNotFoundError",
         "orientation": "v",
         "showlegend": true,
         "textposition": "auto",
         "type": "bar",
         "x": [
          3,
          6
         ],
         "xaxis": "x",
         "y": [
          41,
          20
         ],
         "yaxis": "y"
        },
        {
         "alignmentgroup": "True",
         "customdata": [
          [
           "ReplicationConfigurationNotFoundError"
          ]
         ],
         "hovertemplate": "Event Source=%{customdata[0]}<br>Month=%{x}<br>Count=%{y}<extra></extra>",
         "legendgroup": "ReplicationConfigurationNotFoundError",
         "marker": {
          "color": "#FFA15A",
          "pattern": {
           "shape": ""
          }
         },
         "name": "ReplicationConfigurationNotFoundError",
         "offsetgroup": "ReplicationConfigurationNotFoundError",
         "orientation": "v",
         "showlegend": true,
         "textposition": "auto",
         "type": "bar",
         "x": [
          3
         ],
         "xaxis": "x",
         "y": [
          7
         ],
         "yaxis": "y"
        },
        {
         "alignmentgroup": "True",
         "customdata": [
          [
           "Server.InternalError"
          ]
         ],
         "hovertemplate": "Event Source=%{customdata[0]}<br>Month=%{x}<br>Count=%{y}<extra></extra>",
         "legendgroup": "Server.InternalError",
         "marker": {
          "color": "#19d3f3",
          "pattern": {
           "shape": ""
          }
         },
         "name": "Server.InternalError",
         "offsetgroup": "Server.InternalError",
         "orientation": "v",
         "showlegend": true,
         "textposition": "auto",
         "type": "bar",
         "x": [
          3
         ],
         "xaxis": "x",
         "y": [
          25
         ],
         "yaxis": "y"
        },
        {
         "alignmentgroup": "True",
         "customdata": [
          [
           "InsightNotEnabledException"
          ],
          [
           "InsightNotEnabledException"
          ]
         ],
         "hovertemplate": "Event Source=%{customdata[0]}<br>Month=%{x}<br>Count=%{y}<extra></extra>",
         "legendgroup": "InsightNotEnabledException",
         "marker": {
          "color": "#FF6692",
          "pattern": {
           "shape": ""
          }
         },
         "name": "InsightNotEnabledException",
         "offsetgroup": "InsightNotEnabledException",
         "orientation": "v",
         "showlegend": true,
         "textposition": "auto",
         "type": "bar",
         "x": [
          6,
          10
         ],
         "xaxis": "x",
         "y": [
          3,
          4
         ],
         "yaxis": "y"
        },
        {
         "alignmentgroup": "True",
         "customdata": [
          [
           "NoSuchBucket"
          ]
         ],
         "hovertemplate": "Event Source=%{customdata[0]}<br>Month=%{x}<br>Count=%{y}<extra></extra>",
         "legendgroup": "NoSuchBucket",
         "marker": {
          "color": "#B6E880",
          "pattern": {
           "shape": ""
          }
         },
         "name": "NoSuchBucket",
         "offsetgroup": "NoSuchBucket",
         "orientation": "v",
         "showlegend": true,
         "textposition": "auto",
         "type": "bar",
         "x": [
          6
         ],
         "xaxis": "x",
         "y": [
          1
         ],
         "yaxis": "y"
        },
        {
         "alignmentgroup": "True",
         "customdata": [
          [
           "Client.InvalidGroup.NotFound"
          ]
         ],
         "hovertemplate": "Event Source=%{customdata[0]}<br>Month=%{x}<br>Count=%{y}<extra></extra>",
         "legendgroup": "Client.InvalidGroup.NotFound",
         "marker": {
          "color": "#FF97FF",
          "pattern": {
           "shape": ""
          }
         },
         "name": "Client.InvalidGroup.NotFound",
         "offsetgroup": "Client.InvalidGroup.NotFound",
         "orientation": "v",
         "showlegend": true,
         "textposition": "auto",
         "type": "bar",
         "x": [
          12
         ],
         "xaxis": "x",
         "y": [
          2
         ],
         "yaxis": "y"
        },
        {
         "alignmentgroup": "True",
         "customdata": [
          [
           "InternalFailure"
          ]
         ],
         "hovertemplate": "Event Source=%{customdata[0]}<br>Month=%{x}<br>Count=%{y}<extra></extra>",
         "legendgroup": "InternalFailure",
         "marker": {
          "color": "#FECB52",
          "pattern": {
           "shape": ""
          }
         },
         "name": "InternalFailure",
         "offsetgroup": "InternalFailure",
         "orientation": "v",
         "showlegend": true,
         "textposition": "auto",
         "type": "bar",
         "x": [
          12
         ],
         "xaxis": "x",
         "y": [
          3
         ],
         "yaxis": "y"
        },
        {
         "alignmentgroup": "True",
         "customdata": [
          [
           "ValidationException"
          ]
         ],
         "hovertemplate": "Event Source=%{customdata[0]}<br>Month=%{x}<br>Count=%{y}<extra></extra>",
         "legendgroup": "ValidationException",
         "marker": {
          "color": "#636efa",
          "pattern": {
           "shape": ""
          }
         },
         "name": "ValidationException",
         "offsetgroup": "ValidationException",
         "orientation": "v",
         "showlegend": true,
         "textposition": "auto",
         "type": "bar",
         "x": [
          12
         ],
         "xaxis": "x",
         "y": [
          2
         ],
         "yaxis": "y"
        }
       ],
       "layout": {
        "autosize": true,
        "barmode": "stack",
        "legend": {
         "orientation": "h",
         "title": {
          "text": "Error Code"
         },
         "tracegroupgap": 0,
         "x": 0.5,
         "xanchor": "center",
         "y": -0.2
        },
        "template": {
         "data": {
          "bar": [
           {
            "error_x": {
             "color": "#2a3f5f"
            },
            "error_y": {
             "color": "#2a3f5f"
            },
            "marker": {
             "line": {
              "color": "#E5ECF6",
              "width": 0.5
             },
             "pattern": {
              "fillmode": "overlay",
              "size": 10,
              "solidity": 0.2
             }
            },
            "type": "bar"
           }
          ],
          "barpolar": [
           {
            "marker": {
             "line": {
              "color": "#E5ECF6",
              "width": 0.5
             },
             "pattern": {
              "fillmode": "overlay",
              "size": 10,
              "solidity": 0.2
             }
            },
            "type": "barpolar"
           }
          ],
          "carpet": [
           {
            "aaxis": {
             "endlinecolor": "#2a3f5f",
             "gridcolor": "white",
             "linecolor": "white",
             "minorgridcolor": "white",
             "startlinecolor": "#2a3f5f"
            },
            "baxis": {
             "endlinecolor": "#2a3f5f",
             "gridcolor": "white",
             "linecolor": "white",
             "minorgridcolor": "white",
             "startlinecolor": "#2a3f5f"
            },
            "type": "carpet"
           }
          ],
          "choropleth": [
           {
            "colorbar": {
             "outlinewidth": 0,
             "ticks": ""
            },
            "type": "choropleth"
           }
          ],
          "contour": [
           {
            "colorbar": {
             "outlinewidth": 0,
             "ticks": ""
            },
            "colorscale": [
             [
              0,
              "#0d0887"
             ],
             [
              0.1111111111111111,
              "#46039f"
             ],
             [
              0.2222222222222222,
              "#7201a8"
             ],
             [
              0.3333333333333333,
              "#9c179e"
             ],
             [
              0.4444444444444444,
              "#bd3786"
             ],
             [
              0.5555555555555556,
              "#d8576b"
             ],
             [
              0.6666666666666666,
              "#ed7953"
             ],
             [
              0.7777777777777778,
              "#fb9f3a"
             ],
             [
              0.8888888888888888,
              "#fdca26"
             ],
             [
              1,
              "#f0f921"
             ]
            ],
            "type": "contour"
           }
          ],
          "contourcarpet": [
           {
            "colorbar": {
             "outlinewidth": 0,
             "ticks": ""
            },
            "type": "contourcarpet"
           }
          ],
          "heatmap": [
           {
            "colorbar": {
             "outlinewidth": 0,
             "ticks": ""
            },
            "colorscale": [
             [
              0,
              "#0d0887"
             ],
             [
              0.1111111111111111,
              "#46039f"
             ],
             [
              0.2222222222222222,
              "#7201a8"
             ],
             [
              0.3333333333333333,
              "#9c179e"
             ],
             [
              0.4444444444444444,
              "#bd3786"
             ],
             [
              0.5555555555555556,
              "#d8576b"
             ],
             [
              0.6666666666666666,
              "#ed7953"
             ],
             [
              0.7777777777777778,
              "#fb9f3a"
             ],
             [
              0.8888888888888888,
              "#fdca26"
             ],
             [
              1,
              "#f0f921"
             ]
            ],
            "type": "heatmap"
           }
          ],
          "heatmapgl": [
           {
            "colorbar": {
             "outlinewidth": 0,
             "ticks": ""
            },
            "colorscale": [
             [
              0,
              "#0d0887"
             ],
             [
              0.1111111111111111,
              "#46039f"
             ],
             [
              0.2222222222222222,
              "#7201a8"
             ],
             [
              0.3333333333333333,
              "#9c179e"
             ],
             [
              0.4444444444444444,
              "#bd3786"
             ],
             [
              0.5555555555555556,
              "#d8576b"
             ],
             [
              0.6666666666666666,
              "#ed7953"
             ],
             [
              0.7777777777777778,
              "#fb9f3a"
             ],
             [
              0.8888888888888888,
              "#fdca26"
             ],
             [
              1,
              "#f0f921"
             ]
            ],
            "type": "heatmapgl"
           }
          ],
          "histogram": [
           {
            "marker": {
             "pattern": {
              "fillmode": "overlay",
              "size": 10,
              "solidity": 0.2
             }
            },
            "type": "histogram"
           }
          ],
          "histogram2d": [
           {
            "colorbar": {
             "outlinewidth": 0,
             "ticks": ""
            },
            "colorscale": [
             [
              0,
              "#0d0887"
             ],
             [
              0.1111111111111111,
              "#46039f"
             ],
             [
              0.2222222222222222,
              "#7201a8"
             ],
             [
              0.3333333333333333,
              "#9c179e"
             ],
             [
              0.4444444444444444,
              "#bd3786"
             ],
             [
              0.5555555555555556,
              "#d8576b"
             ],
             [
              0.6666666666666666,
              "#ed7953"
             ],
             [
              0.7777777777777778,
              "#fb9f3a"
             ],
             [
              0.8888888888888888,
              "#fdca26"
             ],
             [
              1,
              "#f0f921"
             ]
            ],
            "type": "histogram2d"
           }
          ],
          "histogram2dcontour": [
           {
            "colorbar": {
             "outlinewidth": 0,
             "ticks": ""
            },
            "colorscale": [
             [
              0,
              "#0d0887"
             ],
             [
              0.1111111111111111,
              "#46039f"
             ],
             [
              0.2222222222222222,
              "#7201a8"
             ],
             [
              0.3333333333333333,
              "#9c179e"
             ],
             [
              0.4444444444444444,
              "#bd3786"
             ],
             [
              0.5555555555555556,
              "#d8576b"
             ],
             [
              0.6666666666666666,
              "#ed7953"
             ],
             [
              0.7777777777777778,
              "#fb9f3a"
             ],
             [
              0.8888888888888888,
              "#fdca26"
             ],
             [
              1,
              "#f0f921"
             ]
            ],
            "type": "histogram2dcontour"
           }
          ],
          "mesh3d": [
           {
            "colorbar": {
             "outlinewidth": 0,
             "ticks": ""
            },
            "type": "mesh3d"
           }
          ],
          "parcoords": [
           {
            "line": {
             "colorbar": {
              "outlinewidth": 0,
              "ticks": ""
             }
            },
            "type": "parcoords"
           }
          ],
          "pie": [
           {
            "automargin": true,
            "type": "pie"
           }
          ],
          "scatter": [
           {
            "fillpattern": {
             "fillmode": "overlay",
             "size": 10,
             "solidity": 0.2
            },
            "type": "scatter"
           }
          ],
          "scatter3d": [
           {
            "line": {
             "colorbar": {
              "outlinewidth": 0,
              "ticks": ""
             }
            },
            "marker": {
             "colorbar": {
              "outlinewidth": 0,
              "ticks": ""
             }
            },
            "type": "scatter3d"
           }
          ],
          "scattercarpet": [
           {
            "marker": {
             "colorbar": {
              "outlinewidth": 0,
              "ticks": ""
             }
            },
            "type": "scattercarpet"
           }
          ],
          "scattergeo": [
           {
            "marker": {
             "colorbar": {
              "outlinewidth": 0,
              "ticks": ""
             }
            },
            "type": "scattergeo"
           }
          ],
          "scattergl": [
           {
            "marker": {
             "colorbar": {
              "outlinewidth": 0,
              "ticks": ""
             }
            },
            "type": "scattergl"
           }
          ],
          "scattermapbox": [
           {
            "marker": {
             "colorbar": {
              "outlinewidth": 0,
              "ticks": ""
             }
            },
            "type": "scattermapbox"
           }
          ],
          "scatterpolar": [
           {
            "marker": {
             "colorbar": {
              "outlinewidth": 0,
              "ticks": ""
             }
            },
            "type": "scatterpolar"
           }
          ],
          "scatterpolargl": [
           {
            "marker": {
             "colorbar": {
              "outlinewidth": 0,
              "ticks": ""
             }
            },
            "type": "scatterpolargl"
           }
          ],
          "scatterternary": [
           {
            "marker": {
             "colorbar": {
              "outlinewidth": 0,
              "ticks": ""
             }
            },
            "type": "scatterternary"
           }
          ],
          "surface": [
           {
            "colorbar": {
             "outlinewidth": 0,
             "ticks": ""
            },
            "colorscale": [
             [
              0,
              "#0d0887"
             ],
             [
              0.1111111111111111,
              "#46039f"
             ],
             [
              0.2222222222222222,
              "#7201a8"
             ],
             [
              0.3333333333333333,
              "#9c179e"
             ],
             [
              0.4444444444444444,
              "#bd3786"
             ],
             [
              0.5555555555555556,
              "#d8576b"
             ],
             [
              0.6666666666666666,
              "#ed7953"
             ],
             [
              0.7777777777777778,
              "#fb9f3a"
             ],
             [
              0.8888888888888888,
              "#fdca26"
             ],
             [
              1,
              "#f0f921"
             ]
            ],
            "type": "surface"
           }
          ],
          "table": [
           {
            "cells": {
             "fill": {
              "color": "#EBF0F8"
             },
             "line": {
              "color": "white"
             }
            },
            "header": {
             "fill": {
              "color": "#C8D4E3"
             },
             "line": {
              "color": "white"
             }
            },
            "type": "table"
           }
          ]
         },
         "layout": {
          "annotationdefaults": {
           "arrowcolor": "#2a3f5f",
           "arrowhead": 0,
           "arrowwidth": 1
          },
          "autotypenumbers": "strict",
          "coloraxis": {
           "colorbar": {
            "outlinewidth": 0,
            "ticks": ""
           }
          },
          "colorscale": {
           "diverging": [
            [
             0,
             "#8e0152"
            ],
            [
             0.1,
             "#c51b7d"
            ],
            [
             0.2,
             "#de77ae"
            ],
            [
             0.3,
             "#f1b6da"
            ],
            [
             0.4,
             "#fde0ef"
            ],
            [
             0.5,
             "#f7f7f7"
            ],
            [
             0.6,
             "#e6f5d0"
            ],
            [
             0.7,
             "#b8e186"
            ],
            [
             0.8,
             "#7fbc41"
            ],
            [
             0.9,
             "#4d9221"
            ],
            [
             1,
             "#276419"
            ]
           ],
           "sequential": [
            [
             0,
             "#0d0887"
            ],
            [
             0.1111111111111111,
             "#46039f"
            ],
            [
             0.2222222222222222,
             "#7201a8"
            ],
            [
             0.3333333333333333,
             "#9c179e"
            ],
            [
             0.4444444444444444,
             "#bd3786"
            ],
            [
             0.5555555555555556,
             "#d8576b"
            ],
            [
             0.6666666666666666,
             "#ed7953"
            ],
            [
             0.7777777777777778,
             "#fb9f3a"
            ],
            [
             0.8888888888888888,
             "#fdca26"
            ],
            [
             1,
             "#f0f921"
            ]
           ],
           "sequentialminus": [
            [
             0,
             "#0d0887"
            ],
            [
             0.1111111111111111,
             "#46039f"
            ],
            [
             0.2222222222222222,
             "#7201a8"
            ],
            [
             0.3333333333333333,
             "#9c179e"
            ],
            [
             0.4444444444444444,
             "#bd3786"
            ],
            [
             0.5555555555555556,
             "#d8576b"
            ],
            [
             0.6666666666666666,
             "#ed7953"
            ],
            [
             0.7777777777777778,
             "#fb9f3a"
            ],
            [
             0.8888888888888888,
             "#fdca26"
            ],
            [
             1,
             "#f0f921"
            ]
           ]
          },
          "colorway": [
           "#636efa",
           "#EF553B",
           "#00cc96",
           "#ab63fa",
           "#FFA15A",
           "#19d3f3",
           "#FF6692",
           "#B6E880",
           "#FF97FF",
           "#FECB52"
          ],
          "font": {
           "color": "#2a3f5f"
          },
          "geo": {
           "bgcolor": "white",
           "lakecolor": "white",
           "landcolor": "#E5ECF6",
           "showlakes": true,
           "showland": true,
           "subunitcolor": "white"
          },
          "hoverlabel": {
           "align": "left"
          },
          "hovermode": "closest",
          "mapbox": {
           "style": "light"
          },
          "paper_bgcolor": "white",
          "plot_bgcolor": "#E5ECF6",
          "polar": {
           "angularaxis": {
            "gridcolor": "white",
            "linecolor": "white",
            "ticks": ""
           },
           "bgcolor": "#E5ECF6",
           "radialaxis": {
            "gridcolor": "white",
            "linecolor": "white",
            "ticks": ""
           }
          },
          "scene": {
           "xaxis": {
            "backgroundcolor": "#E5ECF6",
            "gridcolor": "white",
            "gridwidth": 2,
            "linecolor": "white",
            "showbackground": true,
            "ticks": "",
            "zerolinecolor": "white"
           },
           "yaxis": {
            "backgroundcolor": "#E5ECF6",
            "gridcolor": "white",
            "gridwidth": 2,
            "linecolor": "white",
            "showbackground": true,
            "ticks": "",
            "zerolinecolor": "white"
           },
           "zaxis": {
            "backgroundcolor": "#E5ECF6",
            "gridcolor": "white",
            "gridwidth": 2,
            "linecolor": "white",
            "showbackground": true,
            "ticks": "",
            "zerolinecolor": "white"
           }
          },
          "shapedefaults": {
           "line": {
            "color": "#2a3f5f"
           }
          },
          "ternary": {
           "aaxis": {
            "gridcolor": "white",
            "linecolor": "white",
            "ticks": ""
           },
           "baxis": {
            "gridcolor": "white",
            "linecolor": "white",
            "ticks": ""
           },
           "bgcolor": "#E5ECF6",
           "caxis": {
            "gridcolor": "white",
            "linecolor": "white",
            "ticks": ""
           }
          },
          "title": {
           "x": 0.05
          },
          "xaxis": {
           "automargin": true,
           "gridcolor": "white",
           "linecolor": "white",
           "ticks": "",
           "title": {
            "standoff": 15
           },
           "zerolinecolor": "white",
           "zerolinewidth": 2
          },
          "yaxis": {
           "automargin": true,
           "gridcolor": "white",
           "linecolor": "white",
           "ticks": "",
           "title": {
            "standoff": 15
           },
           "zerolinecolor": "white",
           "zerolinewidth": 2
          }
         }
        },
        "title": {
         "text": "Error Code by Month"
        },
        "xaxis": {
         "anchor": "y",
         "autorange": true,
         "domain": [
          0,
          1
         ],
         "range": [
          0.5,
          12.5
         ],
         "title": {
          "text": "Month"
         },
         "type": "linear"
        },
        "yaxis": {
         "anchor": "x",
         "autorange": true,
         "domain": [
          0,
          1
         ],
         "range": [
          0,
          226.31578947368422
         ],
         "title": {
          "text": "Count"
         },
         "type": "linear"
        }
       }
      },
      "image/png": "[encoded data removed]",
      "text/html": [
       "<div>                            <div id=\"a2b63966-76e7-40e6-9899-ffeebf64baf3\" class=\"plotly-graph-div\" style=\"height:800px; width:100%;\"></div>            <script type=\"text/javascript\">                require([\"plotly\"], function(Plotly) {                    window.PLOTLYENV=window.PLOTLYENV || {};                                    if (document.getElementById(\"a2b63966-76e7-40e6-9899-ffeebf64baf3\")) {                    Plotly.newPlot(                        \"a2b63966-76e7-40e6-9899-ffeebf64baf3\",                        [{\"alignmentgroup\":\"True\",\"customdata\":[[\"Client.InvalidSnapshot.NotFound\"]],\"hovertemplate\":\"Event Source=%{customdata[0]}<br>Month=%{x}<br>Count=%{y}<extra></extra>\",\"legendgroup\":\"Client.InvalidSnapshot.NotFound\",\"marker\":{\"color\":\"#636efa\",\"pattern\":{\"shape\":\"\"}},\"name\":\"Client.InvalidSnapshot.NotFound\",\"offsetgroup\":\"Client.InvalidSnapshot.NotFound\",\"orientation\":\"v\",\"showlegend\":true,\"textposition\":\"auto\",\"x\":[1],\"xaxis\":\"x\",\"y\":[1],\"yaxis\":\"y\",\"type\":\"bar\"},{\"alignmentgroup\":\"True\",\"customdata\":[[\"NoSuchEntityException\"],[\"NoSuchEntityException\"],[\"NoSuchEntityException\"],[\"NoSuchEntityException\"]],\"hovertemplate\":\"Event Source=%{customdata[0]}<br>Month=%{x}<br>Count=%{y}<extra></extra>\",\"legendgroup\":\"NoSuchEntityException\",\"marker\":{\"color\":\"#EF553B\",\"pattern\":{\"shape\":\"\"}},\"name\":\"NoSuchEntityException\",\"offsetgroup\":\"NoSuchEntityException\",\"orientation\":\"v\",\"showlegend\":true,\"textposition\":\"auto\",\"x\":[1,6,11,12],\"xaxis\":\"x\",\"y\":[3,4,1,1],\"yaxis\":\"y\",\"type\":\"bar\"},{\"alignmentgroup\":\"True\",\"customdata\":[[\"Client.InvalidPermission.Duplicate\"]],\"hovertemplate\":\"Event Source=%{customdata[0]}<br>Month=%{x}<br>Count=%{y}<extra></extra>\",\"legendgroup\":\"Client.InvalidPermission.Duplicate\",\"marker\":{\"color\":\"#00cc96\",\"pattern\":{\"shape\":\"\"}},\"name\":\"Client.InvalidPermission.Duplicate\",\"offsetgroup\":\"Client.InvalidPermission.Duplicate\",\"orientation\":\"v\",\"showlegend\":true,\"textposition\":\"auto\",\"x\":[2],\"xaxis\":\"x\",\"y\":[1],\"yaxis\":\"y\",\"type\":\"bar\"},{\"alignmentgroup\":\"True\",\"customdata\":[[\"Client.SnapshotLockNotFound\"],[\"Client.SnapshotLockNotFound\"]],\"hovertemplate\":\"Event Source=%{customdata[0]}<br>Month=%{x}<br>Count=%{y}<extra></extra>\",\"legendgroup\":\"Client.SnapshotLockNotFound\",\"marker\":{\"color\":\"#ab63fa\",\"pattern\":{\"shape\":\"\"}},\"name\":\"Client.SnapshotLockNotFound\",\"offsetgroup\":\"Client.SnapshotLockNotFound\",\"orientation\":\"v\",\"showlegend\":true,\"textposition\":\"auto\",\"x\":[2,3],\"xaxis\":\"x\",\"y\":[2,1],\"yaxis\":\"y\",\"type\":\"bar\"},{\"alignmentgroup\":\"True\",\"customdata\":[[\"OptInRequiredException\"],[\"OptInRequiredException\"]],\"hovertemplate\":\"Event Source=%{customdata[0]}<br>Month=%{x}<br>Count=%{y}<extra></extra>\",\"legendgroup\":\"OptInRequiredException\",\"marker\":{\"color\":\"#FFA15A\",\"pattern\":{\"shape\":\"\"}},\"name\":\"OptInRequiredException\",\"offsetgroup\":\"OptInRequiredException\",\"orientation\":\"v\",\"showlegend\":true,\"textposition\":\"auto\",\"x\":[2,3],\"xaxis\":\"x\",\"y\":[9,4],\"yaxis\":\"y\",\"type\":\"bar\"},{\"alignmentgroup\":\"True\",\"customdata\":[[\"Client.InvalidVolume.NotFound\"]],\"hovertemplate\":\"Event Source=%{customdata[0]}<br>Month=%{x}<br>Count=%{y}<extra></extra>\",\"legendgroup\":\"Client.InvalidVolume.NotFound\",\"marker\":{\"color\":\"#19d3f3\",\"pattern\":{\"shape\":\"\"}},\"name\":\"Client.InvalidVolume.NotFound\",\"offsetgroup\":\"Client.InvalidVolume.NotFound\",\"orientation\":\"v\",\"showlegend\":true,\"textposition\":\"auto\",\"x\":[3],\"xaxis\":\"x\",\"y\":[1],\"yaxis\":\"y\",\"type\":\"bar\"},{\"alignmentgroup\":\"True\",\"customdata\":[[\"NoSuchBucketPolicy\"]],\"hovertemplate\":\"Event Source=%{customdata[0]}<br>Month=%{x}<br>Count=%{y}<extra></extra>\",\"legendgroup\":\"NoSuchBucketPolicy\",\"marker\":{\"color\":\"#FF6692\",\"pattern\":{\"shape\":\"\"}},\"name\":\"NoSuchBucketPolicy\",\"offsetgroup\":\"NoSuchBucketPolicy\",\"orientation\":\"v\",\"showlegend\":true,\"textposition\":\"auto\",\"x\":[3],\"xaxis\":\"x\",\"y\":[36],\"yaxis\":\"y\",\"type\":\"bar\"},{\"alignmentgroup\":\"True\",\"customdata\":[[\"NoSuchCORSConfiguration\"]],\"hovertemplate\":\"Event Source=%{customdata[0]}<br>Month=%{x}<br>Count=%{y}<extra></extra>\",\"legendgroup\":\"NoSuchCORSConfiguration\",\"marker\":{\"color\":\"#B6E880\",\"pattern\":{\"shape\":\"\"}},\"name\":\"NoSuchCORSConfiguration\",\"offsetgroup\":\"NoSuchCORSConfiguration\",\"orientation\":\"v\",\"showlegend\":true,\"textposition\":\"auto\",\"x\":[3],\"xaxis\":\"x\",\"y\":[3],\"yaxis\":\"y\",\"type\":\"bar\"},{\"alignmentgroup\":\"True\",\"customdata\":[[\"NoSuchLifecycleConfiguration\"]],\"hovertemplate\":\"Event Source=%{customdata[0]}<br>Month=%{x}<br>Count=%{y}<extra></extra>\",\"legendgroup\":\"NoSuchLifecycleConfiguration\",\"marker\":{\"color\":\"#FF97FF\",\"pattern\":{\"shape\":\"\"}},\"name\":\"NoSuchLifecycleConfiguration\",\"offsetgroup\":\"NoSuchLifecycleConfiguration\",\"orientation\":\"v\",\"showlegend\":true,\"textposition\":\"auto\",\"x\":[3],\"xaxis\":\"x\",\"y\":[2],\"yaxis\":\"y\",\"type\":\"bar\"},{\"alignmentgroup\":\"True\",\"customdata\":[[\"NoSuchPublicAccessBlockConfiguration\"]],\"hovertemplate\":\"Event Source=%{customdata[0]}<br>Month=%{x}<br>Count=%{y}<extra></extra>\",\"legendgroup\":\"NoSuchPublicAccessBlockConfiguration\",\"marker\":{\"color\":\"#FECB52\",\"pattern\":{\"shape\":\"\"}},\"name\":\"NoSuchPublicAccessBlockConfiguration\",\"offsetgroup\":\"NoSuchPublicAccessBlockConfiguration\",\"orientation\":\"v\",\"showlegend\":true,\"textposition\":\"auto\",\"x\":[3],\"xaxis\":\"x\",\"y\":[66],\"yaxis\":\"y\",\"type\":\"bar\"},{\"alignmentgroup\":\"True\",\"customdata\":[[\"NoSuchTagSet\"]],\"hovertemplate\":\"Event Source=%{customdata[0]}<br>Month=%{x}<br>Count=%{y}<extra></extra>\",\"legendgroup\":\"NoSuchTagSet\",\"marker\":{\"color\":\"#636efa\",\"pattern\":{\"shape\":\"\"}},\"name\":\"NoSuchTagSet\",\"offsetgroup\":\"NoSuchTagSet\",\"orientation\":\"v\",\"showlegend\":true,\"textposition\":\"auto\",\"x\":[3],\"xaxis\":\"x\",\"y\":[9],\"yaxis\":\"y\",\"type\":\"bar\"},{\"alignmentgroup\":\"True\",\"customdata\":[[\"NoSuchWebsiteConfiguration\"]],\"hovertemplate\":\"Event Source=%{customdata[0]}<br>Month=%{x}<br>Count=%{y}<extra></extra>\",\"legendgroup\":\"NoSuchWebsiteConfiguration\",\"marker\":{\"color\":\"#EF553B\",\"pattern\":{\"shape\":\"\"}},\"name\":\"NoSuchWebsiteConfiguration\",\"offsetgroup\":\"NoSuchWebsiteConfiguration\",\"orientation\":\"v\",\"showlegend\":true,\"textposition\":\"auto\",\"x\":[3],\"xaxis\":\"x\",\"y\":[10],\"yaxis\":\"y\",\"type\":\"bar\"},{\"alignmentgroup\":\"True\",\"customdata\":[[\"ObjectLockConfigurationNotFoundError\"]],\"hovertemplate\":\"Event Source=%{customdata[0]}<br>Month=%{x}<br>Count=%{y}<extra></extra>\",\"legendgroup\":\"ObjectLockConfigurationNotFoundError\",\"marker\":{\"color\":\"#00cc96\",\"pattern\":{\"shape\":\"\"}},\"name\":\"ObjectLockConfigurationNotFoundError\",\"offsetgroup\":\"ObjectLockConfigurationNotFoundError\",\"orientation\":\"v\",\"showlegend\":true,\"textposition\":\"auto\",\"x\":[3],\"xaxis\":\"x\",\"y\":[10],\"yaxis\":\"y\",\"type\":\"bar\"},{\"alignmentgroup\":\"True\",\"customdata\":[[\"OwnershipControlsNotFoundError\"],[\"OwnershipControlsNotFoundError\"]],\"hovertemplate\":\"Event Source=%{customdata[0]}<br>Month=%{x}<br>Count=%{y}<extra></extra>\",\"legendgroup\":\"OwnershipControlsNotFoundError\",\"marker\":{\"color\":\"#ab63fa\",\"pattern\":{\"shape\":\"\"}},\"name\":\"OwnershipControlsNotFoundError\",\"offsetgroup\":\"OwnershipControlsNotFoundError\",\"orientation\":\"v\",\"showlegend\":true,\"textposition\":\"auto\",\"x\":[3,6],\"xaxis\":\"x\",\"y\":[41,20],\"yaxis\":\"y\",\"type\":\"bar\"},{\"alignmentgroup\":\"True\",\"customdata\":[[\"ReplicationConfigurationNotFoundError\"]],\"hovertemplate\":\"Event Source=%{customdata[0]}<br>Month=%{x}<br>Count=%{y}<extra></extra>\",\"legendgroup\":\"ReplicationConfigurationNotFoundError\",\"marker\":{\"color\":\"#FFA15A\",\"pattern\":{\"shape\":\"\"}},\"name\":\"ReplicationConfigurationNotFoundError\",\"offsetgroup\":\"ReplicationConfigurationNotFoundError\",\"orientation\":\"v\",\"showlegend\":true,\"textposition\":\"auto\",\"x\":[3],\"xaxis\":\"x\",\"y\":[7],\"yaxis\":\"y\",\"type\":\"bar\"},{\"alignmentgroup\":\"True\",\"customdata\":[[\"Server.InternalError\"]],\"hovertemplate\":\"Event Source=%{customdata[0]}<br>Month=%{x}<br>Count=%{y}<extra></extra>\",\"legendgroup\":\"Server.InternalError\",\"marker\":{\"color\":\"#19d3f3\",\"pattern\":{\"shape\":\"\"}},\"name\":\"Server.InternalError\",\"offsetgroup\":\"Server.InternalError\",\"orientation\":\"v\",\"showlegend\":true,\"textposition\":\"auto\",\"x\":[3],\"xaxis\":\"x\",\"y\":[25],\"yaxis\":\"y\",\"type\":\"bar\"},{\"alignmentgroup\":\"True\",\"customdata\":[[\"InsightNotEnabledException\"],[\"InsightNotEnabledException\"]],\"hovertemplate\":\"Event Source=%{customdata[0]}<br>Month=%{x}<br>Count=%{y}<extra></extra>\",\"legendgroup\":\"InsightNotEnabledException\",\"marker\":{\"color\":\"#FF6692\",\"pattern\":{\"shape\":\"\"}},\"name\":\"InsightNotEnabledException\",\"offsetgroup\":\"InsightNotEnabledException\",\"orientation\":\"v\",\"showlegend\":true,\"textposition\":\"auto\",\"x\":[6,10],\"xaxis\":\"x\",\"y\":[3,4],\"yaxis\":\"y\",\"type\":\"bar\"},{\"alignmentgroup\":\"True\",\"customdata\":[[\"NoSuchBucket\"]],\"hovertemplate\":\"Event Source=%{customdata[0]}<br>Month=%{x}<br>Count=%{y}<extra></extra>\",\"legendgroup\":\"NoSuchBucket\",\"marker\":{\"color\":\"#B6E880\",\"pattern\":{\"shape\":\"\"}},\"name\":\"NoSuchBucket\",\"offsetgroup\":\"NoSuchBucket\",\"orientation\":\"v\",\"showlegend\":true,\"textposition\":\"auto\",\"x\":[6],\"xaxis\":\"x\",\"y\":[1],\"yaxis\":\"y\",\"type\":\"bar\"},{\"alignmentgroup\":\"True\",\"customdata\":[[\"Client.InvalidGroup.NotFound\"]],\"hovertemplate\":\"Event Source=%{customdata[0]}<br>Month=%{x}<br>Count=%{y}<extra></extra>\",\"legendgroup\":\"Client.InvalidGroup.NotFound\",\"marker\":{\"color\":\"#FF97FF\",\"pattern\":{\"shape\":\"\"}},\"name\":\"Client.InvalidGroup.NotFound\",\"offsetgroup\":\"Client.InvalidGroup.NotFound\",\"orientation\":\"v\",\"showlegend\":true,\"textposition\":\"auto\",\"x\":[12],\"xaxis\":\"x\",\"y\":[2],\"yaxis\":\"y\",\"type\":\"bar\"},{\"alignmentgroup\":\"True\",\"customdata\":[[\"InternalFailure\"]],\"hovertemplate\":\"Event Source=%{customdata[0]}<br>Month=%{x}<br>Count=%{y}<extra></extra>\",\"legendgroup\":\"InternalFailure\",\"marker\":{\"color\":\"#FECB52\",\"pattern\":{\"shape\":\"\"}},\"name\":\"InternalFailure\",\"offsetgroup\":\"InternalFailure\",\"orientation\":\"v\",\"showlegend\":true,\"textposition\":\"auto\",\"x\":[12],\"xaxis\":\"x\",\"y\":[3],\"yaxis\":\"y\",\"type\":\"bar\"},{\"alignmentgroup\":\"True\",\"customdata\":[[\"ValidationException\"]],\"hovertemplate\":\"Event Source=%{customdata[0]}<br>Month=%{x}<br>Count=%{y}<extra></extra>\",\"legendgroup\":\"ValidationException\",\"marker\":{\"color\":\"#636efa\",\"pattern\":{\"shape\":\"\"}},\"name\":\"ValidationException\",\"offsetgroup\":\"ValidationException\",\"orientation\":\"v\",\"showlegend\":true,\"textposition\":\"auto\",\"x\":[12],\"xaxis\":\"x\",\"y\":[2],\"yaxis\":\"y\",\"type\":\"bar\"}],                        {\"template\":{\"data\":{\"histogram2dcontour\":[{\"type\":\"histogram2dcontour\",\"colorbar\":{\"outlinewidth\":0,\"ticks\":\"\"},\"colorscale\":[[0.0,\"#0d0887\"],[0.1111111111111111,\"#46039f\"],[0.2222222222222222,\"#7201a8\"],[0.3333333333333333,\"#9c179e\"],[0.4444444444444444,\"#bd3786\"],[0.5555555555555556,\"#d8576b\"],[0.6666666666666666,\"#ed7953\"],[0.7777777777777778,\"#fb9f3a\"],[0.8888888888888888,\"#fdca26\"],[1.0,\"#f0f921\"]]}],\"choropleth\":[{\"type\":\"choropleth\",\"colorbar\":{\"outlinewidth\":0,\"ticks\":\"\"}}],\"histogram2d\":[{\"type\":\"histogram2d\",\"colorbar\":{\"outlinewidth\":0,\"ticks\":\"\"},\"colorscale\":[[0.0,\"#0d0887\"],[0.1111111111111111,\"#46039f\"],[0.2222222222222222,\"#7201a8\"],[0.3333333333333333,\"#9c179e\"],[0.4444444444444444,\"#bd3786\"],[0.5555555555555556,\"#d8576b\"],[0.6666666666666666,\"#ed7953\"],[0.7777777777777778,\"#fb9f3a\"],[0.8888888888888888,\"#fdca26\"],[1.0,\"#f0f921\"]]}],\"heatmap\":[{\"type\":\"heatmap\",\"colorbar\":{\"outlinewidth\":0,\"ticks\":\"\"},\"colorscale\":[[0.0,\"#0d0887\"],[0.1111111111111111,\"#46039f\"],[0.2222222222222222,\"#7201a8\"],[0.3333333333333333,\"#9c179e\"],[0.4444444444444444,\"#bd3786\"],[0.5555555555555556,\"#d8576b\"],[0.6666666666666666,\"#ed7953\"],[0.7777777777777778,\"#fb9f3a\"],[0.8888888888888888,\"#fdca26\"],[1.0,\"#f0f921\"]]}],\"heatmapgl\":[{\"type\":\"heatmapgl\",\"colorbar\":{\"outlinewidth\":0,\"ticks\":\"\"},\"colorscale\":[[0.0,\"#0d0887\"],[0.1111111111111111,\"#46039f\"],[0.2222222222222222,\"#7201a8\"],[0.3333333333333333,\"#9c179e\"],[0.4444444444444444,\"#bd3786\"],[0.5555555555555556,\"#d8576b\"],[0.6666666666666666,\"#ed7953\"],[0.7777777777777778,\"#fb9f3a\"],[0.8888888888888888,\"#fdca26\"],[1.0,\"#f0f921\"]]}],\"contourcarpet\":[{\"type\":\"contourcarpet\",\"colorbar\":{\"outlinewidth\":0,\"ticks\":\"\"}}],\"contour\":[{\"type\":\"contour\",\"colorbar\":{\"outlinewidth\":0,\"ticks\":\"\"},\"colorscale\":[[0.0,\"#0d0887\"],[0.1111111111111111,\"#46039f\"],[0.2222222222222222,\"#7201a8\"],[0.3333333333333333,\"#9c179e\"],[0.4444444444444444,\"#bd3786\"],[0.5555555555555556,\"#d8576b\"],[0.6666666666666666,\"#ed7953\"],[0.7777777777777778,\"#fb9f3a\"],[0.8888888888888888,\"#fdca26\"],[1.0,\"#f0f921\"]]}],\"surface\":[{\"type\":\"surface\",\"colorbar\":{\"outlinewidth\":0,\"ticks\":\"\"},\"colorscale\":[[0.0,\"#0d0887\"],[0.1111111111111111,\"#46039f\"],[0.2222222222222222,\"#7201a8\"],[0.3333333333333333,\"#9c179e\"],[0.4444444444444444,\"#bd3786\"],[0.5555555555555556,\"#d8576b\"],[0.6666666666666666,\"#ed7953\"],[0.7777777777777778,\"#fb9f3a\"],[0.8888888888888888,\"#fdca26\"],[1.0,\"#f0f921\"]]}],\"mesh3d\":[{\"type\":\"mesh3d\",\"colorbar\":{\"outlinewidth\":0,\"ticks\":\"\"}}],\"scatter\":[{\"fillpattern\":{\"fillmode\":\"overlay\",\"size\":10,\"solidity\":0.2},\"type\":\"scatter\"}],\"parcoords\":[{\"type\":\"parcoords\",\"line\":{\"colorbar\":{\"outlinewidth\":0,\"ticks\":\"\"}}}],\"scatterpolargl\":[{\"type\":\"scatterpolargl\",\"marker\":{\"colorbar\":{\"outlinewidth\":0,\"ticks\":\"\"}}}],\"bar\":[{\"error_x\":{\"color\":\"#2a3f5f\"},\"error_y\":{\"color\":\"#2a3f5f\"},\"marker\":{\"line\":{\"color\":\"#E5ECF6\",\"width\":0.5},\"pattern\":{\"fillmode\":\"overlay\",\"size\":10,\"solidity\":0.2}},\"type\":\"bar\"}],\"scattergeo\":[{\"type\":\"scattergeo\",\"marker\":{\"colorbar\":{\"outlinewidth\":0,\"ticks\":\"\"}}}],\"scatterpolar\":[{\"type\":\"scatterpolar\",\"marker\":{\"colorbar\":{\"outlinewidth\":0,\"ticks\":\"\"}}}],\"histogram\":[{\"marker\":{\"pattern\":{\"fillmode\":\"overlay\",\"size\":10,\"solidity\":0.2}},\"type\":\"histogram\"}],\"scattergl\":[{\"type\":\"scattergl\",\"marker\":{\"colorbar\":{\"outlinewidth\":0,\"ticks\":\"\"}}}],\"scatter3d\":[{\"type\":\"scatter3d\",\"line\":{\"colorbar\":{\"outlinewidth\":0,\"ticks\":\"\"}},\"marker\":{\"colorbar\":{\"outlinewidth\":0,\"ticks\":\"\"}}}],\"scattermapbox\":[{\"type\":\"scattermapbox\",\"marker\":{\"colorbar\":{\"outlinewidth\":0,\"ticks\":\"\"}}}],\"scatterternary\":[{\"type\":\"scatterternary\",\"marker\":{\"colorbar\":{\"outlinewidth\":0,\"ticks\":\"\"}}}],\"scattercarpet\":[{\"type\":\"scattercarpet\",\"marker\":{\"colorbar\":{\"outlinewidth\":0,\"ticks\":\"\"}}}],\"carpet\":[{\"aaxis\":{\"endlinecolor\":\"#2a3f5f\",\"gridcolor\":\"white\",\"linecolor\":\"white\",\"minorgridcolor\":\"white\",\"startlinecolor\":\"#2a3f5f\"},\"baxis\":{\"endlinecolor\":\"#2a3f5f\",\"gridcolor\":\"white\",\"linecolor\":\"white\",\"minorgridcolor\":\"white\",\"startlinecolor\":\"#2a3f5f\"},\"type\":\"carpet\"}],\"table\":[{\"cells\":{\"fill\":{\"color\":\"#EBF0F8\"},\"line\":{\"color\":\"white\"}},\"header\":{\"fill\":{\"color\":\"#C8D4E3\"},\"line\":{\"color\":\"white\"}},\"type\":\"table\"}],\"barpolar\":[{\"marker\":{\"line\":{\"color\":\"#E5ECF6\",\"width\":0.5},\"pattern\":{\"fillmode\":\"overlay\",\"size\":10,\"solidity\":0.2}},\"type\":\"barpolar\"}],\"pie\":[{\"automargin\":true,\"type\":\"pie\"}]},\"layout\":{\"autotypenumbers\":\"strict\",\"colorway\":[\"#636efa\",\"#EF553B\",\"#00cc96\",\"#ab63fa\",\"#FFA15A\",\"#19d3f3\",\"#FF6692\",\"#B6E880\",\"#FF97FF\",\"#FECB52\"],\"font\":{\"color\":\"#2a3f5f\"},\"hovermode\":\"closest\",\"hoverlabel\":{\"align\":\"left\"},\"paper_bgcolor\":\"white\",\"plot_bgcolor\":\"#E5ECF6\",\"polar\":{\"bgcolor\":\"#E5ECF6\",\"angularaxis\":{\"gridcolor\":\"white\",\"linecolor\":\"white\",\"ticks\":\"\"},\"radialaxis\":{\"gridcolor\":\"white\",\"linecolor\":\"white\",\"ticks\":\"\"}},\"ternary\":{\"bgcolor\":\"#E5ECF6\",\"aaxis\":{\"gridcolor\":\"white\",\"linecolor\":\"white\",\"ticks\":\"\"},\"baxis\":{\"gridcolor\":\"white\",\"linecolor\":\"white\",\"ticks\":\"\"},\"caxis\":{\"gridcolor\":\"white\",\"linecolor\":\"white\",\"ticks\":\"\"}},\"coloraxis\":{\"colorbar\":{\"outlinewidth\":0,\"ticks\":\"\"}},\"colorscale\":{\"sequential\":[[0.0,\"#0d0887\"],[0.1111111111111111,\"#46039f\"],[0.2222222222222222,\"#7201a8\"],[0.3333333333333333,\"#9c179e\"],[0.4444444444444444,\"#bd3786\"],[0.5555555555555556,\"#d8576b\"],[0.6666666666666666,\"#ed7953\"],[0.7777777777777778,\"#fb9f3a\"],[0.8888888888888888,\"#fdca26\"],[1.0,\"#f0f921\"]],\"sequentialminus\":[[0.0,\"#0d0887\"],[0.1111111111111111,\"#46039f\"],[0.2222222222222222,\"#7201a8\"],[0.3333333333333333,\"#9c179e\"],[0.4444444444444444,\"#bd3786\"],[0.5555555555555556,\"#d8576b\"],[0.6666666666666666,\"#ed7953\"],[0.7777777777777778,\"#fb9f3a\"],[0.8888888888888888,\"#fdca26\"],[1.0,\"#f0f921\"]],\"diverging\":[[0,\"#8e0152\"],[0.1,\"#c51b7d\"],[0.2,\"#de77ae\"],[0.3,\"#f1b6da\"],[0.4,\"#fde0ef\"],[0.5,\"#f7f7f7\"],[0.6,\"#e6f5d0\"],[0.7,\"#b8e186\"],[0.8,\"#7fbc41\"],[0.9,\"#4d9221\"],[1,\"#276419\"]]},\"xaxis\":{\"gridcolor\":\"white\",\"linecolor\":\"white\",\"ticks\":\"\",\"title\":{\"standoff\":15},\"zerolinecolor\":\"white\",\"automargin\":true,\"zerolinewidth\":2},\"yaxis\":{\"gridcolor\":\"white\",\"linecolor\":\"white\",\"ticks\":\"\",\"title\":{\"standoff\":15},\"zerolinecolor\":\"white\",\"automargin\":true,\"zerolinewidth\":2},\"scene\":{\"xaxis\":{\"backgroundcolor\":\"#E5ECF6\",\"gridcolor\":\"white\",\"linecolor\":\"white\",\"showbackground\":true,\"ticks\":\"\",\"zerolinecolor\":\"white\",\"gridwidth\":2},\"yaxis\":{\"backgroundcolor\":\"#E5ECF6\",\"gridcolor\":\"white\",\"linecolor\":\"white\",\"showbackground\":true,\"ticks\":\"\",\"zerolinecolor\":\"white\",\"gridwidth\":2},\"zaxis\":{\"backgroundcolor\":\"#E5ECF6\",\"gridcolor\":\"white\",\"linecolor\":\"white\",\"showbackground\":true,\"ticks\":\"\",\"zerolinecolor\":\"white\",\"gridwidth\":2}},\"shapedefaults\":{\"line\":{\"color\":\"#2a3f5f\"}},\"annotationdefaults\":{\"arrowcolor\":\"#2a3f5f\",\"arrowhead\":0,\"arrowwidth\":1},\"geo\":{\"bgcolor\":\"white\",\"landcolor\":\"#E5ECF6\",\"subunitcolor\":\"white\",\"showland\":true,\"showlakes\":true,\"lakecolor\":\"white\"},\"title\":{\"x\":0.05},\"mapbox\":{\"style\":\"light\"}}},\"xaxis\":{\"anchor\":\"y\",\"domain\":[0.0,1.0],\"title\":{\"text\":\"Month\"}},\"yaxis\":{\"anchor\":\"x\",\"domain\":[0.0,1.0],\"title\":{\"text\":\"Count\"}},\"legend\":{\"title\":{\"text\":\"Error Code\"},\"tracegroupgap\":0,\"orientation\":\"h\",\"x\":0.5,\"xanchor\":\"center\",\"y\":-0.2},\"title\":{\"text\":\"Error Code by Month\"},\"barmode\":\"stack\",\"height\":800},                        {\"responsive\": true}                    ).then(function(){\n",
       "                            \n",
       "var gd = document.getElementById('a2b63966-76e7-40e6-9899-ffeebf64baf3');\n",
       "var x = new MutationObserver(function (mutations, observer) {{\n",
       "        var display = window.getComputedStyle(gd).display;\n",
       "        if (!display || display === 'none') {{\n",
       "            console.log([gd, 'removed!']);\n",
       "            Plotly.purge(gd);\n",
       "            observer.disconnect();\n",
       "        }}\n",
       "}});\n",
       "\n",
       "// Listen for the removal of the full notebook cells\n",
       "var notebookContainer = gd.closest('#notebook-container');\n",
       "if (notebookContainer) {{\n",
       "    x.observe(notebookContainer, {childList: true});\n",
       "}}\n",
       "\n",
       "// Listen for the clearing of the current output cell\n",
       "var outputEl = gd.closest('.output');\n",
       "if (outputEl) {{\n",
       "    x.observe(outputEl, {childList: true});\n",
       "}}\n",
       "\n",
       "                        })                };                });            </script>        </div>"
      ]
     },
     "metadata": {},
     "output_type": "display_data"
    }
   ],
   "source": [
    "# Plot error codes\n",
    "\n",
    "fig = px.bar(\n",
    "    code_month, \n",
    "    x=\"month\", \n",
    "    y=\"count\", \n",
    "    color=\"errorCode\", \n",
    "    title=\"Error Code by Month\",\n",
    "    labels={\"month\": \"Month\", \"count\": \"Count\", \"errorCode\": \"Event Source\"},\n",
    "    hover_data={\"count\": True, \"errorCode\": True}\n",
    ")\n",
    "\n",
    "\n",
    "fig.update_layout(\n",
    "    barmode='stack',\n",
    "    xaxis=dict(title='Month'),\n",
    "    yaxis=dict(title='Count'),\n",
    "    legend=dict(title='Error Code', orientation=\"h\", x=0.5, xanchor=\"center\", y=-0.2),\n",
    "    height=800\n",
    ")\n",
    "\n",
    "\n",
    "fig.show()"
   ]
  },
  {
   "cell_type": "code",
   "execution_count": 355,
   "id": "7dd6a36b-46a2-4873-9b7f-a6dcbd881c98",
   "metadata": {
    "tags": []
   },
   "outputs": [
    {
     "data": {
      "application/vnd.plotly.v1+json": {
       "config": {
        "plotlyServerURL": "https://plot.ly"
       },
       "data": [
        {
         "alignmentgroup": "True",
         "customdata": [
          [
           "Failed authentication"
          ],
          [
           "Failed authentication"
          ],
          [
           "Failed authentication"
          ],
          [
           "Failed authentication"
          ],
          [
           "Failed authentication"
          ]
         ],
         "hovertemplate": "Error Message=%{customdata[0]}<br>Month=%{x}<br>Count=%{y}<extra></extra>",
         "legendgroup": "Failed authentication",
         "marker": {
          "color": "#636efa",
          "pattern": {
           "shape": ""
          }
         },
         "name": "Failed authentication",
         "offsetgroup": "Failed authentication",
         "orientation": "v",
         "showlegend": true,
         "textposition": "auto",
         "type": "bar",
         "x": [
          1,
          2,
          3,
          4,
          11
         ],
         "xaxis": "x",
         "y": [
          18,
          8,
          25,
          5,
          3
         ],
         "yaxis": "y"
        },
        {
         "alignmentgroup": "True",
         "customdata": [
          [
           "The Password Policy with domain name 637602092272 cannot be found."
          ],
          [
           "The Password Policy with domain name 637602092272 cannot be found."
          ]
         ],
         "hovertemplate": "Error Message=%{customdata[0]}<br>Month=%{x}<br>Count=%{y}<extra></extra>",
         "legendgroup": "The Password Policy with domain name 637602092272 cannot be found.",
         "marker": {
          "color": "#EF553B",
          "pattern": {
           "shape": ""
          }
         },
         "name": "The Password Policy with domain name 637602092272 cannot be found.",
         "offsetgroup": "The Password Policy with domain name 637602092272 cannot be found.",
         "orientation": "v",
         "showlegend": true,
         "textposition": "auto",
         "type": "bar",
         "x": [
          1,
          12
         ],
         "xaxis": "x",
         "y": [
          3,
          1
         ],
         "yaxis": "y"
        },
        {
         "alignmentgroup": "True",
         "customdata": [
          [
           "The snapshot 'snap-0c3ab6d4de940dccf' does not exist."
          ]
         ],
         "hovertemplate": "Error Message=%{customdata[0]}<br>Month=%{x}<br>Count=%{y}<extra></extra>",
         "legendgroup": "The snapshot 'snap-0c3ab6d4de940dccf' does not exist.",
         "marker": {
          "color": "#00cc96",
          "pattern": {
           "shape": ""
          }
         },
         "name": "The snapshot 'snap-0c3ab6d4de940dccf' does not exist.",
         "offsetgroup": "The snapshot 'snap-0c3ab6d4de940dccf' does not exist.",
         "orientation": "v",
         "showlegend": true,
         "textposition": "auto",
         "type": "bar",
         "x": [
          1
         ],
         "xaxis": "x",
         "y": [
          1
         ],
         "yaxis": "y"
        },
        {
         "alignmentgroup": "True",
         "customdata": [
          [
           "An unknown error occurred"
          ],
          [
           "An unknown error occurred"
          ]
         ],
         "hovertemplate": "Error Message=%{customdata[0]}<br>Month=%{x}<br>Count=%{y}<extra></extra>",
         "legendgroup": "An unknown error occurred",
         "marker": {
          "color": "#ab63fa",
          "pattern": {
           "shape": ""
          }
         },
         "name": "An unknown error occurred",
         "offsetgroup": "An unknown error occurred",
         "orientation": "v",
         "showlegend": true,
         "textposition": "auto",
         "type": "bar",
         "x": [
          2,
          3
         ],
         "xaxis": "x",
         "y": [
          9,
          4
         ],
         "yaxis": "y"
        },
        {
         "alignmentgroup": "True",
         "customdata": [
          [
           "The specified snapshot 'snap-0f656dea2c3db2153' is not locked."
          ],
          [
           "The specified snapshot 'snap-0f656dea2c3db2153' is not locked."
          ]
         ],
         "hovertemplate": "Error Message=%{customdata[0]}<br>Month=%{x}<br>Count=%{y}<extra></extra>",
         "legendgroup": "The specified snapshot 'snap-0f656dea2c3db2153' is not locked.",
         "marker": {
          "color": "#FFA15A",
          "pattern": {
           "shape": ""
          }
         },
         "name": "The specified snapshot 'snap-0f656dea2c3db2153' is not locked.",
         "offsetgroup": "The specified snapshot 'snap-0f656dea2c3db2153' is not locked.",
         "orientation": "v",
         "showlegend": true,
         "textposition": "auto",
         "type": "bar",
         "x": [
          2,
          3
         ],
         "xaxis": "x",
         "y": [
          2,
          1
         ],
         "yaxis": "y"
        },
        {
         "alignmentgroup": "True",
         "customdata": [
          [
           "the specified rule \"peer: 2.50.83.210/32, TCP, from port: 0, to port: 65535, ALLOW\" already exists"
          ]
         ],
         "hovertemplate": "Error Message=%{customdata[0]}<br>Month=%{x}<br>Count=%{y}<extra></extra>",
         "legendgroup": "the specified rule \"peer: 2.50.83.210/32, TCP, from port: 0, to port: 65535, ALLOW\" already exists",
         "marker": {
          "color": "#19d3f3",
          "pattern": {
           "shape": ""
          }
         },
         "name": "the specified rule \"peer: 2.50.83.210/32, TCP, from port: 0, to port: 65535, ALLOW\" already exists",
         "offsetgroup": "the specified rule \"peer: 2.50.83.210/32, TCP, from port: 0, to port: 65535, ALLOW\" already exists",
         "orientation": "v",
         "showlegend": true,
         "textposition": "auto",
         "type": "bar",
         "x": [
          2
         ],
         "xaxis": "x",
         "y": [
          1
         ],
         "yaxis": "y"
        },
        {
         "alignmentgroup": "True",
         "customdata": [
          [
           "An internal error has occurred"
          ]
         ],
         "hovertemplate": "Error Message=%{customdata[0]}<br>Month=%{x}<br>Count=%{y}<extra></extra>",
         "legendgroup": "An internal error has occurred",
         "marker": {
          "color": "#FF6692",
          "pattern": {
           "shape": ""
          }
         },
         "name": "An internal error has occurred",
         "offsetgroup": "An internal error has occurred",
         "orientation": "v",
         "showlegend": true,
         "textposition": "auto",
         "type": "bar",
         "x": [
          3
         ],
         "xaxis": "x",
         "y": [
          25
         ],
         "yaxis": "y"
        },
        {
         "alignmentgroup": "True",
         "customdata": [
          [
           "Object Lock configuration does not exist for this bucket"
          ]
         ],
         "hovertemplate": "Error Message=%{customdata[0]}<br>Month=%{x}<br>Count=%{y}<extra></extra>",
         "legendgroup": "Object Lock configuration does not exist for this bucket",
         "marker": {
          "color": "#B6E880",
          "pattern": {
           "shape": ""
          }
         },
         "name": "Object Lock configuration does not exist for this bucket",
         "offsetgroup": "Object Lock configuration does not exist for this bucket",
         "orientation": "v",
         "showlegend": true,
         "textposition": "auto",
         "type": "bar",
         "x": [
          3
         ],
         "xaxis": "x",
         "y": [
          10
         ],
         "yaxis": "y"
        },
        {
         "alignmentgroup": "True",
         "customdata": [
          [
           "The CORS configuration does not exist"
          ]
         ],
         "hovertemplate": "Error Message=%{customdata[0]}<br>Month=%{x}<br>Count=%{y}<extra></extra>",
         "legendgroup": "The CORS configuration does not exist",
         "marker": {
          "color": "#FF97FF",
          "pattern": {
           "shape": ""
          }
         },
         "name": "The CORS configuration does not exist",
         "offsetgroup": "The CORS configuration does not exist",
         "orientation": "v",
         "showlegend": true,
         "textposition": "auto",
         "type": "bar",
         "x": [
          3
         ],
         "xaxis": "x",
         "y": [
          3
         ],
         "yaxis": "y"
        },
        {
         "alignmentgroup": "True",
         "customdata": [
          [
           "The TagSet does not exist"
          ]
         ],
         "hovertemplate": "Error Message=%{customdata[0]}<br>Month=%{x}<br>Count=%{y}<extra></extra>",
         "legendgroup": "The TagSet does not exist",
         "marker": {
          "color": "#FECB52",
          "pattern": {
           "shape": ""
          }
         },
         "name": "The TagSet does not exist",
         "offsetgroup": "The TagSet does not exist",
         "orientation": "v",
         "showlegend": true,
         "textposition": "auto",
         "type": "bar",
         "x": [
          3
         ],
         "xaxis": "x",
         "y": [
          9
         ],
         "yaxis": "y"
        },
        {
         "alignmentgroup": "True",
         "customdata": [
          [
           "The bucket ownership controls were not found"
          ],
          [
           "The bucket ownership controls were not found"
          ]
         ],
         "hovertemplate": "Error Message=%{customdata[0]}<br>Month=%{x}<br>Count=%{y}<extra></extra>",
         "legendgroup": "The bucket ownership controls were not found",
         "marker": {
          "color": "#636efa",
          "pattern": {
           "shape": ""
          }
         },
         "name": "The bucket ownership controls were not found",
         "offsetgroup": "The bucket ownership controls were not found",
         "orientation": "v",
         "showlegend": true,
         "textposition": "auto",
         "type": "bar",
         "x": [
          3,
          6
         ],
         "xaxis": "x",
         "y": [
          41,
          20
         ],
         "yaxis": "y"
        },
        {
         "alignmentgroup": "True",
         "customdata": [
          [
           "The bucket policy does not exist"
          ]
         ],
         "hovertemplate": "Error Message=%{customdata[0]}<br>Month=%{x}<br>Count=%{y}<extra></extra>",
         "legendgroup": "The bucket policy does not exist",
         "marker": {
          "color": "#EF553B",
          "pattern": {
           "shape": ""
          }
         },
         "name": "The bucket policy does not exist",
         "offsetgroup": "The bucket policy does not exist",
         "orientation": "v",
         "showlegend": true,
         "textposition": "auto",
         "type": "bar",
         "x": [
          3
         ],
         "xaxis": "x",
         "y": [
          36
         ],
         "yaxis": "y"
        },
        {
         "alignmentgroup": "True",
         "customdata": [
          [
           "The lifecycle configuration does not exist"
          ]
         ],
         "hovertemplate": "Error Message=%{customdata[0]}<br>Month=%{x}<br>Count=%{y}<extra></extra>",
         "legendgroup": "The lifecycle configuration does not exist",
         "marker": {
          "color": "#00cc96",
          "pattern": {
           "shape": ""
          }
         },
         "name": "The lifecycle configuration does not exist",
         "offsetgroup": "The lifecycle configuration does not exist",
         "orientation": "v",
         "showlegend": true,
         "textposition": "auto",
         "type": "bar",
         "x": [
          3
         ],
         "xaxis": "x",
         "y": [
          2
         ],
         "yaxis": "y"
        },
        {
         "alignmentgroup": "True",
         "customdata": [
          [
           "The public access block configuration was not found"
          ]
         ],
         "hovertemplate": "Error Message=%{customdata[0]}<br>Month=%{x}<br>Count=%{y}<extra></extra>",
         "legendgroup": "The public access block configuration was not found",
         "marker": {
          "color": "#ab63fa",
          "pattern": {
           "shape": ""
          }
         },
         "name": "The public access block configuration was not found",
         "offsetgroup": "The public access block configuration was not found",
         "orientation": "v",
         "showlegend": true,
         "textposition": "auto",
         "type": "bar",
         "x": [
          3
         ],
         "xaxis": "x",
         "y": [
          66
         ],
         "yaxis": "y"
        },
        {
         "alignmentgroup": "True",
         "customdata": [
          [
           "The replication configuration was not found"
          ]
         ],
         "hovertemplate": "Error Message=%{customdata[0]}<br>Month=%{x}<br>Count=%{y}<extra></extra>",
         "legendgroup": "The replication configuration was not found",
         "marker": {
          "color": "#FFA15A",
          "pattern": {
           "shape": ""
          }
         },
         "name": "The replication configuration was not found",
         "offsetgroup": "The replication configuration was not found",
         "orientation": "v",
         "showlegend": true,
         "textposition": "auto",
         "type": "bar",
         "x": [
          3
         ],
         "xaxis": "x",
         "y": [
          7
         ],
         "yaxis": "y"
        },
        {
         "alignmentgroup": "True",
         "customdata": [
          [
           "The specified bucket does not have a website configuration"
          ]
         ],
         "hovertemplate": "Error Message=%{customdata[0]}<br>Month=%{x}<br>Count=%{y}<extra></extra>",
         "legendgroup": "The specified bucket does not have a website configuration",
         "marker": {
          "color": "#19d3f3",
          "pattern": {
           "shape": ""
          }
         },
         "name": "The specified bucket does not have a website configuration",
         "offsetgroup": "The specified bucket does not have a website configuration",
         "orientation": "v",
         "showlegend": true,
         "textposition": "auto",
         "type": "bar",
         "x": [
          3
         ],
         "xaxis": "x",
         "y": [
          10
         ],
         "yaxis": "y"
        },
        {
         "alignmentgroup": "True",
         "customdata": [
          [
           "The volume 'vol-0038a938cb1635720' does not exist."
          ]
         ],
         "hovertemplate": "Error Message=%{customdata[0]}<br>Month=%{x}<br>Count=%{y}<extra></extra>",
         "legendgroup": "The volume 'vol-0038a938cb1635720' does not exist.",
         "marker": {
          "color": "#FF6692",
          "pattern": {
           "shape": ""
          }
         },
         "name": "The volume 'vol-0038a938cb1635720' does not exist.",
         "offsetgroup": "The volume 'vol-0038a938cb1635720' does not exist.",
         "orientation": "v",
         "showlegend": true,
         "textposition": "auto",
         "type": "bar",
         "x": [
          3
         ],
         "xaxis": "x",
         "y": [
          1
         ],
         "yaxis": "y"
        },
        {
         "alignmentgroup": "True",
         "customdata": [
          [
           "The specified bucket does not exist"
          ]
         ],
         "hovertemplate": "Error Message=%{customdata[0]}<br>Month=%{x}<br>Count=%{y}<extra></extra>",
         "legendgroup": "The specified bucket does not exist",
         "marker": {
          "color": "#B6E880",
          "pattern": {
           "shape": ""
          }
         },
         "name": "The specified bucket does not exist",
         "offsetgroup": "The specified bucket does not exist",
         "orientation": "v",
         "showlegend": true,
         "textposition": "auto",
         "type": "bar",
         "x": [
          6
         ],
         "xaxis": "x",
         "y": [
          1
         ],
         "yaxis": "y"
        },
        {
         "alignmentgroup": "True",
         "customdata": [
          [
           "Trail arn:aws:cloudtrail:us-east-1:637602092272:trail/management-events does not have Insights enabled. Edit the trail settings to enable Insights, and then try the operation again."
          ],
          [
           "Trail arn:aws:cloudtrail:us-east-1:637602092272:trail/management-events does not have Insights enabled. Edit the trail settings to enable Insights, and then try the operation again."
          ]
         ],
         "hovertemplate": "Error Message=%{customdata[0]}<br>Month=%{x}<br>Count=%{y}<extra></extra>",
         "legendgroup": "Trail arn:aws:cloudtrail:us-east-1:637602092272:trail/management-events does not have Insights enabled. Edit the trail settings to enable Insights, and then try the operation again.",
         "marker": {
          "color": "#FF97FF",
          "pattern": {
           "shape": ""
          }
         },
         "name": "Trail arn:aws:cloudtrail:us-east-1:637602092272:trail/management-events does not have Insights enabled. Edit the trail settings to enable Insights, and then try the operation again.",
         "offsetgroup": "Trail arn:aws:cloudtrail:us-east-1:637602092272:trail/management-events does not have Insights enabled. Edit the trail settings to enable Insights, and then try the operation again.",
         "orientation": "v",
         "showlegend": true,
         "textposition": "auto",
         "type": "bar",
         "x": [
          6,
          10
         ],
         "xaxis": "x",
         "y": [
          3,
          4
         ],
         "yaxis": "y"
        },
        {
         "alignmentgroup": "True",
         "customdata": [
          [
           "natasha does not exist"
          ]
         ],
         "hovertemplate": "Error Message=%{customdata[0]}<br>Month=%{x}<br>Count=%{y}<extra></extra>",
         "legendgroup": "natasha does not exist",
         "marker": {
          "color": "#FECB52",
          "pattern": {
           "shape": ""
          }
         },
         "name": "natasha does not exist",
         "offsetgroup": "natasha does not exist",
         "orientation": "v",
         "showlegend": true,
         "textposition": "auto",
         "type": "bar",
         "x": [
          6
         ],
         "xaxis": "x",
         "y": [
          1
         ],
         "yaxis": "y"
        },
        {
         "alignmentgroup": "True",
         "customdata": [
          [
           "one does not exist"
          ]
         ],
         "hovertemplate": "Error Message=%{customdata[0]}<br>Month=%{x}<br>Count=%{y}<extra></extra>",
         "legendgroup": "one does not exist",
         "marker": {
          "color": "#636efa",
          "pattern": {
           "shape": ""
          }
         },
         "name": "one does not exist",
         "offsetgroup": "one does not exist",
         "orientation": "v",
         "showlegend": true,
         "textposition": "auto",
         "type": "bar",
         "x": [
          6
         ],
         "xaxis": "x",
         "y": [
          1
         ],
         "yaxis": "y"
        },
        {
         "alignmentgroup": "True",
         "customdata": [
          [
           "tester does not exist"
          ]
         ],
         "hovertemplate": "Error Message=%{customdata[0]}<br>Month=%{x}<br>Count=%{y}<extra></extra>",
         "legendgroup": "tester does not exist",
         "marker": {
          "color": "#EF553B",
          "pattern": {
           "shape": ""
          }
         },
         "name": "tester does not exist",
         "offsetgroup": "tester does not exist",
         "orientation": "v",
         "showlegend": true,
         "textposition": "auto",
         "type": "bar",
         "x": [
          6
         ],
         "xaxis": "x",
         "y": [
          1
         ],
         "yaxis": "y"
        },
        {
         "alignmentgroup": "True",
         "customdata": [
          [
           "two does not exist"
          ]
         ],
         "hovertemplate": "Error Message=%{customdata[0]}<br>Month=%{x}<br>Count=%{y}<extra></extra>",
         "legendgroup": "two does not exist",
         "marker": {
          "color": "#00cc96",
          "pattern": {
           "shape": ""
          }
         },
         "name": "two does not exist",
         "offsetgroup": "two does not exist",
         "orientation": "v",
         "showlegend": true,
         "textposition": "auto",
         "type": "bar",
         "x": [
          6
         ],
         "xaxis": "x",
         "y": [
          1
         ],
         "yaxis": "y"
        },
        {
         "alignmentgroup": "True",
         "customdata": [
          [
           "The role with name AWSServiceRoleForAmazonOpenSearchService cannot be found."
          ]
         ],
         "hovertemplate": "Error Message=%{customdata[0]}<br>Month=%{x}<br>Count=%{y}<extra></extra>",
         "legendgroup": "The role with name AWSServiceRoleForAmazonOpenSearchService cannot be found.",
         "marker": {
          "color": "#ab63fa",
          "pattern": {
           "shape": ""
          }
         },
         "name": "The role with name AWSServiceRoleForAmazonOpenSearchService cannot be found.",
         "offsetgroup": "The role with name AWSServiceRoleForAmazonOpenSearchService cannot be found.",
         "orientation": "v",
         "showlegend": true,
         "textposition": "auto",
         "type": "bar",
         "x": [
          11
         ],
         "xaxis": "x",
         "y": [
          1
         ],
         "yaxis": "y"
        },
        {
         "alignmentgroup": "True",
         "customdata": [
          [
           "Dimensions expression's values cannot be empty"
          ]
         ],
         "hovertemplate": "Error Message=%{customdata[0]}<br>Month=%{x}<br>Count=%{y}<extra></extra>",
         "legendgroup": "Dimensions expression's values cannot be empty",
         "marker": {
          "color": "#FFA15A",
          "pattern": {
           "shape": ""
          }
         },
         "name": "Dimensions expression's values cannot be empty",
         "offsetgroup": "Dimensions expression's values cannot be empty",
         "orientation": "v",
         "showlegend": true,
         "textposition": "auto",
         "type": "bar",
         "x": [
          12
         ],
         "xaxis": "x",
         "y": [
          2
         ],
         "yaxis": "y"
        },
        {
         "alignmentgroup": "True",
         "customdata": [
          [
           "The security group 'sg-0b0cff290f612781d' does not exist"
          ]
         ],
         "hovertemplate": "Error Message=%{customdata[0]}<br>Month=%{x}<br>Count=%{y}<extra></extra>",
         "legendgroup": "The security group 'sg-0b0cff290f612781d' does not exist",
         "marker": {
          "color": "#19d3f3",
          "pattern": {
           "shape": ""
          }
         },
         "name": "The security group 'sg-0b0cff290f612781d' does not exist",
         "offsetgroup": "The security group 'sg-0b0cff290f612781d' does not exist",
         "orientation": "v",
         "showlegend": true,
         "textposition": "auto",
         "type": "bar",
         "x": [
          12
         ],
         "xaxis": "x",
         "y": [
          2
         ],
         "yaxis": "y"
        },
        {
         "alignmentgroup": "True",
         "customdata": [
          [
           "We messed up somewhere, sorry. There was an internal error with the service."
          ]
         ],
         "hovertemplate": "Error Message=%{customdata[0]}<br>Month=%{x}<br>Count=%{y}<extra></extra>",
         "legendgroup": "We messed up somewhere, sorry. There was an internal error with the service.",
         "marker": {
          "color": "#FF6692",
          "pattern": {
           "shape": ""
          }
         },
         "name": "We messed up somewhere, sorry. There was an internal error with the service.",
         "offsetgroup": "We messed up somewhere, sorry. There was an internal error with the service.",
         "orientation": "v",
         "showlegend": true,
         "textposition": "auto",
         "type": "bar",
         "x": [
          12
         ],
         "xaxis": "x",
         "y": [
          3
         ],
         "yaxis": "y"
        }
       ],
       "layout": {
        "autosize": true,
        "barmode": "stack",
        "legend": {
         "orientation": "h",
         "title": {
          "text": "Error Message"
         },
         "tracegroupgap": 0,
         "x": 0.5,
         "xanchor": "center",
         "y": -0.2
        },
        "template": {
         "data": {
          "bar": [
           {
            "error_x": {
             "color": "#2a3f5f"
            },
            "error_y": {
             "color": "#2a3f5f"
            },
            "marker": {
             "line": {
              "color": "#E5ECF6",
              "width": 0.5
             },
             "pattern": {
              "fillmode": "overlay",
              "size": 10,
              "solidity": 0.2
             }
            },
            "type": "bar"
           }
          ],
          "barpolar": [
           {
            "marker": {
             "line": {
              "color": "#E5ECF6",
              "width": 0.5
             },
             "pattern": {
              "fillmode": "overlay",
              "size": 10,
              "solidity": 0.2
             }
            },
            "type": "barpolar"
           }
          ],
          "carpet": [
           {
            "aaxis": {
             "endlinecolor": "#2a3f5f",
             "gridcolor": "white",
             "linecolor": "white",
             "minorgridcolor": "white",
             "startlinecolor": "#2a3f5f"
            },
            "baxis": {
             "endlinecolor": "#2a3f5f",
             "gridcolor": "white",
             "linecolor": "white",
             "minorgridcolor": "white",
             "startlinecolor": "#2a3f5f"
            },
            "type": "carpet"
           }
          ],
          "choropleth": [
           {
            "colorbar": {
             "outlinewidth": 0,
             "ticks": ""
            },
            "type": "choropleth"
           }
          ],
          "contour": [
           {
            "colorbar": {
             "outlinewidth": 0,
             "ticks": ""
            },
            "colorscale": [
             [
              0,
              "#0d0887"
             ],
             [
              0.1111111111111111,
              "#46039f"
             ],
             [
              0.2222222222222222,
              "#7201a8"
             ],
             [
              0.3333333333333333,
              "#9c179e"
             ],
             [
              0.4444444444444444,
              "#bd3786"
             ],
             [
              0.5555555555555556,
              "#d8576b"
             ],
             [
              0.6666666666666666,
              "#ed7953"
             ],
             [
              0.7777777777777778,
              "#fb9f3a"
             ],
             [
              0.8888888888888888,
              "#fdca26"
             ],
             [
              1,
              "#f0f921"
             ]
            ],
            "type": "contour"
           }
          ],
          "contourcarpet": [
           {
            "colorbar": {
             "outlinewidth": 0,
             "ticks": ""
            },
            "type": "contourcarpet"
           }
          ],
          "heatmap": [
           {
            "colorbar": {
             "outlinewidth": 0,
             "ticks": ""
            },
            "colorscale": [
             [
              0,
              "#0d0887"
             ],
             [
              0.1111111111111111,
              "#46039f"
             ],
             [
              0.2222222222222222,
              "#7201a8"
             ],
             [
              0.3333333333333333,
              "#9c179e"
             ],
             [
              0.4444444444444444,
              "#bd3786"
             ],
             [
              0.5555555555555556,
              "#d8576b"
             ],
             [
              0.6666666666666666,
              "#ed7953"
             ],
             [
              0.7777777777777778,
              "#fb9f3a"
             ],
             [
              0.8888888888888888,
              "#fdca26"
             ],
             [
              1,
              "#f0f921"
             ]
            ],
            "type": "heatmap"
           }
          ],
          "heatmapgl": [
           {
            "colorbar": {
             "outlinewidth": 0,
             "ticks": ""
            },
            "colorscale": [
             [
              0,
              "#0d0887"
             ],
             [
              0.1111111111111111,
              "#46039f"
             ],
             [
              0.2222222222222222,
              "#7201a8"
             ],
             [
              0.3333333333333333,
              "#9c179e"
             ],
             [
              0.4444444444444444,
              "#bd3786"
             ],
             [
              0.5555555555555556,
              "#d8576b"
             ],
             [
              0.6666666666666666,
              "#ed7953"
             ],
             [
              0.7777777777777778,
              "#fb9f3a"
             ],
             [
              0.8888888888888888,
              "#fdca26"
             ],
             [
              1,
              "#f0f921"
             ]
            ],
            "type": "heatmapgl"
           }
          ],
          "histogram": [
           {
            "marker": {
             "pattern": {
              "fillmode": "overlay",
              "size": 10,
              "solidity": 0.2
             }
            },
            "type": "histogram"
           }
          ],
          "histogram2d": [
           {
            "colorbar": {
             "outlinewidth": 0,
             "ticks": ""
            },
            "colorscale": [
             [
              0,
              "#0d0887"
             ],
             [
              0.1111111111111111,
              "#46039f"
             ],
             [
              0.2222222222222222,
              "#7201a8"
             ],
             [
              0.3333333333333333,
              "#9c179e"
             ],
             [
              0.4444444444444444,
              "#bd3786"
             ],
             [
              0.5555555555555556,
              "#d8576b"
             ],
             [
              0.6666666666666666,
              "#ed7953"
             ],
             [
              0.7777777777777778,
              "#fb9f3a"
             ],
             [
              0.8888888888888888,
              "#fdca26"
             ],
             [
              1,
              "#f0f921"
             ]
            ],
            "type": "histogram2d"
           }
          ],
          "histogram2dcontour": [
           {
            "colorbar": {
             "outlinewidth": 0,
             "ticks": ""
            },
            "colorscale": [
             [
              0,
              "#0d0887"
             ],
             [
              0.1111111111111111,
              "#46039f"
             ],
             [
              0.2222222222222222,
              "#7201a8"
             ],
             [
              0.3333333333333333,
              "#9c179e"
             ],
             [
              0.4444444444444444,
              "#bd3786"
             ],
             [
              0.5555555555555556,
              "#d8576b"
             ],
             [
              0.6666666666666666,
              "#ed7953"
             ],
             [
              0.7777777777777778,
              "#fb9f3a"
             ],
             [
              0.8888888888888888,
              "#fdca26"
             ],
             [
              1,
              "#f0f921"
             ]
            ],
            "type": "histogram2dcontour"
           }
          ],
          "mesh3d": [
           {
            "colorbar": {
             "outlinewidth": 0,
             "ticks": ""
            },
            "type": "mesh3d"
           }
          ],
          "parcoords": [
           {
            "line": {
             "colorbar": {
              "outlinewidth": 0,
              "ticks": ""
             }
            },
            "type": "parcoords"
           }
          ],
          "pie": [
           {
            "automargin": true,
            "type": "pie"
           }
          ],
          "scatter": [
           {
            "fillpattern": {
             "fillmode": "overlay",
             "size": 10,
             "solidity": 0.2
            },
            "type": "scatter"
           }
          ],
          "scatter3d": [
           {
            "line": {
             "colorbar": {
              "outlinewidth": 0,
              "ticks": ""
             }
            },
            "marker": {
             "colorbar": {
              "outlinewidth": 0,
              "ticks": ""
             }
            },
            "type": "scatter3d"
           }
          ],
          "scattercarpet": [
           {
            "marker": {
             "colorbar": {
              "outlinewidth": 0,
              "ticks": ""
             }
            },
            "type": "scattercarpet"
           }
          ],
          "scattergeo": [
           {
            "marker": {
             "colorbar": {
              "outlinewidth": 0,
              "ticks": ""
             }
            },
            "type": "scattergeo"
           }
          ],
          "scattergl": [
           {
            "marker": {
             "colorbar": {
              "outlinewidth": 0,
              "ticks": ""
             }
            },
            "type": "scattergl"
           }
          ],
          "scattermapbox": [
           {
            "marker": {
             "colorbar": {
              "outlinewidth": 0,
              "ticks": ""
             }
            },
            "type": "scattermapbox"
           }
          ],
          "scatterpolar": [
           {
            "marker": {
             "colorbar": {
              "outlinewidth": 0,
              "ticks": ""
             }
            },
            "type": "scatterpolar"
           }
          ],
          "scatterpolargl": [
           {
            "marker": {
             "colorbar": {
              "outlinewidth": 0,
              "ticks": ""
             }
            },
            "type": "scatterpolargl"
           }
          ],
          "scatterternary": [
           {
            "marker": {
             "colorbar": {
              "outlinewidth": 0,
              "ticks": ""
             }
            },
            "type": "scatterternary"
           }
          ],
          "surface": [
           {
            "colorbar": {
             "outlinewidth": 0,
             "ticks": ""
            },
            "colorscale": [
             [
              0,
              "#0d0887"
             ],
             [
              0.1111111111111111,
              "#46039f"
             ],
             [
              0.2222222222222222,
              "#7201a8"
             ],
             [
              0.3333333333333333,
              "#9c179e"
             ],
             [
              0.4444444444444444,
              "#bd3786"
             ],
             [
              0.5555555555555556,
              "#d8576b"
             ],
             [
              0.6666666666666666,
              "#ed7953"
             ],
             [
              0.7777777777777778,
              "#fb9f3a"
             ],
             [
              0.8888888888888888,
              "#fdca26"
             ],
             [
              1,
              "#f0f921"
             ]
            ],
            "type": "surface"
           }
          ],
          "table": [
           {
            "cells": {
             "fill": {
              "color": "#EBF0F8"
             },
             "line": {
              "color": "white"
             }
            },
            "header": {
             "fill": {
              "color": "#C8D4E3"
             },
             "line": {
              "color": "white"
             }
            },
            "type": "table"
           }
          ]
         },
         "layout": {
          "annotationdefaults": {
           "arrowcolor": "#2a3f5f",
           "arrowhead": 0,
           "arrowwidth": 1
          },
          "autotypenumbers": "strict",
          "coloraxis": {
           "colorbar": {
            "outlinewidth": 0,
            "ticks": ""
           }
          },
          "colorscale": {
           "diverging": [
            [
             0,
             "#8e0152"
            ],
            [
             0.1,
             "#c51b7d"
            ],
            [
             0.2,
             "#de77ae"
            ],
            [
             0.3,
             "#f1b6da"
            ],
            [
             0.4,
             "#fde0ef"
            ],
            [
             0.5,
             "#f7f7f7"
            ],
            [
             0.6,
             "#e6f5d0"
            ],
            [
             0.7,
             "#b8e186"
            ],
            [
             0.8,
             "#7fbc41"
            ],
            [
             0.9,
             "#4d9221"
            ],
            [
             1,
             "#276419"
            ]
           ],
           "sequential": [
            [
             0,
             "#0d0887"
            ],
            [
             0.1111111111111111,
             "#46039f"
            ],
            [
             0.2222222222222222,
             "#7201a8"
            ],
            [
             0.3333333333333333,
             "#9c179e"
            ],
            [
             0.4444444444444444,
             "#bd3786"
            ],
            [
             0.5555555555555556,
             "#d8576b"
            ],
            [
             0.6666666666666666,
             "#ed7953"
            ],
            [
             0.7777777777777778,
             "#fb9f3a"
            ],
            [
             0.8888888888888888,
             "#fdca26"
            ],
            [
             1,
             "#f0f921"
            ]
           ],
           "sequentialminus": [
            [
             0,
             "#0d0887"
            ],
            [
             0.1111111111111111,
             "#46039f"
            ],
            [
             0.2222222222222222,
             "#7201a8"
            ],
            [
             0.3333333333333333,
             "#9c179e"
            ],
            [
             0.4444444444444444,
             "#bd3786"
            ],
            [
             0.5555555555555556,
             "#d8576b"
            ],
            [
             0.6666666666666666,
             "#ed7953"
            ],
            [
             0.7777777777777778,
             "#fb9f3a"
            ],
            [
             0.8888888888888888,
             "#fdca26"
            ],
            [
             1,
             "#f0f921"
            ]
           ]
          },
          "colorway": [
           "#636efa",
           "#EF553B",
           "#00cc96",
           "#ab63fa",
           "#FFA15A",
           "#19d3f3",
           "#FF6692",
           "#B6E880",
           "#FF97FF",
           "#FECB52"
          ],
          "font": {
           "color": "#2a3f5f"
          },
          "geo": {
           "bgcolor": "white",
           "lakecolor": "white",
           "landcolor": "#E5ECF6",
           "showlakes": true,
           "showland": true,
           "subunitcolor": "white"
          },
          "hoverlabel": {
           "align": "left"
          },
          "hovermode": "closest",
          "mapbox": {
           "style": "light"
          },
          "paper_bgcolor": "white",
          "plot_bgcolor": "#E5ECF6",
          "polar": {
           "angularaxis": {
            "gridcolor": "white",
            "linecolor": "white",
            "ticks": ""
           },
           "bgcolor": "#E5ECF6",
           "radialaxis": {
            "gridcolor": "white",
            "linecolor": "white",
            "ticks": ""
           }
          },
          "scene": {
           "xaxis": {
            "backgroundcolor": "#E5ECF6",
            "gridcolor": "white",
            "gridwidth": 2,
            "linecolor": "white",
            "showbackground": true,
            "ticks": "",
            "zerolinecolor": "white"
           },
           "yaxis": {
            "backgroundcolor": "#E5ECF6",
            "gridcolor": "white",
            "gridwidth": 2,
            "linecolor": "white",
            "showbackground": true,
            "ticks": "",
            "zerolinecolor": "white"
           },
           "zaxis": {
            "backgroundcolor": "#E5ECF6",
            "gridcolor": "white",
            "gridwidth": 2,
            "linecolor": "white",
            "showbackground": true,
            "ticks": "",
            "zerolinecolor": "white"
           }
          },
          "shapedefaults": {
           "line": {
            "color": "#2a3f5f"
           }
          },
          "ternary": {
           "aaxis": {
            "gridcolor": "white",
            "linecolor": "white",
            "ticks": ""
           },
           "baxis": {
            "gridcolor": "white",
            "linecolor": "white",
            "ticks": ""
           },
           "bgcolor": "#E5ECF6",
           "caxis": {
            "gridcolor": "white",
            "linecolor": "white",
            "ticks": ""
           }
          },
          "title": {
           "x": 0.05
          },
          "xaxis": {
           "automargin": true,
           "gridcolor": "white",
           "linecolor": "white",
           "ticks": "",
           "title": {
            "standoff": 15
           },
           "zerolinecolor": "white",
           "zerolinewidth": 2
          },
          "yaxis": {
           "automargin": true,
           "gridcolor": "white",
           "linecolor": "white",
           "ticks": "",
           "title": {
            "standoff": 15
           },
           "zerolinecolor": "white",
           "zerolinewidth": 2
          }
         }
        },
        "title": {
         "text": "Error Messages by Month"
        },
        "xaxis": {
         "anchor": "y",
         "autorange": true,
         "domain": [
          0,
          1
         ],
         "range": [
          0.5,
          12.5
         ],
         "title": {
          "text": "Month"
         },
         "type": "linear"
        },
        "yaxis": {
         "anchor": "x",
         "autorange": true,
         "domain": [
          0,
          1
         ],
         "range": [
          0,
          252.6315789473684
         ],
         "title": {
          "text": "Count"
         },
         "type": "linear"
        }
       }
      },
      "image/png": "[encoded data removed]",
      "text/html": [
       "<div>                            <div id=\"06a124c8-5ba8-41e5-a7f4-38c8fece3af8\" class=\"plotly-graph-div\" style=\"height:800px; width:100%;\"></div>            <script type=\"text/javascript\">                require([\"plotly\"], function(Plotly) {                    window.PLOTLYENV=window.PLOTLYENV || {};                                    if (document.getElementById(\"06a124c8-5ba8-41e5-a7f4-38c8fece3af8\")) {                    Plotly.newPlot(                        \"06a124c8-5ba8-41e5-a7f4-38c8fece3af8\",                        [{\"alignmentgroup\":\"True\",\"customdata\":[[\"Failed authentication\"],[\"Failed authentication\"],[\"Failed authentication\"],[\"Failed authentication\"],[\"Failed authentication\"]],\"hovertemplate\":\"Error Message=%{customdata[0]}<br>Month=%{x}<br>Count=%{y}<extra></extra>\",\"legendgroup\":\"Failed authentication\",\"marker\":{\"color\":\"#636efa\",\"pattern\":{\"shape\":\"\"}},\"name\":\"Failed authentication\",\"offsetgroup\":\"Failed authentication\",\"orientation\":\"v\",\"showlegend\":true,\"textposition\":\"auto\",\"x\":[1,2,3,4,11],\"xaxis\":\"x\",\"y\":[18,8,25,5,3],\"yaxis\":\"y\",\"type\":\"bar\"},{\"alignmentgroup\":\"True\",\"customdata\":[[\"The Password Policy with domain name 637602092272 cannot be found.\"],[\"The Password Policy with domain name 637602092272 cannot be found.\"]],\"hovertemplate\":\"Error Message=%{customdata[0]}<br>Month=%{x}<br>Count=%{y}<extra></extra>\",\"legendgroup\":\"The Password Policy with domain name 637602092272 cannot be found.\",\"marker\":{\"color\":\"#EF553B\",\"pattern\":{\"shape\":\"\"}},\"name\":\"The Password Policy with domain name 637602092272 cannot be found.\",\"offsetgroup\":\"The Password Policy with domain name 637602092272 cannot be found.\",\"orientation\":\"v\",\"showlegend\":true,\"textposition\":\"auto\",\"x\":[1,12],\"xaxis\":\"x\",\"y\":[3,1],\"yaxis\":\"y\",\"type\":\"bar\"},{\"alignmentgroup\":\"True\",\"customdata\":[[\"The snapshot 'snap-0c3ab6d4de940dccf' does not exist.\"]],\"hovertemplate\":\"Error Message=%{customdata[0]}<br>Month=%{x}<br>Count=%{y}<extra></extra>\",\"legendgroup\":\"The snapshot 'snap-0c3ab6d4de940dccf' does not exist.\",\"marker\":{\"color\":\"#00cc96\",\"pattern\":{\"shape\":\"\"}},\"name\":\"The snapshot 'snap-0c3ab6d4de940dccf' does not exist.\",\"offsetgroup\":\"The snapshot 'snap-0c3ab6d4de940dccf' does not exist.\",\"orientation\":\"v\",\"showlegend\":true,\"textposition\":\"auto\",\"x\":[1],\"xaxis\":\"x\",\"y\":[1],\"yaxis\":\"y\",\"type\":\"bar\"},{\"alignmentgroup\":\"True\",\"customdata\":[[\"An unknown error occurred\"],[\"An unknown error occurred\"]],\"hovertemplate\":\"Error Message=%{customdata[0]}<br>Month=%{x}<br>Count=%{y}<extra></extra>\",\"legendgroup\":\"An unknown error occurred\",\"marker\":{\"color\":\"#ab63fa\",\"pattern\":{\"shape\":\"\"}},\"name\":\"An unknown error occurred\",\"offsetgroup\":\"An unknown error occurred\",\"orientation\":\"v\",\"showlegend\":true,\"textposition\":\"auto\",\"x\":[2,3],\"xaxis\":\"x\",\"y\":[9,4],\"yaxis\":\"y\",\"type\":\"bar\"},{\"alignmentgroup\":\"True\",\"customdata\":[[\"The specified snapshot 'snap-0f656dea2c3db2153' is not locked.\"],[\"The specified snapshot 'snap-0f656dea2c3db2153' is not locked.\"]],\"hovertemplate\":\"Error Message=%{customdata[0]}<br>Month=%{x}<br>Count=%{y}<extra></extra>\",\"legendgroup\":\"The specified snapshot 'snap-0f656dea2c3db2153' is not locked.\",\"marker\":{\"color\":\"#FFA15A\",\"pattern\":{\"shape\":\"\"}},\"name\":\"The specified snapshot 'snap-0f656dea2c3db2153' is not locked.\",\"offsetgroup\":\"The specified snapshot 'snap-0f656dea2c3db2153' is not locked.\",\"orientation\":\"v\",\"showlegend\":true,\"textposition\":\"auto\",\"x\":[2,3],\"xaxis\":\"x\",\"y\":[2,1],\"yaxis\":\"y\",\"type\":\"bar\"},{\"alignmentgroup\":\"True\",\"customdata\":[[\"the specified rule \\\"peer: 2.50.83.210/32, TCP, from port: 0, to port: 65535, ALLOW\\\" already exists\"]],\"hovertemplate\":\"Error Message=%{customdata[0]}<br>Month=%{x}<br>Count=%{y}<extra></extra>\",\"legendgroup\":\"the specified rule \\\"peer: 2.50.83.210/32, TCP, from port: 0, to port: 65535, ALLOW\\\" already exists\",\"marker\":{\"color\":\"#19d3f3\",\"pattern\":{\"shape\":\"\"}},\"name\":\"the specified rule \\\"peer: 2.50.83.210/32, TCP, from port: 0, to port: 65535, ALLOW\\\" already exists\",\"offsetgroup\":\"the specified rule \\\"peer: 2.50.83.210/32, TCP, from port: 0, to port: 65535, ALLOW\\\" already exists\",\"orientation\":\"v\",\"showlegend\":true,\"textposition\":\"auto\",\"x\":[2],\"xaxis\":\"x\",\"y\":[1],\"yaxis\":\"y\",\"type\":\"bar\"},{\"alignmentgroup\":\"True\",\"customdata\":[[\"An internal error has occurred\"]],\"hovertemplate\":\"Error Message=%{customdata[0]}<br>Month=%{x}<br>Count=%{y}<extra></extra>\",\"legendgroup\":\"An internal error has occurred\",\"marker\":{\"color\":\"#FF6692\",\"pattern\":{\"shape\":\"\"}},\"name\":\"An internal error has occurred\",\"offsetgroup\":\"An internal error has occurred\",\"orientation\":\"v\",\"showlegend\":true,\"textposition\":\"auto\",\"x\":[3],\"xaxis\":\"x\",\"y\":[25],\"yaxis\":\"y\",\"type\":\"bar\"},{\"alignmentgroup\":\"True\",\"customdata\":[[\"Object Lock configuration does not exist for this bucket\"]],\"hovertemplate\":\"Error Message=%{customdata[0]}<br>Month=%{x}<br>Count=%{y}<extra></extra>\",\"legendgroup\":\"Object Lock configuration does not exist for this bucket\",\"marker\":{\"color\":\"#B6E880\",\"pattern\":{\"shape\":\"\"}},\"name\":\"Object Lock configuration does not exist for this bucket\",\"offsetgroup\":\"Object Lock configuration does not exist for this bucket\",\"orientation\":\"v\",\"showlegend\":true,\"textposition\":\"auto\",\"x\":[3],\"xaxis\":\"x\",\"y\":[10],\"yaxis\":\"y\",\"type\":\"bar\"},{\"alignmentgroup\":\"True\",\"customdata\":[[\"The CORS configuration does not exist\"]],\"hovertemplate\":\"Error Message=%{customdata[0]}<br>Month=%{x}<br>Count=%{y}<extra></extra>\",\"legendgroup\":\"The CORS configuration does not exist\",\"marker\":{\"color\":\"#FF97FF\",\"pattern\":{\"shape\":\"\"}},\"name\":\"The CORS configuration does not exist\",\"offsetgroup\":\"The CORS configuration does not exist\",\"orientation\":\"v\",\"showlegend\":true,\"textposition\":\"auto\",\"x\":[3],\"xaxis\":\"x\",\"y\":[3],\"yaxis\":\"y\",\"type\":\"bar\"},{\"alignmentgroup\":\"True\",\"customdata\":[[\"The TagSet does not exist\"]],\"hovertemplate\":\"Error Message=%{customdata[0]}<br>Month=%{x}<br>Count=%{y}<extra></extra>\",\"legendgroup\":\"The TagSet does not exist\",\"marker\":{\"color\":\"#FECB52\",\"pattern\":{\"shape\":\"\"}},\"name\":\"The TagSet does not exist\",\"offsetgroup\":\"The TagSet does not exist\",\"orientation\":\"v\",\"showlegend\":true,\"textposition\":\"auto\",\"x\":[3],\"xaxis\":\"x\",\"y\":[9],\"yaxis\":\"y\",\"type\":\"bar\"},{\"alignmentgroup\":\"True\",\"customdata\":[[\"The bucket ownership controls were not found\"],[\"The bucket ownership controls were not found\"]],\"hovertemplate\":\"Error Message=%{customdata[0]}<br>Month=%{x}<br>Count=%{y}<extra></extra>\",\"legendgroup\":\"The bucket ownership controls were not found\",\"marker\":{\"color\":\"#636efa\",\"pattern\":{\"shape\":\"\"}},\"name\":\"The bucket ownership controls were not found\",\"offsetgroup\":\"The bucket ownership controls were not found\",\"orientation\":\"v\",\"showlegend\":true,\"textposition\":\"auto\",\"x\":[3,6],\"xaxis\":\"x\",\"y\":[41,20],\"yaxis\":\"y\",\"type\":\"bar\"},{\"alignmentgroup\":\"True\",\"customdata\":[[\"The bucket policy does not exist\"]],\"hovertemplate\":\"Error Message=%{customdata[0]}<br>Month=%{x}<br>Count=%{y}<extra></extra>\",\"legendgroup\":\"The bucket policy does not exist\",\"marker\":{\"color\":\"#EF553B\",\"pattern\":{\"shape\":\"\"}},\"name\":\"The bucket policy does not exist\",\"offsetgroup\":\"The bucket policy does not exist\",\"orientation\":\"v\",\"showlegend\":true,\"textposition\":\"auto\",\"x\":[3],\"xaxis\":\"x\",\"y\":[36],\"yaxis\":\"y\",\"type\":\"bar\"},{\"alignmentgroup\":\"True\",\"customdata\":[[\"The lifecycle configuration does not exist\"]],\"hovertemplate\":\"Error Message=%{customdata[0]}<br>Month=%{x}<br>Count=%{y}<extra></extra>\",\"legendgroup\":\"The lifecycle configuration does not exist\",\"marker\":{\"color\":\"#00cc96\",\"pattern\":{\"shape\":\"\"}},\"name\":\"The lifecycle configuration does not exist\",\"offsetgroup\":\"The lifecycle configuration does not exist\",\"orientation\":\"v\",\"showlegend\":true,\"textposition\":\"auto\",\"x\":[3],\"xaxis\":\"x\",\"y\":[2],\"yaxis\":\"y\",\"type\":\"bar\"},{\"alignmentgroup\":\"True\",\"customdata\":[[\"The public access block configuration was not found\"]],\"hovertemplate\":\"Error Message=%{customdata[0]}<br>Month=%{x}<br>Count=%{y}<extra></extra>\",\"legendgroup\":\"The public access block configuration was not found\",\"marker\":{\"color\":\"#ab63fa\",\"pattern\":{\"shape\":\"\"}},\"name\":\"The public access block configuration was not found\",\"offsetgroup\":\"The public access block configuration was not found\",\"orientation\":\"v\",\"showlegend\":true,\"textposition\":\"auto\",\"x\":[3],\"xaxis\":\"x\",\"y\":[66],\"yaxis\":\"y\",\"type\":\"bar\"},{\"alignmentgroup\":\"True\",\"customdata\":[[\"The replication configuration was not found\"]],\"hovertemplate\":\"Error Message=%{customdata[0]}<br>Month=%{x}<br>Count=%{y}<extra></extra>\",\"legendgroup\":\"The replication configuration was not found\",\"marker\":{\"color\":\"#FFA15A\",\"pattern\":{\"shape\":\"\"}},\"name\":\"The replication configuration was not found\",\"offsetgroup\":\"The replication configuration was not found\",\"orientation\":\"v\",\"showlegend\":true,\"textposition\":\"auto\",\"x\":[3],\"xaxis\":\"x\",\"y\":[7],\"yaxis\":\"y\",\"type\":\"bar\"},{\"alignmentgroup\":\"True\",\"customdata\":[[\"The specified bucket does not have a website configuration\"]],\"hovertemplate\":\"Error Message=%{customdata[0]}<br>Month=%{x}<br>Count=%{y}<extra></extra>\",\"legendgroup\":\"The specified bucket does not have a website configuration\",\"marker\":{\"color\":\"#19d3f3\",\"pattern\":{\"shape\":\"\"}},\"name\":\"The specified bucket does not have a website configuration\",\"offsetgroup\":\"The specified bucket does not have a website configuration\",\"orientation\":\"v\",\"showlegend\":true,\"textposition\":\"auto\",\"x\":[3],\"xaxis\":\"x\",\"y\":[10],\"yaxis\":\"y\",\"type\":\"bar\"},{\"alignmentgroup\":\"True\",\"customdata\":[[\"The volume 'vol-0038a938cb1635720' does not exist.\"]],\"hovertemplate\":\"Error Message=%{customdata[0]}<br>Month=%{x}<br>Count=%{y}<extra></extra>\",\"legendgroup\":\"The volume 'vol-0038a938cb1635720' does not exist.\",\"marker\":{\"color\":\"#FF6692\",\"pattern\":{\"shape\":\"\"}},\"name\":\"The volume 'vol-0038a938cb1635720' does not exist.\",\"offsetgroup\":\"The volume 'vol-0038a938cb1635720' does not exist.\",\"orientation\":\"v\",\"showlegend\":true,\"textposition\":\"auto\",\"x\":[3],\"xaxis\":\"x\",\"y\":[1],\"yaxis\":\"y\",\"type\":\"bar\"},{\"alignmentgroup\":\"True\",\"customdata\":[[\"The specified bucket does not exist\"]],\"hovertemplate\":\"Error Message=%{customdata[0]}<br>Month=%{x}<br>Count=%{y}<extra></extra>\",\"legendgroup\":\"The specified bucket does not exist\",\"marker\":{\"color\":\"#B6E880\",\"pattern\":{\"shape\":\"\"}},\"name\":\"The specified bucket does not exist\",\"offsetgroup\":\"The specified bucket does not exist\",\"orientation\":\"v\",\"showlegend\":true,\"textposition\":\"auto\",\"x\":[6],\"xaxis\":\"x\",\"y\":[1],\"yaxis\":\"y\",\"type\":\"bar\"},{\"alignmentgroup\":\"True\",\"customdata\":[[\"Trail arn:aws:cloudtrail:us-east-1:637602092272:trail/management-events does not have Insights enabled. Edit the trail settings to enable Insights, and then try the operation again.\"],[\"Trail arn:aws:cloudtrail:us-east-1:637602092272:trail/management-events does not have Insights enabled. Edit the trail settings to enable Insights, and then try the operation again.\"]],\"hovertemplate\":\"Error Message=%{customdata[0]}<br>Month=%{x}<br>Count=%{y}<extra></extra>\",\"legendgroup\":\"Trail arn:aws:cloudtrail:us-east-1:637602092272:trail/management-events does not have Insights enabled. Edit the trail settings to enable Insights, and then try the operation again.\",\"marker\":{\"color\":\"#FF97FF\",\"pattern\":{\"shape\":\"\"}},\"name\":\"Trail arn:aws:cloudtrail:us-east-1:637602092272:trail/management-events does not have Insights enabled. Edit the trail settings to enable Insights, and then try the operation again.\",\"offsetgroup\":\"Trail arn:aws:cloudtrail:us-east-1:637602092272:trail/management-events does not have Insights enabled. Edit the trail settings to enable Insights, and then try the operation again.\",\"orientation\":\"v\",\"showlegend\":true,\"textposition\":\"auto\",\"x\":[6,10],\"xaxis\":\"x\",\"y\":[3,4],\"yaxis\":\"y\",\"type\":\"bar\"},{\"alignmentgroup\":\"True\",\"customdata\":[[\"natasha does not exist\"]],\"hovertemplate\":\"Error Message=%{customdata[0]}<br>Month=%{x}<br>Count=%{y}<extra></extra>\",\"legendgroup\":\"natasha does not exist\",\"marker\":{\"color\":\"#FECB52\",\"pattern\":{\"shape\":\"\"}},\"name\":\"natasha does not exist\",\"offsetgroup\":\"natasha does not exist\",\"orientation\":\"v\",\"showlegend\":true,\"textposition\":\"auto\",\"x\":[6],\"xaxis\":\"x\",\"y\":[1],\"yaxis\":\"y\",\"type\":\"bar\"},{\"alignmentgroup\":\"True\",\"customdata\":[[\"one does not exist\"]],\"hovertemplate\":\"Error Message=%{customdata[0]}<br>Month=%{x}<br>Count=%{y}<extra></extra>\",\"legendgroup\":\"one does not exist\",\"marker\":{\"color\":\"#636efa\",\"pattern\":{\"shape\":\"\"}},\"name\":\"one does not exist\",\"offsetgroup\":\"one does not exist\",\"orientation\":\"v\",\"showlegend\":true,\"textposition\":\"auto\",\"x\":[6],\"xaxis\":\"x\",\"y\":[1],\"yaxis\":\"y\",\"type\":\"bar\"},{\"alignmentgroup\":\"True\",\"customdata\":[[\"tester does not exist\"]],\"hovertemplate\":\"Error Message=%{customdata[0]}<br>Month=%{x}<br>Count=%{y}<extra></extra>\",\"legendgroup\":\"tester does not exist\",\"marker\":{\"color\":\"#EF553B\",\"pattern\":{\"shape\":\"\"}},\"name\":\"tester does not exist\",\"offsetgroup\":\"tester does not exist\",\"orientation\":\"v\",\"showlegend\":true,\"textposition\":\"auto\",\"x\":[6],\"xaxis\":\"x\",\"y\":[1],\"yaxis\":\"y\",\"type\":\"bar\"},{\"alignmentgroup\":\"True\",\"customdata\":[[\"two does not exist\"]],\"hovertemplate\":\"Error Message=%{customdata[0]}<br>Month=%{x}<br>Count=%{y}<extra></extra>\",\"legendgroup\":\"two does not exist\",\"marker\":{\"color\":\"#00cc96\",\"pattern\":{\"shape\":\"\"}},\"name\":\"two does not exist\",\"offsetgroup\":\"two does not exist\",\"orientation\":\"v\",\"showlegend\":true,\"textposition\":\"auto\",\"x\":[6],\"xaxis\":\"x\",\"y\":[1],\"yaxis\":\"y\",\"type\":\"bar\"},{\"alignmentgroup\":\"True\",\"customdata\":[[\"The role with name AWSServiceRoleForAmazonOpenSearchService cannot be found.\"]],\"hovertemplate\":\"Error Message=%{customdata[0]}<br>Month=%{x}<br>Count=%{y}<extra></extra>\",\"legendgroup\":\"The role with name AWSServiceRoleForAmazonOpenSearchService cannot be found.\",\"marker\":{\"color\":\"#ab63fa\",\"pattern\":{\"shape\":\"\"}},\"name\":\"The role with name AWSServiceRoleForAmazonOpenSearchService cannot be found.\",\"offsetgroup\":\"The role with name AWSServiceRoleForAmazonOpenSearchService cannot be found.\",\"orientation\":\"v\",\"showlegend\":true,\"textposition\":\"auto\",\"x\":[11],\"xaxis\":\"x\",\"y\":[1],\"yaxis\":\"y\",\"type\":\"bar\"},{\"alignmentgroup\":\"True\",\"customdata\":[[\"Dimensions expression's values cannot be empty\"]],\"hovertemplate\":\"Error Message=%{customdata[0]}<br>Month=%{x}<br>Count=%{y}<extra></extra>\",\"legendgroup\":\"Dimensions expression's values cannot be empty\",\"marker\":{\"color\":\"#FFA15A\",\"pattern\":{\"shape\":\"\"}},\"name\":\"Dimensions expression's values cannot be empty\",\"offsetgroup\":\"Dimensions expression's values cannot be empty\",\"orientation\":\"v\",\"showlegend\":true,\"textposition\":\"auto\",\"x\":[12],\"xaxis\":\"x\",\"y\":[2],\"yaxis\":\"y\",\"type\":\"bar\"},{\"alignmentgroup\":\"True\",\"customdata\":[[\"The security group 'sg-0b0cff290f612781d' does not exist\"]],\"hovertemplate\":\"Error Message=%{customdata[0]}<br>Month=%{x}<br>Count=%{y}<extra></extra>\",\"legendgroup\":\"The security group 'sg-0b0cff290f612781d' does not exist\",\"marker\":{\"color\":\"#19d3f3\",\"pattern\":{\"shape\":\"\"}},\"name\":\"The security group 'sg-0b0cff290f612781d' does not exist\",\"offsetgroup\":\"The security group 'sg-0b0cff290f612781d' does not exist\",\"orientation\":\"v\",\"showlegend\":true,\"textposition\":\"auto\",\"x\":[12],\"xaxis\":\"x\",\"y\":[2],\"yaxis\":\"y\",\"type\":\"bar\"},{\"alignmentgroup\":\"True\",\"customdata\":[[\"We messed up somewhere, sorry. There was an internal error with the service.\"]],\"hovertemplate\":\"Error Message=%{customdata[0]}<br>Month=%{x}<br>Count=%{y}<extra></extra>\",\"legendgroup\":\"We messed up somewhere, sorry. There was an internal error with the service.\",\"marker\":{\"color\":\"#FF6692\",\"pattern\":{\"shape\":\"\"}},\"name\":\"We messed up somewhere, sorry. There was an internal error with the service.\",\"offsetgroup\":\"We messed up somewhere, sorry. There was an internal error with the service.\",\"orientation\":\"v\",\"showlegend\":true,\"textposition\":\"auto\",\"x\":[12],\"xaxis\":\"x\",\"y\":[3],\"yaxis\":\"y\",\"type\":\"bar\"}],                        {\"template\":{\"data\":{\"histogram2dcontour\":[{\"type\":\"histogram2dcontour\",\"colorbar\":{\"outlinewidth\":0,\"ticks\":\"\"},\"colorscale\":[[0.0,\"#0d0887\"],[0.1111111111111111,\"#46039f\"],[0.2222222222222222,\"#7201a8\"],[0.3333333333333333,\"#9c179e\"],[0.4444444444444444,\"#bd3786\"],[0.5555555555555556,\"#d8576b\"],[0.6666666666666666,\"#ed7953\"],[0.7777777777777778,\"#fb9f3a\"],[0.8888888888888888,\"#fdca26\"],[1.0,\"#f0f921\"]]}],\"choropleth\":[{\"type\":\"choropleth\",\"colorbar\":{\"outlinewidth\":0,\"ticks\":\"\"}}],\"histogram2d\":[{\"type\":\"histogram2d\",\"colorbar\":{\"outlinewidth\":0,\"ticks\":\"\"},\"colorscale\":[[0.0,\"#0d0887\"],[0.1111111111111111,\"#46039f\"],[0.2222222222222222,\"#7201a8\"],[0.3333333333333333,\"#9c179e\"],[0.4444444444444444,\"#bd3786\"],[0.5555555555555556,\"#d8576b\"],[0.6666666666666666,\"#ed7953\"],[0.7777777777777778,\"#fb9f3a\"],[0.8888888888888888,\"#fdca26\"],[1.0,\"#f0f921\"]]}],\"heatmap\":[{\"type\":\"heatmap\",\"colorbar\":{\"outlinewidth\":0,\"ticks\":\"\"},\"colorscale\":[[0.0,\"#0d0887\"],[0.1111111111111111,\"#46039f\"],[0.2222222222222222,\"#7201a8\"],[0.3333333333333333,\"#9c179e\"],[0.4444444444444444,\"#bd3786\"],[0.5555555555555556,\"#d8576b\"],[0.6666666666666666,\"#ed7953\"],[0.7777777777777778,\"#fb9f3a\"],[0.8888888888888888,\"#fdca26\"],[1.0,\"#f0f921\"]]}],\"heatmapgl\":[{\"type\":\"heatmapgl\",\"colorbar\":{\"outlinewidth\":0,\"ticks\":\"\"},\"colorscale\":[[0.0,\"#0d0887\"],[0.1111111111111111,\"#46039f\"],[0.2222222222222222,\"#7201a8\"],[0.3333333333333333,\"#9c179e\"],[0.4444444444444444,\"#bd3786\"],[0.5555555555555556,\"#d8576b\"],[0.6666666666666666,\"#ed7953\"],[0.7777777777777778,\"#fb9f3a\"],[0.8888888888888888,\"#fdca26\"],[1.0,\"#f0f921\"]]}],\"contourcarpet\":[{\"type\":\"contourcarpet\",\"colorbar\":{\"outlinewidth\":0,\"ticks\":\"\"}}],\"contour\":[{\"type\":\"contour\",\"colorbar\":{\"outlinewidth\":0,\"ticks\":\"\"},\"colorscale\":[[0.0,\"#0d0887\"],[0.1111111111111111,\"#46039f\"],[0.2222222222222222,\"#7201a8\"],[0.3333333333333333,\"#9c179e\"],[0.4444444444444444,\"#bd3786\"],[0.5555555555555556,\"#d8576b\"],[0.6666666666666666,\"#ed7953\"],[0.7777777777777778,\"#fb9f3a\"],[0.8888888888888888,\"#fdca26\"],[1.0,\"#f0f921\"]]}],\"surface\":[{\"type\":\"surface\",\"colorbar\":{\"outlinewidth\":0,\"ticks\":\"\"},\"colorscale\":[[0.0,\"#0d0887\"],[0.1111111111111111,\"#46039f\"],[0.2222222222222222,\"#7201a8\"],[0.3333333333333333,\"#9c179e\"],[0.4444444444444444,\"#bd3786\"],[0.5555555555555556,\"#d8576b\"],[0.6666666666666666,\"#ed7953\"],[0.7777777777777778,\"#fb9f3a\"],[0.8888888888888888,\"#fdca26\"],[1.0,\"#f0f921\"]]}],\"mesh3d\":[{\"type\":\"mesh3d\",\"colorbar\":{\"outlinewidth\":0,\"ticks\":\"\"}}],\"scatter\":[{\"fillpattern\":{\"fillmode\":\"overlay\",\"size\":10,\"solidity\":0.2},\"type\":\"scatter\"}],\"parcoords\":[{\"type\":\"parcoords\",\"line\":{\"colorbar\":{\"outlinewidth\":0,\"ticks\":\"\"}}}],\"scatterpolargl\":[{\"type\":\"scatterpolargl\",\"marker\":{\"colorbar\":{\"outlinewidth\":0,\"ticks\":\"\"}}}],\"bar\":[{\"error_x\":{\"color\":\"#2a3f5f\"},\"error_y\":{\"color\":\"#2a3f5f\"},\"marker\":{\"line\":{\"color\":\"#E5ECF6\",\"width\":0.5},\"pattern\":{\"fillmode\":\"overlay\",\"size\":10,\"solidity\":0.2}},\"type\":\"bar\"}],\"scattergeo\":[{\"type\":\"scattergeo\",\"marker\":{\"colorbar\":{\"outlinewidth\":0,\"ticks\":\"\"}}}],\"scatterpolar\":[{\"type\":\"scatterpolar\",\"marker\":{\"colorbar\":{\"outlinewidth\":0,\"ticks\":\"\"}}}],\"histogram\":[{\"marker\":{\"pattern\":{\"fillmode\":\"overlay\",\"size\":10,\"solidity\":0.2}},\"type\":\"histogram\"}],\"scattergl\":[{\"type\":\"scattergl\",\"marker\":{\"colorbar\":{\"outlinewidth\":0,\"ticks\":\"\"}}}],\"scatter3d\":[{\"type\":\"scatter3d\",\"line\":{\"colorbar\":{\"outlinewidth\":0,\"ticks\":\"\"}},\"marker\":{\"colorbar\":{\"outlinewidth\":0,\"ticks\":\"\"}}}],\"scattermapbox\":[{\"type\":\"scattermapbox\",\"marker\":{\"colorbar\":{\"outlinewidth\":0,\"ticks\":\"\"}}}],\"scatterternary\":[{\"type\":\"scatterternary\",\"marker\":{\"colorbar\":{\"outlinewidth\":0,\"ticks\":\"\"}}}],\"scattercarpet\":[{\"type\":\"scattercarpet\",\"marker\":{\"colorbar\":{\"outlinewidth\":0,\"ticks\":\"\"}}}],\"carpet\":[{\"aaxis\":{\"endlinecolor\":\"#2a3f5f\",\"gridcolor\":\"white\",\"linecolor\":\"white\",\"minorgridcolor\":\"white\",\"startlinecolor\":\"#2a3f5f\"},\"baxis\":{\"endlinecolor\":\"#2a3f5f\",\"gridcolor\":\"white\",\"linecolor\":\"white\",\"minorgridcolor\":\"white\",\"startlinecolor\":\"#2a3f5f\"},\"type\":\"carpet\"}],\"table\":[{\"cells\":{\"fill\":{\"color\":\"#EBF0F8\"},\"line\":{\"color\":\"white\"}},\"header\":{\"fill\":{\"color\":\"#C8D4E3\"},\"line\":{\"color\":\"white\"}},\"type\":\"table\"}],\"barpolar\":[{\"marker\":{\"line\":{\"color\":\"#E5ECF6\",\"width\":0.5},\"pattern\":{\"fillmode\":\"overlay\",\"size\":10,\"solidity\":0.2}},\"type\":\"barpolar\"}],\"pie\":[{\"automargin\":true,\"type\":\"pie\"}]},\"layout\":{\"autotypenumbers\":\"strict\",\"colorway\":[\"#636efa\",\"#EF553B\",\"#00cc96\",\"#ab63fa\",\"#FFA15A\",\"#19d3f3\",\"#FF6692\",\"#B6E880\",\"#FF97FF\",\"#FECB52\"],\"font\":{\"color\":\"#2a3f5f\"},\"hovermode\":\"closest\",\"hoverlabel\":{\"align\":\"left\"},\"paper_bgcolor\":\"white\",\"plot_bgcolor\":\"#E5ECF6\",\"polar\":{\"bgcolor\":\"#E5ECF6\",\"angularaxis\":{\"gridcolor\":\"white\",\"linecolor\":\"white\",\"ticks\":\"\"},\"radialaxis\":{\"gridcolor\":\"white\",\"linecolor\":\"white\",\"ticks\":\"\"}},\"ternary\":{\"bgcolor\":\"#E5ECF6\",\"aaxis\":{\"gridcolor\":\"white\",\"linecolor\":\"white\",\"ticks\":\"\"},\"baxis\":{\"gridcolor\":\"white\",\"linecolor\":\"white\",\"ticks\":\"\"},\"caxis\":{\"gridcolor\":\"white\",\"linecolor\":\"white\",\"ticks\":\"\"}},\"coloraxis\":{\"colorbar\":{\"outlinewidth\":0,\"ticks\":\"\"}},\"colorscale\":{\"sequential\":[[0.0,\"#0d0887\"],[0.1111111111111111,\"#46039f\"],[0.2222222222222222,\"#7201a8\"],[0.3333333333333333,\"#9c179e\"],[0.4444444444444444,\"#bd3786\"],[0.5555555555555556,\"#d8576b\"],[0.6666666666666666,\"#ed7953\"],[0.7777777777777778,\"#fb9f3a\"],[0.8888888888888888,\"#fdca26\"],[1.0,\"#f0f921\"]],\"sequentialminus\":[[0.0,\"#0d0887\"],[0.1111111111111111,\"#46039f\"],[0.2222222222222222,\"#7201a8\"],[0.3333333333333333,\"#9c179e\"],[0.4444444444444444,\"#bd3786\"],[0.5555555555555556,\"#d8576b\"],[0.6666666666666666,\"#ed7953\"],[0.7777777777777778,\"#fb9f3a\"],[0.8888888888888888,\"#fdca26\"],[1.0,\"#f0f921\"]],\"diverging\":[[0,\"#8e0152\"],[0.1,\"#c51b7d\"],[0.2,\"#de77ae\"],[0.3,\"#f1b6da\"],[0.4,\"#fde0ef\"],[0.5,\"#f7f7f7\"],[0.6,\"#e6f5d0\"],[0.7,\"#b8e186\"],[0.8,\"#7fbc41\"],[0.9,\"#4d9221\"],[1,\"#276419\"]]},\"xaxis\":{\"gridcolor\":\"white\",\"linecolor\":\"white\",\"ticks\":\"\",\"title\":{\"standoff\":15},\"zerolinecolor\":\"white\",\"automargin\":true,\"zerolinewidth\":2},\"yaxis\":{\"gridcolor\":\"white\",\"linecolor\":\"white\",\"ticks\":\"\",\"title\":{\"standoff\":15},\"zerolinecolor\":\"white\",\"automargin\":true,\"zerolinewidth\":2},\"scene\":{\"xaxis\":{\"backgroundcolor\":\"#E5ECF6\",\"gridcolor\":\"white\",\"linecolor\":\"white\",\"showbackground\":true,\"ticks\":\"\",\"zerolinecolor\":\"white\",\"gridwidth\":2},\"yaxis\":{\"backgroundcolor\":\"#E5ECF6\",\"gridcolor\":\"white\",\"linecolor\":\"white\",\"showbackground\":true,\"ticks\":\"\",\"zerolinecolor\":\"white\",\"gridwidth\":2},\"zaxis\":{\"backgroundcolor\":\"#E5ECF6\",\"gridcolor\":\"white\",\"linecolor\":\"white\",\"showbackground\":true,\"ticks\":\"\",\"zerolinecolor\":\"white\",\"gridwidth\":2}},\"shapedefaults\":{\"line\":{\"color\":\"#2a3f5f\"}},\"annotationdefaults\":{\"arrowcolor\":\"#2a3f5f\",\"arrowhead\":0,\"arrowwidth\":1},\"geo\":{\"bgcolor\":\"white\",\"landcolor\":\"#E5ECF6\",\"subunitcolor\":\"white\",\"showland\":true,\"showlakes\":true,\"lakecolor\":\"white\"},\"title\":{\"x\":0.05},\"mapbox\":{\"style\":\"light\"}}},\"xaxis\":{\"anchor\":\"y\",\"domain\":[0.0,1.0],\"title\":{\"text\":\"Month\"}},\"yaxis\":{\"anchor\":\"x\",\"domain\":[0.0,1.0],\"title\":{\"text\":\"Count\"}},\"legend\":{\"title\":{\"text\":\"Error Message\"},\"tracegroupgap\":0,\"orientation\":\"h\",\"x\":0.5,\"xanchor\":\"center\",\"y\":-0.2},\"title\":{\"text\":\"Error Messages by Month\"},\"barmode\":\"stack\",\"height\":800},                        {\"responsive\": true}                    ).then(function(){\n",
       "                            \n",
       "var gd = document.getElementById('06a124c8-5ba8-41e5-a7f4-38c8fece3af8');\n",
       "var x = new MutationObserver(function (mutations, observer) {{\n",
       "        var display = window.getComputedStyle(gd).display;\n",
       "        if (!display || display === 'none') {{\n",
       "            console.log([gd, 'removed!']);\n",
       "            Plotly.purge(gd);\n",
       "            observer.disconnect();\n",
       "        }}\n",
       "}});\n",
       "\n",
       "// Listen for the removal of the full notebook cells\n",
       "var notebookContainer = gd.closest('#notebook-container');\n",
       "if (notebookContainer) {{\n",
       "    x.observe(notebookContainer, {childList: true});\n",
       "}}\n",
       "\n",
       "// Listen for the clearing of the current output cell\n",
       "var outputEl = gd.closest('.output');\n",
       "if (outputEl) {{\n",
       "    x.observe(outputEl, {childList: true});\n",
       "}}\n",
       "\n",
       "                        })                };                });            </script>        </div>"
      ]
     },
     "metadata": {},
     "output_type": "display_data"
    }
   ],
   "source": [
    "# Plot error messages\n",
    "\n",
    "fig = px.bar(\n",
    "    error_month, \n",
    "    x=\"month\", \n",
    "    y=\"count\", \n",
    "    color=\"errorMessage\", \n",
    "    title=\"Error Messages by Month\",\n",
    "    labels={\"month\": \"Month\", \"count\": \"Count\", \"errorMessage\": \"Error Message\"},\n",
    "    hover_data={\"count\": True, \"errorMessage\": True}\n",
    ")\n",
    "\n",
    "\n",
    "fig.update_layout(\n",
    "    barmode='stack',\n",
    "    xaxis=dict(title='Month'),\n",
    "    yaxis=dict(title='Count'),\n",
    "    legend=dict(title='Error Message', orientation=\"h\", x=0.5, xanchor=\"center\", y=-0.2),\n",
    "    height=800\n",
    ")\n",
    "\n",
    "\n",
    "fig.show()"
   ]
  },
  {
   "cell_type": "code",
   "execution_count": null,
   "id": "1f65ff25-1cfd-4fd7-9a51-623a15ccdaa1",
   "metadata": {},
   "outputs": [],
   "source": []
  }
 ],
 "metadata": {
  "kernelspec": {
   "display_name": "Python 3 (ipykernel)",
   "language": "python",
   "name": "python3"
  },
  "language_info": {
   "codemirror_mode": {
    "name": "ipython",
    "version": 3
   },
   "file_extension": ".py",
   "mimetype": "text/x-python",
   "name": "python",
   "nbconvert_exporter": "python",
   "pygments_lexer": "ipython3",
   "version": "3.11.7"
  }
 },
 "nbformat": 4,
 "nbformat_minor": 5
}
