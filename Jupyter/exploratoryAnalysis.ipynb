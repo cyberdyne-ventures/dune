{
 "cells": [
  {
   "cell_type": "code",
   "execution_count": 1,
   "id": "c2b24878",
   "metadata": {},
   "outputs": [],
   "source": [
    "import chardet # for finding charset of csv file can be omitted"
   ]
  },
  {
   "cell_type": "code",
   "execution_count": 2,
   "id": "7bf53cdb",
   "metadata": {},
   "outputs": [],
   "source": [
    "import pandas as pd\n",
    "import numpy as np"
   ]
  },
  {
   "cell_type": "code",
   "execution_count": 3,
   "id": "c9cc7040",
   "metadata": {},
   "outputs": [],
   "source": [
    "from random import randrange\n",
    "import time"
   ]
  },
  {
   "cell_type": "code",
   "execution_count": 4,
   "id": "79ec674a",
   "metadata": {},
   "outputs": [],
   "source": [
    "from numpy import percentile"
   ]
  },
  {
   "cell_type": "code",
   "execution_count": 5,
   "id": "d91b0f7d",
   "metadata": {},
   "outputs": [],
   "source": [
    "import seaborn as sns"
   ]
  },
  {
   "cell_type": "code",
   "execution_count": 6,
   "id": "8576ac68",
   "metadata": {},
   "outputs": [],
   "source": [
    "import os\n",
    "import sys\n",
    "from time import time\n"
   ]
  },
  {
   "cell_type": "code",
   "execution_count": 7,
   "id": "992d23f2",
   "metadata": {},
   "outputs": [],
   "source": [
    "csv_file_path = 'cloudtrail.csv'"
   ]
  },
  {
   "cell_type": "code",
   "execution_count": 8,
   "id": "b4ee9555",
   "metadata": {},
   "outputs": [],
   "source": [
    "def detect_csv_encoding(file_path):\n",
    "    \"\"\"\n",
    "    Detects the encoding of a CSV file using chardet.\n",
    "    Args:\n",
    "        file_path (str): Path to the CSV file.\n",
    "    Returns:\n",
    "        str: Detected encoding (e.g., 'utf-8', 'ISO-8859-1', etc.).\n",
    "    \"\"\"\n",
    "    with open(file_path, 'rb') as f:\n",
    "        data = f.read()\n",
    "        encoding_result = chardet.detect(data)\n",
    "        return encoding_result['encoding']\n"
   ]
  },
  {
   "cell_type": "code",
   "execution_count": 9,
   "id": "970e16a6",
   "metadata": {},
   "outputs": [
    {
     "name": "stdout",
     "output_type": "stream",
     "text": [
      "ascii\n"
     ]
    }
   ],
   "source": [
    "encoding = detect_csv_encoding(csv_file_path)\n",
    "print(encoding)"
   ]
  },
  {
   "cell_type": "code",
   "execution_count": 10,
   "id": "fd4c7314",
   "metadata": {},
   "outputs": [],
   "source": [
    "# Read the CSV file and extract relevant fields\n",
    "df = pd.read_csv(csv_file_path, encoding='utf-8')  # Adjust the encoding if needed"
   ]
  },
  {
   "cell_type": "code",
   "execution_count": 14,
   "id": "bd47ff9a-880a-4c78-85c4-3e90be8b6142",
   "metadata": {},
   "outputs": [
    {
     "data": {
      "text/plain": [
       "Index(['time', 'source', 'service', 'action', 'agent', 'arn', 'tactic1',\n",
       "       'tactic2'],\n",
       "      dtype='object')"
      ]
     },
     "execution_count": 14,
     "metadata": {},
     "output_type": "execute_result"
    }
   ],
   "source": [
    "df.columns"
   ]
  },
  {
   "cell_type": "code",
   "execution_count": 15,
   "id": "7dde5eaf",
   "metadata": {},
   "outputs": [],
   "source": [
    "fields_to_encode = [ 'source', 'service', 'action', 'agent', 'arn', 'tactic1','tactic2'] # removed time"
   ]
  },
  {
   "cell_type": "code",
   "execution_count": 24,
   "id": "9c0d1bcf",
   "metadata": {},
   "outputs": [
    {
     "name": "stdout",
     "output_type": "stream",
     "text": [
      "======= Details of column 'source'=======\n",
      "number of unique values: 49\n",
      "value counts :\n",
      "source\n",
      "vpc-flow-logs.amazonaws.com    21730\n",
      "146.115.161.170                 1658\n",
      "146.115.166.183                 1370\n",
      "107.77.225.55                    141\n",
      "72.21.217.49                      93\n",
      "72.21.217.97                      55\n",
      "73.61.14.103                      52\n",
      "72.21.217.83                      38\n",
      "72.21.217.73                      38\n",
      "72.21.217.117                     36\n",
      "72.21.217.152                     36\n",
      "72.21.217.118                     36\n",
      "72.21.217.47                      36\n",
      "107.77.225.35                     36\n",
      "72.21.217.133                     19\n",
      "72.21.217.71                      19\n",
      "72.21.217.140                     19\n",
      "72.21.217.153                     19\n",
      "72.21.217.70                      19\n",
      "72.21.217.129                     19\n",
      "72.21.217.107                     19\n",
      "72.21.217.75                      19\n",
      "72.21.217.45                      19\n",
      "72.21.217.223                     19\n",
      "72.21.217.21                      19\n",
      "72.21.217.109                     19\n",
      "72.21.217.81                      17\n",
      "72.21.217.100                     17\n",
      "72.21.217.85                      17\n",
      "72.21.217.78                      17\n",
      "10.247.80.124                      2\n",
      "AWS Internal                       2\n",
      "10.247.58.47                       2\n",
      "10.246.152.97                      2\n",
      "10.246.88.40                       2\n",
      "10.246.47.141                      2\n",
      "72.21.217.72                       1\n",
      "10.246.185.198                     1\n",
      "10.247.40.70                       1\n",
      "10.246.182.248                     1\n",
      "10.247.179.219                     1\n",
      "10.246.187.128                     1\n",
      "10.246.186.14                      1\n",
      "72.21.217.154                      1\n",
      "10.246.105.188                     1\n",
      "10.246.60.210                      1\n",
      "sourceIPAddress                    1\n",
      "72.21.217.54                       1\n",
      "10.247.85.208                      1\n",
      "Name: count, dtype: int64\n",
      "==============\n",
      "======= Details of column 'service'=======\n",
      "number of unique values: 20\n",
      "value counts :\n",
      "service\n",
      "sts.amazonaws.com                     21749\n",
      "ec2.amazonaws.com                      3322\n",
      "monitoring.amazonaws.com                169\n",
      "elasticloadbalancing.amazonaws.com      137\n",
      "organizations.amazonaws.com              59\n",
      "elasticbeanstalk.amazonaws.com           29\n",
      "autoscaling.amazonaws.com                28\n",
      "rds.amazonaws.com                        21\n",
      "opsworks.amazonaws.com                   20\n",
      "route53.amazonaws.com                    20\n",
      "s3.amazonaws.com                         20\n",
      "cloudformation.amazonaws.com             20\n",
      "dynamodb.amazonaws.com                   20\n",
      "signin.amazonaws.com                     19\n",
      "billingconsole.amazonaws.com             16\n",
      "iam.amazonaws.com                        13\n",
      "kms.amazonaws.com                         5\n",
      "logs.amazonaws.com                        4\n",
      "ds.amazonaws.com                          4\n",
      "eventSource                               1\n",
      "Name: count, dtype: int64\n",
      "==============\n",
      "======= Details of column 'action'=======\n",
      "number of unique values: 76\n",
      "value counts :\n",
      "action\n",
      "AssumeRole                            21730\n",
      "DescribeVolumes                         593\n",
      "DescribeVolumeStatus                    564\n",
      "DescribeInstances                       357\n",
      "DescribeInstanceStatus                  337\n",
      "                                      ...  \n",
      "eventName                                 1\n",
      "ModifyNetworkInterfaceAttribute           1\n",
      "ModifySnapshotAttribute                   1\n",
      "AWSPaymentInstrumentGateway.Delete        1\n",
      "StopInstances                             1\n",
      "Name: count, Length: 76, dtype: int64\n",
      "==============\n",
      "======= Details of column 'agent'=======\n",
      "number of unique values: 29\n",
      "value counts :\n",
      "agent\n",
      "vpc-flow-logs.amazonaws.com                                                                                                                                           21730\n",
      "console.ec2.amazonaws.com                                                                                                                                              3161\n",
      "mobileconsole.amazonaws.com                                                                                                                                             548\n",
      "console.amazonaws.com                                                                                                                                                    90\n",
      "AWS Organizations Console- aws-internal/3 aws-sdk-java/1.11.367 Linux/4.9.110-0.1.ac.201.71.329.metal1.x86_64 OpenJDK_64-Bit_Server_VM/25.181-b13 java/1.8.0_181         59\n",
      "signin.amazonaws.com                                                                                                                                                     19\n",
      "Null                                                                                                                                                                     10\n",
      "[AWSMobileOrchestraService- aws-internal/3]                                                                                                                               9\n",
      "[AWSMobileOrchestraService- aws-internal/3 aws-sdk-java/1.11.464 Linux/4.9.124-0.1.ac.198.71.329.metal1.x86_64 OpenJDK_64-Bit_Server_VM/25.192-b12 java/1.8.0_192]        7\n",
      "Coral/Jakarta                                                                                                                                                             5\n",
      "Mozilla/5.0 (Macintosh; Intel Mac OS X 10_11_6) AppleWebKit/605.1.15 (KHTML- like Gecko) Version/11.1.2 Safari/605.1.15                                                   4\n",
      "aws-vpc-flow-logs- aws-internal/3                                                                                                                                         4\n",
      "Mozilla/5.0 (Windows NT 6.1) AppleWebKit/537.36 (KHTML- like Gecko) Chrome/69.0.3497.100 Safari/537.36                                                                    4\n",
      "[AWSMobileOrchestraService- aws-internal/3 aws-sdk-java/1.11.464 Linux/4.9.124-0.1.ac.198.73.329.metal1.x86_64 OpenJDK_64-Bit_Server_VM/25.192-b12 java/1.8.0_192]        3\n",
      "aws-internal/3 aws-sdk-java/1.11.405 Linux/4.9.119-0.1.ac.277.71.329.metal1.x86_64 OpenJDK_64-Bit_Server_VM/25.181-b13 java/1.8.0_181                                     2\n",
      "Mozilla/5.0 (iPad; CPU OS 12_1 like Mac OS X) AppleWebKit/605.1.15 (KHTML- like Gecko) Mobile/16B92                                                                       2\n",
      "[AWSMobileOrchestraService, aws-internal/3 aws-sdk-java/1.11.464 Linux/4.9.124-0.1.ac.198.71.329.metal1.x86_64 OpenJDK_64-Bit_Server_VM/25.192-b12 java/1.8.0_192]        1\n",
      "userAgent                                                                                                                                                                 1\n",
      "aws-internal/3 aws-sdk-java/1.11.455 Linux/4.9.124-0.1.ac.198.71.329.metal1.x86_64 OpenJDK_64-Bit_Server_VM/25.192-b12 java/1.8.0_192                                     1\n",
      "Mozilla/5.0 (iPad; CPU OS 12_1 like Mac OS X) AppleWebKit/605.1.15 (KHTML, like Gecko) Mobile/16B92                                                                       1\n",
      "Mozilla/5.0 (Macintosh; Intel Mac OS X 10_11_6) AppleWebKit/605.1.15 (KHTML, like Gecko) Version/11.1.2 Safari/605.1.15                                                   1\n",
      "Mozilla/5.0 (Windows NT 6.1) AppleWebKit/537.36 (KHTML- like Gecko) Chrome/71.0.3578.98 Safari/537.36                                                                     1\n",
      "Mozilla/5.0 (iPhone; CPU iPhone OS 12_0_1 like Mac OS X) AppleWebKit/605.1.15 (KHTML- like Gecko) Mobile/16A404                                                           1\n",
      "Mozilla/5.0 (Windows NT 6.1) AppleWebKit/537.36 (KHTML- like Gecko) Chrome/68.0.3440.106 Safari/537.36                                                                    1\n",
      "AWSBFF BFFiOS/1.19.6 (1015) Mobile iOS/11.4.1 iPad5-3 (5637278720)                                                                                                        1\n",
      "AWSBFF BFFiOS/1.19.6 (1015) Mobile iOS/11.4.1 iPad5-3 (4328573952)                                                                                                        1\n",
      "AWSBFF BFFiOS/1.19.6 (1015) Mobile iOS/11.4.1 iPad5-3 (4320147968)                                                                                                        1\n",
      "AWSBFF BFFiOS/1.19.6 (1015) Mobile iOS/11.4.1 iPad5-3 (4311831040)                                                                                                        1\n",
      "aws-internal/3 aws-sdk-java/1.11.455 Linux/4.9.124-0.1.ac.198.73.329.metal1.x86_64 OpenJDK_64-Bit_Server_VM/25.192-b12 java/1.8.0_192                                     1\n",
      "Name: count, dtype: int64\n",
      "==============\n",
      "======= Details of column 'arn'=======\n",
      "number of unique values: 4\n",
      "value counts :\n",
      "arn\n",
      "Null                                                                                 11814\n",
      "arn:aws:iam::637602092272:root                                                        3941\n",
      "arn:aws:sts::637602092272:assumed-role/flowlogsRole/vpc-flow-logging+637602092272        4\n",
      "userIdentity/arn                                                                         1\n",
      "Name: count, dtype: int64\n",
      "==============\n",
      "======= Details of column 'tactic1'=======\n",
      "number of unique values: 6\n",
      "value counts :\n",
      "tactic1\n",
      "Credential Access    21730\n",
      "Discovery             3855\n",
      "Defense Evasion         40\n",
      "Persistence             23\n",
      "Exfiltration            21\n",
      "Execution                7\n",
      "Name: count, dtype: int64\n",
      "==============\n",
      "======= Details of column 'tactic2'=======\n",
      "number of unique values: 3\n",
      "value counts :\n",
      "tactic2\n",
      "Lateral Movement    21730\n",
      "-                    3900\n",
      "Initial Access         19\n",
      "Name: count, dtype: int64\n",
      "==============\n"
     ]
    }
   ],
   "source": [
    "sum_n_unique = 0\n",
    "for field in fields_to_encode:\n",
    "    print(f\"======= Details of column '{field}'=======\")\n",
    "    print(f\"number of unique values: {df[field].nunique()}\")\n",
    "    sum_n_unique += df[field].nunique()\n",
    "    print(f\"value counts :\", sep=\" \")\n",
    "    print(df[field].value_counts())\n",
    "    print(\"==============\")"
   ]
  },
  {
   "cell_type": "code",
   "execution_count": 17,
   "id": "021c221d",
   "metadata": {},
   "outputs": [
    {
     "name": "stdout",
     "output_type": "stream",
     "text": [
      "187\n"
     ]
    }
   ],
   "source": [
    "print(sum_n_unique)"
   ]
  },
  {
   "cell_type": "code",
   "execution_count": 25,
   "id": "1d26817c",
   "metadata": {},
   "outputs": [
    {
     "name": "stdout",
     "output_type": "stream",
     "text": [
      "==== Column 'source' =====\n",
      "count       49.000000\n",
      "mean       524.000000\n",
      "std       3107.161392\n",
      "min          1.000000\n",
      "25%          1.000000\n",
      "50%         19.000000\n",
      "75%         36.000000\n",
      "max      21730.000000\n",
      "Name: count, dtype: float64\n",
      "==============\n",
      "==== Column 'service' =====\n",
      "count       20.000000\n",
      "mean      1283.800000\n",
      "std       4872.843962\n",
      "min          1.000000\n",
      "25%         15.250000\n",
      "50%         20.000000\n",
      "75%         36.500000\n",
      "max      21749.000000\n",
      "Name: count, dtype: float64\n",
      "==============\n",
      "==== Column 'action' =====\n",
      "count       76.000000\n",
      "mean       337.842105\n",
      "std       2489.075818\n",
      "min          1.000000\n",
      "25%          3.000000\n",
      "50%          9.500000\n",
      "75%         37.500000\n",
      "max      21730.000000\n",
      "Name: count, dtype: float64\n",
      "==============\n",
      "==== Column 'agent' =====\n",
      "count       29.000000\n",
      "mean       885.172414\n",
      "std       4052.226126\n",
      "min          1.000000\n",
      "25%          1.000000\n",
      "50%          2.000000\n",
      "75%          9.000000\n",
      "max      21730.000000\n",
      "Name: count, dtype: float64\n",
      "==============\n",
      "==== Column 'arn' =====\n",
      "count        4.000000\n",
      "mean      3940.000000\n",
      "std       5567.994672\n",
      "min          1.000000\n",
      "25%          3.250000\n",
      "50%       1972.500000\n",
      "75%       5909.250000\n",
      "max      11814.000000\n",
      "Name: count, dtype: float64\n",
      "==============\n",
      "==== Column 'tactic1' =====\n",
      "count        6.000000\n",
      "mean      4279.333333\n",
      "std       8685.394422\n",
      "min          7.000000\n",
      "25%         21.500000\n",
      "50%         31.500000\n",
      "75%       2901.250000\n",
      "max      21730.000000\n",
      "Name: count, dtype: float64\n",
      "==============\n",
      "==== Column 'tactic2' =====\n",
      "count        3.000000\n",
      "mean      8549.666667\n",
      "std      11578.274065\n",
      "min         19.000000\n",
      "25%       1959.500000\n",
      "50%       3900.000000\n",
      "75%      12815.000000\n",
      "max      21730.000000\n",
      "Name: count, dtype: float64\n",
      "==============\n"
     ]
    }
   ],
   "source": [
    "for field in fields_to_encode:\n",
    "    print(f\"==== Column '{field}' =====\")\n",
    "    print(df[field].value_counts().describe())\n",
    "    print(\"==============\")"
   ]
  },
  {
   "cell_type": "code",
   "execution_count": 19,
   "id": "76f22952",
   "metadata": {},
   "outputs": [
    {
     "name": "stdout",
     "output_type": "stream",
     "text": [
      "(25676, 8)\n"
     ]
    }
   ],
   "source": [
    "print(df.shape)"
   ]
  },
  {
   "cell_type": "code",
   "execution_count": null,
   "id": "50941322-76e0-4f7c-bf0f-7c2bbca7c6a7",
   "metadata": {},
   "outputs": [],
   "source": []
  },
  {
   "cell_type": "code",
   "execution_count": null,
   "id": "4ca890d9-f0b9-48c8-b0be-917bffc19e2a",
   "metadata": {},
   "outputs": [],
   "source": []
  },
  {
   "cell_type": "code",
   "execution_count": null,
   "id": "5d2e68ed-1319-4430-b28e-a7f1991e64c3",
   "metadata": {},
   "outputs": [],
   "source": []
  }
 ],
 "metadata": {
  "kernelspec": {
   "display_name": "Python 3 (ipykernel)",
   "language": "python",
   "name": "python3"
  },
  "language_info": {
   "codemirror_mode": {
    "name": "ipython",
    "version": 3
   },
   "file_extension": ".py",
   "mimetype": "text/x-python",
   "name": "python",
   "nbconvert_exporter": "python",
   "pygments_lexer": "ipython3",
   "version": "3.11.7"
  }
 },
 "nbformat": 4,
 "nbformat_minor": 5
}
