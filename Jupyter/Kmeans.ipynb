{
 "cells": [
  {
   "cell_type": "code",
   "execution_count": 75,
   "id": "7bf53cdb",
   "metadata": {},
   "outputs": [],
   "source": [
    "import pandas as pd\n",
    "import numpy as np"
   ]
  },
  {
   "cell_type": "code",
   "execution_count": 76,
   "id": "c9cc7040",
   "metadata": {},
   "outputs": [],
   "source": [
    "from random import randrange\n",
    "import time"
   ]
  },
  {
   "cell_type": "code",
   "execution_count": 77,
   "id": "79ec674a",
   "metadata": {},
   "outputs": [],
   "source": [
    "from numpy import percentile\n",
    "from numpy import sqrt, random, array, argsort\n"
   ]
  },
  {
   "cell_type": "code",
   "execution_count": 78,
   "id": "d91b0f7d",
   "metadata": {},
   "outputs": [],
   "source": [
    "import seaborn as sns\n",
    "import matplotlib.pyplot as plt\n"
   ]
  },
  {
   "cell_type": "code",
   "execution_count": 79,
   "id": "03310130",
   "metadata": {},
   "outputs": [],
   "source": [
    "from sklearn.decomposition import PCA\n",
    "from sklearn.preprocessing import StandardScaler"
   ]
  },
  {
   "cell_type": "code",
   "execution_count": 80,
   "id": "4093daab-54bf-4040-b18b-cd57a091b478",
   "metadata": {},
   "outputs": [],
   "source": [
    "from sklearn.preprocessing import scale\n",
    "from sklearn.metrics import pairwise_distances_argmin_min\n",
    "from sklearn import metrics\n",
    "from sklearn.model_selection import ParameterGrid\n",
    "from sklearn.cluster import KMeans"
   ]
  },
  {
   "cell_type": "code",
   "execution_count": 81,
   "id": "8576ac68",
   "metadata": {},
   "outputs": [],
   "source": [
    "import os\n",
    "import sys\n",
    "from time import time"
   ]
  },
  {
   "cell_type": "code",
   "execution_count": 82,
   "id": "992d23f2",
   "metadata": {},
   "outputs": [],
   "source": [
    "csv_file_path = 'cloudtrail.csv'"
   ]
  },
  {
   "cell_type": "code",
   "execution_count": 83,
   "id": "8171ca68-09ba-40d6-a0b9-a386efff88b0",
   "metadata": {},
   "outputs": [],
   "source": [
    "pd.set_option('display.max_rows', 200)"
   ]
  },
  {
   "cell_type": "code",
   "execution_count": 84,
   "id": "89080fb8-d6c2-41d6-9007-4546a1fbce03",
   "metadata": {},
   "outputs": [],
   "source": [
    "### TBD Check ifwe need all fields"
   ]
  },
  {
   "cell_type": "code",
   "execution_count": 85,
   "id": "7dde5eaf",
   "metadata": {},
   "outputs": [],
   "source": [
    "fields_to_encode = [ 'source', 'service', 'action', 'agent', 'arn', 'tactic1','tactic2'] # remove time"
   ]
  },
  {
   "cell_type": "code",
   "execution_count": 86,
   "id": "7ee2c610-d70f-4b62-8962-52460cb5819a",
   "metadata": {},
   "outputs": [],
   "source": [
    "fields_to_encode = [ 'source', 'service', 'action', 'agent', 'arn', 'tactic1','tactic2'] # remove time"
   ]
  },
  {
   "cell_type": "code",
   "execution_count": 87,
   "id": "aab9851c",
   "metadata": {},
   "outputs": [],
   "source": [
    "# Select the columns you want to use for outlier detection\n",
    "#columns_for_outliers = [ 'source', 'service',  'action', 'agent', 'arn','tactic1','tactic2'] # remove time"
   ]
  },
  {
   "cell_type": "code",
   "execution_count": 88,
   "id": "23f9fba4-9d6f-4c73-bdd0-8748b229c1dc",
   "metadata": {},
   "outputs": [],
   "source": [
    "# Select the columns you want to use for outlier detection\n",
    "columns_for_outliers = [ 'source', 'service',  'action', 'agent', 'arn'] # remove time"
   ]
  },
  {
   "cell_type": "code",
   "execution_count": 89,
   "id": "fd4c7314",
   "metadata": {},
   "outputs": [],
   "source": [
    "# Read the CSV file and extract relevant fields\n",
    "df = pd.read_csv(csv_file_path, encoding='utf-8')  # Adjust the encoding if needed"
   ]
  },
  {
   "cell_type": "code",
   "execution_count": 90,
   "id": "519e9863-0a60-4dd3-8e91-58c8ff2c88a4",
   "metadata": {},
   "outputs": [
    {
     "data": {
      "text/plain": [
       "time       object\n",
       "source     object\n",
       "service    object\n",
       "action     object\n",
       "agent      object\n",
       "arn        object\n",
       "tactic1    object\n",
       "tactic2    object\n",
       "dtype: object"
      ]
     },
     "execution_count": 90,
     "metadata": {},
     "output_type": "execute_result"
    }
   ],
   "source": [
    "df.dtypes"
   ]
  },
  {
   "cell_type": "code",
   "execution_count": 91,
   "id": "9c0d1bcf",
   "metadata": {},
   "outputs": [
    {
     "name": "stdout",
     "output_type": "stream",
     "text": [
      "source\n",
      "48\n",
      "source\n",
      "vpc-flow-logs.amazonaws.com    21730\n",
      "198.18.161.170                  3028\n",
      "203.0.113.55                     141\n",
      "72.21.217.49                      93\n",
      "72.21.217.97                      55\n",
      "198.18.14.103                     52\n",
      "72.21.217.83                      38\n",
      "72.21.217.73                      38\n",
      "223.0.113.35                      36\n",
      "72.21.217.117                     36\n",
      "72.21.217.152                     36\n",
      "72.21.217.47                      36\n",
      "72.21.217.118                     36\n",
      "72.21.217.109                     19\n",
      "72.21.217.21                      19\n",
      "72.21.217.223                     19\n",
      "72.21.217.107                     19\n",
      "72.21.217.129                     19\n",
      "72.21.217.45                      19\n",
      "72.21.217.70                      19\n",
      "72.21.217.140                     19\n",
      "72.21.217.71                      19\n",
      "72.21.217.133                     19\n",
      "72.21.217.75                      19\n",
      "72.21.217.153                     19\n",
      "72.21.217.85                      17\n",
      "72.21.217.78                      17\n",
      "72.21.217.100                     17\n",
      "72.21.217.81                      17\n",
      "10.0.88.40                         2\n",
      "10.1.58.47                         2\n",
      "10.0.152.97                        2\n",
      "10.1.80.124                        2\n",
      "10.0.47.141                        2\n",
      "10.1.85.208                        2\n",
      "10.0.105.188                       1\n",
      "10.0.60.210                        1\n",
      "72.21.217.72                       1\n",
      "10.0.187.128                       1\n",
      "10.0.186.14                        1\n",
      "72.21.217.154                      1\n",
      "10.1.179.219                       1\n",
      "10.0.182.248                       1\n",
      "10.1.40.70                         1\n",
      "10.0.185.198                       1\n",
      "AWS Internal                       1\n",
      "72.21.217.54                       1\n",
      "sourceIPAddress                    1\n",
      "Name: count, dtype: int64\n",
      "==============\n",
      "service\n",
      "20\n",
      "service\n",
      "sts.amazonaws.com                     21749\n",
      "ec2.amazonaws.com                      3322\n",
      "monitoring.amazonaws.com                169\n",
      "elasticloadbalancing.amazonaws.com      137\n",
      "organizations.amazonaws.com              59\n",
      "elasticbeanstalk.amazonaws.com           29\n",
      "autoscaling.amazonaws.com                28\n",
      "rds.amazonaws.com                        21\n",
      "opsworks.amazonaws.com                   20\n",
      "route53.amazonaws.com                    20\n",
      "s3.amazonaws.com                         20\n",
      "cloudformation.amazonaws.com             20\n",
      "dynamodb.amazonaws.com                   20\n",
      "signin.amazonaws.com                     19\n",
      "billingconsole.amazonaws.com             16\n",
      "iam.amazonaws.com                        13\n",
      "kms.amazonaws.com                         5\n",
      "logs.amazonaws.com                        4\n",
      "ds.amazonaws.com                          4\n",
      "eventSource                               1\n",
      "Name: count, dtype: int64\n",
      "==============\n",
      "action\n",
      "76\n",
      "action\n",
      "AssumeRole                              21730\n",
      "DescribeVolumes                           593\n",
      "DescribeVolumeStatus                      564\n",
      "DescribeInstances                         357\n",
      "DescribeInstanceStatus                    337\n",
      "DescribeSecurityGroups                    200\n",
      "DescribeTags                              197\n",
      "DescribeAlarms                            169\n",
      "DescribeInstanceAttribute                 165\n",
      "DescribeAddresses                         145\n",
      "DescribeInstanceCreditSpecifications      144\n",
      "DescribeLoadBalancers                     137\n",
      "DescribeSnapshots                          86\n",
      "DescribeAvailabilityZones                  83\n",
      "DescribeClassicLinkInstances               78\n",
      "DescribeImages                             60\n",
      "DescribeVpcs                               43\n",
      "DescribeIdFormat                           43\n",
      "DescribeLaunchTemplates                    42\n",
      "DescribeVolumesModifications               36\n",
      "DescribeStacks                             31\n",
      "DescribeAutoScalingGroups                  28\n",
      "DescribeStaleSecurityGroups                22\n",
      "DescribeDBInstances                        21\n",
      "ListBuckets                                20\n",
      "ListHostedZones                            20\n",
      "DescribeApplications                       20\n",
      "ListTables                                 20\n",
      "GetSessionToken                            19\n",
      "ConsoleLogin                               19\n",
      "ListCreateAccountStatus                    18\n",
      "DescribeSnapshotAttribute                  16\n",
      "RedeemPromoCode                            15\n",
      "DescribeKeyPairs                           14\n",
      "DescribeHosts                              13\n",
      "DescribePlacementGroups                    13\n",
      "DescribeSpotPriceHistory                   12\n",
      "AuthorizeSecurityGroupIngress              10\n",
      "DescribeAccount                             9\n",
      "DescribeEnvironments                        9\n",
      "ListAccounts                                9\n",
      "DescribeAccountAttributes                   9\n",
      "ListStacks                                  9\n",
      "ListRoots                                   7\n",
      "ListAliases                                 5\n",
      "DescribeDirectories                         4\n",
      "ListInstanceProfiles                        4\n",
      "ListOrganizationalUnitsForParent            4\n",
      "DescribeNetworkInterfaces                   4\n",
      "DescribeOrganization                        4\n",
      "DescribeVpcClassicLink                      4\n",
      "CreateAccount                               4\n",
      "CreateLogStream                             4\n",
      "DescribeSubnets                             4\n",
      "CreateTags                                  4\n",
      "RunInstances                                4\n",
      "GetAccountPasswordPolicy                    3\n",
      "GetConsoleScreenshot                        3\n",
      "StartInstances                              3\n",
      "RevokeSecurityGroupIngress                  2\n",
      "GetAccountSummary                           2\n",
      "ListAccountsForParent                       2\n",
      "ListAccountAliases                          2\n",
      "ListAccessKeys                              2\n",
      "GetConsoleOutput                            2\n",
      "DescribeVpcEndpoints                        2\n",
      "CreateKeyPair                               2\n",
      "DescribeCapacityReservations                2\n",
      "ListParents                                 1\n",
      "ListPolicies                                1\n",
      "GetPasswordData                             1\n",
      "eventName                                   1\n",
      "ModifyNetworkInterfaceAttribute             1\n",
      "ModifySnapshotAttribute                     1\n",
      "AWSPaymentInstrumentGateway.Delete          1\n",
      "StopInstances                               1\n",
      "Name: count, dtype: int64\n",
      "==============\n",
      "agent\n",
      "29\n",
      "agent\n",
      "vpc-flow-logs.amazonaws.com                                                                                                                                           21730\n",
      "console.ec2.amazonaws.com                                                                                                                                              3161\n",
      "mobileconsole.amazonaws.com                                                                                                                                             548\n",
      "console.amazonaws.com                                                                                                                                                    90\n",
      "AWS Organizations Console- aws-internal/3 aws-sdk-java/1.11.367 Linux/4.9.110-0.1.ac.201.71.329.metal1.x86_64 OpenJDK_64-Bit_Server_VM/25.181-b13 java/1.8.0_181         59\n",
      "signin.amazonaws.com                                                                                                                                                     19\n",
      "Null                                                                                                                                                                     16\n",
      "[AWSMobileOrchestraService- aws-internal/3]                                                                                                                               9\n",
      "[AWSMobileOrchestraService- aws-internal/3 aws-sdk-java/1.11.464 Linux/4.9.124-0.1.ac.198.71.329.metal1.x86_64 OpenJDK_64-Bit_Server_VM/25.192-b12 java/1.8.0_192]        7\n",
      "Coral/Jakarta                                                                                                                                                             5\n",
      "Mozilla/5.0 (Macintosh; Intel Mac OS X 10_11_6) AppleWebKit/605.1.15 (KHTML- like Gecko) Version/11.1.2 Safari/605.1.15                                                   4\n",
      "aws-vpc-flow-logs- aws-internal/3                                                                                                                                         4\n",
      "Mozilla/5.0 (Windows NT 6.1) AppleWebKit/537.36 (KHTML- like Gecko) Chrome/69.0.3497.100 Safari/537.36                                                                    4\n",
      "[AWSMobileOrchestraService- aws-internal/3 aws-sdk-java/1.11.464 Linux/4.9.124-0.1.ac.198.73.329.metal1.x86_64 OpenJDK_64-Bit_Server_VM/25.192-b12 java/1.8.0_192]        3\n",
      "aws-internal/3 aws-sdk-java/1.11.405 Linux/4.9.119-0.1.ac.277.71.329.metal1.x86_64 OpenJDK_64-Bit_Server_VM/25.181-b13 java/1.8.0_181                                     2\n",
      "Mozilla/5.0 (iPad; CPU OS 12_1 like Mac OS X) AppleWebKit/605.1.15 (KHTML- like Gecko) Mobile/16B92                                                                       2\n",
      "[AWSMobileOrchestraService, aws-internal/3 aws-sdk-java/1.11.464 Linux/4.9.124-0.1.ac.198.71.329.metal1.x86_64 OpenJDK_64-Bit_Server_VM/25.192-b12 java/1.8.0_192]        1\n",
      "userAgent                                                                                                                                                                 1\n",
      "aws-internal/3 aws-sdk-java/1.11.455 Linux/4.9.124-0.1.ac.198.71.329.metal1.x86_64 OpenJDK_64-Bit_Server_VM/25.192-b12 java/1.8.0_192                                     1\n",
      "Mozilla/5.0 (iPad; CPU OS 12_1 like Mac OS X) AppleWebKit/605.1.15 (KHTML, like Gecko) Mobile/16B92                                                                       1\n",
      "Mozilla/5.0 (Macintosh; Intel Mac OS X 10_11_6) AppleWebKit/605.1.15 (KHTML, like Gecko) Version/11.1.2 Safari/605.1.15                                                   1\n",
      "Mozilla/5.0 (Windows NT 6.1) AppleWebKit/537.36 (KHTML- like Gecko) Chrome/71.0.3578.98 Safari/537.36                                                                     1\n",
      "Mozilla/5.0 (iPhone; CPU iPhone OS 12_0_1 like Mac OS X) AppleWebKit/605.1.15 (KHTML- like Gecko) Mobile/16A404                                                           1\n",
      "Mozilla/5.0 (Windows NT 6.1) AppleWebKit/537.36 (KHTML- like Gecko) Chrome/68.0.3440.106 Safari/537.36                                                                    1\n",
      "AWSBFF BFFiOS/1.19.6 (1015) Mobile iOS/11.4.1 iPad5-3 (5637278720)                                                                                                        1\n",
      "AWSBFF BFFiOS/1.19.6 (1015) Mobile iOS/11.4.1 iPad5-3 (4328573952)                                                                                                        1\n",
      "AWSBFF BFFiOS/1.19.6 (1015) Mobile iOS/11.4.1 iPad5-3 (4320147968)                                                                                                        1\n",
      "AWSBFF BFFiOS/1.19.6 (1015) Mobile iOS/11.4.1 iPad5-3 (4311831040)                                                                                                        1\n",
      "aws-internal/3 aws-sdk-java/1.11.455 Linux/4.9.124-0.1.ac.198.73.329.metal1.x86_64 OpenJDK_64-Bit_Server_VM/25.192-b12 java/1.8.0_192                                     1\n",
      "Name: count, dtype: int64\n",
      "==============\n",
      "arn\n",
      "4\n",
      "arn\n",
      "Null                                                                                 21730\n",
      "arn:aws:iam::123456789012:root                                                        3941\n",
      "arn:aws:sts::123456789012:assumed-role/flowlogsRole/vpc-flow-logging+123456789012        4\n",
      "userIdentity/arn                                                                         1\n",
      "Name: count, dtype: int64\n",
      "==============\n",
      "tactic1\n",
      "6\n",
      "tactic1\n",
      "Credential Access    21730\n",
      "Discovery             3855\n",
      "Defense Evasion         40\n",
      "Persistence             23\n",
      "Exfiltration            21\n",
      "Execution                7\n",
      "Name: count, dtype: int64\n",
      "==============\n",
      "tactic2\n",
      "3\n",
      "tactic2\n",
      "Lateral Movement    21730\n",
      "-                    3927\n",
      "Initial Access         19\n",
      "Name: count, dtype: int64\n",
      "==============\n"
     ]
    }
   ],
   "source": [
    "sum_n_unique = 0\n",
    "for field in fields_to_encode:\n",
    "    print(field)\n",
    "    print(df[field].nunique())\n",
    "    sum_n_unique += df[field].nunique()\n",
    "    print(df[field].value_counts())\n",
    "    print(\"==============\")"
   ]
  },
  {
   "cell_type": "code",
   "execution_count": 92,
   "id": "021c221d",
   "metadata": {},
   "outputs": [
    {
     "name": "stdout",
     "output_type": "stream",
     "text": [
      "186\n"
     ]
    }
   ],
   "source": [
    "print(sum_n_unique)"
   ]
  },
  {
   "cell_type": "code",
   "execution_count": 93,
   "id": "1d26817c",
   "metadata": {},
   "outputs": [
    {
     "name": "stdout",
     "output_type": "stream",
     "text": [
      "source\n",
      "count       48.000000\n",
      "mean       534.916667\n",
      "std       3154.450809\n",
      "min          1.000000\n",
      "25%          1.000000\n",
      "50%         19.000000\n",
      "75%         36.000000\n",
      "max      21730.000000\n",
      "Name: count, dtype: float64\n",
      "==============\n",
      "service\n",
      "count       20.000000\n",
      "mean      1283.800000\n",
      "std       4872.843962\n",
      "min          1.000000\n",
      "25%         15.250000\n",
      "50%         20.000000\n",
      "75%         36.500000\n",
      "max      21749.000000\n",
      "Name: count, dtype: float64\n",
      "==============\n",
      "action\n",
      "count       76.000000\n",
      "mean       337.842105\n",
      "std       2489.075818\n",
      "min          1.000000\n",
      "25%          3.000000\n",
      "50%          9.500000\n",
      "75%         37.500000\n",
      "max      21730.000000\n",
      "Name: count, dtype: float64\n",
      "==============\n",
      "agent\n",
      "count       29.000000\n",
      "mean       885.379310\n",
      "std       4052.179999\n",
      "min          1.000000\n",
      "25%          1.000000\n",
      "50%          2.000000\n",
      "75%          9.000000\n",
      "max      21730.000000\n",
      "Name: count, dtype: float64\n",
      "==============\n",
      "arn\n",
      "count        4.000000\n",
      "mean      6419.000000\n",
      "std      10374.811709\n",
      "min          1.000000\n",
      "25%          3.250000\n",
      "50%       1972.500000\n",
      "75%       8388.250000\n",
      "max      21730.000000\n",
      "Name: count, dtype: float64\n",
      "==============\n",
      "tactic1\n",
      "count        6.000000\n",
      "mean      4279.333333\n",
      "std       8685.394422\n",
      "min          7.000000\n",
      "25%         21.500000\n",
      "50%         31.500000\n",
      "75%       2901.250000\n",
      "max      21730.000000\n",
      "Name: count, dtype: float64\n",
      "==============\n",
      "tactic2\n",
      "count        3.000000\n",
      "mean      8558.666667\n",
      "std      11572.861890\n",
      "min         19.000000\n",
      "25%       1973.000000\n",
      "50%       3927.000000\n",
      "75%      12828.500000\n",
      "max      21730.000000\n",
      "Name: count, dtype: float64\n",
      "==============\n"
     ]
    }
   ],
   "source": [
    "for field in fields_to_encode:\n",
    "    print(field)\n",
    "    print(df[field].value_counts().describe())\n",
    "    print(\"==============\")"
   ]
  },
  {
   "cell_type": "code",
   "execution_count": 94,
   "id": "76f22952",
   "metadata": {},
   "outputs": [
    {
     "name": "stdout",
     "output_type": "stream",
     "text": [
      "(25676, 8)\n"
     ]
    }
   ],
   "source": [
    "print(df.shape)"
   ]
  },
  {
   "cell_type": "markdown",
   "id": "6376f71b",
   "metadata": {},
   "source": [
    "#### Keep original data frame in df_orig"
   ]
  },
  {
   "cell_type": "code",
   "execution_count": 95,
   "id": "01666e76",
   "metadata": {},
   "outputs": [],
   "source": [
    "df_orig = df.copy()"
   ]
  },
  {
   "cell_type": "code",
   "execution_count": 96,
   "id": "ed47d93a",
   "metadata": {},
   "outputs": [],
   "source": [
    "for field in fields_to_encode:\n",
    "    df[field] = df[field].astype('category')\n",
    "    df[field] = df[field].cat.codes"
   ]
  },
  {
   "cell_type": "code",
   "execution_count": 97,
   "id": "657bc546",
   "metadata": {},
   "outputs": [
    {
     "name": "stdout",
     "output_type": "stream",
     "text": [
      "                           time  source  service  action  agent  arn  tactic1  \\\n",
      "0      2018-09-25T12:06:16.000Z      47       19       1     28    0        0   \n",
      "1      2018-09-25T12:06:16.000Z      47       19       1     28    0        0   \n",
      "2      2018-09-25T12:41:50.000Z      47       19       1     28    0        0   \n",
      "3      2018-09-25T12:26:18.000Z      47       19       1     28    0        0   \n",
      "4      2018-09-25T12:31:50.000Z      47       19       1     28    0        0   \n",
      "...                         ...     ...      ...     ...    ...  ...      ...   \n",
      "25671  2018-12-20T22:12:06.000Z      15        5      72     24    1        3   \n",
      "25672  2018-09-26T19:45:33.000Z      15        5      73     24    1        3   \n",
      "25673  2018-12-18T21:47:24.000Z      15        5      73     24    1        3   \n",
      "25674  2018-12-18T21:45:59.000Z      15        5      73     24    1        3   \n",
      "25675  2018-12-18T03:36:41.000Z      15        5      74     25    1        1   \n",
      "\n",
      "       tactic2  \n",
      "0            2  \n",
      "1            2  \n",
      "2            2  \n",
      "3            2  \n",
      "4            2  \n",
      "...        ...  \n",
      "25671        0  \n",
      "25672        0  \n",
      "25673        0  \n",
      "25674        0  \n",
      "25675        0  \n",
      "\n",
      "[25676 rows x 8 columns]\n"
     ]
    }
   ],
   "source": [
    "print(df)"
   ]
  },
  {
   "cell_type": "code",
   "execution_count": 98,
   "id": "a1805793",
   "metadata": {},
   "outputs": [
    {
     "name": "stdout",
     "output_type": "stream",
     "text": [
      "Index(['time', 'source', 'service', 'action', 'agent', 'arn', 'tactic1',\n",
      "       'tactic2'],\n",
      "      dtype='object')\n"
     ]
    }
   ],
   "source": [
    "print(df.columns)"
   ]
  },
  {
   "cell_type": "code",
   "execution_count": 99,
   "id": "1bfd4c36",
   "metadata": {},
   "outputs": [
    {
     "name": "stdout",
     "output_type": "stream",
     "text": [
      "                           time  source  service  action  agent  arn  tactic1  \\\n",
      "0      2018-09-25T12:06:16.000Z      47       19       1     28    0        0   \n",
      "1      2018-09-25T12:06:16.000Z      47       19       1     28    0        0   \n",
      "2      2018-09-25T12:41:50.000Z      47       19       1     28    0        0   \n",
      "3      2018-09-25T12:26:18.000Z      47       19       1     28    0        0   \n",
      "4      2018-09-25T12:31:50.000Z      47       19       1     28    0        0   \n",
      "...                         ...     ...      ...     ...    ...  ...      ...   \n",
      "25671  2018-12-20T22:12:06.000Z      15        5      72     24    1        3   \n",
      "25672  2018-09-26T19:45:33.000Z      15        5      73     24    1        3   \n",
      "25673  2018-12-18T21:47:24.000Z      15        5      73     24    1        3   \n",
      "25674  2018-12-18T21:45:59.000Z      15        5      73     24    1        3   \n",
      "25675  2018-12-18T03:36:41.000Z      15        5      74     25    1        1   \n",
      "\n",
      "       tactic2  \n",
      "0            2  \n",
      "1            2  \n",
      "2            2  \n",
      "3            2  \n",
      "4            2  \n",
      "...        ...  \n",
      "25671        0  \n",
      "25672        0  \n",
      "25673        0  \n",
      "25674        0  \n",
      "25675        0  \n",
      "\n",
      "[25676 rows x 8 columns]\n"
     ]
    }
   ],
   "source": [
    "print(df)"
   ]
  },
  {
   "cell_type": "markdown",
   "id": "3bd3faa2",
   "metadata": {},
   "source": [
    "#### Apply PCA for dimensionality reduction\n"
   ]
  },
  {
   "cell_type": "code",
   "execution_count": 100,
   "id": "5df2c6be-00b3-40b3-8883-88ca876cc53a",
   "metadata": {},
   "outputs": [],
   "source": [
    "x = df.loc[:, columns_for_outliers].values\n",
    "# Standardizing the features\n",
    "x = StandardScaler().fit_transform(x)"
   ]
  },
  {
   "cell_type": "code",
   "execution_count": 101,
   "id": "5d18f0cf",
   "metadata": {},
   "outputs": [],
   "source": [
    "pca_2 = PCA(n_components=2)\n",
    "X2 = pca_2.fit_transform(x)"
   ]
  },
  {
   "cell_type": "code",
   "execution_count": 102,
   "id": "883ff825-e1df-445d-bdda-1c340e9ea0f0",
   "metadata": {},
   "outputs": [
    {
     "name": "stdout",
     "output_type": "stream",
     "text": [
      "(25676, 2)\n"
     ]
    }
   ],
   "source": [
    "print(X2.shape)"
   ]
  },
  {
   "cell_type": "markdown",
   "id": "fed4465d-0d23-497b-aae4-5d180db0b9f2",
   "metadata": {},
   "source": [
    " # change the number of components to 5"
   ]
  },
  {
   "cell_type": "code",
   "execution_count": 103,
   "id": "a51a52f7",
   "metadata": {},
   "outputs": [],
   "source": [
    "pca_5 = PCA(n_components=5) \n",
    "X = pca_5.fit_transform(x)  # ndarray of shape (n_samples, n_components)"
   ]
  },
  {
   "cell_type": "code",
   "execution_count": 104,
   "id": "3b119353",
   "metadata": {},
   "outputs": [
    {
     "name": "stdout",
     "output_type": "stream",
     "text": [
      "(25676, 5)\n"
     ]
    }
   ],
   "source": [
    "print(X.shape)"
   ]
  },
  {
   "cell_type": "code",
   "execution_count": 105,
   "id": "8db83035",
   "metadata": {},
   "outputs": [],
   "source": [
    "num_samples = df.shape[0]\n",
    "out_frac=0.001"
   ]
  },
  {
   "cell_type": "code",
   "execution_count": 106,
   "id": "6d3c0e2e",
   "metadata": {},
   "outputs": [],
   "source": [
    "fraction_of_inliers = (1. - out_frac) # (1 - fraction of outliers)\n",
    "num_inliers = int(fraction_of_inliers * num_samples) # fraction of inliers * total number of samples\n",
    "num_outliers = int(out_frac * num_samples) # fraction of outliers * total number of samples"
   ]
  },
  {
   "cell_type": "code",
   "execution_count": 107,
   "id": "824db36e",
   "metadata": {},
   "outputs": [
    {
     "name": "stdout",
     "output_type": "stream",
     "text": [
      "No. of inliers: 25650\n",
      "No. of outliers: 25\n"
     ]
    }
   ],
   "source": [
    "print('No. of inliers: %i' % num_inliers)\n",
    "print('No. of outliers: %i' % num_outliers)"
   ]
  },
  {
   "cell_type": "code",
   "execution_count": 108,
   "id": "85a2b466",
   "metadata": {},
   "outputs": [],
   "source": [
    "random_state_number = 42\n",
    "rs = np.random.RandomState(random_state_number)  #random state"
   ]
  },
  {
   "cell_type": "code",
   "execution_count": null,
   "id": "37819ed5-594d-4365-81eb-ceec161cbf14",
   "metadata": {},
   "outputs": [],
   "source": []
  },
  {
   "cell_type": "code",
   "execution_count": 109,
   "id": "64daffbf-001b-4d05-bc44-f4497d211b57",
   "metadata": {},
   "outputs": [
    {
     "name": "stdout",
     "output_type": "stream",
     "text": [
      "<class 'numpy.ndarray'>\n"
     ]
    }
   ],
   "source": [
    "print(type(X2))"
   ]
  },
  {
   "cell_type": "code",
   "execution_count": 110,
   "id": "8aab3b39-98b4-4a87-a246-b10848919ee9",
   "metadata": {},
   "outputs": [],
   "source": [
    "K=5 # 3"
   ]
  },
  {
   "cell_type": "code",
   "execution_count": 111,
   "id": "25c78bcf-b343-412b-ab0f-4ddd4452bb36",
   "metadata": {},
   "outputs": [
    {
     "name": "stderr",
     "output_type": "stream",
     "text": [
      "C:\\ProgramData\\anaconda3\\Lib\\site-packages\\sklearn\\cluster\\_kmeans.py:870: FutureWarning: The default value of `n_init` will change from 10 to 'auto' in 1.4. Set the value of `n_init` explicitly to suppress the warning\n",
      "  warnings.warn(\n"
     ]
    },
    {
     "name": "stdout",
     "output_type": "stream",
     "text": [
      "KMeans(n_clusters=5)\n"
     ]
    }
   ],
   "source": [
    "begin = time()\n",
    "kmeans = KMeans(n_clusters = K).fit(X2) # init=\"random\",n_clusters=K,n_init=10,max_iter=300,random_state=42\n",
    "print(kmeans)\n"
   ]
  },
  {
   "cell_type": "code",
   "execution_count": 112,
   "id": "9e0395e1-1fc8-4792-ab6c-084680bcd2c1",
   "metadata": {},
   "outputs": [
    {
     "name": "stdout",
     "output_type": "stream",
     "text": [
      "[[-0.884974    0.02576361]\n",
      " [ 4.99542299 -0.4738105 ]\n",
      " [ 8.89641647 10.21165807]\n",
      " [ 6.9943361   3.84913734]\n",
      " [ 4.01240067 -0.1144138 ]]\n"
     ]
    }
   ],
   "source": [
    "center = kmeans.cluster_centers_\n",
    "print(center)"
   ]
  },
  {
   "cell_type": "markdown",
   "id": "29e713eb-e0f0-47ac-9120-badf8880483a",
   "metadata": {},
   "source": [
    "# set percentile to adjust number of outliers"
   ]
  },
  {
   "cell_type": "code",
   "execution_count": 113,
   "id": "77fbadd7-2e1c-430c-97df-4135f8b04d75",
   "metadata": {},
   "outputs": [],
   "source": [
    "PERCENTILE=99.9"
   ]
  },
  {
   "cell_type": "code",
   "execution_count": 114,
   "id": "c0901769-3f85-4bd9-921a-d5d93f386210",
   "metadata": {},
   "outputs": [
    {
     "name": "stdout",
     "output_type": "stream",
     "text": [
      "Anomaly indices: [21743 21744 21745 21746 21747 21748 21749 21750 21751 21752 21753 21754\n",
      " 21755 21756 21757 21758 21759 25494 25540 25541 25542 25543 25544 25603\n",
      " 25604 25605]\n",
      "26\n"
     ]
    }
   ],
   "source": [
    "# Predict the closest cluster for each data point\n",
    "closest_cluster = kmeans.predict(X2)\n",
    "df['cluster'] = kmeans.predict(X2)\n",
    "\n",
    "# Calculate the distance of each data point to its closest cluster center\n",
    "distances = pairwise_distances_argmin_min(X2, kmeans.cluster_centers_)[1]\n",
    "\n",
    "# Define a threshold to identify anomalies\n",
    "threshold = np.percentile(distances, PERCENTILE)\n",
    "\n",
    "# Find the indices of the anomalies\n",
    "anomaly_indices = np.where(distances > threshold)[0]\n",
    "\n",
    "# Print the indices of the anomalies\n",
    "print(\"Anomaly indices:\", anomaly_indices)\n",
    "print(len(anomaly_indices))"
   ]
  },
  {
   "cell_type": "code",
   "execution_count": 115,
   "id": "bd1dcd36-a41d-4214-99a3-70733be3a7a6",
   "metadata": {},
   "outputs": [
    {
     "name": "stderr",
     "output_type": "stream",
     "text": [
      "C:\\Users\\user\\AppData\\Local\\Temp\\2\\ipykernel_4788\\3156626605.py:6: FutureWarning: Setting an item of incompatible dtype is deprecated and will raise in a future error of pandas. Value '1' has dtype incompatible with int64, please explicitly cast to a compatible dtype first.\n",
      "  df.at[index, 'outlier_kmeans'] = str(1) # make it string to plot\n"
     ]
    }
   ],
   "source": [
    "df['outlier_kmeans'] = 0\n",
    "df['cluster'] = -1\n",
    "for index in range(df.shape[0]):\n",
    "    df.at[index, 'cluster'] = closest_cluster[index]\n",
    "    if index in anomaly_indices:\n",
    "         df.at[index, 'outlier_kmeans'] = str(1) # make it string to plot"
   ]
  },
  {
   "cell_type": "code",
   "execution_count": 116,
   "id": "faec92e6-f865-40dc-a48d-690a3439ebeb",
   "metadata": {},
   "outputs": [
    {
     "name": "stderr",
     "output_type": "stream",
     "text": [
      "C:\\Users\\user\\AppData\\Local\\Temp\\2\\ipykernel_4788\\2959348387.py:4: FutureWarning: Setting an item of incompatible dtype is deprecated and will raise in a future error of pandas. Value '-0.8849739954915703' has dtype incompatible with int64, please explicitly cast to a compatible dtype first.\n",
      "  df.at[index, 'c1'] = X[index][0]\n",
      "C:\\Users\\user\\AppData\\Local\\Temp\\2\\ipykernel_4788\\2959348387.py:5: FutureWarning: Setting an item of incompatible dtype is deprecated and will raise in a future error of pandas. Value '0.025763613546552714' has dtype incompatible with int64, please explicitly cast to a compatible dtype first.\n",
      "  df.at[index, 'c2'] = X[index][1]\n"
     ]
    }
   ],
   "source": [
    "df['c1'] = 0\n",
    "df['c2'] = 0\n",
    "for index in range(df.shape[0]):\n",
    "    df.at[index, 'c1'] = X[index][0]\n",
    "    df.at[index, 'c2'] = X[index][1]\n"
   ]
  },
  {
   "cell_type": "code",
   "execution_count": 117,
   "id": "c644ec99-c8d0-4c06-bdd4-e806aaa26c94",
   "metadata": {},
   "outputs": [],
   "source": [
    "end = time()\n",
    "# total time taken"
   ]
  },
  {
   "cell_type": "code",
   "execution_count": 118,
   "id": "4bd88047-89d7-4264-89c4-f77c2d6fbd27",
   "metadata": {},
   "outputs": [
    {
     "data": {
      "text/html": [
       "<div>\n",
       "<style scoped>\n",
       "    .dataframe tbody tr th:only-of-type {\n",
       "        vertical-align: middle;\n",
       "    }\n",
       "\n",
       "    .dataframe tbody tr th {\n",
       "        vertical-align: top;\n",
       "    }\n",
       "\n",
       "    .dataframe thead th {\n",
       "        text-align: right;\n",
       "    }\n",
       "</style>\n",
       "<table border=\"1\" class=\"dataframe\">\n",
       "  <thead>\n",
       "    <tr style=\"text-align: right;\">\n",
       "      <th></th>\n",
       "      <th>time</th>\n",
       "      <th>source</th>\n",
       "      <th>service</th>\n",
       "      <th>action</th>\n",
       "      <th>agent</th>\n",
       "      <th>arn</th>\n",
       "      <th>tactic1</th>\n",
       "      <th>tactic2</th>\n",
       "      <th>cluster</th>\n",
       "      <th>outlier_kmeans</th>\n",
       "      <th>c1</th>\n",
       "      <th>c2</th>\n",
       "    </tr>\n",
       "  </thead>\n",
       "  <tbody>\n",
       "    <tr>\n",
       "      <th>0</th>\n",
       "      <td>2018-09-25T12:06:16.000Z</td>\n",
       "      <td>47</td>\n",
       "      <td>19</td>\n",
       "      <td>1</td>\n",
       "      <td>28</td>\n",
       "      <td>0</td>\n",
       "      <td>0</td>\n",
       "      <td>2</td>\n",
       "      <td>0</td>\n",
       "      <td>0</td>\n",
       "      <td>-0.884974</td>\n",
       "      <td>0.025764</td>\n",
       "    </tr>\n",
       "    <tr>\n",
       "      <th>1</th>\n",
       "      <td>2018-09-25T12:06:16.000Z</td>\n",
       "      <td>47</td>\n",
       "      <td>19</td>\n",
       "      <td>1</td>\n",
       "      <td>28</td>\n",
       "      <td>0</td>\n",
       "      <td>0</td>\n",
       "      <td>2</td>\n",
       "      <td>0</td>\n",
       "      <td>0</td>\n",
       "      <td>-0.884974</td>\n",
       "      <td>0.025764</td>\n",
       "    </tr>\n",
       "    <tr>\n",
       "      <th>2</th>\n",
       "      <td>2018-09-25T12:41:50.000Z</td>\n",
       "      <td>47</td>\n",
       "      <td>19</td>\n",
       "      <td>1</td>\n",
       "      <td>28</td>\n",
       "      <td>0</td>\n",
       "      <td>0</td>\n",
       "      <td>2</td>\n",
       "      <td>0</td>\n",
       "      <td>0</td>\n",
       "      <td>-0.884974</td>\n",
       "      <td>0.025764</td>\n",
       "    </tr>\n",
       "    <tr>\n",
       "      <th>3</th>\n",
       "      <td>2018-09-25T12:26:18.000Z</td>\n",
       "      <td>47</td>\n",
       "      <td>19</td>\n",
       "      <td>1</td>\n",
       "      <td>28</td>\n",
       "      <td>0</td>\n",
       "      <td>0</td>\n",
       "      <td>2</td>\n",
       "      <td>0</td>\n",
       "      <td>0</td>\n",
       "      <td>-0.884974</td>\n",
       "      <td>0.025764</td>\n",
       "    </tr>\n",
       "    <tr>\n",
       "      <th>4</th>\n",
       "      <td>2018-09-25T12:31:50.000Z</td>\n",
       "      <td>47</td>\n",
       "      <td>19</td>\n",
       "      <td>1</td>\n",
       "      <td>28</td>\n",
       "      <td>0</td>\n",
       "      <td>0</td>\n",
       "      <td>2</td>\n",
       "      <td>0</td>\n",
       "      <td>0</td>\n",
       "      <td>-0.884974</td>\n",
       "      <td>0.025764</td>\n",
       "    </tr>\n",
       "  </tbody>\n",
       "</table>\n",
       "</div>"
      ],
      "text/plain": [
       "                       time  source  service  action  agent  arn  tactic1  \\\n",
       "0  2018-09-25T12:06:16.000Z      47       19       1     28    0        0   \n",
       "1  2018-09-25T12:06:16.000Z      47       19       1     28    0        0   \n",
       "2  2018-09-25T12:41:50.000Z      47       19       1     28    0        0   \n",
       "3  2018-09-25T12:26:18.000Z      47       19       1     28    0        0   \n",
       "4  2018-09-25T12:31:50.000Z      47       19       1     28    0        0   \n",
       "\n",
       "   tactic2  cluster outlier_kmeans        c1        c2  \n",
       "0        2        0              0 -0.884974  0.025764  \n",
       "1        2        0              0 -0.884974  0.025764  \n",
       "2        2        0              0 -0.884974  0.025764  \n",
       "3        2        0              0 -0.884974  0.025764  \n",
       "4        2        0              0 -0.884974  0.025764  "
      ]
     },
     "execution_count": 118,
     "metadata": {},
     "output_type": "execute_result"
    }
   ],
   "source": [
    "df.head()"
   ]
  },
  {
   "cell_type": "code",
   "execution_count": 119,
   "id": "b6329f7b-69ee-4a33-9e2d-084e87cdb8d9",
   "metadata": {},
   "outputs": [
    {
     "data": {
      "text/html": [
       "<div>\n",
       "<style scoped>\n",
       "    .dataframe tbody tr th:only-of-type {\n",
       "        vertical-align: middle;\n",
       "    }\n",
       "\n",
       "    .dataframe tbody tr th {\n",
       "        vertical-align: top;\n",
       "    }\n",
       "\n",
       "    .dataframe thead th {\n",
       "        text-align: right;\n",
       "    }\n",
       "</style>\n",
       "<table border=\"1\" class=\"dataframe\">\n",
       "  <thead>\n",
       "    <tr style=\"text-align: right;\">\n",
       "      <th></th>\n",
       "      <th>time</th>\n",
       "      <th>source</th>\n",
       "      <th>service</th>\n",
       "      <th>action</th>\n",
       "      <th>agent</th>\n",
       "      <th>arn</th>\n",
       "      <th>tactic1</th>\n",
       "      <th>tactic2</th>\n",
       "      <th>cluster</th>\n",
       "      <th>outlier_kmeans</th>\n",
       "      <th>c1</th>\n",
       "      <th>c2</th>\n",
       "    </tr>\n",
       "  </thead>\n",
       "  <tbody>\n",
       "    <tr>\n",
       "      <th>21743</th>\n",
       "      <td>2018-09-30T17:30:21.000Z</td>\n",
       "      <td>17</td>\n",
       "      <td>18</td>\n",
       "      <td>3</td>\n",
       "      <td>3</td>\n",
       "      <td>1</td>\n",
       "      <td>5</td>\n",
       "      <td>1</td>\n",
       "      <td>2</td>\n",
       "      <td>1</td>\n",
       "      <td>6.675359</td>\n",
       "      <td>10.003369</td>\n",
       "    </tr>\n",
       "    <tr>\n",
       "      <th>21744</th>\n",
       "      <td>2018-09-29T13:58:43.000Z</td>\n",
       "      <td>15</td>\n",
       "      <td>18</td>\n",
       "      <td>3</td>\n",
       "      <td>4</td>\n",
       "      <td>1</td>\n",
       "      <td>5</td>\n",
       "      <td>1</td>\n",
       "      <td>2</td>\n",
       "      <td>1</td>\n",
       "      <td>6.566720</td>\n",
       "      <td>9.538602</td>\n",
       "    </tr>\n",
       "    <tr>\n",
       "      <th>21745</th>\n",
       "      <td>2018-09-30T19:52:25.000Z</td>\n",
       "      <td>14</td>\n",
       "      <td>18</td>\n",
       "      <td>3</td>\n",
       "      <td>7</td>\n",
       "      <td>1</td>\n",
       "      <td>5</td>\n",
       "      <td>1</td>\n",
       "      <td>2</td>\n",
       "      <td>1</td>\n",
       "      <td>6.029649</td>\n",
       "      <td>8.212845</td>\n",
       "    </tr>\n",
       "    <tr>\n",
       "      <th>21746</th>\n",
       "      <td>2018-09-26T18:08:45.000Z</td>\n",
       "      <td>15</td>\n",
       "      <td>18</td>\n",
       "      <td>3</td>\n",
       "      <td>8</td>\n",
       "      <td>1</td>\n",
       "      <td>5</td>\n",
       "      <td>1</td>\n",
       "      <td>2</td>\n",
       "      <td>1</td>\n",
       "      <td>5.794318</td>\n",
       "      <td>7.789204</td>\n",
       "    </tr>\n",
       "    <tr>\n",
       "      <th>21747</th>\n",
       "      <td>2018-09-27T19:17:58.000Z</td>\n",
       "      <td>15</td>\n",
       "      <td>18</td>\n",
       "      <td>3</td>\n",
       "      <td>9</td>\n",
       "      <td>1</td>\n",
       "      <td>5</td>\n",
       "      <td>1</td>\n",
       "      <td>3</td>\n",
       "      <td>1</td>\n",
       "      <td>5.601217</td>\n",
       "      <td>7.351854</td>\n",
       "    </tr>\n",
       "    <tr>\n",
       "      <th>21748</th>\n",
       "      <td>2018-09-29T20:40:05.000Z</td>\n",
       "      <td>15</td>\n",
       "      <td>18</td>\n",
       "      <td>3</td>\n",
       "      <td>9</td>\n",
       "      <td>1</td>\n",
       "      <td>5</td>\n",
       "      <td>1</td>\n",
       "      <td>3</td>\n",
       "      <td>1</td>\n",
       "      <td>5.601217</td>\n",
       "      <td>7.351854</td>\n",
       "    </tr>\n",
       "    <tr>\n",
       "      <th>21749</th>\n",
       "      <td>2018-09-28T16:36:10.000Z</td>\n",
       "      <td>15</td>\n",
       "      <td>18</td>\n",
       "      <td>3</td>\n",
       "      <td>9</td>\n",
       "      <td>1</td>\n",
       "      <td>5</td>\n",
       "      <td>1</td>\n",
       "      <td>3</td>\n",
       "      <td>1</td>\n",
       "      <td>5.601217</td>\n",
       "      <td>7.351854</td>\n",
       "    </tr>\n",
       "    <tr>\n",
       "      <th>21750</th>\n",
       "      <td>2018-12-19T13:44:00.000Z</td>\n",
       "      <td>15</td>\n",
       "      <td>18</td>\n",
       "      <td>3</td>\n",
       "      <td>12</td>\n",
       "      <td>1</td>\n",
       "      <td>5</td>\n",
       "      <td>1</td>\n",
       "      <td>3</td>\n",
       "      <td>1</td>\n",
       "      <td>5.021915</td>\n",
       "      <td>6.039805</td>\n",
       "    </tr>\n",
       "    <tr>\n",
       "      <th>21751</th>\n",
       "      <td>2018-12-19T20:02:32.000Z</td>\n",
       "      <td>16</td>\n",
       "      <td>18</td>\n",
       "      <td>3</td>\n",
       "      <td>13</td>\n",
       "      <td>1</td>\n",
       "      <td>5</td>\n",
       "      <td>1</td>\n",
       "      <td>3</td>\n",
       "      <td>1</td>\n",
       "      <td>4.786584</td>\n",
       "      <td>5.616165</td>\n",
       "    </tr>\n",
       "    <tr>\n",
       "      <th>21752</th>\n",
       "      <td>2018-12-17T17:03:57.000Z</td>\n",
       "      <td>15</td>\n",
       "      <td>18</td>\n",
       "      <td>3</td>\n",
       "      <td>7</td>\n",
       "      <td>1</td>\n",
       "      <td>5</td>\n",
       "      <td>1</td>\n",
       "      <td>2</td>\n",
       "      <td>1</td>\n",
       "      <td>5.987418</td>\n",
       "      <td>8.226553</td>\n",
       "    </tr>\n",
       "    <tr>\n",
       "      <th>21753</th>\n",
       "      <td>2018-12-18T21:45:45.000Z</td>\n",
       "      <td>15</td>\n",
       "      <td>18</td>\n",
       "      <td>3</td>\n",
       "      <td>10</td>\n",
       "      <td>1</td>\n",
       "      <td>5</td>\n",
       "      <td>1</td>\n",
       "      <td>3</td>\n",
       "      <td>1</td>\n",
       "      <td>5.408117</td>\n",
       "      <td>6.914505</td>\n",
       "    </tr>\n",
       "    <tr>\n",
       "      <th>21754</th>\n",
       "      <td>2018-12-19T16:56:11.000Z</td>\n",
       "      <td>15</td>\n",
       "      <td>18</td>\n",
       "      <td>3</td>\n",
       "      <td>7</td>\n",
       "      <td>1</td>\n",
       "      <td>5</td>\n",
       "      <td>1</td>\n",
       "      <td>2</td>\n",
       "      <td>1</td>\n",
       "      <td>5.987418</td>\n",
       "      <td>8.226553</td>\n",
       "    </tr>\n",
       "    <tr>\n",
       "      <th>21755</th>\n",
       "      <td>2018-12-20T22:09:41.000Z</td>\n",
       "      <td>15</td>\n",
       "      <td>18</td>\n",
       "      <td>3</td>\n",
       "      <td>7</td>\n",
       "      <td>1</td>\n",
       "      <td>5</td>\n",
       "      <td>1</td>\n",
       "      <td>2</td>\n",
       "      <td>1</td>\n",
       "      <td>5.987418</td>\n",
       "      <td>8.226553</td>\n",
       "    </tr>\n",
       "    <tr>\n",
       "      <th>21756</th>\n",
       "      <td>2018-12-17T17:15:32.000Z</td>\n",
       "      <td>15</td>\n",
       "      <td>18</td>\n",
       "      <td>3</td>\n",
       "      <td>9</td>\n",
       "      <td>1</td>\n",
       "      <td>5</td>\n",
       "      <td>1</td>\n",
       "      <td>3</td>\n",
       "      <td>1</td>\n",
       "      <td>5.601217</td>\n",
       "      <td>7.351854</td>\n",
       "    </tr>\n",
       "    <tr>\n",
       "      <th>21757</th>\n",
       "      <td>2018-12-18T03:34:58.000Z</td>\n",
       "      <td>15</td>\n",
       "      <td>18</td>\n",
       "      <td>3</td>\n",
       "      <td>12</td>\n",
       "      <td>1</td>\n",
       "      <td>5</td>\n",
       "      <td>1</td>\n",
       "      <td>3</td>\n",
       "      <td>1</td>\n",
       "      <td>5.021915</td>\n",
       "      <td>6.039805</td>\n",
       "    </tr>\n",
       "    <tr>\n",
       "      <th>21758</th>\n",
       "      <td>2018-12-29T19:08:15.000Z</td>\n",
       "      <td>15</td>\n",
       "      <td>18</td>\n",
       "      <td>3</td>\n",
       "      <td>6</td>\n",
       "      <td>1</td>\n",
       "      <td>5</td>\n",
       "      <td>1</td>\n",
       "      <td>2</td>\n",
       "      <td>1</td>\n",
       "      <td>6.180519</td>\n",
       "      <td>8.663903</td>\n",
       "    </tr>\n",
       "    <tr>\n",
       "      <th>21759</th>\n",
       "      <td>2018-12-24T15:21:11.000Z</td>\n",
       "      <td>15</td>\n",
       "      <td>18</td>\n",
       "      <td>3</td>\n",
       "      <td>11</td>\n",
       "      <td>1</td>\n",
       "      <td>5</td>\n",
       "      <td>1</td>\n",
       "      <td>3</td>\n",
       "      <td>1</td>\n",
       "      <td>5.215016</td>\n",
       "      <td>6.477155</td>\n",
       "    </tr>\n",
       "    <tr>\n",
       "      <th>25494</th>\n",
       "      <td>@timestamp</td>\n",
       "      <td>46</td>\n",
       "      <td>8</td>\n",
       "      <td>75</td>\n",
       "      <td>27</td>\n",
       "      <td>3</td>\n",
       "      <td>2</td>\n",
       "      <td>0</td>\n",
       "      <td>1</td>\n",
       "      <td>1</td>\n",
       "      <td>7.027051</td>\n",
       "      <td>-2.395981</td>\n",
       "    </tr>\n",
       "    <tr>\n",
       "      <th>25540</th>\n",
       "      <td>2018-09-26T21:10:29.000Z</td>\n",
       "      <td>15</td>\n",
       "      <td>10</td>\n",
       "      <td>57</td>\n",
       "      <td>5</td>\n",
       "      <td>1</td>\n",
       "      <td>2</td>\n",
       "      <td>0</td>\n",
       "      <td>2</td>\n",
       "      <td>1</td>\n",
       "      <td>9.132275</td>\n",
       "      <td>8.019347</td>\n",
       "    </tr>\n",
       "    <tr>\n",
       "      <th>25541</th>\n",
       "      <td>2018-09-26T21:07:25.000Z</td>\n",
       "      <td>15</td>\n",
       "      <td>10</td>\n",
       "      <td>57</td>\n",
       "      <td>5</td>\n",
       "      <td>1</td>\n",
       "      <td>2</td>\n",
       "      <td>0</td>\n",
       "      <td>2</td>\n",
       "      <td>1</td>\n",
       "      <td>9.132275</td>\n",
       "      <td>8.019347</td>\n",
       "    </tr>\n",
       "    <tr>\n",
       "      <th>25542</th>\n",
       "      <td>2018-09-27T19:41:11.000Z</td>\n",
       "      <td>15</td>\n",
       "      <td>10</td>\n",
       "      <td>57</td>\n",
       "      <td>5</td>\n",
       "      <td>1</td>\n",
       "      <td>2</td>\n",
       "      <td>0</td>\n",
       "      <td>2</td>\n",
       "      <td>1</td>\n",
       "      <td>9.132275</td>\n",
       "      <td>8.019347</td>\n",
       "    </tr>\n",
       "    <tr>\n",
       "      <th>25543</th>\n",
       "      <td>2018-09-26T22:49:26.000Z</td>\n",
       "      <td>15</td>\n",
       "      <td>10</td>\n",
       "      <td>57</td>\n",
       "      <td>5</td>\n",
       "      <td>1</td>\n",
       "      <td>2</td>\n",
       "      <td>0</td>\n",
       "      <td>2</td>\n",
       "      <td>1</td>\n",
       "      <td>9.132275</td>\n",
       "      <td>8.019347</td>\n",
       "    </tr>\n",
       "    <tr>\n",
       "      <th>25544</th>\n",
       "      <td>2018-09-26T21:03:03.000Z</td>\n",
       "      <td>15</td>\n",
       "      <td>10</td>\n",
       "      <td>57</td>\n",
       "      <td>5</td>\n",
       "      <td>1</td>\n",
       "      <td>2</td>\n",
       "      <td>0</td>\n",
       "      <td>2</td>\n",
       "      <td>1</td>\n",
       "      <td>9.132275</td>\n",
       "      <td>8.019347</td>\n",
       "    </tr>\n",
       "    <tr>\n",
       "      <th>25603</th>\n",
       "      <td>2018-09-27T19:20:25.000Z</td>\n",
       "      <td>15</td>\n",
       "      <td>9</td>\n",
       "      <td>61</td>\n",
       "      <td>19</td>\n",
       "      <td>1</td>\n",
       "      <td>2</td>\n",
       "      <td>0</td>\n",
       "      <td>3</td>\n",
       "      <td>1</td>\n",
       "      <td>6.671481</td>\n",
       "      <td>1.786527</td>\n",
       "    </tr>\n",
       "    <tr>\n",
       "      <th>25604</th>\n",
       "      <td>2018-09-28T16:37:43.000Z</td>\n",
       "      <td>15</td>\n",
       "      <td>9</td>\n",
       "      <td>61</td>\n",
       "      <td>19</td>\n",
       "      <td>1</td>\n",
       "      <td>2</td>\n",
       "      <td>0</td>\n",
       "      <td>3</td>\n",
       "      <td>1</td>\n",
       "      <td>6.671481</td>\n",
       "      <td>1.786527</td>\n",
       "    </tr>\n",
       "    <tr>\n",
       "      <th>25605</th>\n",
       "      <td>2018-12-20T22:11:24.000Z</td>\n",
       "      <td>15</td>\n",
       "      <td>9</td>\n",
       "      <td>61</td>\n",
       "      <td>20</td>\n",
       "      <td>1</td>\n",
       "      <td>2</td>\n",
       "      <td>0</td>\n",
       "      <td>1</td>\n",
       "      <td>1</td>\n",
       "      <td>6.478381</td>\n",
       "      <td>1.349178</td>\n",
       "    </tr>\n",
       "  </tbody>\n",
       "</table>\n",
       "</div>"
      ],
      "text/plain": [
       "                           time  source  service  action  agent  arn  tactic1  \\\n",
       "21743  2018-09-30T17:30:21.000Z      17       18       3      3    1        5   \n",
       "21744  2018-09-29T13:58:43.000Z      15       18       3      4    1        5   \n",
       "21745  2018-09-30T19:52:25.000Z      14       18       3      7    1        5   \n",
       "21746  2018-09-26T18:08:45.000Z      15       18       3      8    1        5   \n",
       "21747  2018-09-27T19:17:58.000Z      15       18       3      9    1        5   \n",
       "21748  2018-09-29T20:40:05.000Z      15       18       3      9    1        5   \n",
       "21749  2018-09-28T16:36:10.000Z      15       18       3      9    1        5   \n",
       "21750  2018-12-19T13:44:00.000Z      15       18       3     12    1        5   \n",
       "21751  2018-12-19T20:02:32.000Z      16       18       3     13    1        5   \n",
       "21752  2018-12-17T17:03:57.000Z      15       18       3      7    1        5   \n",
       "21753  2018-12-18T21:45:45.000Z      15       18       3     10    1        5   \n",
       "21754  2018-12-19T16:56:11.000Z      15       18       3      7    1        5   \n",
       "21755  2018-12-20T22:09:41.000Z      15       18       3      7    1        5   \n",
       "21756  2018-12-17T17:15:32.000Z      15       18       3      9    1        5   \n",
       "21757  2018-12-18T03:34:58.000Z      15       18       3     12    1        5   \n",
       "21758  2018-12-29T19:08:15.000Z      15       18       3      6    1        5   \n",
       "21759  2018-12-24T15:21:11.000Z      15       18       3     11    1        5   \n",
       "25494                @timestamp      46        8      75     27    3        2   \n",
       "25540  2018-09-26T21:10:29.000Z      15       10      57      5    1        2   \n",
       "25541  2018-09-26T21:07:25.000Z      15       10      57      5    1        2   \n",
       "25542  2018-09-27T19:41:11.000Z      15       10      57      5    1        2   \n",
       "25543  2018-09-26T22:49:26.000Z      15       10      57      5    1        2   \n",
       "25544  2018-09-26T21:03:03.000Z      15       10      57      5    1        2   \n",
       "25603  2018-09-27T19:20:25.000Z      15        9      61     19    1        2   \n",
       "25604  2018-09-28T16:37:43.000Z      15        9      61     19    1        2   \n",
       "25605  2018-12-20T22:11:24.000Z      15        9      61     20    1        2   \n",
       "\n",
       "       tactic2  cluster outlier_kmeans        c1         c2  \n",
       "21743        1        2              1  6.675359  10.003369  \n",
       "21744        1        2              1  6.566720   9.538602  \n",
       "21745        1        2              1  6.029649   8.212845  \n",
       "21746        1        2              1  5.794318   7.789204  \n",
       "21747        1        3              1  5.601217   7.351854  \n",
       "21748        1        3              1  5.601217   7.351854  \n",
       "21749        1        3              1  5.601217   7.351854  \n",
       "21750        1        3              1  5.021915   6.039805  \n",
       "21751        1        3              1  4.786584   5.616165  \n",
       "21752        1        2              1  5.987418   8.226553  \n",
       "21753        1        3              1  5.408117   6.914505  \n",
       "21754        1        2              1  5.987418   8.226553  \n",
       "21755        1        2              1  5.987418   8.226553  \n",
       "21756        1        3              1  5.601217   7.351854  \n",
       "21757        1        3              1  5.021915   6.039805  \n",
       "21758        1        2              1  6.180519   8.663903  \n",
       "21759        1        3              1  5.215016   6.477155  \n",
       "25494        0        1              1  7.027051  -2.395981  \n",
       "25540        0        2              1  9.132275   8.019347  \n",
       "25541        0        2              1  9.132275   8.019347  \n",
       "25542        0        2              1  9.132275   8.019347  \n",
       "25543        0        2              1  9.132275   8.019347  \n",
       "25544        0        2              1  9.132275   8.019347  \n",
       "25603        0        3              1  6.671481   1.786527  \n",
       "25604        0        3              1  6.671481   1.786527  \n",
       "25605        0        1              1  6.478381   1.349178  "
      ]
     },
     "execution_count": 119,
     "metadata": {},
     "output_type": "execute_result"
    }
   ],
   "source": [
    "df.query('outlier_kmeans == \"1\"')"
   ]
  },
  {
   "cell_type": "code",
   "execution_count": 120,
   "id": "33ee629f-f378-48e5-9eaa-59444f4e8843",
   "metadata": {},
   "outputs": [
    {
     "name": "stdout",
     "output_type": "stream",
     "text": [
      "26\n"
     ]
    }
   ],
   "source": [
    "print(len(df.query('outlier_kmeans == \"1\"')))"
   ]
  },
  {
   "cell_type": "code",
   "execution_count": 121,
   "id": "feee5a96-3cd1-4838-9de6-5e5096aa6059",
   "metadata": {},
   "outputs": [
    {
     "name": "stdout",
     "output_type": "stream",
     "text": [
      "[0 0 0 ... 1 1 1]\n"
     ]
    }
   ],
   "source": [
    "print(closest_cluster)"
   ]
  },
  {
   "cell_type": "code",
   "execution_count": 122,
   "id": "1bcaf56b-4440-4b32-84aa-b1baa4c29967",
   "metadata": {},
   "outputs": [
    {
     "data": {
      "text/plain": [
       "Index(['time', 'source', 'service', 'action', 'agent', 'arn', 'tactic1',\n",
       "       'tactic2', 'cluster', 'outlier_kmeans', 'c1', 'c2'],\n",
       "      dtype='object')"
      ]
     },
     "execution_count": 122,
     "metadata": {},
     "output_type": "execute_result"
    }
   ],
   "source": [
    "df.columns"
   ]
  },
  {
   "cell_type": "code",
   "execution_count": 123,
   "id": "ba4aa5b9-59b6-4e52-8326-2c76f591c7fa",
   "metadata": {},
   "outputs": [
    {
     "name": "stdout",
     "output_type": "stream",
     "text": [
      "[[-0.884974    0.02576361]\n",
      " [-0.884974    0.02576361]\n",
      " [-0.884974    0.02576361]\n",
      " ...\n",
      " [ 6.52775407 -0.80310612]\n",
      " [ 6.52775407 -0.80310612]\n",
      " [ 6.37182363 -1.24966019]]\n"
     ]
    }
   ],
   "source": [
    "print(X2)"
   ]
  },
  {
   "cell_type": "code",
   "execution_count": 124,
   "id": "99144fb7-a298-4d03-bc04-699057faa399",
   "metadata": {},
   "outputs": [
    {
     "name": "stdout",
     "output_type": "stream",
     "text": [
      "25676\n"
     ]
    }
   ],
   "source": [
    "print(len(X2))"
   ]
  },
  {
   "cell_type": "code",
   "execution_count": 125,
   "id": "6e6d2c47-28c1-4ddb-bda0-40327fa10261",
   "metadata": {},
   "outputs": [
    {
     "name": "stdout",
     "output_type": "stream",
     "text": [
      "(25676, 12)\n"
     ]
    }
   ],
   "source": [
    "print(df.shape)"
   ]
  },
  {
   "cell_type": "code",
   "execution_count": 126,
   "id": "fe1ced78-8703-4b43-84ce-806190440bf3",
   "metadata": {},
   "outputs": [],
   "source": [
    "x_anom = df['c1'][anomaly_indices]\n",
    "y_anom = df['c2'][anomaly_indices]"
   ]
  },
  {
   "cell_type": "code",
   "execution_count": 127,
   "id": "4e11a2c8-2e00-44af-a4ea-9f138f166558",
   "metadata": {},
   "outputs": [],
   "source": [
    "sns.set(rc={\"figure.figsize\":(15, 10)}) #width=15, #height=10"
   ]
  },
  {
   "cell_type": "code",
   "execution_count": 128,
   "id": "7977d9aa-02be-4b72-b1e4-738dff77661c",
   "metadata": {},
   "outputs": [
    {
     "data": {
      "image/png": "[encoded data removed]",
      "text/plain": [
       "<Figure size 1500x1000 with 1 Axes>"
      ]
     },
     "metadata": {},
     "output_type": "display_data"
    }
   ],
   "source": [
    "#pd.plotting.parallel_coordinates(X2, 'cluster')\n",
    "# X -- cluster center\n",
    "# s (square) = outlier\n",
    "colors = ['pink', 'blue', 'purple', 'green', 'grey']\n",
    "ax = sns.scatterplot(x=df['c1'], y=df['c2'], hue=kmeans.labels_, palette=colors, alpha=0.5, s=10) # hue = 'cluster'\n",
    "ax = sns.scatterplot(x=kmeans.cluster_centers_[:, 0], y=kmeans.cluster_centers_[:, 1],\n",
    "                     hue=range(K), palette=colors, s=80, marker='X', legend=False)\n",
    "\n",
    "sns.scatterplot(x=x_anom, y=y_anom, color=\"red\", s=40, marker=\"s\", edgecolor='black' ) # candidate values for our number of cluster\n",
    "\n",
    "plt.show()"
   ]
  },
  {
   "cell_type": "code",
   "execution_count": 129,
   "id": "74cb549f",
   "metadata": {},
   "outputs": [
    {
     "name": "stdout",
     "output_type": "stream",
     "text": [
      "                       time                       source            service  \\\n",
      "0  2018-09-25T12:06:16.000Z  vpc-flow-logs.amazonaws.com  sts.amazonaws.com   \n",
      "1  2018-09-25T12:06:16.000Z  vpc-flow-logs.amazonaws.com  sts.amazonaws.com   \n",
      "\n",
      "       action                        agent   arn            tactic1  \\\n",
      "0  AssumeRole  vpc-flow-logs.amazonaws.com  Null  Credential Access   \n",
      "1  AssumeRole  vpc-flow-logs.amazonaws.com  Null  Credential Access   \n",
      "\n",
      "            tactic2  \n",
      "0  Lateral Movement  \n",
      "1  Lateral Movement  \n"
     ]
    },
    {
     "data": {
      "text/html": [
       "<div>\n",
       "<style scoped>\n",
       "    .dataframe tbody tr th:only-of-type {\n",
       "        vertical-align: middle;\n",
       "    }\n",
       "\n",
       "    .dataframe tbody tr th {\n",
       "        vertical-align: top;\n",
       "    }\n",
       "\n",
       "    .dataframe thead th {\n",
       "        text-align: right;\n",
       "    }\n",
       "</style>\n",
       "<table border=\"1\" class=\"dataframe\">\n",
       "  <thead>\n",
       "    <tr style=\"text-align: right;\">\n",
       "      <th></th>\n",
       "      <th>time</th>\n",
       "      <th>source</th>\n",
       "      <th>service</th>\n",
       "      <th>action</th>\n",
       "      <th>agent</th>\n",
       "      <th>arn</th>\n",
       "      <th>tactic1</th>\n",
       "      <th>tactic2</th>\n",
       "    </tr>\n",
       "  </thead>\n",
       "  <tbody>\n",
       "    <tr>\n",
       "      <th>21743</th>\n",
       "      <td>2018-09-30T17:30:21.000Z</td>\n",
       "      <td>223.0.113.35</td>\n",
       "      <td>signin.amazonaws.com</td>\n",
       "      <td>ConsoleLogin</td>\n",
       "      <td>AWSBFF BFFiOS/1.19.6 (1015) Mobile iOS/11.4.1 ...</td>\n",
       "      <td>arn:aws:iam::123456789012:root</td>\n",
       "      <td>Persistence</td>\n",
       "      <td>Initial Access</td>\n",
       "    </tr>\n",
       "    <tr>\n",
       "      <th>21744</th>\n",
       "      <td>2018-09-29T13:58:43.000Z</td>\n",
       "      <td>198.18.161.170</td>\n",
       "      <td>signin.amazonaws.com</td>\n",
       "      <td>ConsoleLogin</td>\n",
       "      <td>AWSBFF BFFiOS/1.19.6 (1015) Mobile iOS/11.4.1 ...</td>\n",
       "      <td>arn:aws:iam::123456789012:root</td>\n",
       "      <td>Persistence</td>\n",
       "      <td>Initial Access</td>\n",
       "    </tr>\n",
       "    <tr>\n",
       "      <th>21745</th>\n",
       "      <td>2018-09-30T19:52:25.000Z</td>\n",
       "      <td>198.18.14.103</td>\n",
       "      <td>signin.amazonaws.com</td>\n",
       "      <td>ConsoleLogin</td>\n",
       "      <td>Mozilla/5.0 (Macintosh; Intel Mac OS X 10_11_6...</td>\n",
       "      <td>arn:aws:iam::123456789012:root</td>\n",
       "      <td>Persistence</td>\n",
       "      <td>Initial Access</td>\n",
       "    </tr>\n",
       "    <tr>\n",
       "      <th>21746</th>\n",
       "      <td>2018-09-26T18:08:45.000Z</td>\n",
       "      <td>198.18.161.170</td>\n",
       "      <td>signin.amazonaws.com</td>\n",
       "      <td>ConsoleLogin</td>\n",
       "      <td>Mozilla/5.0 (Windows NT 6.1) AppleWebKit/537.3...</td>\n",
       "      <td>arn:aws:iam::123456789012:root</td>\n",
       "      <td>Persistence</td>\n",
       "      <td>Initial Access</td>\n",
       "    </tr>\n",
       "    <tr>\n",
       "      <th>21747</th>\n",
       "      <td>2018-09-27T19:17:58.000Z</td>\n",
       "      <td>198.18.161.170</td>\n",
       "      <td>signin.amazonaws.com</td>\n",
       "      <td>ConsoleLogin</td>\n",
       "      <td>Mozilla/5.0 (Windows NT 6.1) AppleWebKit/537.3...</td>\n",
       "      <td>arn:aws:iam::123456789012:root</td>\n",
       "      <td>Persistence</td>\n",
       "      <td>Initial Access</td>\n",
       "    </tr>\n",
       "    <tr>\n",
       "      <th>21748</th>\n",
       "      <td>2018-09-29T20:40:05.000Z</td>\n",
       "      <td>198.18.161.170</td>\n",
       "      <td>signin.amazonaws.com</td>\n",
       "      <td>ConsoleLogin</td>\n",
       "      <td>Mozilla/5.0 (Windows NT 6.1) AppleWebKit/537.3...</td>\n",
       "      <td>arn:aws:iam::123456789012:root</td>\n",
       "      <td>Persistence</td>\n",
       "      <td>Initial Access</td>\n",
       "    </tr>\n",
       "    <tr>\n",
       "      <th>21749</th>\n",
       "      <td>2018-09-28T16:36:10.000Z</td>\n",
       "      <td>198.18.161.170</td>\n",
       "      <td>signin.amazonaws.com</td>\n",
       "      <td>ConsoleLogin</td>\n",
       "      <td>Mozilla/5.0 (Windows NT 6.1) AppleWebKit/537.3...</td>\n",
       "      <td>arn:aws:iam::123456789012:root</td>\n",
       "      <td>Persistence</td>\n",
       "      <td>Initial Access</td>\n",
       "    </tr>\n",
       "    <tr>\n",
       "      <th>21750</th>\n",
       "      <td>2018-12-19T13:44:00.000Z</td>\n",
       "      <td>198.18.161.170</td>\n",
       "      <td>signin.amazonaws.com</td>\n",
       "      <td>ConsoleLogin</td>\n",
       "      <td>Mozilla/5.0 (iPad; CPU OS 12_1 like Mac OS X) ...</td>\n",
       "      <td>arn:aws:iam::123456789012:root</td>\n",
       "      <td>Persistence</td>\n",
       "      <td>Initial Access</td>\n",
       "    </tr>\n",
       "    <tr>\n",
       "      <th>21751</th>\n",
       "      <td>2018-12-19T20:02:32.000Z</td>\n",
       "      <td>203.0.113.55</td>\n",
       "      <td>signin.amazonaws.com</td>\n",
       "      <td>ConsoleLogin</td>\n",
       "      <td>Mozilla/5.0 (iPhone; CPU iPhone OS 12_0_1 like...</td>\n",
       "      <td>arn:aws:iam::123456789012:root</td>\n",
       "      <td>Persistence</td>\n",
       "      <td>Initial Access</td>\n",
       "    </tr>\n",
       "    <tr>\n",
       "      <th>21752</th>\n",
       "      <td>2018-12-17T17:03:57.000Z</td>\n",
       "      <td>198.18.161.170</td>\n",
       "      <td>signin.amazonaws.com</td>\n",
       "      <td>ConsoleLogin</td>\n",
       "      <td>Mozilla/5.0 (Macintosh; Intel Mac OS X 10_11_6...</td>\n",
       "      <td>arn:aws:iam::123456789012:root</td>\n",
       "      <td>Persistence</td>\n",
       "      <td>Initial Access</td>\n",
       "    </tr>\n",
       "    <tr>\n",
       "      <th>21753</th>\n",
       "      <td>2018-12-18T21:45:45.000Z</td>\n",
       "      <td>198.18.161.170</td>\n",
       "      <td>signin.amazonaws.com</td>\n",
       "      <td>ConsoleLogin</td>\n",
       "      <td>Mozilla/5.0 (Windows NT 6.1) AppleWebKit/537.3...</td>\n",
       "      <td>arn:aws:iam::123456789012:root</td>\n",
       "      <td>Persistence</td>\n",
       "      <td>Initial Access</td>\n",
       "    </tr>\n",
       "    <tr>\n",
       "      <th>21754</th>\n",
       "      <td>2018-12-19T16:56:11.000Z</td>\n",
       "      <td>198.18.161.170</td>\n",
       "      <td>signin.amazonaws.com</td>\n",
       "      <td>ConsoleLogin</td>\n",
       "      <td>Mozilla/5.0 (Macintosh; Intel Mac OS X 10_11_6...</td>\n",
       "      <td>arn:aws:iam::123456789012:root</td>\n",
       "      <td>Persistence</td>\n",
       "      <td>Initial Access</td>\n",
       "    </tr>\n",
       "    <tr>\n",
       "      <th>21755</th>\n",
       "      <td>2018-12-20T22:09:41.000Z</td>\n",
       "      <td>198.18.161.170</td>\n",
       "      <td>signin.amazonaws.com</td>\n",
       "      <td>ConsoleLogin</td>\n",
       "      <td>Mozilla/5.0 (Macintosh; Intel Mac OS X 10_11_6...</td>\n",
       "      <td>arn:aws:iam::123456789012:root</td>\n",
       "      <td>Persistence</td>\n",
       "      <td>Initial Access</td>\n",
       "    </tr>\n",
       "    <tr>\n",
       "      <th>21756</th>\n",
       "      <td>2018-12-17T17:15:32.000Z</td>\n",
       "      <td>198.18.161.170</td>\n",
       "      <td>signin.amazonaws.com</td>\n",
       "      <td>ConsoleLogin</td>\n",
       "      <td>Mozilla/5.0 (Windows NT 6.1) AppleWebKit/537.3...</td>\n",
       "      <td>arn:aws:iam::123456789012:root</td>\n",
       "      <td>Persistence</td>\n",
       "      <td>Initial Access</td>\n",
       "    </tr>\n",
       "    <tr>\n",
       "      <th>21757</th>\n",
       "      <td>2018-12-18T03:34:58.000Z</td>\n",
       "      <td>198.18.161.170</td>\n",
       "      <td>signin.amazonaws.com</td>\n",
       "      <td>ConsoleLogin</td>\n",
       "      <td>Mozilla/5.0 (iPad; CPU OS 12_1 like Mac OS X) ...</td>\n",
       "      <td>arn:aws:iam::123456789012:root</td>\n",
       "      <td>Persistence</td>\n",
       "      <td>Initial Access</td>\n",
       "    </tr>\n",
       "    <tr>\n",
       "      <th>21758</th>\n",
       "      <td>2018-12-29T19:08:15.000Z</td>\n",
       "      <td>198.18.161.170</td>\n",
       "      <td>signin.amazonaws.com</td>\n",
       "      <td>ConsoleLogin</td>\n",
       "      <td>Mozilla/5.0 (Macintosh; Intel Mac OS X 10_11_6...</td>\n",
       "      <td>arn:aws:iam::123456789012:root</td>\n",
       "      <td>Persistence</td>\n",
       "      <td>Initial Access</td>\n",
       "    </tr>\n",
       "    <tr>\n",
       "      <th>21759</th>\n",
       "      <td>2018-12-24T15:21:11.000Z</td>\n",
       "      <td>198.18.161.170</td>\n",
       "      <td>signin.amazonaws.com</td>\n",
       "      <td>ConsoleLogin</td>\n",
       "      <td>Mozilla/5.0 (iPad; CPU OS 12_1 like Mac OS X) ...</td>\n",
       "      <td>arn:aws:iam::123456789012:root</td>\n",
       "      <td>Persistence</td>\n",
       "      <td>Initial Access</td>\n",
       "    </tr>\n",
       "    <tr>\n",
       "      <th>25494</th>\n",
       "      <td>@timestamp</td>\n",
       "      <td>sourceIPAddress</td>\n",
       "      <td>eventSource</td>\n",
       "      <td>eventName</td>\n",
       "      <td>userAgent</td>\n",
       "      <td>userIdentity/arn</td>\n",
       "      <td>Discovery</td>\n",
       "      <td>-</td>\n",
       "    </tr>\n",
       "    <tr>\n",
       "      <th>25540</th>\n",
       "      <td>2018-09-26T21:10:29.000Z</td>\n",
       "      <td>198.18.161.170</td>\n",
       "      <td>kms.amazonaws.com</td>\n",
       "      <td>ListAliases</td>\n",
       "      <td>Coral/Jakarta</td>\n",
       "      <td>arn:aws:iam::123456789012:root</td>\n",
       "      <td>Discovery</td>\n",
       "      <td>-</td>\n",
       "    </tr>\n",
       "    <tr>\n",
       "      <th>25541</th>\n",
       "      <td>2018-09-26T21:07:25.000Z</td>\n",
       "      <td>198.18.161.170</td>\n",
       "      <td>kms.amazonaws.com</td>\n",
       "      <td>ListAliases</td>\n",
       "      <td>Coral/Jakarta</td>\n",
       "      <td>arn:aws:iam::123456789012:root</td>\n",
       "      <td>Discovery</td>\n",
       "      <td>-</td>\n",
       "    </tr>\n",
       "    <tr>\n",
       "      <th>25542</th>\n",
       "      <td>2018-09-27T19:41:11.000Z</td>\n",
       "      <td>198.18.161.170</td>\n",
       "      <td>kms.amazonaws.com</td>\n",
       "      <td>ListAliases</td>\n",
       "      <td>Coral/Jakarta</td>\n",
       "      <td>arn:aws:iam::123456789012:root</td>\n",
       "      <td>Discovery</td>\n",
       "      <td>-</td>\n",
       "    </tr>\n",
       "    <tr>\n",
       "      <th>25543</th>\n",
       "      <td>2018-09-26T22:49:26.000Z</td>\n",
       "      <td>198.18.161.170</td>\n",
       "      <td>kms.amazonaws.com</td>\n",
       "      <td>ListAliases</td>\n",
       "      <td>Coral/Jakarta</td>\n",
       "      <td>arn:aws:iam::123456789012:root</td>\n",
       "      <td>Discovery</td>\n",
       "      <td>-</td>\n",
       "    </tr>\n",
       "    <tr>\n",
       "      <th>25544</th>\n",
       "      <td>2018-09-26T21:03:03.000Z</td>\n",
       "      <td>198.18.161.170</td>\n",
       "      <td>kms.amazonaws.com</td>\n",
       "      <td>ListAliases</td>\n",
       "      <td>Coral/Jakarta</td>\n",
       "      <td>arn:aws:iam::123456789012:root</td>\n",
       "      <td>Discovery</td>\n",
       "      <td>-</td>\n",
       "    </tr>\n",
       "    <tr>\n",
       "      <th>25603</th>\n",
       "      <td>2018-09-27T19:20:25.000Z</td>\n",
       "      <td>198.18.161.170</td>\n",
       "      <td>iam.amazonaws.com</td>\n",
       "      <td>ListInstanceProfiles</td>\n",
       "      <td>aws-internal/3 aws-sdk-java/1.11.405 Linux/4.9...</td>\n",
       "      <td>arn:aws:iam::123456789012:root</td>\n",
       "      <td>Discovery</td>\n",
       "      <td>-</td>\n",
       "    </tr>\n",
       "    <tr>\n",
       "      <th>25604</th>\n",
       "      <td>2018-09-28T16:37:43.000Z</td>\n",
       "      <td>198.18.161.170</td>\n",
       "      <td>iam.amazonaws.com</td>\n",
       "      <td>ListInstanceProfiles</td>\n",
       "      <td>aws-internal/3 aws-sdk-java/1.11.405 Linux/4.9...</td>\n",
       "      <td>arn:aws:iam::123456789012:root</td>\n",
       "      <td>Discovery</td>\n",
       "      <td>-</td>\n",
       "    </tr>\n",
       "    <tr>\n",
       "      <th>25605</th>\n",
       "      <td>2018-12-20T22:11:24.000Z</td>\n",
       "      <td>198.18.161.170</td>\n",
       "      <td>iam.amazonaws.com</td>\n",
       "      <td>ListInstanceProfiles</td>\n",
       "      <td>aws-internal/3 aws-sdk-java/1.11.455 Linux/4.9...</td>\n",
       "      <td>arn:aws:iam::123456789012:root</td>\n",
       "      <td>Discovery</td>\n",
       "      <td>-</td>\n",
       "    </tr>\n",
       "  </tbody>\n",
       "</table>\n",
       "</div>"
      ],
      "text/plain": [
       "                           time           source               service  \\\n",
       "21743  2018-09-30T17:30:21.000Z     223.0.113.35  signin.amazonaws.com   \n",
       "21744  2018-09-29T13:58:43.000Z   198.18.161.170  signin.amazonaws.com   \n",
       "21745  2018-09-30T19:52:25.000Z    198.18.14.103  signin.amazonaws.com   \n",
       "21746  2018-09-26T18:08:45.000Z   198.18.161.170  signin.amazonaws.com   \n",
       "21747  2018-09-27T19:17:58.000Z   198.18.161.170  signin.amazonaws.com   \n",
       "21748  2018-09-29T20:40:05.000Z   198.18.161.170  signin.amazonaws.com   \n",
       "21749  2018-09-28T16:36:10.000Z   198.18.161.170  signin.amazonaws.com   \n",
       "21750  2018-12-19T13:44:00.000Z   198.18.161.170  signin.amazonaws.com   \n",
       "21751  2018-12-19T20:02:32.000Z     203.0.113.55  signin.amazonaws.com   \n",
       "21752  2018-12-17T17:03:57.000Z   198.18.161.170  signin.amazonaws.com   \n",
       "21753  2018-12-18T21:45:45.000Z   198.18.161.170  signin.amazonaws.com   \n",
       "21754  2018-12-19T16:56:11.000Z   198.18.161.170  signin.amazonaws.com   \n",
       "21755  2018-12-20T22:09:41.000Z   198.18.161.170  signin.amazonaws.com   \n",
       "21756  2018-12-17T17:15:32.000Z   198.18.161.170  signin.amazonaws.com   \n",
       "21757  2018-12-18T03:34:58.000Z   198.18.161.170  signin.amazonaws.com   \n",
       "21758  2018-12-29T19:08:15.000Z   198.18.161.170  signin.amazonaws.com   \n",
       "21759  2018-12-24T15:21:11.000Z   198.18.161.170  signin.amazonaws.com   \n",
       "25494                @timestamp  sourceIPAddress           eventSource   \n",
       "25540  2018-09-26T21:10:29.000Z   198.18.161.170     kms.amazonaws.com   \n",
       "25541  2018-09-26T21:07:25.000Z   198.18.161.170     kms.amazonaws.com   \n",
       "25542  2018-09-27T19:41:11.000Z   198.18.161.170     kms.amazonaws.com   \n",
       "25543  2018-09-26T22:49:26.000Z   198.18.161.170     kms.amazonaws.com   \n",
       "25544  2018-09-26T21:03:03.000Z   198.18.161.170     kms.amazonaws.com   \n",
       "25603  2018-09-27T19:20:25.000Z   198.18.161.170     iam.amazonaws.com   \n",
       "25604  2018-09-28T16:37:43.000Z   198.18.161.170     iam.amazonaws.com   \n",
       "25605  2018-12-20T22:11:24.000Z   198.18.161.170     iam.amazonaws.com   \n",
       "\n",
       "                     action  \\\n",
       "21743          ConsoleLogin   \n",
       "21744          ConsoleLogin   \n",
       "21745          ConsoleLogin   \n",
       "21746          ConsoleLogin   \n",
       "21747          ConsoleLogin   \n",
       "21748          ConsoleLogin   \n",
       "21749          ConsoleLogin   \n",
       "21750          ConsoleLogin   \n",
       "21751          ConsoleLogin   \n",
       "21752          ConsoleLogin   \n",
       "21753          ConsoleLogin   \n",
       "21754          ConsoleLogin   \n",
       "21755          ConsoleLogin   \n",
       "21756          ConsoleLogin   \n",
       "21757          ConsoleLogin   \n",
       "21758          ConsoleLogin   \n",
       "21759          ConsoleLogin   \n",
       "25494             eventName   \n",
       "25540           ListAliases   \n",
       "25541           ListAliases   \n",
       "25542           ListAliases   \n",
       "25543           ListAliases   \n",
       "25544           ListAliases   \n",
       "25603  ListInstanceProfiles   \n",
       "25604  ListInstanceProfiles   \n",
       "25605  ListInstanceProfiles   \n",
       "\n",
       "                                                   agent  \\\n",
       "21743  AWSBFF BFFiOS/1.19.6 (1015) Mobile iOS/11.4.1 ...   \n",
       "21744  AWSBFF BFFiOS/1.19.6 (1015) Mobile iOS/11.4.1 ...   \n",
       "21745  Mozilla/5.0 (Macintosh; Intel Mac OS X 10_11_6...   \n",
       "21746  Mozilla/5.0 (Windows NT 6.1) AppleWebKit/537.3...   \n",
       "21747  Mozilla/5.0 (Windows NT 6.1) AppleWebKit/537.3...   \n",
       "21748  Mozilla/5.0 (Windows NT 6.1) AppleWebKit/537.3...   \n",
       "21749  Mozilla/5.0 (Windows NT 6.1) AppleWebKit/537.3...   \n",
       "21750  Mozilla/5.0 (iPad; CPU OS 12_1 like Mac OS X) ...   \n",
       "21751  Mozilla/5.0 (iPhone; CPU iPhone OS 12_0_1 like...   \n",
       "21752  Mozilla/5.0 (Macintosh; Intel Mac OS X 10_11_6...   \n",
       "21753  Mozilla/5.0 (Windows NT 6.1) AppleWebKit/537.3...   \n",
       "21754  Mozilla/5.0 (Macintosh; Intel Mac OS X 10_11_6...   \n",
       "21755  Mozilla/5.0 (Macintosh; Intel Mac OS X 10_11_6...   \n",
       "21756  Mozilla/5.0 (Windows NT 6.1) AppleWebKit/537.3...   \n",
       "21757  Mozilla/5.0 (iPad; CPU OS 12_1 like Mac OS X) ...   \n",
       "21758  Mozilla/5.0 (Macintosh; Intel Mac OS X 10_11_6...   \n",
       "21759  Mozilla/5.0 (iPad; CPU OS 12_1 like Mac OS X) ...   \n",
       "25494                                          userAgent   \n",
       "25540                                      Coral/Jakarta   \n",
       "25541                                      Coral/Jakarta   \n",
       "25542                                      Coral/Jakarta   \n",
       "25543                                      Coral/Jakarta   \n",
       "25544                                      Coral/Jakarta   \n",
       "25603  aws-internal/3 aws-sdk-java/1.11.405 Linux/4.9...   \n",
       "25604  aws-internal/3 aws-sdk-java/1.11.405 Linux/4.9...   \n",
       "25605  aws-internal/3 aws-sdk-java/1.11.455 Linux/4.9...   \n",
       "\n",
       "                                  arn      tactic1         tactic2  \n",
       "21743  arn:aws:iam::123456789012:root  Persistence  Initial Access  \n",
       "21744  arn:aws:iam::123456789012:root  Persistence  Initial Access  \n",
       "21745  arn:aws:iam::123456789012:root  Persistence  Initial Access  \n",
       "21746  arn:aws:iam::123456789012:root  Persistence  Initial Access  \n",
       "21747  arn:aws:iam::123456789012:root  Persistence  Initial Access  \n",
       "21748  arn:aws:iam::123456789012:root  Persistence  Initial Access  \n",
       "21749  arn:aws:iam::123456789012:root  Persistence  Initial Access  \n",
       "21750  arn:aws:iam::123456789012:root  Persistence  Initial Access  \n",
       "21751  arn:aws:iam::123456789012:root  Persistence  Initial Access  \n",
       "21752  arn:aws:iam::123456789012:root  Persistence  Initial Access  \n",
       "21753  arn:aws:iam::123456789012:root  Persistence  Initial Access  \n",
       "21754  arn:aws:iam::123456789012:root  Persistence  Initial Access  \n",
       "21755  arn:aws:iam::123456789012:root  Persistence  Initial Access  \n",
       "21756  arn:aws:iam::123456789012:root  Persistence  Initial Access  \n",
       "21757  arn:aws:iam::123456789012:root  Persistence  Initial Access  \n",
       "21758  arn:aws:iam::123456789012:root  Persistence  Initial Access  \n",
       "21759  arn:aws:iam::123456789012:root  Persistence  Initial Access  \n",
       "25494                userIdentity/arn    Discovery               -  \n",
       "25540  arn:aws:iam::123456789012:root    Discovery               -  \n",
       "25541  arn:aws:iam::123456789012:root    Discovery               -  \n",
       "25542  arn:aws:iam::123456789012:root    Discovery               -  \n",
       "25543  arn:aws:iam::123456789012:root    Discovery               -  \n",
       "25544  arn:aws:iam::123456789012:root    Discovery               -  \n",
       "25603  arn:aws:iam::123456789012:root    Discovery               -  \n",
       "25604  arn:aws:iam::123456789012:root    Discovery               -  \n",
       "25605  arn:aws:iam::123456789012:root    Discovery               -  "
      ]
     },
     "execution_count": 129,
     "metadata": {},
     "output_type": "execute_result"
    }
   ],
   "source": [
    "df_orig = pd.read_csv(csv_file_path)\n",
    "print(df_orig.head(2))\n",
    "df_orig.action.astype('str')\n",
    "# Use iloc to select the specific rows\n",
    "selected_rows = df_orig.iloc[anomaly_indices]\n",
    "selected_rows\n",
    "# Filter rows where the cell value in 'action' does not start with 'Describe'\n",
    "filtered_df = selected_rows.loc[~selected_rows['action'].str.startswith('Describe')]\n",
    "\n",
    "# Printing the filtered DataFrame\n",
    "filtered_df"
   ]
  },
  {
   "cell_type": "markdown",
   "id": "505be74b-c683-4d20-8500-6e84254200e6",
   "metadata": {},
   "source": [
    "#  dynamic K "
   ]
  },
  {
   "cell_type": "code",
   "execution_count": 130,
   "id": "283c928a-753b-4fc4-9ac5-ff00a3696773",
   "metadata": {},
   "outputs": [
    {
     "name": "stdout",
     "output_type": "stream",
     "text": [
      "             source       service        action         agent           arn  \\\n",
      "count  2.567600e+04  2.567600e+04  2.567600e+04  2.567600e+04  2.567600e+04   \n",
      "mean  -3.719308e-16 -5.136187e-16  5.313297e-17  3.896418e-16  5.313297e-17   \n",
      "std    1.000019e+00  1.000019e+00  1.000019e+00  1.000019e+00  1.000019e+00   \n",
      "min   -3.906865e+00 -3.482285e+00 -4.719854e-01 -1.326349e+01 -4.256291e-01   \n",
      "25%    4.119702e-01  4.161110e-01 -3.890323e-01  3.295749e-01 -4.256291e-01   \n",
      "50%    4.119702e-01  4.161110e-01 -3.890323e-01  3.295749e-01 -4.256291e-01   \n",
      "75%    4.119702e-01  4.161110e-01 -3.890323e-01  3.295749e-01 -4.256291e-01   \n",
      "max    4.119702e-01  4.161110e-01  5.749494e+00  3.295749e-01  7.870261e+00   \n",
      "\n",
      "            tactic1       tactic2  \n",
      "count  2.567600e+04  2.567600e+04  \n",
      "mean  -1.062659e-16  3.542198e-17  \n",
      "std    1.000019e+00  1.000019e+00  \n",
      "min   -4.209699e-01 -2.351686e+00  \n",
      "25%   -4.209699e-01  4.258337e-01  \n",
      "50%   -4.209699e-01  4.258337e-01  \n",
      "75%   -4.209699e-01  4.258337e-01  \n",
      "max    6.359973e+00  4.258337e-01  \n",
      "Explained variation per principal component: [0.90975414 0.05422201]\n",
      "Cumulative variance explained by 2 principal components: 96.40%\n",
      "\n",
      "\n",
      "         source   service    action     agent       arn   tactic1   tactic2\n",
      "PC_1  0.384023  0.383368  0.370484  0.325645  0.393317  0.391062  0.393224\n",
      "PC_2  0.108630  0.310996  0.050482  0.922003  0.126010  0.032910  0.147926\n",
      "\n",
      "*************** Most important features *************************\n",
      "As per PC 1:\n",
      " source     0.384023\n",
      "service    0.383368\n",
      "action     0.370484\n",
      "agent      0.325645\n",
      "arn        0.393317\n",
      "tactic1    0.391062\n",
      "tactic2    0.393224\n",
      "Name: PC_1, dtype: float64\n",
      "\n",
      "\n",
      "As per PC 2:\n",
      " service    0.310996\n",
      "agent      0.922003\n",
      "Name: PC_2, dtype: float64\n",
      "\n",
      "******************************************************************\n"
     ]
    }
   ],
   "source": [
    "df_scaled = df[fields_to_encode].copy()\n",
    "df_scaled[df_scaled.columns] = StandardScaler().fit_transform(df_scaled)\n",
    "print(df_scaled.describe())\n",
    "\n",
    "pca_2 = PCA(n_components=2)\n",
    "pca_2_result = pca_2.fit_transform(df_scaled)\n",
    "print('Explained variation per principal component: {}'.format(pca_2.explained_variance_ratio_))\n",
    "print('Cumulative variance explained by 2 principal components: {:.2%}'.format(\n",
    "    np.sum(pca_2.explained_variance_ratio_)))\n",
    "\n",
    "# Results from pca.components_\n",
    "dataset_pca = pd.DataFrame(abs(pca_2.components_), columns=df_scaled.columns, index=['PC_1', 'PC_2'])\n",
    "print('\\n\\n', dataset_pca)\n",
    "\n",
    "print(\"\\n*************** Most important features *************************\")\n",
    "print('As per PC 1:\\n', (dataset_pca[dataset_pca > 0.3].iloc[0]).dropna())\n",
    "print('\\n\\nAs per PC 2:\\n', (dataset_pca[dataset_pca > 0.3].iloc[1]).dropna())\n",
    "print(\"\\n******************************************************************\")"
   ]
  },
  {
   "cell_type": "code",
   "execution_count": 131,
   "id": "e3982034-9942-42f6-ac6c-17989e308911",
   "metadata": {},
   "outputs": [
    {
     "name": "stdout",
     "output_type": "stream",
     "text": [
      "        source   service    action     agent       arn   tactic1   tactic2\n",
      "PC_1  0.384023  0.383368  0.370484  0.325645  0.393317  0.391062  0.393224\n",
      "PC_2  0.108630  0.310996  0.050482  0.922003  0.126010  0.032910  0.147926\n"
     ]
    }
   ],
   "source": [
    "print(dataset_pca)"
   ]
  },
  {
   "cell_type": "code",
   "execution_count": 132,
   "id": "ea227ece-71e7-4903-bec3-2444f5338f3e",
   "metadata": {},
   "outputs": [
    {
     "name": "stderr",
     "output_type": "stream",
     "text": [
      "C:\\ProgramData\\anaconda3\\Lib\\site-packages\\sklearn\\cluster\\_kmeans.py:870: FutureWarning: The default value of `n_init` will change from 10 to 'auto' in 1.4. Set the value of `n_init` explicitly to suppress the warning\n",
      "  warnings.warn(\n"
     ]
    },
    {
     "name": "stdout",
     "output_type": "stream",
     "text": [
      "Parameter: {'n_clusters': 2} Score 0.9586624826425918\n"
     ]
    },
    {
     "name": "stderr",
     "output_type": "stream",
     "text": [
      "C:\\ProgramData\\anaconda3\\Lib\\site-packages\\sklearn\\cluster\\_kmeans.py:870: FutureWarning: The default value of `n_init` will change from 10 to 'auto' in 1.4. Set the value of `n_init` explicitly to suppress the warning\n",
      "  warnings.warn(\n"
     ]
    },
    {
     "name": "stdout",
     "output_type": "stream",
     "text": [
      "Parameter: {'n_clusters': 3} Score 0.9642327545639617\n"
     ]
    },
    {
     "name": "stderr",
     "output_type": "stream",
     "text": [
      "C:\\ProgramData\\anaconda3\\Lib\\site-packages\\sklearn\\cluster\\_kmeans.py:870: FutureWarning: The default value of `n_init` will change from 10 to 'auto' in 1.4. Set the value of `n_init` explicitly to suppress the warning\n",
      "  warnings.warn(\n"
     ]
    },
    {
     "name": "stdout",
     "output_type": "stream",
     "text": [
      "Parameter: {'n_clusters': 4} Score 0.9171876195132868\n"
     ]
    },
    {
     "name": "stderr",
     "output_type": "stream",
     "text": [
      "C:\\ProgramData\\anaconda3\\Lib\\site-packages\\sklearn\\cluster\\_kmeans.py:870: FutureWarning: The default value of `n_init` will change from 10 to 'auto' in 1.4. Set the value of `n_init` explicitly to suppress the warning\n",
      "  warnings.warn(\n"
     ]
    },
    {
     "name": "stdout",
     "output_type": "stream",
     "text": [
      "Parameter: {'n_clusters': 5} Score 0.9270906295775991\n"
     ]
    },
    {
     "name": "stderr",
     "output_type": "stream",
     "text": [
      "C:\\ProgramData\\anaconda3\\Lib\\site-packages\\sklearn\\cluster\\_kmeans.py:870: FutureWarning: The default value of `n_init` will change from 10 to 'auto' in 1.4. Set the value of `n_init` explicitly to suppress the warning\n",
      "  warnings.warn(\n"
     ]
    },
    {
     "name": "stdout",
     "output_type": "stream",
     "text": [
      "Parameter: {'n_clusters': 10} Score 0.9367594471144404\n"
     ]
    },
    {
     "name": "stderr",
     "output_type": "stream",
     "text": [
      "C:\\ProgramData\\anaconda3\\Lib\\site-packages\\sklearn\\cluster\\_kmeans.py:870: FutureWarning: The default value of `n_init` will change from 10 to 'auto' in 1.4. Set the value of `n_init` explicitly to suppress the warning\n",
      "  warnings.warn(\n"
     ]
    },
    {
     "name": "stdout",
     "output_type": "stream",
     "text": [
      "Parameter: {'n_clusters': 15} Score 0.9384798017441439\n"
     ]
    },
    {
     "name": "stderr",
     "output_type": "stream",
     "text": [
      "C:\\ProgramData\\anaconda3\\Lib\\site-packages\\sklearn\\cluster\\_kmeans.py:870: FutureWarning: The default value of `n_init` will change from 10 to 'auto' in 1.4. Set the value of `n_init` explicitly to suppress the warning\n",
      "  warnings.warn(\n"
     ]
    },
    {
     "name": "stdout",
     "output_type": "stream",
     "text": [
      "Parameter: {'n_clusters': 20} Score 0.9425183035531296\n"
     ]
    },
    {
     "name": "stderr",
     "output_type": "stream",
     "text": [
      "C:\\ProgramData\\anaconda3\\Lib\\site-packages\\sklearn\\cluster\\_kmeans.py:870: FutureWarning: The default value of `n_init` will change from 10 to 'auto' in 1.4. Set the value of `n_init` explicitly to suppress the warning\n",
      "  warnings.warn(\n"
     ]
    },
    {
     "name": "stdout",
     "output_type": "stream",
     "text": [
      "Parameter: {'n_clusters': 25} Score 0.9455162552657197\n"
     ]
    },
    {
     "name": "stderr",
     "output_type": "stream",
     "text": [
      "C:\\ProgramData\\anaconda3\\Lib\\site-packages\\sklearn\\cluster\\_kmeans.py:870: FutureWarning: The default value of `n_init` will change from 10 to 'auto' in 1.4. Set the value of `n_init` explicitly to suppress the warning\n",
      "  warnings.warn(\n"
     ]
    },
    {
     "name": "stdout",
     "output_type": "stream",
     "text": [
      "Parameter: {'n_clusters': 30} Score 0.9488829148727792\n"
     ]
    },
    {
     "name": "stderr",
     "output_type": "stream",
     "text": [
      "C:\\ProgramData\\anaconda3\\Lib\\site-packages\\sklearn\\cluster\\_kmeans.py:870: FutureWarning: The default value of `n_init` will change from 10 to 'auto' in 1.4. Set the value of `n_init` explicitly to suppress the warning\n",
      "  warnings.warn(\n"
     ]
    },
    {
     "name": "stdout",
     "output_type": "stream",
     "text": [
      "Parameter: {'n_clusters': 35} Score 0.9506057073637943\n"
     ]
    },
    {
     "name": "stderr",
     "output_type": "stream",
     "text": [
      "C:\\ProgramData\\anaconda3\\Lib\\site-packages\\sklearn\\cluster\\_kmeans.py:870: FutureWarning: The default value of `n_init` will change from 10 to 'auto' in 1.4. Set the value of `n_init` explicitly to suppress the warning\n",
      "  warnings.warn(\n"
     ]
    },
    {
     "name": "stdout",
     "output_type": "stream",
     "text": [
      "Parameter: {'n_clusters': 40} Score 0.9532621686188248\n"
     ]
    },
    {
     "data": {
      "image/png": "[encoded data removed]",
      "text/plain": [
       "<Figure size 1500x1000 with 1 Axes>"
      ]
     },
     "metadata": {},
     "output_type": "display_data"
    },
    {
     "name": "stdout",
     "output_type": "stream",
     "text": [
      "3\n"
     ]
    }
   ],
   "source": [
    "# candidate values for our number of cluster\n",
    "parameters = [2, 3, 4, 5, 10, 15, 20, 25, 30, 35, 40]\n",
    "\n",
    "# instantiating ParameterGrid, pass number of clusters as input\n",
    "parameter_grid = ParameterGrid({'n_clusters': parameters})\n",
    "\n",
    "best_score = -1\n",
    "kmeans_model = KMeans()     # instantiating KMeans model\n",
    "silhouette_scores = []\n",
    "\n",
    "# evaluation based on silhouette_score\n",
    "for p in parameter_grid:\n",
    "    kmeans_model.set_params(**p)    # set current hyper parameter\n",
    "    kmeans_model.fit(df_scaled)          # fit model on wine dataset, this will find clusters based on parameter p\n",
    "\n",
    "    ss = metrics.silhouette_score(df_scaled, kmeans_model.labels_)   # calculate silhouette_score\n",
    "    silhouette_scores += [ss]       # store all the scores\n",
    "\n",
    "    print('Parameter:', p, 'Score', ss)\n",
    "\n",
    "    # check p which has the best score\n",
    "    if ss > best_score:\n",
    "        best_score = ss\n",
    "        best_grid = p\n",
    "\n",
    "# plotting silhouette score\n",
    "plt.bar(range(len(silhouette_scores)), list(silhouette_scores), align='center', color='#722f59', width=0.5)\n",
    "plt.xticks(range(len(silhouette_scores)), list(parameters))\n",
    "plt.title('Silhouette Score', fontweight='bold')\n",
    "plt.xlabel('Number of Clusters')\n",
    "plt.show()\n",
    "\n",
    "optimum_num_clusters = best_grid['n_clusters']\n",
    "print(best_grid['n_clusters'])"
   ]
  },
  {
   "cell_type": "markdown",
   "id": "f84213e3-1243-4510-8c4a-b5028e0f61f1",
   "metadata": {},
   "source": [
    "###we are reusing some variable names here rerun notebook"
   ]
  },
  {
   "cell_type": "code",
   "execution_count": 133,
   "id": "79aced00-cd32-411e-9304-ba3413f21730",
   "metadata": {},
   "outputs": [
    {
     "name": "stderr",
     "output_type": "stream",
     "text": [
      "C:\\ProgramData\\anaconda3\\Lib\\site-packages\\sklearn\\cluster\\_kmeans.py:870: FutureWarning: The default value of `n_init` will change from 10 to 'auto' in 1.4. Set the value of `n_init` explicitly to suppress the warning\n",
      "  warnings.warn(\n",
      "C:\\ProgramData\\anaconda3\\Lib\\site-packages\\sklearn\\base.py:439: UserWarning: X does not have valid feature names, but PCA was fitted with feature names\n",
      "  warnings.warn(\n"
     ]
    }
   ],
   "source": [
    " # fitting KMeans\n",
    "kmeans_n = KMeans(n_clusters=optimum_num_clusters)\n",
    "kmeans_n.fit(df_scaled)\n",
    "centroids = kmeans_n.cluster_centers_\n",
    "centroids_pca = pca_2.transform(centroids)"
   ]
  },
  {
   "cell_type": "code",
   "execution_count": 134,
   "id": "0cbc39cc-b8fa-4c64-be3e-7269e20409b8",
   "metadata": {},
   "outputs": [
    {
     "name": "stdout",
     "output_type": "stream",
     "text": [
      "Optimum number of clusters= 3\n"
     ]
    }
   ],
   "source": [
    "print(\"Optimum number of clusters= \"+ str(optimum_num_clusters))"
   ]
  },
  {
   "cell_type": "code",
   "execution_count": 135,
   "id": "3970fb0e-daf4-4a40-8b21-aabd51627d3b",
   "metadata": {},
   "outputs": [
    {
     "name": "stderr",
     "output_type": "stream",
     "text": [
      "C:\\Users\\user\\AppData\\Local\\Temp\\2\\ipykernel_4788\\2407645304.py:9: UserWarning: The palette list has more values (5) than needed (3), which may not be intended.\n",
      "  ax = sns.scatterplot(x=x, y=y, hue=kmeans_n.labels_, palette=colors2, alpha=0.5, s=200)\n",
      "C:\\Users\\user\\AppData\\Local\\Temp\\2\\ipykernel_4788\\2407645304.py:10: UserWarning: The palette list has more values (5) than needed (3), which may not be intended.\n",
      "  ax = sns.scatterplot(x=kmeans_n.cluster_centers_[:,0], y=kmeans_n.cluster_centers_[:,1],\n"
     ]
    },
    {
     "data": {
      "image/png": "[encoded data removed]",
      "text/plain": [
       "<Figure size 1500x1000 with 1 Axes>"
      ]
     },
     "metadata": {},
     "output_type": "display_data"
    }
   ],
   "source": [
    "x = pca_2_result[:, 0]\n",
    "y = pca_2_result[:, 1]\n",
    "\n",
    "x_anom = pca_2_result[anomaly_indices,0]\n",
    "y_anom = pca_2_result[anomaly_indices,1]\n",
    "\n",
    "colors2 = ['pink', 'blue', 'purple', 'green', 'grey']\n",
    "\n",
    "ax = sns.scatterplot(x=x, y=y, hue=kmeans_n.labels_, palette=colors2, alpha=0.5, s=200) \n",
    "ax = sns.scatterplot(x=kmeans_n.cluster_centers_[:,0], y=kmeans_n.cluster_centers_[:,1],\n",
    "                      #x=centroids_pca[:, 0], y=centroids_pca[:, 1], \n",
    "                     hue=range(optimum_num_clusters), \n",
    "                     palette=colors2, marker='x', s=200, linewidths=1.5, legend=False) # s is square \n",
    "sns.scatterplot(x=x_anom, y=y_anom, color=\"red\", s=40, marker=\"s\", edgecolor='black'  )# candidate values for our number of cluster\n",
    "\n",
    "plt.show()"
   ]
  },
  {
   "cell_type": "code",
   "execution_count": 136,
   "id": "16af23a0",
   "metadata": {},
   "outputs": [
    {
     "data": {
      "text/html": [
       "<div>\n",
       "<style scoped>\n",
       "    .dataframe tbody tr th:only-of-type {\n",
       "        vertical-align: middle;\n",
       "    }\n",
       "\n",
       "    .dataframe tbody tr th {\n",
       "        vertical-align: top;\n",
       "    }\n",
       "\n",
       "    .dataframe thead th {\n",
       "        text-align: right;\n",
       "    }\n",
       "</style>\n",
       "<table border=\"1\" class=\"dataframe\">\n",
       "  <thead>\n",
       "    <tr style=\"text-align: right;\">\n",
       "      <th></th>\n",
       "      <th>source</th>\n",
       "      <th>service</th>\n",
       "      <th>action</th>\n",
       "      <th>agent</th>\n",
       "      <th>arn</th>\n",
       "      <th>tactic1</th>\n",
       "      <th>tactic2</th>\n",
       "    </tr>\n",
       "  </thead>\n",
       "  <tbody>\n",
       "    <tr>\n",
       "      <th>0</th>\n",
       "      <td>0.41197</td>\n",
       "      <td>0.416111</td>\n",
       "      <td>-0.389032</td>\n",
       "      <td>0.329575</td>\n",
       "      <td>-0.425629</td>\n",
       "      <td>-0.42097</td>\n",
       "      <td>0.425834</td>\n",
       "    </tr>\n",
       "    <tr>\n",
       "      <th>1</th>\n",
       "      <td>0.41197</td>\n",
       "      <td>0.416111</td>\n",
       "      <td>-0.389032</td>\n",
       "      <td>0.329575</td>\n",
       "      <td>-0.425629</td>\n",
       "      <td>-0.42097</td>\n",
       "      <td>0.425834</td>\n",
       "    </tr>\n",
       "    <tr>\n",
       "      <th>2</th>\n",
       "      <td>0.41197</td>\n",
       "      <td>0.416111</td>\n",
       "      <td>-0.389032</td>\n",
       "      <td>0.329575</td>\n",
       "      <td>-0.425629</td>\n",
       "      <td>-0.42097</td>\n",
       "      <td>0.425834</td>\n",
       "    </tr>\n",
       "    <tr>\n",
       "      <th>3</th>\n",
       "      <td>0.41197</td>\n",
       "      <td>0.416111</td>\n",
       "      <td>-0.389032</td>\n",
       "      <td>0.329575</td>\n",
       "      <td>-0.425629</td>\n",
       "      <td>-0.42097</td>\n",
       "      <td>0.425834</td>\n",
       "    </tr>\n",
       "    <tr>\n",
       "      <th>4</th>\n",
       "      <td>0.41197</td>\n",
       "      <td>0.416111</td>\n",
       "      <td>-0.389032</td>\n",
       "      <td>0.329575</td>\n",
       "      <td>-0.425629</td>\n",
       "      <td>-0.42097</td>\n",
       "      <td>0.425834</td>\n",
       "    </tr>\n",
       "    <tr>\n",
       "      <th>5</th>\n",
       "      <td>0.41197</td>\n",
       "      <td>0.416111</td>\n",
       "      <td>-0.389032</td>\n",
       "      <td>0.329575</td>\n",
       "      <td>-0.425629</td>\n",
       "      <td>-0.42097</td>\n",
       "      <td>0.425834</td>\n",
       "    </tr>\n",
       "    <tr>\n",
       "      <th>6</th>\n",
       "      <td>0.41197</td>\n",
       "      <td>0.416111</td>\n",
       "      <td>-0.389032</td>\n",
       "      <td>0.329575</td>\n",
       "      <td>-0.425629</td>\n",
       "      <td>-0.42097</td>\n",
       "      <td>0.425834</td>\n",
       "    </tr>\n",
       "    <tr>\n",
       "      <th>7</th>\n",
       "      <td>0.41197</td>\n",
       "      <td>0.416111</td>\n",
       "      <td>-0.389032</td>\n",
       "      <td>0.329575</td>\n",
       "      <td>-0.425629</td>\n",
       "      <td>-0.42097</td>\n",
       "      <td>0.425834</td>\n",
       "    </tr>\n",
       "    <tr>\n",
       "      <th>8</th>\n",
       "      <td>0.41197</td>\n",
       "      <td>0.416111</td>\n",
       "      <td>-0.389032</td>\n",
       "      <td>0.329575</td>\n",
       "      <td>-0.425629</td>\n",
       "      <td>-0.42097</td>\n",
       "      <td>0.425834</td>\n",
       "    </tr>\n",
       "    <tr>\n",
       "      <th>9</th>\n",
       "      <td>0.41197</td>\n",
       "      <td>0.416111</td>\n",
       "      <td>-0.389032</td>\n",
       "      <td>0.329575</td>\n",
       "      <td>-0.425629</td>\n",
       "      <td>-0.42097</td>\n",
       "      <td>0.425834</td>\n",
       "    </tr>\n",
       "    <tr>\n",
       "      <th>10</th>\n",
       "      <td>0.41197</td>\n",
       "      <td>0.416111</td>\n",
       "      <td>-0.389032</td>\n",
       "      <td>0.329575</td>\n",
       "      <td>-0.425629</td>\n",
       "      <td>-0.42097</td>\n",
       "      <td>0.425834</td>\n",
       "    </tr>\n",
       "    <tr>\n",
       "      <th>11</th>\n",
       "      <td>0.41197</td>\n",
       "      <td>0.416111</td>\n",
       "      <td>-0.389032</td>\n",
       "      <td>0.329575</td>\n",
       "      <td>-0.425629</td>\n",
       "      <td>-0.42097</td>\n",
       "      <td>0.425834</td>\n",
       "    </tr>\n",
       "    <tr>\n",
       "      <th>12</th>\n",
       "      <td>0.41197</td>\n",
       "      <td>0.416111</td>\n",
       "      <td>-0.389032</td>\n",
       "      <td>0.329575</td>\n",
       "      <td>-0.425629</td>\n",
       "      <td>-0.42097</td>\n",
       "      <td>0.425834</td>\n",
       "    </tr>\n",
       "    <tr>\n",
       "      <th>13</th>\n",
       "      <td>0.41197</td>\n",
       "      <td>0.416111</td>\n",
       "      <td>-0.389032</td>\n",
       "      <td>0.329575</td>\n",
       "      <td>-0.425629</td>\n",
       "      <td>-0.42097</td>\n",
       "      <td>0.425834</td>\n",
       "    </tr>\n",
       "    <tr>\n",
       "      <th>14</th>\n",
       "      <td>0.41197</td>\n",
       "      <td>0.416111</td>\n",
       "      <td>-0.389032</td>\n",
       "      <td>0.329575</td>\n",
       "      <td>-0.425629</td>\n",
       "      <td>-0.42097</td>\n",
       "      <td>0.425834</td>\n",
       "    </tr>\n",
       "    <tr>\n",
       "      <th>15</th>\n",
       "      <td>0.41197</td>\n",
       "      <td>0.416111</td>\n",
       "      <td>-0.389032</td>\n",
       "      <td>0.329575</td>\n",
       "      <td>-0.425629</td>\n",
       "      <td>-0.42097</td>\n",
       "      <td>0.425834</td>\n",
       "    </tr>\n",
       "    <tr>\n",
       "      <th>16</th>\n",
       "      <td>0.41197</td>\n",
       "      <td>0.416111</td>\n",
       "      <td>-0.389032</td>\n",
       "      <td>0.329575</td>\n",
       "      <td>-0.425629</td>\n",
       "      <td>-0.42097</td>\n",
       "      <td>0.425834</td>\n",
       "    </tr>\n",
       "    <tr>\n",
       "      <th>17</th>\n",
       "      <td>0.41197</td>\n",
       "      <td>0.416111</td>\n",
       "      <td>-0.389032</td>\n",
       "      <td>0.329575</td>\n",
       "      <td>-0.425629</td>\n",
       "      <td>-0.42097</td>\n",
       "      <td>0.425834</td>\n",
       "    </tr>\n",
       "    <tr>\n",
       "      <th>18</th>\n",
       "      <td>0.41197</td>\n",
       "      <td>0.416111</td>\n",
       "      <td>-0.389032</td>\n",
       "      <td>0.329575</td>\n",
       "      <td>-0.425629</td>\n",
       "      <td>-0.42097</td>\n",
       "      <td>0.425834</td>\n",
       "    </tr>\n",
       "    <tr>\n",
       "      <th>19</th>\n",
       "      <td>0.41197</td>\n",
       "      <td>0.416111</td>\n",
       "      <td>-0.389032</td>\n",
       "      <td>0.329575</td>\n",
       "      <td>-0.425629</td>\n",
       "      <td>-0.42097</td>\n",
       "      <td>0.425834</td>\n",
       "    </tr>\n",
       "  </tbody>\n",
       "</table>\n",
       "</div>"
      ],
      "text/plain": [
       "     source   service    action     agent       arn  tactic1   tactic2\n",
       "0   0.41197  0.416111 -0.389032  0.329575 -0.425629 -0.42097  0.425834\n",
       "1   0.41197  0.416111 -0.389032  0.329575 -0.425629 -0.42097  0.425834\n",
       "2   0.41197  0.416111 -0.389032  0.329575 -0.425629 -0.42097  0.425834\n",
       "3   0.41197  0.416111 -0.389032  0.329575 -0.425629 -0.42097  0.425834\n",
       "4   0.41197  0.416111 -0.389032  0.329575 -0.425629 -0.42097  0.425834\n",
       "5   0.41197  0.416111 -0.389032  0.329575 -0.425629 -0.42097  0.425834\n",
       "6   0.41197  0.416111 -0.389032  0.329575 -0.425629 -0.42097  0.425834\n",
       "7   0.41197  0.416111 -0.389032  0.329575 -0.425629 -0.42097  0.425834\n",
       "8   0.41197  0.416111 -0.389032  0.329575 -0.425629 -0.42097  0.425834\n",
       "9   0.41197  0.416111 -0.389032  0.329575 -0.425629 -0.42097  0.425834\n",
       "10  0.41197  0.416111 -0.389032  0.329575 -0.425629 -0.42097  0.425834\n",
       "11  0.41197  0.416111 -0.389032  0.329575 -0.425629 -0.42097  0.425834\n",
       "12  0.41197  0.416111 -0.389032  0.329575 -0.425629 -0.42097  0.425834\n",
       "13  0.41197  0.416111 -0.389032  0.329575 -0.425629 -0.42097  0.425834\n",
       "14  0.41197  0.416111 -0.389032  0.329575 -0.425629 -0.42097  0.425834\n",
       "15  0.41197  0.416111 -0.389032  0.329575 -0.425629 -0.42097  0.425834\n",
       "16  0.41197  0.416111 -0.389032  0.329575 -0.425629 -0.42097  0.425834\n",
       "17  0.41197  0.416111 -0.389032  0.329575 -0.425629 -0.42097  0.425834\n",
       "18  0.41197  0.416111 -0.389032  0.329575 -0.425629 -0.42097  0.425834\n",
       "19  0.41197  0.416111 -0.389032  0.329575 -0.425629 -0.42097  0.425834"
      ]
     },
     "execution_count": 136,
     "metadata": {},
     "output_type": "execute_result"
    }
   ],
   "source": [
    "df_scaled.head(20)"
   ]
  },
  {
   "cell_type": "code",
   "execution_count": null,
   "id": "1845284d-b72d-4a6c-ba85-d5bbf81d3ad8",
   "metadata": {},
   "outputs": [],
   "source": []
  },
  {
   "cell_type": "code",
   "execution_count": null,
   "id": "85b9b116",
   "metadata": {},
   "outputs": [],
   "source": []
  },
  {
   "cell_type": "code",
   "execution_count": null,
   "id": "bc7dd44e",
   "metadata": {},
   "outputs": [],
   "source": []
  }
 ],
 "metadata": {
  "kernelspec": {
   "display_name": "Python 3 (ipykernel)",
   "language": "python",
   "name": "python3"
  },
  "language_info": {
   "codemirror_mode": {
    "name": "ipython",
    "version": 3
   },
   "file_extension": ".py",
   "mimetype": "text/x-python",
   "name": "python",
   "nbconvert_exporter": "python",
   "pygments_lexer": "ipython3",
   "version": "3.11.7"
  }
 },
 "nbformat": 4,
 "nbformat_minor": 5
}
